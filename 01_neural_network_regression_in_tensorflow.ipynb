{
  "nbformat": 4,
  "nbformat_minor": 0,
  "metadata": {
    "colab": {
      "provenance": [],
      "include_colab_link": true
    },
    "kernelspec": {
      "name": "python3",
      "display_name": "Python 3"
    },
    "language_info": {
      "name": "python"
    }
  },
  "cells": [
    {
      "cell_type": "markdown",
      "metadata": {
        "id": "view-in-github",
        "colab_type": "text"
      },
      "source": [
        "<a href=\"https://colab.research.google.com/github/btrosso/TensorFlow_Learning/blob/main/01_neural_network_regression_in_tensorflow.ipynb\" target=\"_parent\"><img src=\"https://colab.research.google.com/assets/colab-badge.svg\" alt=\"Open In Colab\"/></a>"
      ]
    },
    {
      "cell_type": "markdown",
      "source": [
        "# Introduction to Regression with Neural Networks in Tensorflow\n",
        "\n",
        "There are many definitions for a regression problem but in our case, we're going to simplify it: predicting a numerical variable based on some other combination of variable, even shorter....predicting a number."
      ],
      "metadata": {
        "id": "erNQRRX6cjqI"
      }
    },
    {
      "cell_type": "code",
      "source": [
        "# Import TensorFlow\n",
        "import tensorflow as tf\n",
        "print(tf.__version__)"
      ],
      "metadata": {
        "colab": {
          "base_uri": "https://localhost:8080/"
        },
        "id": "7qUWyWpxdFlY",
        "outputId": "9936dcd0-e212-4404-adec-09c1a08dba21"
      },
      "execution_count": 1,
      "outputs": [
        {
          "output_type": "stream",
          "name": "stdout",
          "text": [
            "2.14.0\n"
          ]
        }
      ]
    },
    {
      "cell_type": "markdown",
      "source": [
        "# Creating some data to view and fit"
      ],
      "metadata": {
        "id": "wi16lxn0dLZr"
      }
    },
    {
      "cell_type": "code",
      "source": [
        "import numpy as np\n",
        "import matplotlib.pyplot as plt\n",
        "\n",
        "# Create features (inputs)\n",
        "X = np.array([-7.0, -4.0, -1.0, 2.0, 5.0, 8.0, 11.0, 14.0])\n",
        "\n",
        "# Create labels\n",
        "y = np.array([3.0, 6.0, 9.0, 12.0, 15.0, 18.0, 21.0, 24.0])\n",
        "\n",
        "# Visualize it\n",
        "plt.scatter(X, y)"
      ],
      "metadata": {
        "colab": {
          "base_uri": "https://localhost:8080/",
          "height": 453
        },
        "id": "qoIad_gldQt0",
        "outputId": "211249c5-e458-495f-9dab-39f4c7ea36b9"
      },
      "execution_count": 2,
      "outputs": [
        {
          "output_type": "execute_result",
          "data": {
            "text/plain": [
              "<matplotlib.collections.PathCollection at 0x7a384c055e70>"
            ]
          },
          "metadata": {},
          "execution_count": 2
        },
        {
          "output_type": "display_data",
          "data": {
            "text/plain": [
              "<Figure size 640x480 with 1 Axes>"
            ],
            "image/png": "[encoded data removed]"
          },
          "metadata": {}
        }
      ]
    },
    {
      "cell_type": "code",
      "source": [
        "y == X + 10"
      ],
      "metadata": {
        "colab": {
          "base_uri": "https://localhost:8080/"
        },
        "id": "oLPDKV-Xho25",
        "outputId": "bfe856c3-eefe-448c-bbae-926b70a789af"
      },
      "execution_count": 3,
      "outputs": [
        {
          "output_type": "execute_result",
          "data": {
            "text/plain": [
              "array([ True,  True,  True,  True,  True,  True,  True,  True])"
            ]
          },
          "metadata": {},
          "execution_count": 3
        }
      ]
    },
    {
      "cell_type": "markdown",
      "source": [
        "## Input and Output Shapes"
      ],
      "metadata": {
        "id": "XzQsWbS0h7WT"
      }
    },
    {
      "cell_type": "code",
      "source": [
        "# Create a demo tensor for our housing price prediction problem\n",
        "house_info = tf.constant([\"bedroom\", \"bathroom\", \"garage\"])\n",
        "house_price = tf.constant([939700])\n",
        "house_info, house_price"
      ],
      "metadata": {
        "colab": {
          "base_uri": "https://localhost:8080/"
        },
        "id": "yhDbL4VQiC4Y",
        "outputId": "c626617d-90d8-441b-9d0d-6a98b11c030f"
      },
      "execution_count": 4,
      "outputs": [
        {
          "output_type": "execute_result",
          "data": {
            "text/plain": [
              "(<tf.Tensor: shape=(3,), dtype=string, numpy=array([b'bedroom', b'bathroom', b'garage'], dtype=object)>,\n",
              " <tf.Tensor: shape=(1,), dtype=int32, numpy=array([939700], dtype=int32)>)"
            ]
          },
          "metadata": {},
          "execution_count": 4
        }
      ]
    },
    {
      "cell_type": "code",
      "source": [
        "X[0], y[0]"
      ],
      "metadata": {
        "colab": {
          "base_uri": "https://localhost:8080/"
        },
        "id": "XYb4YYIHjr-i",
        "outputId": "1eb25cc5-d197-40dc-e0c8-684a3d05224a"
      },
      "execution_count": 5,
      "outputs": [
        {
          "output_type": "execute_result",
          "data": {
            "text/plain": [
              "(-7.0, 3.0)"
            ]
          },
          "metadata": {},
          "execution_count": 5
        }
      ]
    },
    {
      "cell_type": "code",
      "source": [
        "X[1], y[1]"
      ],
      "metadata": {
        "colab": {
          "base_uri": "https://localhost:8080/"
        },
        "id": "Q50qumszjyo5",
        "outputId": "655e7000-428c-4181-bec8-4e9a16a9fe25"
      },
      "execution_count": 6,
      "outputs": [
        {
          "output_type": "execute_result",
          "data": {
            "text/plain": [
              "(-4.0, 6.0)"
            ]
          },
          "metadata": {},
          "execution_count": 6
        }
      ]
    },
    {
      "cell_type": "code",
      "source": [
        "input_shape = X[0].shape\n",
        "output_shape = y[0].shape\n",
        "input_shape, output_shape"
      ],
      "metadata": {
        "colab": {
          "base_uri": "https://localhost:8080/"
        },
        "id": "6A6UDmwSjQnZ",
        "outputId": "ccb4f5d3-6e7e-4f3c-a09e-7df5a983e6f8"
      },
      "execution_count": 7,
      "outputs": [
        {
          "output_type": "execute_result",
          "data": {
            "text/plain": [
              "((), ())"
            ]
          },
          "metadata": {},
          "execution_count": 7
        }
      ]
    },
    {
      "cell_type": "code",
      "source": [
        "X[0].ndim"
      ],
      "metadata": {
        "colab": {
          "base_uri": "https://localhost:8080/"
        },
        "id": "3_P2c79SjpWc",
        "outputId": "63b66db2-1b27-4e69-fb54-c31725ad9a3e"
      },
      "execution_count": 8,
      "outputs": [
        {
          "output_type": "execute_result",
          "data": {
            "text/plain": [
              "0"
            ]
          },
          "metadata": {},
          "execution_count": 8
        }
      ]
    },
    {
      "cell_type": "code",
      "source": [
        "X[0], y[0]"
      ],
      "metadata": {
        "colab": {
          "base_uri": "https://localhost:8080/"
        },
        "id": "p0gHsLwNkIjY",
        "outputId": "919ff6dc-b718-41e5-aca0-c7296a3198ac"
      },
      "execution_count": 9,
      "outputs": [
        {
          "output_type": "execute_result",
          "data": {
            "text/plain": [
              "(-7.0, 3.0)"
            ]
          },
          "metadata": {},
          "execution_count": 9
        }
      ]
    },
    {
      "cell_type": "code",
      "source": [
        "# Turn our numpy arrays into tensors\n",
        "X = tf.cast(tf.constant(X), dtype=tf.float32)\n",
        "y = tf.cast(tf.constant(y), dtype=tf.float32)\n",
        "X, y\n"
      ],
      "metadata": {
        "colab": {
          "base_uri": "https://localhost:8080/"
        },
        "id": "lvIEKFrqkKzl",
        "outputId": "81321148-b2ba-4fc7-c888-157f14004ebf"
      },
      "execution_count": 10,
      "outputs": [
        {
          "output_type": "execute_result",
          "data": {
            "text/plain": [
              "(<tf.Tensor: shape=(8,), dtype=float32, numpy=array([-7., -4., -1.,  2.,  5.,  8., 11., 14.], dtype=float32)>,\n",
              " <tf.Tensor: shape=(8,), dtype=float32, numpy=array([ 3.,  6.,  9., 12., 15., 18., 21., 24.], dtype=float32)>)"
            ]
          },
          "metadata": {},
          "execution_count": 10
        }
      ]
    },
    {
      "cell_type": "code",
      "source": [
        "input_shape = X[0].shape\n",
        "output_shape = y[0].shape\n",
        "input_shape, output_shape"
      ],
      "metadata": {
        "colab": {
          "base_uri": "https://localhost:8080/"
        },
        "id": "VZG9sOZdzLmx",
        "outputId": "33089e9c-5558-461c-b497-ffb86192d757"
      },
      "execution_count": 11,
      "outputs": [
        {
          "output_type": "execute_result",
          "data": {
            "text/plain": [
              "(TensorShape([]), TensorShape([]))"
            ]
          },
          "metadata": {},
          "execution_count": 11
        }
      ]
    },
    {
      "cell_type": "code",
      "source": [
        "plt.scatter(X, y)"
      ],
      "metadata": {
        "colab": {
          "base_uri": "https://localhost:8080/",
          "height": 453
        },
        "id": "ni8vx4lKzZDH",
        "outputId": "05aca5ad-a5a3-4b43-d6b8-cf52adbcfb07"
      },
      "execution_count": 12,
      "outputs": [
        {
          "output_type": "execute_result",
          "data": {
            "text/plain": [
              "<matplotlib.collections.PathCollection at 0x7a3849f95510>"
            ]
          },
          "metadata": {},
          "execution_count": 12
        },
        {
          "output_type": "display_data",
          "data": {
            "text/plain": [
              "<Figure size 640x480 with 1 Axes>"
            ],
            "image/png": "[encoded data removed]"
          },
          "metadata": {}
        }
      ]
    },
    {
      "cell_type": "markdown",
      "source": [
        "## Steps in modelling with TensorFlow\n",
        "\n",
        "1. **Creating a model** - define the input and the output layers, as well as the hidden layers of deep learning model.\n",
        "2. **Compiling a model** - define the loss function (in other words, the function which tells our model how wrong it is) and the optimizer (tells our model how to improve the pattern its learning) and evaluation metrics (what we can use to interpret the performance of our model).\n",
        "3. Fitting a model - letting the model try to find patterns between X & y (features and labels)"
      ],
      "metadata": {
        "id": "VUZG8vAnzd98"
      }
    },
    {
      "cell_type": "code",
      "source": [
        "# Set random seed\n",
        "tf.random.set_seed(42)\n",
        "\n",
        "# 1. Create a model using the Sequential API\n",
        "model = tf.keras.Sequential([\n",
        "    tf.keras.layers.Dense(1)\n",
        "])\n",
        "\n",
        "# 2. Compile the model\n",
        "model.compile(\n",
        "    loss=tf.keras.losses.mae,  # mae is short for mean absolute error\n",
        "    optimizer=tf.keras.optimizers.SGD(),  # SGD stands for stochastic gradient decent\n",
        "    metrics=[\"mae\"]\n",
        "    )\n",
        "\n",
        "# 3. Fit the model\n",
        "model.fit(tf.expand_dims(X, axis=-1), y, epochs=5)"
      ],
      "metadata": {
        "colab": {
          "base_uri": "https://localhost:8080/"
        },
        "id": "H7t1Cz-K0Is6",
        "outputId": "9ae91b60-eb08-49af-dcce-842e279e6d2c"
      },
      "execution_count": 13,
      "outputs": [
        {
          "output_type": "stream",
          "name": "stdout",
          "text": [
            "Epoch 1/5\n",
            "1/1 [==============================] - 1s 1s/step - loss: 10.1426 - mae: 10.1426\n",
            "Epoch 2/5\n",
            "1/1 [==============================] - 0s 12ms/step - loss: 10.0101 - mae: 10.0101\n",
            "Epoch 3/5\n",
            "1/1 [==============================] - 0s 16ms/step - loss: 9.8776 - mae: 9.8776\n",
            "Epoch 4/5\n",
            "1/1 [==============================] - 0s 22ms/step - loss: 9.7451 - mae: 9.7451\n",
            "Epoch 5/5\n",
            "1/1 [==============================] - 0s 20ms/step - loss: 9.6126 - mae: 9.6126\n"
          ]
        },
        {
          "output_type": "execute_result",
          "data": {
            "text/plain": [
              "<keras.src.callbacks.History at 0x7a3846d69ae0>"
            ]
          },
          "metadata": {},
          "execution_count": 13
        }
      ]
    },
    {
      "cell_type": "code",
      "source": [
        "# Check out X and y\n",
        "X, y"
      ],
      "metadata": {
        "colab": {
          "base_uri": "https://localhost:8080/"
        },
        "id": "gHn9RGWY1oPR",
        "outputId": "622c4bcc-ecdb-481b-bc32-da4c43e5e120"
      },
      "execution_count": 14,
      "outputs": [
        {
          "output_type": "execute_result",
          "data": {
            "text/plain": [
              "(<tf.Tensor: shape=(8,), dtype=float32, numpy=array([-7., -4., -1.,  2.,  5.,  8., 11., 14.], dtype=float32)>,\n",
              " <tf.Tensor: shape=(8,), dtype=float32, numpy=array([ 3.,  6.,  9., 12., 15., 18., 21., 24.], dtype=float32)>)"
            ]
          },
          "metadata": {},
          "execution_count": 14
        }
      ]
    },
    {
      "cell_type": "code",
      "source": [
        "# Try and make a prediction using our model\n",
        "y_pred = model.predict([17.0])\n",
        "y_pred"
      ],
      "metadata": {
        "colab": {
          "base_uri": "https://localhost:8080/"
        },
        "id": "6XzF0g2n_QmC",
        "outputId": "8033ffd2-ee8f-472d-849b-a6ed009cd59c"
      },
      "execution_count": 15,
      "outputs": [
        {
          "output_type": "stream",
          "name": "stdout",
          "text": [
            "1/1 [==============================] - 0s 209ms/step\n"
          ]
        },
        {
          "output_type": "execute_result",
          "data": {
            "text/plain": [
              "array([[19.33215]], dtype=float32)"
            ]
          },
          "metadata": {},
          "execution_count": 15
        }
      ]
    },
    {
      "cell_type": "code",
      "source": [
        "y_pred + 14"
      ],
      "metadata": {
        "colab": {
          "base_uri": "https://localhost:8080/"
        },
        "id": "SrOD8Rdd_iFC",
        "outputId": "36021620-f7e4-4ba5-b41c-8c04eeb28007"
      },
      "execution_count": 16,
      "outputs": [
        {
          "output_type": "execute_result",
          "data": {
            "text/plain": [
              "array([[33.33215]], dtype=float32)"
            ]
          },
          "metadata": {},
          "execution_count": 16
        }
      ]
    },
    {
      "cell_type": "markdown",
      "source": [
        "## Improving Our Model\n",
        "\n",
        "We can improve our model by altering the steps we used to create a model\n",
        "\n",
        "1.  **Creating a model** - here we might add more layers, increase the number of hidden units (all called neurons) within each of the hidden layers, change the activation function of each layer.\n",
        "2. **Compiling a model** - here we might change the optimization function or perhaps the **learning rate** of the optimization function.\n",
        "3. **Fitting the model** - here we might fit a model for more **epochs** (leave it training for longer) or on more data (give the modelmore examples to learn from)"
      ],
      "metadata": {
        "id": "wwSg1eSP_3sY"
      }
    },
    {
      "cell_type": "code",
      "source": [
        "# 1st HYPERPARAMETER TWEAK --> EPOCHS\n",
        "\n",
        "# 1. Create the model\n",
        "model = tf.keras.Sequential([\n",
        "    tf.keras.layers.Dense(1)\n",
        "])\n",
        "\n",
        "# 2. Compile the model\n",
        "model.compile(\n",
        "    loss=tf.keras.losses.mae,  # mae stands for mean absolute error\n",
        "    optimizer=tf.keras.optimizers.SGD(),  # SGD stands for stochastic gradient decent\n",
        "    metrics=[\"mae\"]\n",
        ")\n",
        "\n",
        "# Fit the model\n",
        "model.fit(tf.expand_dims(X, axis=-1), y, epochs=100)"
      ],
      "metadata": {
        "id": "uQXWxWRkAnMN",
        "outputId": "172a9813-bf86-452d-bc2c-0adf3ec2b804",
        "colab": {
          "base_uri": "https://localhost:8080/"
        }
      },
      "execution_count": 17,
      "outputs": [
        {
          "output_type": "stream",
          "name": "stdout",
          "text": [
            "Epoch 1/100\n",
            "1/1 [==============================] - 1s 748ms/step - loss: 15.3618 - mae: 15.3618\n",
            "Epoch 2/100\n",
            "1/1 [==============================] - 0s 14ms/step - loss: 15.0806 - mae: 15.0806\n",
            "Epoch 3/100\n",
            "1/1 [==============================] - 0s 16ms/step - loss: 14.8587 - mae: 14.8587\n",
            "Epoch 4/100\n",
            "1/1 [==============================] - 0s 11ms/step - loss: 14.7262 - mae: 14.7262\n",
            "Epoch 5/100\n",
            "1/1 [==============================] - 0s 12ms/step - loss: 14.5937 - mae: 14.5937\n",
            "Epoch 6/100\n",
            "1/1 [==============================] - 0s 11ms/step - loss: 14.4612 - mae: 14.4612\n",
            "Epoch 7/100\n",
            "1/1 [==============================] - 0s 17ms/step - loss: 14.3287 - mae: 14.3287\n",
            "Epoch 8/100\n",
            "1/1 [==============================] - 0s 17ms/step - loss: 14.1962 - mae: 14.1962\n",
            "Epoch 9/100\n",
            "1/1 [==============================] - 0s 18ms/step - loss: 14.0637 - mae: 14.0637\n",
            "Epoch 10/100\n",
            "1/1 [==============================] - 0s 28ms/step - loss: 13.9312 - mae: 13.9312\n",
            "Epoch 11/100\n",
            "1/1 [==============================] - 0s 29ms/step - loss: 13.7987 - mae: 13.7987\n",
            "Epoch 12/100\n",
            "1/1 [==============================] - 0s 22ms/step - loss: 13.6662 - mae: 13.6662\n",
            "Epoch 13/100\n",
            "1/1 [==============================] - 0s 37ms/step - loss: 13.5337 - mae: 13.5337\n",
            "Epoch 14/100\n",
            "1/1 [==============================] - 0s 19ms/step - loss: 13.4012 - mae: 13.4012\n",
            "Epoch 15/100\n",
            "1/1 [==============================] - 0s 22ms/step - loss: 13.2687 - mae: 13.2687\n",
            "Epoch 16/100\n",
            "1/1 [==============================] - 0s 17ms/step - loss: 13.1362 - mae: 13.1362\n",
            "Epoch 17/100\n",
            "1/1 [==============================] - 0s 15ms/step - loss: 13.0037 - mae: 13.0037\n",
            "Epoch 18/100\n",
            "1/1 [==============================] - 0s 26ms/step - loss: 12.8712 - mae: 12.8712\n",
            "Epoch 19/100\n",
            "1/1 [==============================] - 0s 30ms/step - loss: 12.7387 - mae: 12.7387\n",
            "Epoch 20/100\n",
            "1/1 [==============================] - 0s 38ms/step - loss: 12.6062 - mae: 12.6062\n",
            "Epoch 21/100\n",
            "1/1 [==============================] - 0s 27ms/step - loss: 12.4737 - mae: 12.4737\n",
            "Epoch 22/100\n",
            "1/1 [==============================] - 0s 21ms/step - loss: 12.3412 - mae: 12.3412\n",
            "Epoch 23/100\n",
            "1/1 [==============================] - 0s 23ms/step - loss: 12.2087 - mae: 12.2087\n",
            "Epoch 24/100\n",
            "1/1 [==============================] - 0s 20ms/step - loss: 12.0762 - mae: 12.0762\n",
            "Epoch 25/100\n",
            "1/1 [==============================] - 0s 24ms/step - loss: 11.9437 - mae: 11.9437\n",
            "Epoch 26/100\n",
            "1/1 [==============================] - 0s 16ms/step - loss: 11.8112 - mae: 11.8112\n",
            "Epoch 27/100\n",
            "1/1 [==============================] - 0s 15ms/step - loss: 11.6787 - mae: 11.6787\n",
            "Epoch 28/100\n",
            "1/1 [==============================] - 0s 15ms/step - loss: 11.5462 - mae: 11.5462\n",
            "Epoch 29/100\n",
            "1/1 [==============================] - 0s 25ms/step - loss: 11.4137 - mae: 11.4137\n",
            "Epoch 30/100\n",
            "1/1 [==============================] - 0s 16ms/step - loss: 11.2812 - mae: 11.2812\n",
            "Epoch 31/100\n",
            "1/1 [==============================] - 0s 16ms/step - loss: 11.1487 - mae: 11.1487\n",
            "Epoch 32/100\n",
            "1/1 [==============================] - 0s 13ms/step - loss: 11.0162 - mae: 11.0162\n",
            "Epoch 33/100\n",
            "1/1 [==============================] - 0s 14ms/step - loss: 10.8837 - mae: 10.8837\n",
            "Epoch 34/100\n",
            "1/1 [==============================] - 0s 13ms/step - loss: 10.7512 - mae: 10.7512\n",
            "Epoch 35/100\n",
            "1/1 [==============================] - 0s 14ms/step - loss: 10.6187 - mae: 10.6187\n",
            "Epoch 36/100\n",
            "1/1 [==============================] - 0s 28ms/step - loss: 10.4862 - mae: 10.4862\n",
            "Epoch 37/100\n",
            "1/1 [==============================] - 0s 48ms/step - loss: 10.3537 - mae: 10.3537\n",
            "Epoch 38/100\n",
            "1/1 [==============================] - 0s 37ms/step - loss: 10.2212 - mae: 10.2212\n",
            "Epoch 39/100\n",
            "1/1 [==============================] - 0s 22ms/step - loss: 10.0887 - mae: 10.0887\n",
            "Epoch 40/100\n",
            "1/1 [==============================] - 0s 36ms/step - loss: 9.9562 - mae: 9.9562\n",
            "Epoch 41/100\n",
            "1/1 [==============================] - 0s 25ms/step - loss: 9.8237 - mae: 9.8237\n",
            "Epoch 42/100\n",
            "1/1 [==============================] - 0s 23ms/step - loss: 9.6912 - mae: 9.6912\n",
            "Epoch 43/100\n",
            "1/1 [==============================] - 0s 34ms/step - loss: 9.5587 - mae: 9.5587\n",
            "Epoch 44/100\n",
            "1/1 [==============================] - 0s 19ms/step - loss: 9.4262 - mae: 9.4262\n",
            "Epoch 45/100\n",
            "1/1 [==============================] - 0s 21ms/step - loss: 9.2937 - mae: 9.2937\n",
            "Epoch 46/100\n",
            "1/1 [==============================] - 0s 13ms/step - loss: 9.1612 - mae: 9.1612\n",
            "Epoch 47/100\n",
            "1/1 [==============================] - 0s 22ms/step - loss: 9.0287 - mae: 9.0287\n",
            "Epoch 48/100\n",
            "1/1 [==============================] - 0s 33ms/step - loss: 8.8962 - mae: 8.8962\n",
            "Epoch 49/100\n",
            "1/1 [==============================] - 0s 17ms/step - loss: 8.7637 - mae: 8.7637\n",
            "Epoch 50/100\n",
            "1/1 [==============================] - 0s 17ms/step - loss: 8.6312 - mae: 8.6312\n",
            "Epoch 51/100\n",
            "1/1 [==============================] - 0s 24ms/step - loss: 8.4987 - mae: 8.4987\n",
            "Epoch 52/100\n",
            "1/1 [==============================] - 0s 49ms/step - loss: 8.3662 - mae: 8.3662\n",
            "Epoch 53/100\n",
            "1/1 [==============================] - 0s 22ms/step - loss: 8.2337 - mae: 8.2337\n",
            "Epoch 54/100\n",
            "1/1 [==============================] - 0s 20ms/step - loss: 8.1012 - mae: 8.1012\n",
            "Epoch 55/100\n",
            "1/1 [==============================] - 0s 25ms/step - loss: 7.9687 - mae: 7.9687\n",
            "Epoch 56/100\n",
            "1/1 [==============================] - 0s 29ms/step - loss: 7.8362 - mae: 7.8362\n",
            "Epoch 57/100\n",
            "1/1 [==============================] - 0s 20ms/step - loss: 7.7037 - mae: 7.7037\n",
            "Epoch 58/100\n",
            "1/1 [==============================] - 0s 52ms/step - loss: 7.5712 - mae: 7.5712\n",
            "Epoch 59/100\n",
            "1/1 [==============================] - 0s 41ms/step - loss: 7.4387 - mae: 7.4387\n",
            "Epoch 60/100\n",
            "1/1 [==============================] - 0s 40ms/step - loss: 7.3062 - mae: 7.3062\n",
            "Epoch 61/100\n",
            "1/1 [==============================] - 0s 36ms/step - loss: 7.1737 - mae: 7.1737\n",
            "Epoch 62/100\n",
            "1/1 [==============================] - 0s 34ms/step - loss: 7.0463 - mae: 7.0463\n",
            "Epoch 63/100\n",
            "1/1 [==============================] - 0s 42ms/step - loss: 7.0406 - mae: 7.0406\n",
            "Epoch 64/100\n",
            "1/1 [==============================] - 0s 29ms/step - loss: 7.0350 - mae: 7.0350\n",
            "Epoch 65/100\n",
            "1/1 [==============================] - 0s 23ms/step - loss: 7.0294 - mae: 7.0294\n",
            "Epoch 66/100\n",
            "1/1 [==============================] - 0s 28ms/step - loss: 7.0238 - mae: 7.0238\n",
            "Epoch 67/100\n",
            "1/1 [==============================] - 0s 15ms/step - loss: 7.0181 - mae: 7.0181\n",
            "Epoch 68/100\n",
            "1/1 [==============================] - 0s 18ms/step - loss: 7.0125 - mae: 7.0125\n",
            "Epoch 69/100\n",
            "1/1 [==============================] - 0s 18ms/step - loss: 7.0069 - mae: 7.0069\n",
            "Epoch 70/100\n",
            "1/1 [==============================] - 0s 17ms/step - loss: 7.0013 - mae: 7.0013\n",
            "Epoch 71/100\n",
            "1/1 [==============================] - 0s 22ms/step - loss: 6.9956 - mae: 6.9956\n",
            "Epoch 72/100\n",
            "1/1 [==============================] - 0s 23ms/step - loss: 6.9900 - mae: 6.9900\n",
            "Epoch 73/100\n",
            "1/1 [==============================] - 0s 23ms/step - loss: 6.9844 - mae: 6.9844\n",
            "Epoch 74/100\n",
            "1/1 [==============================] - 0s 45ms/step - loss: 6.9788 - mae: 6.9788\n",
            "Epoch 75/100\n",
            "1/1 [==============================] - 0s 20ms/step - loss: 6.9731 - mae: 6.9731\n",
            "Epoch 76/100\n",
            "1/1 [==============================] - 0s 16ms/step - loss: 6.9675 - mae: 6.9675\n",
            "Epoch 77/100\n",
            "1/1 [==============================] - 0s 20ms/step - loss: 6.9619 - mae: 6.9619\n",
            "Epoch 78/100\n",
            "1/1 [==============================] - 0s 19ms/step - loss: 6.9563 - mae: 6.9563\n",
            "Epoch 79/100\n",
            "1/1 [==============================] - 0s 18ms/step - loss: 6.9506 - mae: 6.9506\n",
            "Epoch 80/100\n",
            "1/1 [==============================] - 0s 20ms/step - loss: 6.9450 - mae: 6.9450\n",
            "Epoch 81/100\n",
            "1/1 [==============================] - 0s 22ms/step - loss: 6.9394 - mae: 6.9394\n",
            "Epoch 82/100\n",
            "1/1 [==============================] - 0s 30ms/step - loss: 6.9338 - mae: 6.9338\n",
            "Epoch 83/100\n",
            "1/1 [==============================] - 0s 25ms/step - loss: 6.9281 - mae: 6.9281\n",
            "Epoch 84/100\n",
            "1/1 [==============================] - 0s 20ms/step - loss: 6.9225 - mae: 6.9225\n",
            "Epoch 85/100\n",
            "1/1 [==============================] - 0s 48ms/step - loss: 6.9169 - mae: 6.9169\n",
            "Epoch 86/100\n",
            "1/1 [==============================] - 0s 33ms/step - loss: 6.9113 - mae: 6.9113\n",
            "Epoch 87/100\n",
            "1/1 [==============================] - 0s 40ms/step - loss: 6.9056 - mae: 6.9056\n",
            "Epoch 88/100\n",
            "1/1 [==============================] - 0s 31ms/step - loss: 6.9000 - mae: 6.9000\n",
            "Epoch 89/100\n",
            "1/1 [==============================] - 0s 19ms/step - loss: 6.8944 - mae: 6.8944\n",
            "Epoch 90/100\n",
            "1/1 [==============================] - 0s 25ms/step - loss: 6.8888 - mae: 6.8888\n",
            "Epoch 91/100\n",
            "1/1 [==============================] - 0s 18ms/step - loss: 6.8831 - mae: 6.8831\n",
            "Epoch 92/100\n",
            "1/1 [==============================] - 0s 12ms/step - loss: 6.8775 - mae: 6.8775\n",
            "Epoch 93/100\n",
            "1/1 [==============================] - 0s 11ms/step - loss: 6.8719 - mae: 6.8719\n",
            "Epoch 94/100\n",
            "1/1 [==============================] - 0s 19ms/step - loss: 6.8663 - mae: 6.8663\n",
            "Epoch 95/100\n",
            "1/1 [==============================] - 0s 20ms/step - loss: 6.8606 - mae: 6.8606\n",
            "Epoch 96/100\n",
            "1/1 [==============================] - 0s 23ms/step - loss: 6.8550 - mae: 6.8550\n",
            "Epoch 97/100\n",
            "1/1 [==============================] - 0s 23ms/step - loss: 6.8494 - mae: 6.8494\n",
            "Epoch 98/100\n",
            "1/1 [==============================] - 0s 14ms/step - loss: 6.8438 - mae: 6.8438\n",
            "Epoch 99/100\n",
            "1/1 [==============================] - 0s 14ms/step - loss: 6.8381 - mae: 6.8381\n",
            "Epoch 100/100\n",
            "1/1 [==============================] - 0s 13ms/step - loss: 6.8325 - mae: 6.8325\n"
          ]
        },
        {
          "output_type": "execute_result",
          "data": {
            "text/plain": [
              "<keras.src.callbacks.History at 0x7a384641c1f0>"
            ]
          },
          "metadata": {},
          "execution_count": 17
        }
      ]
    },
    {
      "cell_type": "code",
      "source": [
        "# Remind ourselves of the data\n",
        "X, y"
      ],
      "metadata": {
        "colab": {
          "base_uri": "https://localhost:8080/"
        },
        "id": "hzijuq1BD89Q",
        "outputId": "14d537bb-a3d3-4576-b1c0-b7af1189d1e0"
      },
      "execution_count": 18,
      "outputs": [
        {
          "output_type": "execute_result",
          "data": {
            "text/plain": [
              "(<tf.Tensor: shape=(8,), dtype=float32, numpy=array([-7., -4., -1.,  2.,  5.,  8., 11., 14.], dtype=float32)>,\n",
              " <tf.Tensor: shape=(8,), dtype=float32, numpy=array([ 3.,  6.,  9., 12., 15., 18., 21., 24.], dtype=float32)>)"
            ]
          },
          "metadata": {},
          "execution_count": 18
        }
      ]
    },
    {
      "cell_type": "code",
      "source": [
        "# Let's see if our models prediction has improved\n",
        "model.predict([17.0])"
      ],
      "metadata": {
        "colab": {
          "base_uri": "https://localhost:8080/"
        },
        "id": "_98Z35awELNk",
        "outputId": "6c873402-72cf-4844-a82c-6b00d0431ae7"
      },
      "execution_count": 19,
      "outputs": [
        {
          "output_type": "stream",
          "name": "stdout",
          "text": [
            "1/1 [==============================] - 0s 254ms/step\n"
          ]
        },
        {
          "output_type": "execute_result",
          "data": {
            "text/plain": [
              "array([[29.330166]], dtype=float32)"
            ]
          },
          "metadata": {},
          "execution_count": 19
        }
      ]
    },
    {
      "cell_type": "code",
      "source": [
        "# 2nd HYPERPARAMETER TWEAK --> OPTIMIZER\n",
        "\n",
        "# 1. Create the model\n",
        "model = tf.keras.Sequential([\n",
        "    tf.keras.layers.Dense(1)\n",
        "])\n",
        "\n",
        "# 2. Compile the model\n",
        "model.compile(\n",
        "    loss=tf.keras.losses.mae,\n",
        "    optimizer=tf.keras.optimizers.Adam(learning_rate=0.0001),\n",
        "    metrics=[\"mae\"]\n",
        ")\n",
        "\n",
        "# 3. Fit the model\n",
        "model.fit(tf.expand_dims(X, axis=-1), y, epochs=100)"
      ],
      "metadata": {
        "id": "oy6BUTl5Es92",
        "outputId": "ff6766ec-8a5d-45b8-bee4-dd0076249b67",
        "colab": {
          "base_uri": "https://localhost:8080/"
        }
      },
      "execution_count": 20,
      "outputs": [
        {
          "output_type": "stream",
          "name": "stdout",
          "text": [
            "Epoch 1/100\n",
            "1/1 [==============================] - 2s 2s/step - loss: 16.9075 - mae: 16.9075\n",
            "Epoch 2/100\n",
            "1/1 [==============================] - 0s 21ms/step - loss: 16.9069 - mae: 16.9069\n",
            "Epoch 3/100\n",
            "1/1 [==============================] - 0s 25ms/step - loss: 16.9063 - mae: 16.9063\n",
            "Epoch 4/100\n",
            "1/1 [==============================] - 0s 53ms/step - loss: 16.9057 - mae: 16.9057\n",
            "Epoch 5/100\n",
            "1/1 [==============================] - 0s 16ms/step - loss: 16.9051 - mae: 16.9051\n",
            "Epoch 6/100\n",
            "1/1 [==============================] - 0s 31ms/step - loss: 16.9045 - mae: 16.9045\n",
            "Epoch 7/100\n",
            "1/1 [==============================] - 0s 29ms/step - loss: 16.9039 - mae: 16.9039\n",
            "Epoch 8/100\n",
            "1/1 [==============================] - 0s 36ms/step - loss: 16.9033 - mae: 16.9033\n",
            "Epoch 9/100\n",
            "1/1 [==============================] - 0s 29ms/step - loss: 16.9027 - mae: 16.9027\n",
            "Epoch 10/100\n",
            "1/1 [==============================] - 0s 34ms/step - loss: 16.9021 - mae: 16.9021\n",
            "Epoch 11/100\n",
            "1/1 [==============================] - 0s 31ms/step - loss: 16.9015 - mae: 16.9015\n",
            "Epoch 12/100\n",
            "1/1 [==============================] - 0s 20ms/step - loss: 16.9009 - mae: 16.9009\n",
            "Epoch 13/100\n",
            "1/1 [==============================] - 0s 23ms/step - loss: 16.9003 - mae: 16.9003\n",
            "Epoch 14/100\n",
            "1/1 [==============================] - 0s 17ms/step - loss: 16.8997 - mae: 16.8997\n",
            "Epoch 15/100\n",
            "1/1 [==============================] - 0s 29ms/step - loss: 16.8990 - mae: 16.8990\n",
            "Epoch 16/100\n",
            "1/1 [==============================] - 0s 27ms/step - loss: 16.8985 - mae: 16.8985\n",
            "Epoch 17/100\n",
            "1/1 [==============================] - 0s 32ms/step - loss: 16.8979 - mae: 16.8979\n",
            "Epoch 18/100\n",
            "1/1 [==============================] - 0s 23ms/step - loss: 16.8973 - mae: 16.8973\n",
            "Epoch 19/100\n",
            "1/1 [==============================] - 0s 50ms/step - loss: 16.8967 - mae: 16.8967\n",
            "Epoch 20/100\n",
            "1/1 [==============================] - 0s 23ms/step - loss: 16.8960 - mae: 16.8960\n",
            "Epoch 21/100\n",
            "1/1 [==============================] - 0s 24ms/step - loss: 16.8955 - mae: 16.8955\n",
            "Epoch 22/100\n",
            "1/1 [==============================] - 0s 18ms/step - loss: 16.8949 - mae: 16.8949\n",
            "Epoch 23/100\n",
            "1/1 [==============================] - 0s 22ms/step - loss: 16.8943 - mae: 16.8943\n",
            "Epoch 24/100\n",
            "1/1 [==============================] - 0s 23ms/step - loss: 16.8937 - mae: 16.8937\n",
            "Epoch 25/100\n",
            "1/1 [==============================] - 0s 38ms/step - loss: 16.8930 - mae: 16.8930\n",
            "Epoch 26/100\n",
            "1/1 [==============================] - 0s 23ms/step - loss: 16.8925 - mae: 16.8925\n",
            "Epoch 27/100\n",
            "1/1 [==============================] - 0s 37ms/step - loss: 16.8918 - mae: 16.8918\n",
            "Epoch 28/100\n",
            "1/1 [==============================] - 0s 33ms/step - loss: 16.8913 - mae: 16.8913\n",
            "Epoch 29/100\n",
            "1/1 [==============================] - 0s 21ms/step - loss: 16.8906 - mae: 16.8906\n",
            "Epoch 30/100\n",
            "1/1 [==============================] - 0s 21ms/step - loss: 16.8901 - mae: 16.8901\n",
            "Epoch 31/100\n",
            "1/1 [==============================] - 0s 28ms/step - loss: 16.8895 - mae: 16.8895\n",
            "Epoch 32/100\n",
            "1/1 [==============================] - 0s 25ms/step - loss: 16.8889 - mae: 16.8889\n",
            "Epoch 33/100\n",
            "1/1 [==============================] - 0s 25ms/step - loss: 16.8883 - mae: 16.8883\n",
            "Epoch 34/100\n",
            "1/1 [==============================] - 0s 22ms/step - loss: 16.8876 - mae: 16.8876\n",
            "Epoch 35/100\n",
            "1/1 [==============================] - 0s 21ms/step - loss: 16.8871 - mae: 16.8871\n",
            "Epoch 36/100\n",
            "1/1 [==============================] - 0s 31ms/step - loss: 16.8865 - mae: 16.8865\n",
            "Epoch 37/100\n",
            "1/1 [==============================] - 0s 27ms/step - loss: 16.8858 - mae: 16.8858\n",
            "Epoch 38/100\n",
            "1/1 [==============================] - 0s 26ms/step - loss: 16.8853 - mae: 16.8853\n",
            "Epoch 39/100\n",
            "1/1 [==============================] - 0s 37ms/step - loss: 16.8846 - mae: 16.8846\n",
            "Epoch 40/100\n",
            "1/1 [==============================] - 0s 31ms/step - loss: 16.8840 - mae: 16.8840\n",
            "Epoch 41/100\n",
            "1/1 [==============================] - 0s 25ms/step - loss: 16.8834 - mae: 16.8834\n",
            "Epoch 42/100\n",
            "1/1 [==============================] - 0s 42ms/step - loss: 16.8829 - mae: 16.8829\n",
            "Epoch 43/100\n",
            "1/1 [==============================] - 0s 28ms/step - loss: 16.8822 - mae: 16.8822\n",
            "Epoch 44/100\n",
            "1/1 [==============================] - 0s 37ms/step - loss: 16.8816 - mae: 16.8816\n",
            "Epoch 45/100\n",
            "1/1 [==============================] - 0s 39ms/step - loss: 16.8810 - mae: 16.8810\n",
            "Epoch 46/100\n",
            "1/1 [==============================] - 0s 24ms/step - loss: 16.8804 - mae: 16.8804\n",
            "Epoch 47/100\n",
            "1/1 [==============================] - 0s 23ms/step - loss: 16.8799 - mae: 16.8799\n",
            "Epoch 48/100\n",
            "1/1 [==============================] - 0s 25ms/step - loss: 16.8792 - mae: 16.8792\n",
            "Epoch 49/100\n",
            "1/1 [==============================] - 0s 19ms/step - loss: 16.8787 - mae: 16.8787\n",
            "Epoch 50/100\n",
            "1/1 [==============================] - 0s 17ms/step - loss: 16.8780 - mae: 16.8780\n",
            "Epoch 51/100\n",
            "1/1 [==============================] - 0s 30ms/step - loss: 16.8774 - mae: 16.8774\n",
            "Epoch 52/100\n",
            "1/1 [==============================] - 0s 30ms/step - loss: 16.8768 - mae: 16.8768\n",
            "Epoch 53/100\n",
            "1/1 [==============================] - 0s 39ms/step - loss: 16.8762 - mae: 16.8762\n",
            "Epoch 54/100\n",
            "1/1 [==============================] - 0s 32ms/step - loss: 16.8756 - mae: 16.8756\n",
            "Epoch 55/100\n",
            "1/1 [==============================] - 0s 21ms/step - loss: 16.8750 - mae: 16.8750\n",
            "Epoch 56/100\n",
            "1/1 [==============================] - 0s 19ms/step - loss: 16.8744 - mae: 16.8744\n",
            "Epoch 57/100\n",
            "1/1 [==============================] - 0s 22ms/step - loss: 16.8738 - mae: 16.8738\n",
            "Epoch 58/100\n",
            "1/1 [==============================] - 0s 20ms/step - loss: 16.8732 - mae: 16.8732\n",
            "Epoch 59/100\n",
            "1/1 [==============================] - 0s 20ms/step - loss: 16.8726 - mae: 16.8726\n",
            "Epoch 60/100\n",
            "1/1 [==============================] - 0s 21ms/step - loss: 16.8720 - mae: 16.8720\n",
            "Epoch 61/100\n",
            "1/1 [==============================] - 0s 22ms/step - loss: 16.8714 - mae: 16.8714\n",
            "Epoch 62/100\n",
            "1/1 [==============================] - 0s 16ms/step - loss: 16.8708 - mae: 16.8708\n",
            "Epoch 63/100\n",
            "1/1 [==============================] - 0s 22ms/step - loss: 16.8702 - mae: 16.8702\n",
            "Epoch 64/100\n",
            "1/1 [==============================] - 0s 27ms/step - loss: 16.8696 - mae: 16.8696\n",
            "Epoch 65/100\n",
            "1/1 [==============================] - 0s 23ms/step - loss: 16.8690 - mae: 16.8690\n",
            "Epoch 66/100\n",
            "1/1 [==============================] - 0s 21ms/step - loss: 16.8684 - mae: 16.8684\n",
            "Epoch 67/100\n",
            "1/1 [==============================] - 0s 20ms/step - loss: 16.8678 - mae: 16.8678\n",
            "Epoch 68/100\n",
            "1/1 [==============================] - 0s 20ms/step - loss: 16.8672 - mae: 16.8672\n",
            "Epoch 69/100\n",
            "1/1 [==============================] - 0s 23ms/step - loss: 16.8666 - mae: 16.8666\n",
            "Epoch 70/100\n",
            "1/1 [==============================] - 0s 20ms/step - loss: 16.8660 - mae: 16.8660\n",
            "Epoch 71/100\n",
            "1/1 [==============================] - 0s 16ms/step - loss: 16.8654 - mae: 16.8654\n",
            "Epoch 72/100\n",
            "1/1 [==============================] - 0s 15ms/step - loss: 16.8648 - mae: 16.8648\n",
            "Epoch 73/100\n",
            "1/1 [==============================] - 0s 11ms/step - loss: 16.8642 - mae: 16.8642\n",
            "Epoch 74/100\n",
            "1/1 [==============================] - 0s 16ms/step - loss: 16.8636 - mae: 16.8636\n",
            "Epoch 75/100\n",
            "1/1 [==============================] - 0s 22ms/step - loss: 16.8630 - mae: 16.8630\n",
            "Epoch 76/100\n",
            "1/1 [==============================] - 0s 25ms/step - loss: 16.8624 - mae: 16.8624\n",
            "Epoch 77/100\n",
            "1/1 [==============================] - 0s 36ms/step - loss: 16.8618 - mae: 16.8618\n",
            "Epoch 78/100\n",
            "1/1 [==============================] - 0s 22ms/step - loss: 16.8612 - mae: 16.8612\n",
            "Epoch 79/100\n",
            "1/1 [==============================] - 0s 27ms/step - loss: 16.8606 - mae: 16.8606\n",
            "Epoch 80/100\n",
            "1/1 [==============================] - 0s 26ms/step - loss: 16.8600 - mae: 16.8600\n",
            "Epoch 81/100\n",
            "1/1 [==============================] - 0s 26ms/step - loss: 16.8594 - mae: 16.8594\n",
            "Epoch 82/100\n",
            "1/1 [==============================] - 0s 27ms/step - loss: 16.8588 - mae: 16.8588\n",
            "Epoch 83/100\n",
            "1/1 [==============================] - 0s 38ms/step - loss: 16.8582 - mae: 16.8582\n",
            "Epoch 84/100\n",
            "1/1 [==============================] - 0s 27ms/step - loss: 16.8576 - mae: 16.8576\n",
            "Epoch 85/100\n",
            "1/1 [==============================] - 0s 27ms/step - loss: 16.8570 - mae: 16.8570\n",
            "Epoch 86/100\n",
            "1/1 [==============================] - 0s 35ms/step - loss: 16.8564 - mae: 16.8564\n",
            "Epoch 87/100\n",
            "1/1 [==============================] - 0s 27ms/step - loss: 16.8558 - mae: 16.8558\n",
            "Epoch 88/100\n",
            "1/1 [==============================] - 0s 14ms/step - loss: 16.8552 - mae: 16.8552\n",
            "Epoch 89/100\n",
            "1/1 [==============================] - 0s 31ms/step - loss: 16.8546 - mae: 16.8546\n",
            "Epoch 90/100\n",
            "1/1 [==============================] - 0s 17ms/step - loss: 16.8540 - mae: 16.8540\n",
            "Epoch 91/100\n",
            "1/1 [==============================] - 0s 26ms/step - loss: 16.8534 - mae: 16.8534\n",
            "Epoch 92/100\n",
            "1/1 [==============================] - 0s 14ms/step - loss: 16.8528 - mae: 16.8528\n",
            "Epoch 93/100\n",
            "1/1 [==============================] - 0s 27ms/step - loss: 16.8522 - mae: 16.8522\n",
            "Epoch 94/100\n",
            "1/1 [==============================] - 0s 27ms/step - loss: 16.8516 - mae: 16.8516\n",
            "Epoch 95/100\n",
            "1/1 [==============================] - 0s 16ms/step - loss: 16.8510 - mae: 16.8510\n",
            "Epoch 96/100\n",
            "1/1 [==============================] - 0s 25ms/step - loss: 16.8504 - mae: 16.8504\n",
            "Epoch 97/100\n",
            "1/1 [==============================] - 0s 14ms/step - loss: 16.8498 - mae: 16.8498\n",
            "Epoch 98/100\n",
            "1/1 [==============================] - 0s 19ms/step - loss: 16.8492 - mae: 16.8492\n",
            "Epoch 99/100\n",
            "1/1 [==============================] - 0s 14ms/step - loss: 16.8486 - mae: 16.8486\n",
            "Epoch 100/100\n",
            "1/1 [==============================] - 0s 17ms/step - loss: 16.8480 - mae: 16.8480\n"
          ]
        },
        {
          "output_type": "execute_result",
          "data": {
            "text/plain": [
              "<keras.src.callbacks.History at 0x7a3847688b20>"
            ]
          },
          "metadata": {},
          "execution_count": 20
        }
      ]
    },
    {
      "cell_type": "code",
      "source": [
        "model.predict([17.0])"
      ],
      "metadata": {
        "colab": {
          "base_uri": "https://localhost:8080/"
        },
        "id": "jAvwVdXSGMJ-",
        "outputId": "70c62349-e5ea-4e85-8bcb-72f9be31bae8"
      },
      "execution_count": 21,
      "outputs": [
        {
          "output_type": "stream",
          "name": "stdout",
          "text": [
            "1/1 [==============================] - 0s 133ms/step\n"
          ]
        },
        {
          "output_type": "execute_result",
          "data": {
            "text/plain": [
              "array([[-13.282199]], dtype=float32)"
            ]
          },
          "metadata": {},
          "execution_count": 21
        }
      ]
    },
    {
      "cell_type": "code",
      "source": [
        "# FINAL TWEAKS\n",
        "\n",
        "# 1. Create the model\n",
        "model = tf.keras.Sequential([\n",
        "    tf.keras.layers.Dense(50, activation=None),\n",
        "    tf.keras.layers.Dense(1)\n",
        "])\n",
        "\n",
        "# 2. Compile the model\n",
        "model.compile(\n",
        "    loss=tf.keras.losses.mae,\n",
        "    optimizer=tf.keras.optimizers.Adam(lr=0.01),\n",
        "    metrics=[\"mae\"]\n",
        ")\n",
        "\n",
        "# 3. Fit the model\n",
        "model.fit(tf.expand_dims(X, axis=-1), y, epochs=100)"
      ],
      "metadata": {
        "id": "ujS-ZnaZGUO7",
        "outputId": "3ceca087-4822-4e21-8ec2-3d8b064294c5",
        "colab": {
          "base_uri": "https://localhost:8080/"
        }
      },
      "execution_count": 22,
      "outputs": [
        {
          "output_type": "stream",
          "name": "stderr",
          "text": [
            "WARNING:absl:`lr` is deprecated in Keras optimizer, please use `learning_rate` or use the legacy optimizer, e.g.,tf.keras.optimizers.legacy.Adam.\n"
          ]
        },
        {
          "output_type": "stream",
          "name": "stdout",
          "text": [
            "Epoch 1/100\n",
            "1/1 [==============================] - 1s 1s/step - loss: 13.9493 - mae: 13.9493\n",
            "Epoch 2/100\n",
            "1/1 [==============================] - 0s 30ms/step - loss: 13.8816 - mae: 13.8816\n",
            "Epoch 3/100\n",
            "1/1 [==============================] - 0s 14ms/step - loss: 13.8140 - mae: 13.8140\n",
            "Epoch 4/100\n",
            "1/1 [==============================] - 0s 33ms/step - loss: 13.7463 - mae: 13.7463\n",
            "Epoch 5/100\n",
            "1/1 [==============================] - 0s 24ms/step - loss: 13.6786 - mae: 13.6786\n",
            "Epoch 6/100\n",
            "1/1 [==============================] - 0s 12ms/step - loss: 13.6109 - mae: 13.6109\n",
            "Epoch 7/100\n",
            "1/1 [==============================] - 0s 9ms/step - loss: 13.5432 - mae: 13.5432\n",
            "Epoch 8/100\n",
            "1/1 [==============================] - 0s 24ms/step - loss: 13.4754 - mae: 13.4754\n",
            "Epoch 9/100\n",
            "1/1 [==============================] - 0s 15ms/step - loss: 13.4076 - mae: 13.4076\n",
            "Epoch 10/100\n",
            "1/1 [==============================] - 0s 10ms/step - loss: 13.3398 - mae: 13.3398\n",
            "Epoch 11/100\n",
            "1/1 [==============================] - 0s 10ms/step - loss: 13.2720 - mae: 13.2720\n",
            "Epoch 12/100\n",
            "1/1 [==============================] - 0s 18ms/step - loss: 13.2041 - mae: 13.2041\n",
            "Epoch 13/100\n",
            "1/1 [==============================] - 0s 11ms/step - loss: 13.1361 - mae: 13.1361\n",
            "Epoch 14/100\n",
            "1/1 [==============================] - 0s 26ms/step - loss: 13.0681 - mae: 13.0681\n",
            "Epoch 15/100\n",
            "1/1 [==============================] - 0s 22ms/step - loss: 13.0001 - mae: 13.0001\n",
            "Epoch 16/100\n",
            "1/1 [==============================] - 0s 22ms/step - loss: 12.9319 - mae: 12.9319\n",
            "Epoch 17/100\n",
            "1/1 [==============================] - 0s 17ms/step - loss: 12.8638 - mae: 12.8638\n",
            "Epoch 18/100\n",
            "1/1 [==============================] - 0s 52ms/step - loss: 12.7955 - mae: 12.7955\n",
            "Epoch 19/100\n",
            "1/1 [==============================] - 0s 17ms/step - loss: 12.7272 - mae: 12.7272\n",
            "Epoch 20/100\n",
            "1/1 [==============================] - 0s 17ms/step - loss: 12.6588 - mae: 12.6588\n",
            "Epoch 21/100\n",
            "1/1 [==============================] - 0s 23ms/step - loss: 12.5903 - mae: 12.5903\n",
            "Epoch 22/100\n",
            "1/1 [==============================] - 0s 19ms/step - loss: 12.5218 - mae: 12.5218\n",
            "Epoch 23/100\n",
            "1/1 [==============================] - 0s 25ms/step - loss: 12.4531 - mae: 12.4531\n",
            "Epoch 24/100\n",
            "1/1 [==============================] - 0s 11ms/step - loss: 12.3844 - mae: 12.3844\n",
            "Epoch 25/100\n",
            "1/1 [==============================] - 0s 17ms/step - loss: 12.3156 - mae: 12.3156\n",
            "Epoch 26/100\n",
            "1/1 [==============================] - 0s 18ms/step - loss: 12.2466 - mae: 12.2466\n",
            "Epoch 27/100\n",
            "1/1 [==============================] - 0s 18ms/step - loss: 12.1776 - mae: 12.1776\n",
            "Epoch 28/100\n",
            "1/1 [==============================] - 0s 12ms/step - loss: 12.1085 - mae: 12.1085\n",
            "Epoch 29/100\n",
            "1/1 [==============================] - 0s 13ms/step - loss: 12.0392 - mae: 12.0392\n",
            "Epoch 30/100\n",
            "1/1 [==============================] - 0s 13ms/step - loss: 11.9698 - mae: 11.9698\n",
            "Epoch 31/100\n",
            "1/1 [==============================] - 0s 13ms/step - loss: 11.9003 - mae: 11.9003\n",
            "Epoch 32/100\n",
            "1/1 [==============================] - 0s 12ms/step - loss: 11.8307 - mae: 11.8307\n",
            "Epoch 33/100\n",
            "1/1 [==============================] - 0s 11ms/step - loss: 11.7609 - mae: 11.7609\n",
            "Epoch 34/100\n",
            "1/1 [==============================] - 0s 35ms/step - loss: 11.6910 - mae: 11.6910\n",
            "Epoch 35/100\n",
            "1/1 [==============================] - 0s 15ms/step - loss: 11.6209 - mae: 11.6209\n",
            "Epoch 36/100\n",
            "1/1 [==============================] - 0s 17ms/step - loss: 11.5507 - mae: 11.5507\n",
            "Epoch 37/100\n",
            "1/1 [==============================] - 0s 17ms/step - loss: 11.4803 - mae: 11.4803\n",
            "Epoch 38/100\n",
            "1/1 [==============================] - 0s 19ms/step - loss: 11.4098 - mae: 11.4098\n",
            "Epoch 39/100\n",
            "1/1 [==============================] - 0s 19ms/step - loss: 11.3391 - mae: 11.3391\n",
            "Epoch 40/100\n",
            "1/1 [==============================] - 0s 13ms/step - loss: 11.2682 - mae: 11.2682\n",
            "Epoch 41/100\n",
            "1/1 [==============================] - 0s 19ms/step - loss: 11.1971 - mae: 11.1971\n",
            "Epoch 42/100\n",
            "1/1 [==============================] - 0s 20ms/step - loss: 11.1259 - mae: 11.1259\n",
            "Epoch 43/100\n",
            "1/1 [==============================] - 0s 16ms/step - loss: 11.0545 - mae: 11.0545\n",
            "Epoch 44/100\n",
            "1/1 [==============================] - 0s 16ms/step - loss: 10.9828 - mae: 10.9828\n",
            "Epoch 45/100\n",
            "1/1 [==============================] - 0s 22ms/step - loss: 10.9110 - mae: 10.9110\n",
            "Epoch 46/100\n",
            "1/1 [==============================] - 0s 20ms/step - loss: 10.8389 - mae: 10.8389\n",
            "Epoch 47/100\n",
            "1/1 [==============================] - 0s 11ms/step - loss: 10.7667 - mae: 10.7667\n",
            "Epoch 48/100\n",
            "1/1 [==============================] - 0s 10ms/step - loss: 10.6942 - mae: 10.6942\n",
            "Epoch 49/100\n",
            "1/1 [==============================] - 0s 10ms/step - loss: 10.6215 - mae: 10.6215\n",
            "Epoch 50/100\n",
            "1/1 [==============================] - 0s 10ms/step - loss: 10.5485 - mae: 10.5485\n",
            "Epoch 51/100\n",
            "1/1 [==============================] - 0s 19ms/step - loss: 10.4754 - mae: 10.4754\n",
            "Epoch 52/100\n",
            "1/1 [==============================] - 0s 19ms/step - loss: 10.4019 - mae: 10.4019\n",
            "Epoch 53/100\n",
            "1/1 [==============================] - 0s 16ms/step - loss: 10.3282 - mae: 10.3282\n",
            "Epoch 54/100\n",
            "1/1 [==============================] - 0s 25ms/step - loss: 10.2543 - mae: 10.2543\n",
            "Epoch 55/100\n",
            "1/1 [==============================] - 0s 19ms/step - loss: 10.1801 - mae: 10.1801\n",
            "Epoch 56/100\n",
            "1/1 [==============================] - 0s 21ms/step - loss: 10.1056 - mae: 10.1056\n",
            "Epoch 57/100\n",
            "1/1 [==============================] - 0s 21ms/step - loss: 10.0309 - mae: 10.0309\n",
            "Epoch 58/100\n",
            "1/1 [==============================] - 0s 11ms/step - loss: 9.9558 - mae: 9.9558\n",
            "Epoch 59/100\n",
            "1/1 [==============================] - 0s 24ms/step - loss: 9.8805 - mae: 9.8805\n",
            "Epoch 60/100\n",
            "1/1 [==============================] - 0s 20ms/step - loss: 9.8049 - mae: 9.8049\n",
            "Epoch 61/100\n",
            "1/1 [==============================] - 0s 14ms/step - loss: 9.7290 - mae: 9.7290\n",
            "Epoch 62/100\n",
            "1/1 [==============================] - 0s 14ms/step - loss: 9.6528 - mae: 9.6528\n",
            "Epoch 63/100\n",
            "1/1 [==============================] - 0s 21ms/step - loss: 9.5762 - mae: 9.5762\n",
            "Epoch 64/100\n",
            "1/1 [==============================] - 0s 22ms/step - loss: 9.4994 - mae: 9.4994\n",
            "Epoch 65/100\n",
            "1/1 [==============================] - 0s 11ms/step - loss: 9.4222 - mae: 9.4222\n",
            "Epoch 66/100\n",
            "1/1 [==============================] - 0s 14ms/step - loss: 9.3447 - mae: 9.3447\n",
            "Epoch 67/100\n",
            "1/1 [==============================] - 0s 14ms/step - loss: 9.2668 - mae: 9.2668\n",
            "Epoch 68/100\n",
            "1/1 [==============================] - 0s 18ms/step - loss: 9.1886 - mae: 9.1886\n",
            "Epoch 69/100\n",
            "1/1 [==============================] - 0s 17ms/step - loss: 9.1101 - mae: 9.1101\n",
            "Epoch 70/100\n",
            "1/1 [==============================] - 0s 24ms/step - loss: 9.0312 - mae: 9.0312\n",
            "Epoch 71/100\n",
            "1/1 [==============================] - 0s 20ms/step - loss: 8.9520 - mae: 8.9520\n",
            "Epoch 72/100\n",
            "1/1 [==============================] - 0s 18ms/step - loss: 8.8724 - mae: 8.8724\n",
            "Epoch 73/100\n",
            "1/1 [==============================] - 0s 16ms/step - loss: 8.7924 - mae: 8.7924\n",
            "Epoch 74/100\n",
            "1/1 [==============================] - 0s 16ms/step - loss: 8.7120 - mae: 8.7120\n",
            "Epoch 75/100\n",
            "1/1 [==============================] - 0s 14ms/step - loss: 8.6313 - mae: 8.6313\n",
            "Epoch 76/100\n",
            "1/1 [==============================] - 0s 42ms/step - loss: 8.5501 - mae: 8.5501\n",
            "Epoch 77/100\n",
            "1/1 [==============================] - 0s 30ms/step - loss: 8.4686 - mae: 8.4686\n",
            "Epoch 78/100\n",
            "1/1 [==============================] - 0s 16ms/step - loss: 8.3867 - mae: 8.3867\n",
            "Epoch 79/100\n",
            "1/1 [==============================] - 0s 13ms/step - loss: 8.3044 - mae: 8.3044\n",
            "Epoch 80/100\n",
            "1/1 [==============================] - 0s 13ms/step - loss: 8.2216 - mae: 8.2216\n",
            "Epoch 81/100\n",
            "1/1 [==============================] - 0s 17ms/step - loss: 8.1385 - mae: 8.1385\n",
            "Epoch 82/100\n",
            "1/1 [==============================] - 0s 14ms/step - loss: 8.0549 - mae: 8.0549\n",
            "Epoch 83/100\n",
            "1/1 [==============================] - 0s 12ms/step - loss: 7.9709 - mae: 7.9709\n",
            "Epoch 84/100\n",
            "1/1 [==============================] - 0s 12ms/step - loss: 7.8865 - mae: 7.8865\n",
            "Epoch 85/100\n",
            "1/1 [==============================] - 0s 12ms/step - loss: 7.8016 - mae: 7.8016\n",
            "Epoch 86/100\n",
            "1/1 [==============================] - 0s 15ms/step - loss: 7.7163 - mae: 7.7163\n",
            "Epoch 87/100\n",
            "1/1 [==============================] - 0s 25ms/step - loss: 7.6306 - mae: 7.6306\n",
            "Epoch 88/100\n",
            "1/1 [==============================] - 0s 18ms/step - loss: 7.5443 - mae: 7.5443\n",
            "Epoch 89/100\n",
            "1/1 [==============================] - 0s 19ms/step - loss: 7.4577 - mae: 7.4577\n",
            "Epoch 90/100\n",
            "1/1 [==============================] - 0s 20ms/step - loss: 7.3705 - mae: 7.3705\n",
            "Epoch 91/100\n",
            "1/1 [==============================] - 0s 13ms/step - loss: 7.2829 - mae: 7.2829\n",
            "Epoch 92/100\n",
            "1/1 [==============================] - 0s 15ms/step - loss: 7.1948 - mae: 7.1948\n",
            "Epoch 93/100\n",
            "1/1 [==============================] - 0s 14ms/step - loss: 7.1063 - mae: 7.1063\n",
            "Epoch 94/100\n",
            "1/1 [==============================] - 0s 13ms/step - loss: 7.0172 - mae: 7.0172\n",
            "Epoch 95/100\n",
            "1/1 [==============================] - 0s 17ms/step - loss: 6.9277 - mae: 6.9277\n",
            "Epoch 96/100\n",
            "1/1 [==============================] - 0s 20ms/step - loss: 6.8376 - mae: 6.8376\n",
            "Epoch 97/100\n",
            "1/1 [==============================] - 0s 14ms/step - loss: 6.7471 - mae: 6.7471\n",
            "Epoch 98/100\n",
            "1/1 [==============================] - 0s 13ms/step - loss: 6.7274 - mae: 6.7274\n",
            "Epoch 99/100\n",
            "1/1 [==============================] - 0s 59ms/step - loss: 6.7169 - mae: 6.7169\n",
            "Epoch 100/100\n",
            "1/1 [==============================] - 0s 23ms/step - loss: 6.7066 - mae: 6.7066\n"
          ]
        },
        {
          "output_type": "execute_result",
          "data": {
            "text/plain": [
              "<keras.src.callbacks.History at 0x7a3847553730>"
            ]
          },
          "metadata": {},
          "execution_count": 22
        }
      ]
    },
    {
      "cell_type": "code",
      "source": [
        "model.predict([17.0])"
      ],
      "metadata": {
        "colab": {
          "base_uri": "https://localhost:8080/"
        },
        "id": "TRnFxxP_HtL0",
        "outputId": "8e66735b-9009-4ae6-e77b-5c2554375d38"
      },
      "execution_count": 23,
      "outputs": [
        {
          "output_type": "stream",
          "name": "stdout",
          "text": [
            "1/1 [==============================] - 0s 126ms/step\n"
          ]
        },
        {
          "output_type": "execute_result",
          "data": {
            "text/plain": [
              "array([[30.238663]], dtype=float32)"
            ]
          },
          "metadata": {},
          "execution_count": 23
        }
      ]
    },
    {
      "cell_type": "markdown",
      "source": [
        "## Common Ways to Improve A Deep Model:\n",
        "\n",
        "\n",
        "\n",
        "*   Adding layers\n",
        "*   Increase the number of hidden units\n",
        "*   Change the activation functions\n",
        "*   Change the optimization function\n",
        "*   Change the learning rate (potentially the most important hyperparameter of many different neural networks)\n",
        "*   Fitting on more data\n",
        "*   Fitting for longer\n",
        "\n"
      ],
      "metadata": {
        "id": "vE6htj6c2x1U"
      }
    },
    {
      "cell_type": "markdown",
      "source": [
        "## Evaluating a Model\n",
        "\n",
        "In practice, a typical workflow you'll go through when building neural networks is:\n",
        "```\n",
        "Build a model -> fit it -> evaluate it -> tweak a model -> fit it -> evaluate it -> tweak a model -> fit it -> evaluate it...\n",
        "```"
      ],
      "metadata": {
        "id": "1dX9u_amH661"
      }
    },
    {
      "cell_type": "markdown",
      "source": [
        "When it comes to evaluation... there are 3 words you should memorize:\n",
        "> \"Visualize, visualize, visualize.\"\n",
        "\n",
        "it's a good idea to visualize:\n",
        "* The data - what data are we working with? What does it look like?\n",
        "* The model itself - what does our model look like?\n",
        "* The training of a model - how does the model perform while it learns?\n",
        "* The predictions of the model - how do the predictions of the model line up with the ground truth (the original labels)?"
      ],
      "metadata": {
        "id": "5rqNoyi9BTZ5"
      }
    },
    {
      "cell_type": "code",
      "source": [
        "# Make a bigger dataset\n",
        "X = tf.range(-100, 100, 4)\n",
        "X"
      ],
      "metadata": {
        "id": "fwCe61Z7CKuQ",
        "outputId": "09900d68-928d-44bc-9413-68d2c5c5a568",
        "colab": {
          "base_uri": "https://localhost:8080/"
        }
      },
      "execution_count": 24,
      "outputs": [
        {
          "output_type": "execute_result",
          "data": {
            "text/plain": [
              "<tf.Tensor: shape=(50,), dtype=int32, numpy=\n",
              "array([-100,  -96,  -92,  -88,  -84,  -80,  -76,  -72,  -68,  -64,  -60,\n",
              "        -56,  -52,  -48,  -44,  -40,  -36,  -32,  -28,  -24,  -20,  -16,\n",
              "        -12,   -8,   -4,    0,    4,    8,   12,   16,   20,   24,   28,\n",
              "         32,   36,   40,   44,   48,   52,   56,   60,   64,   68,   72,\n",
              "         76,   80,   84,   88,   92,   96], dtype=int32)>"
            ]
          },
          "metadata": {},
          "execution_count": 24
        }
      ]
    },
    {
      "cell_type": "code",
      "source": [
        "# Make labels for the dataset\n",
        "y = X + 10\n",
        "y"
      ],
      "metadata": {
        "id": "XvcnWISJEu4P",
        "outputId": "ee69a823-5331-47ca-fc6f-c1539f45f5a3",
        "colab": {
          "base_uri": "https://localhost:8080/"
        }
      },
      "execution_count": 25,
      "outputs": [
        {
          "output_type": "execute_result",
          "data": {
            "text/plain": [
              "<tf.Tensor: shape=(50,), dtype=int32, numpy=\n",
              "array([-90, -86, -82, -78, -74, -70, -66, -62, -58, -54, -50, -46, -42,\n",
              "       -38, -34, -30, -26, -22, -18, -14, -10,  -6,  -2,   2,   6,  10,\n",
              "        14,  18,  22,  26,  30,  34,  38,  42,  46,  50,  54,  58,  62,\n",
              "        66,  70,  74,  78,  82,  86,  90,  94,  98, 102, 106], dtype=int32)>"
            ]
          },
          "metadata": {},
          "execution_count": 25
        }
      ]
    },
    {
      "cell_type": "code",
      "source": [
        "# Visualize the data\n",
        "import matplotlib.pyplot as plt\n",
        "\n",
        "plt.scatter(X, y)"
      ],
      "metadata": {
        "id": "_YpDTzgUE7YH",
        "outputId": "44a53af8-6919-4cfc-d04a-43258db28cd2",
        "colab": {
          "base_uri": "https://localhost:8080/",
          "height": 448
        }
      },
      "execution_count": 26,
      "outputs": [
        {
          "output_type": "execute_result",
          "data": {
            "text/plain": [
              "<matplotlib.collections.PathCollection at 0x7a3847499060>"
            ]
          },
          "metadata": {},
          "execution_count": 26
        },
        {
          "output_type": "display_data",
          "data": {
            "text/plain": [
              "<Figure size 640x480 with 1 Axes>"
            ],
            "image/png": "[encoded data removed]"
          },
          "metadata": {}
        }
      ]
    },
    {
      "cell_type": "markdown",
      "source": [
        "### The 3 sets...\n",
        "\n",
        "* ***Training set*** - the model learns from this data, which is typically 70-80% if the total data you have available.\n",
        "* ***Validation set*** - the model gets tuned on this data, which is typically 10-15% of the data available.\n",
        "* ***Test set*** - the model gets evaluated on this data to test what it has learned, this set is typically 10-15% if the total available data."
      ],
      "metadata": {
        "id": "f99dq8T3FFx_"
      }
    },
    {
      "cell_type": "code",
      "source": [
        "# Check the length of how many samples we have\n",
        "len(X)"
      ],
      "metadata": {
        "id": "wNVDdkXxGCJ0",
        "outputId": "247bed29-c665-4e98-ea48-1b18dbffb88c",
        "colab": {
          "base_uri": "https://localhost:8080/"
        }
      },
      "execution_count": 27,
      "outputs": [
        {
          "output_type": "execute_result",
          "data": {
            "text/plain": [
              "50"
            ]
          },
          "metadata": {},
          "execution_count": 27
        }
      ]
    },
    {
      "cell_type": "code",
      "source": [
        "# Split the data into train and test sets\n",
        "X_train = X[:40]  # First 40 are training samples (80%)\n",
        "y_train = y[:40]\n",
        "\n",
        "X_test = X[40:]  # Last 10 are the test samples (20%)\n",
        "y_test = y[40:]\n",
        "\n",
        "len(X_train), len(X_test), len(y_train), len(y_test)"
      ],
      "metadata": {
        "id": "IozGhoNQGgcQ",
        "outputId": "35c3b463-f1a6-409e-beef-2ab5b1bf4d66",
        "colab": {
          "base_uri": "https://localhost:8080/"
        }
      },
      "execution_count": 28,
      "outputs": [
        {
          "output_type": "execute_result",
          "data": {
            "text/plain": [
              "(40, 10, 40, 10)"
            ]
          },
          "metadata": {},
          "execution_count": 28
        }
      ]
    },
    {
      "cell_type": "markdown",
      "source": [
        "### Visualizing the data\n",
        "\n",
        "Now we've got our data in training and test sets...let's visualize it again!"
      ],
      "metadata": {
        "id": "oypoltEMJ2Gv"
      }
    },
    {
      "cell_type": "code",
      "source": [
        "plt.figure(figsize=(10, 7))\n",
        "# Plot training data in blue\n",
        "plt.scatter(X_train, y_train, c=\"b\", label=\"Training data\") # our model will learn on this\n",
        "# Plot test data in green\n",
        "plt.scatter(X_test, y_test, c=\"g\", label=\"Testing data\") # want our model to be able to predict this (given X, what's y?)\n",
        "# Show a legend\n",
        "plt.legend();"
      ],
      "metadata": {
        "id": "8Yuj6_4VKN17",
        "outputId": "24a0876f-f5af-437b-a5fb-06c68e2bb25c",
        "colab": {
          "base_uri": "https://localhost:8080/",
          "height": 599
        }
      },
      "execution_count": 29,
      "outputs": [
        {
          "output_type": "display_data",
          "data": {
            "text/plain": [
              "<Figure size 1000x700 with 1 Axes>"
            ],
            "image/png": "[encoded data removed]"
          },
          "metadata": {}
        }
      ]
    },
    {
      "cell_type": "code",
      "source": [
        "# Let's have a look at how to build a neural network for our data\n",
        "\n",
        "# 1. Create a model\n",
        "model = tf.keras.Sequential([\n",
        "  tf.keras.layers.Dense(1)\n",
        "])\n",
        "\n",
        "# 2. Compile the model\n",
        "model.compile(loss=tf.keras.losses.mae,\n",
        "              optimizer=tf.keras.optimizers.SGD(),\n",
        "              metrics=[\"mae\"])\n",
        "\n",
        "# # 3. Fit the model\n",
        "# model.fit(X_train, y_train, epochs=100)"
      ],
      "metadata": {
        "id": "-VKDZpgAKryO"
      },
      "execution_count": 30,
      "outputs": []
    },
    {
      "cell_type": "markdown",
      "source": [
        "### Visualizing the model"
      ],
      "metadata": {
        "id": "p_TJMaO0YhTr"
      }
    },
    {
      "cell_type": "code",
      "source": [
        "# model.summary()"
      ],
      "metadata": {
        "id": "vOFXWiHsYnKQ"
      },
      "execution_count": 31,
      "outputs": []
    },
    {
      "cell_type": "code",
      "source": [
        "X[0], y[0]"
      ],
      "metadata": {
        "colab": {
          "base_uri": "https://localhost:8080/"
        },
        "id": "NgoOIsRGYp_b",
        "outputId": "b118ede9-975c-41b5-8118-4cdd9d654ee5"
      },
      "execution_count": 32,
      "outputs": [
        {
          "output_type": "execute_result",
          "data": {
            "text/plain": [
              "(<tf.Tensor: shape=(), dtype=int32, numpy=-100>,\n",
              " <tf.Tensor: shape=(), dtype=int32, numpy=-90>)"
            ]
          },
          "metadata": {},
          "execution_count": 32
        }
      ]
    },
    {
      "cell_type": "code",
      "source": [
        "# Let's create a model which builds automatically by defining the input_shape argument in the first layer\n",
        "tf.random.set_seed(42)\n",
        "\n",
        "# 1. Create a model (same as above)\n",
        "model = tf.keras.Sequential([\n",
        "  tf.keras.layers.Dense(10, input_shape=[1], name=\"input_layer\"),\n",
        "  tf.keras.layers.Dense(1, name=\"output_layer\")\n",
        "], name=\"model_1\")\n",
        "\n",
        "# 2. Compile the model (same as above)\n",
        "model.compile(loss=tf.keras.losses.mae,\n",
        "              optimizer=tf.keras.optimizers.SGD(),\n",
        "              metrics=[\"mae\"])"
      ],
      "metadata": {
        "id": "kzJ3FYvHYsrG"
      },
      "execution_count": 33,
      "outputs": []
    },
    {
      "cell_type": "code",
      "source": [
        "model.summary()"
      ],
      "metadata": {
        "colab": {
          "base_uri": "https://localhost:8080/"
        },
        "id": "loArIsz1Yvw_",
        "outputId": "2f0655b8-5e87-4cc9-b95a-ebf899f6e3e8"
      },
      "execution_count": 34,
      "outputs": [
        {
          "output_type": "stream",
          "name": "stdout",
          "text": [
            "Model: \"model_1\"\n",
            "_________________________________________________________________\n",
            " Layer (type)                Output Shape              Param #   \n",
            "=================================================================\n",
            " input_layer (Dense)         (None, 10)                20        \n",
            "                                                                 \n",
            " output_layer (Dense)        (None, 1)                 11        \n",
            "                                                                 \n",
            "=================================================================\n",
            "Total params: 31 (124.00 Byte)\n",
            "Trainable params: 31 (124.00 Byte)\n",
            "Non-trainable params: 0 (0.00 Byte)\n",
            "_________________________________________________________________\n"
          ]
        }
      ]
    },
    {
      "cell_type": "markdown",
      "source": [
        "* Total params - total number of parameters in the model.\n",
        "* Trainable parameters - these are the parameters (patterns) the model can update as it trains.\n",
        "* Non-trainable params - these parameters aren't updated during training (this is typical when you bring in already learn patterns or parameters from other models during **transfer learning**).\n",
        "\n",
        "📖 **Resource:** For a more in-depth overview of the trainable parameters within a layer, check out [MIT's introduction to deep learning video](https://youtu.be/njKP3FqW3Sk).\n",
        "\n",
        "🛠 **Exercise:** Try playing around with the number of hidden units in the dense layer, see how that effects the number of parameters (total and trainable) by calling `model.summary()`."
      ],
      "metadata": {
        "id": "jJF0K3IlYxn4"
      }
    },
    {
      "cell_type": "code",
      "source": [
        "# Let's fit our model to the training data\n",
        "model.fit(X_train, y_train, epochs=100, verbose=0)"
      ],
      "metadata": {
        "colab": {
          "base_uri": "https://localhost:8080/"
        },
        "id": "Xhhfu5IXY3W9",
        "outputId": "5a0e1203-8659-476c-ca5e-a3be97707dd1"
      },
      "execution_count": 35,
      "outputs": [
        {
          "output_type": "execute_result",
          "data": {
            "text/plain": [
              "<keras.src.callbacks.History at 0x7a3845ac70a0>"
            ]
          },
          "metadata": {},
          "execution_count": 35
        }
      ]
    },
    {
      "cell_type": "code",
      "source": [
        "# Get a summary of our model\n",
        "model.summary()"
      ],
      "metadata": {
        "colab": {
          "base_uri": "https://localhost:8080/"
        },
        "id": "aXZaHYzuY6BD",
        "outputId": "a7bdfc89-0af9-4fc4-c111-89054e98bf0e"
      },
      "execution_count": 36,
      "outputs": [
        {
          "output_type": "stream",
          "name": "stdout",
          "text": [
            "Model: \"model_1\"\n",
            "_________________________________________________________________\n",
            " Layer (type)                Output Shape              Param #   \n",
            "=================================================================\n",
            " input_layer (Dense)         (None, 10)                20        \n",
            "                                                                 \n",
            " output_layer (Dense)        (None, 1)                 11        \n",
            "                                                                 \n",
            "=================================================================\n",
            "Total params: 31 (124.00 Byte)\n",
            "Trainable params: 31 (124.00 Byte)\n",
            "Non-trainable params: 0 (0.00 Byte)\n",
            "_________________________________________________________________\n"
          ]
        }
      ]
    },
    {
      "cell_type": "code",
      "source": [
        "from tensorflow.keras.utils import plot_model\n",
        "\n",
        "plot_model(model=model, show_shapes=True)"
      ],
      "metadata": {
        "colab": {
          "base_uri": "https://localhost:8080/",
          "height": 312
        },
        "id": "_QS_M-3rY7jd",
        "outputId": "5347824f-d194-48b9-9628-abacec13e67f"
      },
      "execution_count": 37,
      "outputs": [
        {
          "output_type": "execute_result",
          "data": {
            "image/png": "[encoded data removed]",
            "text/plain": [
              "<IPython.core.display.Image object>"
            ]
          },
          "metadata": {},
          "execution_count": 37
        }
      ]
    },
    {
      "cell_type": "markdown",
      "source": [
        "### Visualizing our model's predictions\n",
        "\n",
        "To visualize predictions, it's a good idea to plot them against the ground truth labels.\n",
        "\n",
        "Often you'll see this in the form of `y_test` or `y_true` versus `y_pred` (ground truth versus your model's predictions)."
      ],
      "metadata": {
        "id": "Rf0wBhnRY9Mx"
      }
    },
    {
      "cell_type": "code",
      "source": [
        "# Make some predictions\n",
        "y_pred = model.predict(X_test)\n",
        "y_pred"
      ],
      "metadata": {
        "colab": {
          "base_uri": "https://localhost:8080/"
        },
        "id": "PmIwNKzgZBZh",
        "outputId": "cb153205-2101-43d4-81a2-a668ed2a6dd8"
      },
      "execution_count": 38,
      "outputs": [
        {
          "output_type": "stream",
          "name": "stderr",
          "text": [
            "WARNING:tensorflow:5 out of the last 5 calls to <function Model.make_predict_function.<locals>.predict_function at 0x7a38459b7b50> triggered tf.function retracing. Tracing is expensive and the excessive number of tracings could be due to (1) creating @tf.function repeatedly in a loop, (2) passing tensors with different shapes, (3) passing Python objects instead of tensors. For (1), please define your @tf.function outside of the loop. For (2), @tf.function has reduce_retracing=True option that can avoid unnecessary retracing. For (3), please refer to https://www.tensorflow.org/guide/function#controlling_retracing and https://www.tensorflow.org/api_docs/python/tf/function for  more details.\n"
          ]
        },
        {
          "output_type": "stream",
          "name": "stdout",
          "text": [
            "1/1 [==============================] - 0s 429ms/step\n"
          ]
        },
        {
          "output_type": "execute_result",
          "data": {
            "text/plain": [
              "array([[ 70.44095 ],\n",
              "       [ 75.021965],\n",
              "       [ 79.603   ],\n",
              "       [ 84.18402 ],\n",
              "       [ 88.76504 ],\n",
              "       [ 93.34608 ],\n",
              "       [ 97.9271  ],\n",
              "       [102.50811 ],\n",
              "       [107.089134],\n",
              "       [111.67016 ]], dtype=float32)"
            ]
          },
          "metadata": {},
          "execution_count": 38
        }
      ]
    },
    {
      "cell_type": "code",
      "source": [
        "y_test"
      ],
      "metadata": {
        "colab": {
          "base_uri": "https://localhost:8080/"
        },
        "id": "sniPK_IKZB0Y",
        "outputId": "160a2a15-2446-4db1-f5e2-431b254e7474"
      },
      "execution_count": 39,
      "outputs": [
        {
          "output_type": "execute_result",
          "data": {
            "text/plain": [
              "<tf.Tensor: shape=(10,), dtype=int32, numpy=array([ 70,  74,  78,  82,  86,  90,  94,  98, 102, 106], dtype=int32)>"
            ]
          },
          "metadata": {},
          "execution_count": 39
        }
      ]
    },
    {
      "cell_type": "code",
      "source": [
        "# Let's create a plotting function\n",
        "def plot_predictions(train_data=X_train,\n",
        "                     train_labels=y_train,\n",
        "                     test_data=X_test,\n",
        "                     test_labels=y_test,\n",
        "                     predictions=y_pred):\n",
        "  \"\"\"\n",
        "  Plots training data, test data and compares predictions to ground truth labels.\n",
        "  \"\"\"\n",
        "  plt.figure(figsize=(10, 7))\n",
        "  # Plot training data in blue\n",
        "  plt.scatter(train_data, train_labels, c=\"b\", label=\"Training data\")\n",
        "  # Plot testing data in green\n",
        "  plt.scatter(test_data, test_labels, c=\"g\", label=\"Testing data\")\n",
        "  # Plot model's predictions in red\n",
        "  plt.scatter(test_data, predictions, c=\"r\", label=\"Predictions\")\n",
        "  # Show the legend\n",
        "  plt.legend();"
      ],
      "metadata": {
        "id": "iyJLhP7-ZDQy"
      },
      "execution_count": 40,
      "outputs": []
    },
    {
      "cell_type": "code",
      "source": [
        "plot_predictions(train_data=X_train,\n",
        "                 train_labels=y_train,\n",
        "                 test_data=X_test,\n",
        "                 test_labels=y_test,\n",
        "                 predictions=y_pred)"
      ],
      "metadata": {
        "colab": {
          "base_uri": "https://localhost:8080/",
          "height": 599
        },
        "id": "LyNMCmrSZGD6",
        "outputId": "3cad8b51-26df-41df-dee3-84b07bb46999"
      },
      "execution_count": 41,
      "outputs": [
        {
          "output_type": "display_data",
          "data": {
            "text/plain": [
              "<Figure size 1000x700 with 1 Axes>"
            ],
            "image/png": "[encoded data removed]"
          },
          "metadata": {}
        }
      ]
    },
    {
      "cell_type": "markdown",
      "source": [
        "### Evaluting our model's predictions with regression evaluation metrics\n",
        "\n",
        "Depending on the problem you're working on, there will be different evaluation metrics to evaluate your model's performance.\n",
        "\n",
        "Since we're working on a regression, two of the main metrics:\n",
        "* MAE - mean absolute error, \"on average, how wrong is each of my model's predictions\"\n",
        "* MSE - mean square error, \"square the average errors\""
      ],
      "metadata": {
        "id": "2sDNVq92ZHxz"
      }
    },
    {
      "cell_type": "code",
      "source": [
        "# Evaluate the model on the test\n",
        "model.evaluate(X_test, y_test)"
      ],
      "metadata": {
        "colab": {
          "base_uri": "https://localhost:8080/"
        },
        "id": "0bq8u8pLZLDX",
        "outputId": "dca4f977-5b1a-46de-ba60-c09a9875a04e"
      },
      "execution_count": 42,
      "outputs": [
        {
          "output_type": "stream",
          "name": "stdout",
          "text": [
            "1/1 [==============================] - 0s 208ms/step - loss: 3.0556 - mae: 3.0556\n"
          ]
        },
        {
          "output_type": "execute_result",
          "data": {
            "text/plain": [
              "[3.055554151535034, 3.055554151535034]"
            ]
          },
          "metadata": {},
          "execution_count": 42
        }
      ]
    },
    {
      "cell_type": "code",
      "source": [
        "# Calculate the mean absolute error\n",
        "mae = tf.metrics.mean_absolute_error(y_true=y_test,\n",
        "                                     y_pred=tf.constant(y_pred))\n",
        "mae"
      ],
      "metadata": {
        "colab": {
          "base_uri": "https://localhost:8080/"
        },
        "id": "4maIiXGHZMjJ",
        "outputId": "ac70652e-35f7-4578-f5fb-9445db888ae6"
      },
      "execution_count": 43,
      "outputs": [
        {
          "output_type": "execute_result",
          "data": {
            "text/plain": [
              "<tf.Tensor: shape=(10,), dtype=float32, numpy=\n",
              "array([17.647242, 14.186821, 11.758801, 10.363195, 10.      , 10.669215,\n",
              "       12.37084 , 15.206488, 19.089134, 23.670158], dtype=float32)>"
            ]
          },
          "metadata": {},
          "execution_count": 43
        }
      ]
    },
    {
      "cell_type": "code",
      "source": [
        "tf.constant(y_pred)"
      ],
      "metadata": {
        "colab": {
          "base_uri": "https://localhost:8080/"
        },
        "id": "ZRvD2slmZOYd",
        "outputId": "c039a2f5-12c7-404a-c1df-19920afe9203"
      },
      "execution_count": 44,
      "outputs": [
        {
          "output_type": "execute_result",
          "data": {
            "text/plain": [
              "<tf.Tensor: shape=(10, 1), dtype=float32, numpy=\n",
              "array([[ 70.44095 ],\n",
              "       [ 75.021965],\n",
              "       [ 79.603   ],\n",
              "       [ 84.18402 ],\n",
              "       [ 88.76504 ],\n",
              "       [ 93.34608 ],\n",
              "       [ 97.9271  ],\n",
              "       [102.50811 ],\n",
              "       [107.089134],\n",
              "       [111.67016 ]], dtype=float32)>"
            ]
          },
          "metadata": {},
          "execution_count": 44
        }
      ]
    },
    {
      "cell_type": "code",
      "source": [
        "y_test"
      ],
      "metadata": {
        "id": "gBd4fBrfbaFM",
        "outputId": "c93d9f0e-174c-4363-b62f-d24b22a076c7",
        "colab": {
          "base_uri": "https://localhost:8080/"
        }
      },
      "execution_count": 45,
      "outputs": [
        {
          "output_type": "execute_result",
          "data": {
            "text/plain": [
              "<tf.Tensor: shape=(10,), dtype=int32, numpy=array([ 70,  74,  78,  82,  86,  90,  94,  98, 102, 106], dtype=int32)>"
            ]
          },
          "metadata": {},
          "execution_count": 45
        }
      ]
    },
    {
      "cell_type": "code",
      "source": [
        "tf.squeeze(y_pred)"
      ],
      "metadata": {
        "id": "tpOEDMPvbcF8",
        "outputId": "7ac1dd79-4672-4c2a-8682-f3c7d337aa53",
        "colab": {
          "base_uri": "https://localhost:8080/"
        }
      },
      "execution_count": 46,
      "outputs": [
        {
          "output_type": "execute_result",
          "data": {
            "text/plain": [
              "<tf.Tensor: shape=(10,), dtype=float32, numpy=\n",
              "array([ 70.44095 ,  75.021965,  79.603   ,  84.18402 ,  88.76504 ,\n",
              "        93.34608 ,  97.9271  , 102.50811 , 107.089134, 111.67016 ],\n",
              "      dtype=float32)>"
            ]
          },
          "metadata": {},
          "execution_count": 46
        }
      ]
    },
    {
      "cell_type": "code",
      "source": [
        "# Calculate the mean absolute error\n",
        "mae = tf.metrics.mean_absolute_error(y_true=y_test,\n",
        "                                     y_pred=tf.squeeze(y_pred))\n",
        "mae"
      ],
      "metadata": {
        "id": "YpsWzuBGb6by",
        "outputId": "77f132b0-f124-4aa8-c57b-d79a3ccc7014",
        "colab": {
          "base_uri": "https://localhost:8080/"
        }
      },
      "execution_count": 47,
      "outputs": [
        {
          "output_type": "execute_result",
          "data": {
            "text/plain": [
              "<tf.Tensor: shape=(), dtype=float32, numpy=3.0555549>"
            ]
          },
          "metadata": {},
          "execution_count": 47
        }
      ]
    },
    {
      "cell_type": "code",
      "source": [
        "# Calculate the mean square error\n",
        "mse = tf.metrics.mean_squared_error(\n",
        "    y_true=y_test,\n",
        "    y_pred=tf.squeeze(y_pred)\n",
        ")\n",
        "mse"
      ],
      "metadata": {
        "id": "npv0cz0zcAeH",
        "outputId": "15a446e0-44d8-4dcf-d9f5-624bc7bf2c21",
        "colab": {
          "base_uri": "https://localhost:8080/"
        }
      },
      "execution_count": 48,
      "outputs": [
        {
          "output_type": "execute_result",
          "data": {
            "text/plain": [
              "<tf.Tensor: shape=(), dtype=float32, numpy=12.121522>"
            ]
          },
          "metadata": {},
          "execution_count": 48
        }
      ]
    },
    {
      "cell_type": "code",
      "source": [
        "# Make some functions to reuse MAE and MSE\n",
        "def mae(y_true, y_pred):\n",
        "  return tf.metrics.mean_absolute_error(y_true=y_true, y_pred=tf.squeeze(y_pred))\n",
        "\n",
        "def mse(y_true, y_pred):\n",
        "  return tf.metrics.mean_squared_error(y_true=y_true, y_pred=tf.squeeze(y_pred))"
      ],
      "metadata": {
        "id": "SjXDOO4_cv0a"
      },
      "execution_count": 49,
      "outputs": []
    },
    {
      "cell_type": "markdown",
      "source": [
        "### Running Experiments to improve our model\n",
        "\n",
        "```\n",
        "Build a model -> fit it -> evaluate it -> tweak it -> fit it -> evaluate it -> tweak it....\n",
        "```\n",
        "1. Get more data - get more examples for your model to train on (more opportunities to learn patterns or relationships between features and labels)\n",
        "2. Make your model larger (using a more complex model) - this might come in the form of more layers or more hidden units in each layer.\n",
        "3. Train for longer - give your model more of a chance to find patterns in the data\n",
        "\n",
        "\n",
        "Let's do 3 modeling experiments:\n",
        "1. `model_1` - same as original model, 1 layer trained for 100 epochs\n",
        "2. `model_2` - 2 layers, trained for 100 epochs\n",
        "3. `model_3` - 2 layers, trained for 500 epochs"
      ],
      "metadata": {
        "id": "zhZHAS5bdsbZ"
      }
    },
    {
      "cell_type": "markdown",
      "source": [
        "** Build `model_1`**"
      ],
      "metadata": {
        "id": "FmEGYBFo5e-R"
      }
    },
    {
      "cell_type": "code",
      "source": [
        "# Set random see (for reproducibility)\n",
        "tf.random.set_seed(42)\n",
        "\n",
        "# 1. Create the model\n",
        "model_1 = tf.keras.Sequential([\n",
        "    tf.keras.layers.Dense(1, input_shape=[1])\n",
        "])\n",
        "\n",
        "# 2. Compile the model\n",
        "model_1.compile(loss=tf.keras.losses.mae,\n",
        "                optimizer=tf.keras.optimizers.SGD(),\n",
        "                metrics=[\"mae\"])\n",
        "\n",
        "# 3. Fit the model\n",
        "model_1.fit(X_train, y_train, epochs=100)"
      ],
      "metadata": {
        "id": "0pVGi0i0e2nu",
        "outputId": "bf87f904-2d25-4f49-8805-13edba41861e",
        "colab": {
          "base_uri": "https://localhost:8080/"
        }
      },
      "execution_count": 50,
      "outputs": [
        {
          "output_type": "stream",
          "name": "stdout",
          "text": [
            "Epoch 1/100\n",
            "2/2 [==============================] - 0s 10ms/step - loss: 57.9667 - mae: 57.9667\n",
            "Epoch 2/100\n",
            "2/2 [==============================] - 0s 6ms/step - loss: 23.4725 - mae: 23.4725\n",
            "Epoch 3/100\n",
            "2/2 [==============================] - 0s 6ms/step - loss: 10.4576 - mae: 10.4576\n",
            "Epoch 4/100\n",
            "2/2 [==============================] - 0s 10ms/step - loss: 12.9281 - mae: 12.9281\n",
            "Epoch 5/100\n",
            "2/2 [==============================] - 0s 10ms/step - loss: 11.9687 - mae: 11.9687\n",
            "Epoch 6/100\n",
            "2/2 [==============================] - 0s 11ms/step - loss: 11.1133 - mae: 11.1133\n",
            "Epoch 7/100\n",
            "2/2 [==============================] - 0s 10ms/step - loss: 13.8489 - mae: 13.8489\n",
            "Epoch 8/100\n",
            "2/2 [==============================] - 0s 11ms/step - loss: 8.4922 - mae: 8.4922\n",
            "Epoch 9/100\n",
            "2/2 [==============================] - 0s 11ms/step - loss: 17.7738 - mae: 17.7738\n",
            "Epoch 10/100\n",
            "2/2 [==============================] - 0s 11ms/step - loss: 12.1711 - mae: 12.1711\n",
            "Epoch 11/100\n",
            "2/2 [==============================] - 0s 13ms/step - loss: 9.7932 - mae: 9.7932\n",
            "Epoch 12/100\n",
            "2/2 [==============================] - 0s 10ms/step - loss: 19.4603 - mae: 19.4603\n",
            "Epoch 13/100\n",
            "2/2 [==============================] - 0s 14ms/step - loss: 11.8738 - mae: 11.8738\n",
            "Epoch 14/100\n",
            "2/2 [==============================] - 0s 9ms/step - loss: 14.1434 - mae: 14.1434\n",
            "Epoch 15/100\n",
            "2/2 [==============================] - 0s 9ms/step - loss: 11.5449 - mae: 11.5449\n",
            "Epoch 16/100\n",
            "2/2 [==============================] - 0s 11ms/step - loss: 8.5151 - mae: 8.5151\n",
            "Epoch 17/100\n",
            "2/2 [==============================] - 0s 8ms/step - loss: 13.5630 - mae: 13.5630\n",
            "Epoch 18/100\n",
            "2/2 [==============================] - 0s 6ms/step - loss: 11.3694 - mae: 11.3694\n",
            "Epoch 19/100\n",
            "2/2 [==============================] - 0s 8ms/step - loss: 18.0560 - mae: 18.0560\n",
            "Epoch 20/100\n",
            "2/2 [==============================] - 0s 9ms/step - loss: 15.1896 - mae: 15.1896\n",
            "Epoch 21/100\n",
            "2/2 [==============================] - 0s 6ms/step - loss: 11.1420 - mae: 11.1420\n",
            "Epoch 22/100\n",
            "2/2 [==============================] - 0s 6ms/step - loss: 8.2680 - mae: 8.2680\n",
            "Epoch 23/100\n",
            "2/2 [==============================] - 0s 7ms/step - loss: 9.4564 - mae: 9.4564\n",
            "Epoch 24/100\n",
            "2/2 [==============================] - 0s 6ms/step - loss: 7.7004 - mae: 7.7004\n",
            "Epoch 25/100\n",
            "2/2 [==============================] - 0s 7ms/step - loss: 13.0256 - mae: 13.0256\n",
            "Epoch 26/100\n",
            "2/2 [==============================] - 0s 7ms/step - loss: 16.5592 - mae: 16.5592\n",
            "Epoch 27/100\n",
            "2/2 [==============================] - 0s 6ms/step - loss: 13.2834 - mae: 13.2834\n",
            "Epoch 28/100\n",
            "2/2 [==============================] - 0s 7ms/step - loss: 14.4033 - mae: 14.4033\n",
            "Epoch 29/100\n",
            "2/2 [==============================] - 0s 6ms/step - loss: 10.1193 - mae: 10.1193\n",
            "Epoch 30/100\n",
            "2/2 [==============================] - 0s 8ms/step - loss: 16.5515 - mae: 16.5515\n",
            "Epoch 31/100\n",
            "2/2 [==============================] - 0s 8ms/step - loss: 23.4645 - mae: 23.4645\n",
            "Epoch 32/100\n",
            "2/2 [==============================] - 0s 6ms/step - loss: 7.3804 - mae: 7.3804\n",
            "Epoch 33/100\n",
            "2/2 [==============================] - 0s 19ms/step - loss: 9.8118 - mae: 9.8118\n",
            "Epoch 34/100\n",
            "2/2 [==============================] - 0s 9ms/step - loss: 12.2576 - mae: 12.2576\n",
            "Epoch 35/100\n",
            "2/2 [==============================] - 0s 10ms/step - loss: 11.1797 - mae: 11.1797\n",
            "Epoch 36/100\n",
            "2/2 [==============================] - 0s 15ms/step - loss: 13.4098 - mae: 13.4098\n",
            "Epoch 37/100\n",
            "2/2 [==============================] - 0s 9ms/step - loss: 9.4587 - mae: 9.4587\n",
            "Epoch 38/100\n",
            "2/2 [==============================] - 0s 12ms/step - loss: 10.1096 - mae: 10.1096\n",
            "Epoch 39/100\n",
            "2/2 [==============================] - 0s 10ms/step - loss: 8.9859 - mae: 8.9859\n",
            "Epoch 40/100\n",
            "2/2 [==============================] - 0s 9ms/step - loss: 9.6145 - mae: 9.6145\n",
            "Epoch 41/100\n",
            "2/2 [==============================] - 0s 12ms/step - loss: 10.5749 - mae: 10.5749\n",
            "Epoch 42/100\n",
            "2/2 [==============================] - 0s 13ms/step - loss: 10.6285 - mae: 10.6285\n",
            "Epoch 43/100\n",
            "2/2 [==============================] - 0s 8ms/step - loss: 7.2225 - mae: 7.2225\n",
            "Epoch 44/100\n",
            "2/2 [==============================] - 0s 8ms/step - loss: 8.0272 - mae: 8.0272\n",
            "Epoch 45/100\n",
            "2/2 [==============================] - 0s 10ms/step - loss: 9.8296 - mae: 9.8296\n",
            "Epoch 46/100\n",
            "2/2 [==============================] - 0s 10ms/step - loss: 8.9092 - mae: 8.9092\n",
            "Epoch 47/100\n",
            "2/2 [==============================] - 0s 18ms/step - loss: 7.5779 - mae: 7.5779\n",
            "Epoch 48/100\n",
            "2/2 [==============================] - 0s 11ms/step - loss: 8.5441 - mae: 8.5441\n",
            "Epoch 49/100\n",
            "2/2 [==============================] - 0s 13ms/step - loss: 10.0411 - mae: 10.0411\n",
            "Epoch 50/100\n",
            "2/2 [==============================] - 0s 10ms/step - loss: 8.9904 - mae: 8.9904\n",
            "Epoch 51/100\n",
            "2/2 [==============================] - 0s 11ms/step - loss: 10.7177 - mae: 10.7177\n",
            "Epoch 52/100\n",
            "2/2 [==============================] - 0s 7ms/step - loss: 15.2699 - mae: 15.2699\n",
            "Epoch 53/100\n",
            "2/2 [==============================] - 0s 15ms/step - loss: 14.2992 - mae: 14.2992\n",
            "Epoch 54/100\n",
            "2/2 [==============================] - 0s 10ms/step - loss: 21.5491 - mae: 21.5491\n",
            "Epoch 55/100\n",
            "2/2 [==============================] - 0s 8ms/step - loss: 16.0542 - mae: 16.0542\n",
            "Epoch 56/100\n",
            "2/2 [==============================] - 0s 8ms/step - loss: 10.2533 - mae: 10.2533\n",
            "Epoch 57/100\n",
            "2/2 [==============================] - 0s 8ms/step - loss: 9.8059 - mae: 9.8059\n",
            "Epoch 58/100\n",
            "2/2 [==============================] - 0s 7ms/step - loss: 9.0884 - mae: 9.0884\n",
            "Epoch 59/100\n",
            "2/2 [==============================] - 0s 9ms/step - loss: 8.2913 - mae: 8.2913\n",
            "Epoch 60/100\n",
            "2/2 [==============================] - 0s 10ms/step - loss: 9.3849 - mae: 9.3849\n",
            "Epoch 61/100\n",
            "2/2 [==============================] - 0s 8ms/step - loss: 11.2138 - mae: 11.2138\n",
            "Epoch 62/100\n",
            "2/2 [==============================] - 0s 17ms/step - loss: 12.0403 - mae: 12.0403\n",
            "Epoch 63/100\n",
            "2/2 [==============================] - 0s 9ms/step - loss: 7.2828 - mae: 7.2828\n",
            "Epoch 64/100\n",
            "2/2 [==============================] - 0s 14ms/step - loss: 12.4731 - mae: 12.4731\n",
            "Epoch 65/100\n",
            "2/2 [==============================] - 0s 9ms/step - loss: 10.5497 - mae: 10.5497\n",
            "Epoch 66/100\n",
            "2/2 [==============================] - 0s 9ms/step - loss: 15.5719 - mae: 15.5719\n",
            "Epoch 67/100\n",
            "2/2 [==============================] - 0s 9ms/step - loss: 9.9878 - mae: 9.9878\n",
            "Epoch 68/100\n",
            "2/2 [==============================] - 0s 9ms/step - loss: 8.7182 - mae: 8.7182\n",
            "Epoch 69/100\n",
            "2/2 [==============================] - 0s 24ms/step - loss: 13.4487 - mae: 13.4487\n",
            "Epoch 70/100\n",
            "2/2 [==============================] - 0s 10ms/step - loss: 7.4802 - mae: 7.4802\n",
            "Epoch 71/100\n",
            "2/2 [==============================] - 0s 20ms/step - loss: 12.2766 - mae: 12.2766\n",
            "Epoch 72/100\n",
            "2/2 [==============================] - 0s 15ms/step - loss: 8.5172 - mae: 8.5172\n",
            "Epoch 73/100\n",
            "2/2 [==============================] - 0s 19ms/step - loss: 7.0467 - mae: 7.0467\n",
            "Epoch 74/100\n",
            "2/2 [==============================] - 0s 20ms/step - loss: 9.8935 - mae: 9.8935\n",
            "Epoch 75/100\n",
            "2/2 [==============================] - 0s 12ms/step - loss: 9.9744 - mae: 9.9744\n",
            "Epoch 76/100\n",
            "2/2 [==============================] - 0s 23ms/step - loss: 10.1340 - mae: 10.1340\n",
            "Epoch 77/100\n",
            "2/2 [==============================] - 0s 27ms/step - loss: 13.0075 - mae: 13.0075\n",
            "Epoch 78/100\n",
            "2/2 [==============================] - 0s 17ms/step - loss: 10.9000 - mae: 10.9000\n",
            "Epoch 79/100\n",
            "2/2 [==============================] - 0s 11ms/step - loss: 15.3715 - mae: 15.3715\n",
            "Epoch 80/100\n",
            "2/2 [==============================] - 0s 22ms/step - loss: 11.7482 - mae: 11.7482\n",
            "Epoch 81/100\n",
            "2/2 [==============================] - 0s 20ms/step - loss: 9.2470 - mae: 9.2470\n",
            "Epoch 82/100\n",
            "2/2 [==============================] - 0s 18ms/step - loss: 12.7473 - mae: 12.7473\n",
            "Epoch 83/100\n",
            "2/2 [==============================] - 0s 28ms/step - loss: 8.2990 - mae: 8.2990\n",
            "Epoch 84/100\n",
            "2/2 [==============================] - 0s 14ms/step - loss: 7.3139 - mae: 7.3139\n",
            "Epoch 85/100\n",
            "2/2 [==============================] - 0s 17ms/step - loss: 10.4687 - mae: 10.4687\n",
            "Epoch 86/100\n",
            "2/2 [==============================] - 0s 9ms/step - loss: 9.1445 - mae: 9.1445\n",
            "Epoch 87/100\n",
            "2/2 [==============================] - 0s 9ms/step - loss: 11.8518 - mae: 11.8518\n",
            "Epoch 88/100\n",
            "2/2 [==============================] - 0s 25ms/step - loss: 10.4606 - mae: 10.4606\n",
            "Epoch 89/100\n",
            "2/2 [==============================] - 0s 8ms/step - loss: 6.9802 - mae: 6.9802\n",
            "Epoch 90/100\n",
            "2/2 [==============================] - 0s 18ms/step - loss: 13.7836 - mae: 13.7836\n",
            "Epoch 91/100\n",
            "2/2 [==============================] - 0s 12ms/step - loss: 7.8698 - mae: 7.8698\n",
            "Epoch 92/100\n",
            "2/2 [==============================] - 0s 28ms/step - loss: 7.9280 - mae: 7.9280\n",
            "Epoch 93/100\n",
            "2/2 [==============================] - 0s 15ms/step - loss: 9.4231 - mae: 9.4231\n",
            "Epoch 94/100\n",
            "2/2 [==============================] - 0s 26ms/step - loss: 8.7437 - mae: 8.7437\n",
            "Epoch 95/100\n",
            "2/2 [==============================] - 0s 11ms/step - loss: 9.8621 - mae: 9.8621\n",
            "Epoch 96/100\n",
            "2/2 [==============================] - 0s 12ms/step - loss: 7.3483 - mae: 7.3483\n",
            "Epoch 97/100\n",
            "2/2 [==============================] - 0s 21ms/step - loss: 6.8635 - mae: 6.8635\n",
            "Epoch 98/100\n",
            "2/2 [==============================] - 0s 17ms/step - loss: 7.2560 - mae: 7.2560\n",
            "Epoch 99/100\n",
            "2/2 [==============================] - 0s 14ms/step - loss: 7.4089 - mae: 7.4089\n",
            "Epoch 100/100\n",
            "2/2 [==============================] - 0s 15ms/step - loss: 11.1093 - mae: 11.1093\n"
          ]
        },
        {
          "output_type": "execute_result",
          "data": {
            "text/plain": [
              "<keras.src.callbacks.History at 0x7a3845869660>"
            ]
          },
          "metadata": {},
          "execution_count": 50
        }
      ]
    },
    {
      "cell_type": "code",
      "source": [
        "# Make and plot predictions with model_1\n",
        "y_preds_1 = model_1.predict(X_test)\n",
        "plot_predictions(predictions=y_preds_1)"
      ],
      "metadata": {
        "id": "zL5_pLBCgkE7",
        "outputId": "c55d939c-cede-4437-f738-c42e581ec00f",
        "colab": {
          "base_uri": "https://localhost:8080/",
          "height": 656
        }
      },
      "execution_count": 51,
      "outputs": [
        {
          "output_type": "stream",
          "name": "stderr",
          "text": [
            "WARNING:tensorflow:6 out of the last 6 calls to <function Model.make_predict_function.<locals>.predict_function at 0x7a38459ad5a0> triggered tf.function retracing. Tracing is expensive and the excessive number of tracings could be due to (1) creating @tf.function repeatedly in a loop, (2) passing tensors with different shapes, (3) passing Python objects instead of tensors. For (1), please define your @tf.function outside of the loop. For (2), @tf.function has reduce_retracing=True option that can avoid unnecessary retracing. For (3), please refer to https://www.tensorflow.org/guide/function#controlling_retracing and https://www.tensorflow.org/api_docs/python/tf/function for  more details.\n"
          ]
        },
        {
          "output_type": "stream",
          "name": "stdout",
          "text": [
            "1/1 [==============================] - 0s 106ms/step\n"
          ]
        },
        {
          "output_type": "display_data",
          "data": {
            "text/plain": [
              "<Figure size 1000x700 with 1 Axes>"
            ],
            "image/png": "[encoded data removed]"
          },
          "metadata": {}
        }
      ]
    },
    {
      "cell_type": "code",
      "source": [
        "# Calculate model_1 evaluation metrics\n",
        "mae_1 = mae(y_test, y_preds_1)\n",
        "mse_1 = mse(y_test, y_preds_1)\n",
        "mae_1, mse_1"
      ],
      "metadata": {
        "id": "wwiuoLs44JiD",
        "outputId": "5b2cf0ae-b8af-4eed-ef84-6f9e1e944a94",
        "colab": {
          "base_uri": "https://localhost:8080/"
        }
      },
      "execution_count": 52,
      "outputs": [
        {
          "output_type": "execute_result",
          "data": {
            "text/plain": [
              "(<tf.Tensor: shape=(), dtype=float32, numpy=21.285198>,\n",
              " <tf.Tensor: shape=(), dtype=float32, numpy=456.496>)"
            ]
          },
          "metadata": {},
          "execution_count": 52
        }
      ]
    },
    {
      "cell_type": "markdown",
      "source": [
        "**Build `model_2`**\n",
        "* 2 Dense layers, trained for 100 epochs\n"
      ],
      "metadata": {
        "id": "iKT6A-Tn4oHT"
      }
    },
    {
      "cell_type": "code",
      "source": [
        "# Set random see (for reproducibility)\n",
        "tf.random.set_seed(42)\n",
        "\n",
        "# 1. Create the model\n",
        "model_2 = tf.keras.Sequential([\n",
        "    tf.keras.layers.Dense(10, input_shape=[1]),\n",
        "    tf.keras.layers.Dense(1),\n",
        "])\n",
        "\n",
        "# 2. Compile the model\n",
        "model_2.compile(loss=tf.keras.losses.mae,\n",
        "                optimizer=tf.keras.optimizers.SGD(),\n",
        "                metrics=[\"mse\"])\n",
        "\n",
        "# 3. Fit the model\n",
        "model_2.fit(X_train, y_train, epochs=100)"
      ],
      "metadata": {
        "id": "0BwMFyvV5nqG",
        "outputId": "ffb5b983-6470-43fb-d637-8914f48e3025",
        "colab": {
          "base_uri": "https://localhost:8080/"
        }
      },
      "execution_count": 53,
      "outputs": [
        {
          "output_type": "stream",
          "name": "stdout",
          "text": [
            "Epoch 1/100\n",
            "2/2 [==============================] - 1s 18ms/step - loss: 29.6963 - mse: 1342.1251\n",
            "Epoch 2/100\n",
            "2/2 [==============================] - 0s 13ms/step - loss: 25.8412 - mse: 878.0207\n",
            "Epoch 3/100\n",
            "2/2 [==============================] - 0s 12ms/step - loss: 29.9412 - mse: 1364.0898\n",
            "Epoch 4/100\n",
            "2/2 [==============================] - 0s 15ms/step - loss: 13.9512 - mse: 261.6295\n",
            "Epoch 5/100\n",
            "2/2 [==============================] - 0s 12ms/step - loss: 19.0694 - mse: 494.4940\n",
            "Epoch 6/100\n",
            "2/2 [==============================] - 0s 12ms/step - loss: 9.5356 - mse: 123.0222\n",
            "Epoch 7/100\n",
            "2/2 [==============================] - 0s 20ms/step - loss: 10.5218 - mse: 141.1228\n",
            "Epoch 8/100\n",
            "2/2 [==============================] - 0s 12ms/step - loss: 12.8476 - mse: 224.4710\n",
            "Epoch 9/100\n",
            "2/2 [==============================] - 0s 12ms/step - loss: 33.7274 - mse: 1700.1609\n",
            "Epoch 10/100\n",
            "2/2 [==============================] - 0s 12ms/step - loss: 23.0618 - mse: 743.3862\n",
            "Epoch 11/100\n",
            "2/2 [==============================] - 0s 11ms/step - loss: 10.2468 - mse: 148.2012\n",
            "Epoch 12/100\n",
            "2/2 [==============================] - 0s 32ms/step - loss: 25.2958 - mse: 891.8165\n",
            "Epoch 13/100\n",
            "2/2 [==============================] - 0s 16ms/step - loss: 17.0331 - mse: 402.5987\n",
            "Epoch 14/100\n",
            "2/2 [==============================] - 0s 10ms/step - loss: 26.0093 - mse: 1057.5059\n",
            "Epoch 15/100\n",
            "2/2 [==============================] - 0s 17ms/step - loss: 18.0654 - mse: 453.7916\n",
            "Epoch 16/100\n",
            "2/2 [==============================] - 0s 18ms/step - loss: 7.3515 - mse: 80.1628\n",
            "Epoch 17/100\n",
            "2/2 [==============================] - 0s 20ms/step - loss: 10.8431 - mse: 174.4719\n",
            "Epoch 18/100\n",
            "2/2 [==============================] - 0s 15ms/step - loss: 19.4978 - mse: 563.8551\n",
            "Epoch 19/100\n",
            "2/2 [==============================] - 0s 9ms/step - loss: 10.3304 - mse: 168.0607\n",
            "Epoch 20/100\n",
            "2/2 [==============================] - 0s 7ms/step - loss: 17.6703 - mse: 453.7206\n",
            "Epoch 21/100\n",
            "2/2 [==============================] - 0s 11ms/step - loss: 15.8662 - mse: 345.6750\n",
            "Epoch 22/100\n",
            "2/2 [==============================] - 0s 8ms/step - loss: 14.1535 - mse: 283.6920\n",
            "Epoch 23/100\n",
            "2/2 [==============================] - 0s 7ms/step - loss: 8.7940 - mse: 91.4306\n",
            "Epoch 24/100\n",
            "2/2 [==============================] - 0s 8ms/step - loss: 11.0820 - mse: 153.6068\n",
            "Epoch 25/100\n",
            "2/2 [==============================] - 0s 21ms/step - loss: 12.7220 - mse: 235.9909\n",
            "Epoch 26/100\n",
            "2/2 [==============================] - 0s 9ms/step - loss: 26.3120 - mse: 1035.5476\n",
            "Epoch 27/100\n",
            "2/2 [==============================] - 0s 11ms/step - loss: 12.4095 - mse: 211.5208\n",
            "Epoch 28/100\n",
            "2/2 [==============================] - 0s 11ms/step - loss: 26.2631 - mse: 1111.6609\n",
            "Epoch 29/100\n",
            "2/2 [==============================] - 0s 9ms/step - loss: 9.2113 - mse: 107.2641\n",
            "Epoch 30/100\n",
            "2/2 [==============================] - 0s 9ms/step - loss: 27.6159 - mse: 1325.1046\n",
            "Epoch 31/100\n",
            "2/2 [==============================] - 0s 10ms/step - loss: 49.8551 - mse: 4420.6865\n",
            "Epoch 32/100\n",
            "2/2 [==============================] - 0s 12ms/step - loss: 11.0621 - mse: 163.1647\n",
            "Epoch 33/100\n",
            "2/2 [==============================] - 0s 9ms/step - loss: 17.8247 - mse: 442.5106\n",
            "Epoch 34/100\n",
            "2/2 [==============================] - 0s 12ms/step - loss: 10.8921 - mse: 139.6858\n",
            "Epoch 35/100\n",
            "2/2 [==============================] - 0s 9ms/step - loss: 9.1841 - mse: 91.1913\n",
            "Epoch 36/100\n",
            "2/2 [==============================] - 0s 16ms/step - loss: 16.4249 - mse: 391.8292\n",
            "Epoch 37/100\n",
            "2/2 [==============================] - 0s 8ms/step - loss: 11.1000 - mse: 192.1982\n",
            "Epoch 38/100\n",
            "2/2 [==============================] - 0s 8ms/step - loss: 18.2307 - mse: 438.2816\n",
            "Epoch 39/100\n",
            "2/2 [==============================] - 0s 7ms/step - loss: 19.1611 - mse: 535.2707\n",
            "Epoch 40/100\n",
            "2/2 [==============================] - 0s 7ms/step - loss: 20.5410 - mse: 616.2135\n",
            "Epoch 41/100\n",
            "2/2 [==============================] - 0s 7ms/step - loss: 14.7739 - mse: 272.5969\n",
            "Epoch 42/100\n",
            "2/2 [==============================] - 0s 8ms/step - loss: 12.1780 - mse: 180.6895\n",
            "Epoch 43/100\n",
            "2/2 [==============================] - 0s 9ms/step - loss: 10.6848 - mse: 161.8163\n",
            "Epoch 44/100\n",
            "2/2 [==============================] - 0s 7ms/step - loss: 32.1838 - mse: 1702.6920\n",
            "Epoch 45/100\n",
            "2/2 [==============================] - 0s 7ms/step - loss: 12.4456 - mse: 200.2796\n",
            "Epoch 46/100\n",
            "2/2 [==============================] - 0s 9ms/step - loss: 17.4508 - mse: 456.1803\n",
            "Epoch 47/100\n",
            "2/2 [==============================] - 0s 11ms/step - loss: 15.7802 - mse: 340.2136\n",
            "Epoch 48/100\n",
            "2/2 [==============================] - 0s 15ms/step - loss: 8.3902 - mse: 112.8418\n",
            "Epoch 49/100\n",
            "2/2 [==============================] - 0s 8ms/step - loss: 14.2403 - mse: 284.2137\n",
            "Epoch 50/100\n",
            "2/2 [==============================] - 0s 7ms/step - loss: 15.1710 - mse: 308.8840\n",
            "Epoch 51/100\n",
            "2/2 [==============================] - 0s 9ms/step - loss: 13.6876 - mse: 256.7993\n",
            "Epoch 52/100\n",
            "2/2 [==============================] - 0s 12ms/step - loss: 18.1033 - mse: 462.1976\n",
            "Epoch 53/100\n",
            "2/2 [==============================] - 0s 10ms/step - loss: 22.7595 - mse: 748.6073\n",
            "Epoch 54/100\n",
            "2/2 [==============================] - 0s 21ms/step - loss: 26.8297 - mse: 1108.7365\n",
            "Epoch 55/100\n",
            "2/2 [==============================] - 0s 22ms/step - loss: 26.4668 - mse: 1065.1842\n",
            "Epoch 56/100\n",
            "2/2 [==============================] - 0s 10ms/step - loss: 11.3685 - mse: 172.0308\n",
            "Epoch 57/100\n",
            "2/2 [==============================] - 0s 11ms/step - loss: 13.3943 - mse: 226.8136\n",
            "Epoch 58/100\n",
            "2/2 [==============================] - 0s 23ms/step - loss: 9.9682 - mse: 109.9883\n",
            "Epoch 59/100\n",
            "2/2 [==============================] - 0s 8ms/step - loss: 13.9520 - mse: 277.4937\n",
            "Epoch 60/100\n",
            "2/2 [==============================] - 0s 7ms/step - loss: 10.0094 - mse: 119.0037\n",
            "Epoch 61/100\n",
            "2/2 [==============================] - 0s 7ms/step - loss: 15.0058 - mse: 309.7442\n",
            "Epoch 62/100\n",
            "2/2 [==============================] - 0s 7ms/step - loss: 11.9493 - mse: 197.8154\n",
            "Epoch 63/100\n",
            "2/2 [==============================] - 0s 31ms/step - loss: 10.3017 - mse: 135.8156\n",
            "Epoch 64/100\n",
            "2/2 [==============================] - 0s 17ms/step - loss: 23.9351 - mse: 842.1592\n",
            "Epoch 65/100\n",
            "2/2 [==============================] - 0s 10ms/step - loss: 10.4784 - mse: 130.8218\n",
            "Epoch 66/100\n",
            "2/2 [==============================] - 0s 9ms/step - loss: 20.9739 - mse: 647.2344\n",
            "Epoch 67/100\n",
            "2/2 [==============================] - 0s 9ms/step - loss: 10.4580 - mse: 126.7697\n",
            "Epoch 68/100\n",
            "2/2 [==============================] - 0s 17ms/step - loss: 14.2047 - mse: 303.7960\n",
            "Epoch 69/100\n",
            "2/2 [==============================] - 0s 24ms/step - loss: 10.5305 - mse: 126.4670\n",
            "Epoch 70/100\n",
            "2/2 [==============================] - 0s 11ms/step - loss: 12.6031 - mse: 201.4745\n",
            "Epoch 71/100\n",
            "2/2 [==============================] - 0s 29ms/step - loss: 13.0314 - mse: 226.8056\n",
            "Epoch 72/100\n",
            "2/2 [==============================] - 0s 13ms/step - loss: 19.3904 - mse: 533.5090\n",
            "Epoch 73/100\n",
            "2/2 [==============================] - 0s 21ms/step - loss: 11.1397 - mse: 193.1667\n",
            "Epoch 74/100\n",
            "2/2 [==============================] - 0s 13ms/step - loss: 21.6267 - mse: 727.3413\n",
            "Epoch 75/100\n",
            "2/2 [==============================] - 0s 8ms/step - loss: 7.2299 - mse: 71.6572\n",
            "Epoch 76/100\n",
            "2/2 [==============================] - 0s 8ms/step - loss: 9.4573 - mse: 149.1422\n",
            "Epoch 77/100\n",
            "2/2 [==============================] - 0s 8ms/step - loss: 22.1659 - mse: 733.3599\n",
            "Epoch 78/100\n",
            "2/2 [==============================] - 0s 26ms/step - loss: 17.4752 - mse: 464.2686\n",
            "Epoch 79/100\n",
            "2/2 [==============================] - 0s 9ms/step - loss: 14.7145 - mse: 316.7647\n",
            "Epoch 80/100\n",
            "2/2 [==============================] - 0s 13ms/step - loss: 24.7295 - mse: 935.6996\n",
            "Epoch 81/100\n",
            "2/2 [==============================] - 0s 9ms/step - loss: 11.5644 - mse: 165.5678\n",
            "Epoch 82/100\n",
            "2/2 [==============================] - 0s 8ms/step - loss: 12.3924 - mse: 226.0898\n",
            "Epoch 83/100\n",
            "2/2 [==============================] - 0s 10ms/step - loss: 17.0450 - mse: 377.8065\n",
            "Epoch 84/100\n",
            "2/2 [==============================] - 0s 8ms/step - loss: 7.2538 - mse: 75.5092\n",
            "Epoch 85/100\n",
            "2/2 [==============================] - 0s 8ms/step - loss: 37.3895 - mse: 2251.0994\n",
            "Epoch 86/100\n",
            "2/2 [==============================] - 0s 13ms/step - loss: 21.3500 - mse: 654.7188\n",
            "Epoch 87/100\n",
            "2/2 [==============================] - 0s 11ms/step - loss: 11.0760 - mse: 148.7736\n",
            "Epoch 88/100\n",
            "2/2 [==============================] - 0s 10ms/step - loss: 25.2206 - mse: 905.4549\n",
            "Epoch 89/100\n",
            "2/2 [==============================] - 0s 8ms/step - loss: 9.4012 - mse: 136.3186\n",
            "Epoch 90/100\n",
            "2/2 [==============================] - 0s 9ms/step - loss: 17.4757 - mse: 438.2661\n",
            "Epoch 91/100\n",
            "2/2 [==============================] - 0s 9ms/step - loss: 10.8482 - mse: 160.7619\n",
            "Epoch 92/100\n",
            "2/2 [==============================] - 0s 13ms/step - loss: 19.1594 - mse: 506.1294\n",
            "Epoch 93/100\n",
            "2/2 [==============================] - 0s 13ms/step - loss: 8.3559 - mse: 102.4212\n",
            "Epoch 94/100\n",
            "2/2 [==============================] - 0s 15ms/step - loss: 11.5999 - mse: 180.3917\n",
            "Epoch 95/100\n",
            "2/2 [==============================] - 0s 19ms/step - loss: 26.1918 - mse: 1041.7214\n",
            "Epoch 96/100\n",
            "2/2 [==============================] - 0s 11ms/step - loss: 11.2279 - mse: 170.1542\n",
            "Epoch 97/100\n",
            "2/2 [==============================] - 0s 10ms/step - loss: 16.8390 - mse: 432.8196\n",
            "Epoch 98/100\n",
            "2/2 [==============================] - 0s 10ms/step - loss: 6.6077 - mse: 60.9640\n",
            "Epoch 99/100\n",
            "2/2 [==============================] - 0s 22ms/step - loss: 12.6052 - mse: 229.7579\n",
            "Epoch 100/100\n",
            "2/2 [==============================] - 0s 10ms/step - loss: 19.4091 - mse: 553.0894\n"
          ]
        },
        {
          "output_type": "execute_result",
          "data": {
            "text/plain": [
              "<keras.src.callbacks.History at 0x7a3844ddd540>"
            ]
          },
          "metadata": {},
          "execution_count": 53
        }
      ]
    },
    {
      "cell_type": "code",
      "source": [
        "y_preds_2 = model_2.predict(X_test)\n",
        "plot_predictions(predictions=y_preds_2)"
      ],
      "metadata": {
        "id": "xNPLgRJT-yL7",
        "outputId": "20d04c60-8a43-4e3f-87ed-fb548a754b8d",
        "colab": {
          "base_uri": "https://localhost:8080/",
          "height": 617
        }
      },
      "execution_count": 54,
      "outputs": [
        {
          "output_type": "stream",
          "name": "stdout",
          "text": [
            "1/1 [==============================] - 0s 301ms/step\n"
          ]
        },
        {
          "output_type": "display_data",
          "data": {
            "text/plain": [
              "<Figure size 1000x700 with 1 Axes>"
            ],
            "image/png": "[encoded data removed]"
          },
          "metadata": {}
        }
      ]
    },
    {
      "cell_type": "code",
      "source": [
        "# Calculate model_2 evaluation metrics\n",
        "mae_2 = mae(y_test, y_preds_2)\n",
        "mse_2 = mse(y_test, y_preds_2)\n",
        "mae_2, mse_2"
      ],
      "metadata": {
        "id": "h9aKTUgA_O1C",
        "outputId": "87ea990d-56ec-4c66-e375-a4ff386b6292",
        "colab": {
          "base_uri": "https://localhost:8080/"
        }
      },
      "execution_count": 55,
      "outputs": [
        {
          "output_type": "execute_result",
          "data": {
            "text/plain": [
              "(<tf.Tensor: shape=(), dtype=float32, numpy=13.223755>,\n",
              " <tf.Tensor: shape=(), dtype=float32, numpy=184.88441>)"
            ]
          },
          "metadata": {},
          "execution_count": 55
        }
      ]
    },
    {
      "cell_type": "markdown",
      "source": [
        "**Build `model_3`**\n",
        "* 2 layers, trained for 500 epochs\n"
      ],
      "metadata": {
        "id": "4FNBt7VTBAbB"
      }
    },
    {
      "cell_type": "code",
      "source": [
        "# Set the random seed for reproducibility\n",
        "tf.random.set_seed(42)\n",
        "\n",
        "# 1. Create the model\n",
        "model_3 = tf.keras.Sequential([\n",
        "    tf.keras.layers.Dense(10, input_shape=[1]),\n",
        "    tf.keras.layers.Dense(1)\n",
        "])\n",
        "\n",
        "\n",
        "# 2. Compile the model\n",
        "model_3.compile(loss=tf.keras.losses.mae,\n",
        "                optimizer=tf.keras.optimizers.SGD(),\n",
        "                metrics=[\"mse\"])\n",
        "\n",
        "# 3. Fit the model\n",
        "model_3.fit(X_train, y_train, epochs=500)\n"
      ],
      "metadata": {
        "id": "a1PxdluhBUzp",
        "outputId": "c17794e3-a282-4579-9856-5daf8ec2accc",
        "colab": {
          "base_uri": "https://localhost:8080/"
        }
      },
      "execution_count": 56,
      "outputs": [
        {
          "output_type": "stream",
          "name": "stdout",
          "text": [
            "Epoch 1/500\n",
            "2/2 [==============================] - 2s 18ms/step - loss: 14.9273 - mse: 317.5660\n",
            "Epoch 2/500\n",
            "2/2 [==============================] - 0s 17ms/step - loss: 24.6483 - mse: 946.9901\n",
            "Epoch 3/500\n",
            "2/2 [==============================] - 0s 12ms/step - loss: 19.6768 - mse: 566.7897\n",
            "Epoch 4/500\n",
            "2/2 [==============================] - 0s 11ms/step - loss: 14.2040 - mse: 264.7721\n",
            "Epoch 5/500\n",
            "2/2 [==============================] - 0s 11ms/step - loss: 15.8482 - mse: 328.7852\n",
            "Epoch 6/500\n",
            "2/2 [==============================] - 0s 13ms/step - loss: 12.5621 - mse: 205.4861\n",
            "Epoch 7/500\n",
            "2/2 [==============================] - 0s 14ms/step - loss: 11.8308 - mse: 173.7504\n",
            "Epoch 8/500\n",
            "2/2 [==============================] - 0s 19ms/step - loss: 12.9007 - mse: 227.1532\n",
            "Epoch 9/500\n",
            "2/2 [==============================] - 0s 21ms/step - loss: 33.9553 - mse: 1726.5510\n",
            "Epoch 10/500\n",
            "2/2 [==============================] - 0s 13ms/step - loss: 23.2558 - mse: 756.5182\n",
            "Epoch 11/500\n",
            "2/2 [==============================] - 0s 14ms/step - loss: 10.2447 - mse: 149.1366\n",
            "Epoch 12/500\n",
            "2/2 [==============================] - 0s 12ms/step - loss: 25.2385 - mse: 888.3815\n",
            "Epoch 13/500\n",
            "2/2 [==============================] - 0s 13ms/step - loss: 17.1453 - mse: 409.3944\n",
            "Epoch 14/500\n",
            "2/2 [==============================] - 0s 20ms/step - loss: 26.3989 - mse: 1085.4570\n",
            "Epoch 15/500\n",
            "2/2 [==============================] - 0s 27ms/step - loss: 16.8755 - mse: 392.5809\n",
            "Epoch 16/500\n",
            "2/2 [==============================] - 0s 9ms/step - loss: 9.8221 - mse: 126.4172\n",
            "Epoch 17/500\n",
            "2/2 [==============================] - 0s 13ms/step - loss: 17.6146 - mse: 409.2739\n",
            "Epoch 18/500\n",
            "2/2 [==============================] - 0s 17ms/step - loss: 14.0941 - mse: 312.8232\n",
            "Epoch 19/500\n",
            "2/2 [==============================] - 0s 15ms/step - loss: 13.9318 - mse: 302.2642\n",
            "Epoch 20/500\n",
            "2/2 [==============================] - 0s 15ms/step - loss: 11.1929 - mse: 146.2207\n",
            "Epoch 21/500\n",
            "2/2 [==============================] - 0s 19ms/step - loss: 17.2522 - mse: 421.3426\n",
            "Epoch 22/500\n",
            "2/2 [==============================] - 0s 19ms/step - loss: 15.4890 - mse: 330.4604\n",
            "Epoch 23/500\n",
            "2/2 [==============================] - 0s 19ms/step - loss: 9.2358 - mse: 118.5021\n",
            "Epoch 24/500\n",
            "2/2 [==============================] - 0s 25ms/step - loss: 17.2706 - mse: 408.8719\n",
            "Epoch 25/500\n",
            "2/2 [==============================] - 0s 18ms/step - loss: 15.9410 - mse: 333.9585\n",
            "Epoch 26/500\n",
            "2/2 [==============================] - 0s 15ms/step - loss: 20.9408 - mse: 649.8127\n",
            "Epoch 27/500\n",
            "2/2 [==============================] - 0s 17ms/step - loss: 25.9392 - mse: 1049.5334\n",
            "Epoch 28/500\n",
            "2/2 [==============================] - 0s 18ms/step - loss: 18.4397 - mse: 538.1045\n",
            "Epoch 29/500\n",
            "2/2 [==============================] - 0s 32ms/step - loss: 9.2368 - mse: 97.6620\n",
            "Epoch 30/500\n",
            "2/2 [==============================] - 0s 19ms/step - loss: 29.0574 - mse: 1507.6161\n",
            "Epoch 31/500\n",
            "2/2 [==============================] - 0s 19ms/step - loss: 52.6247 - mse: 4951.3926\n",
            "Epoch 32/500\n",
            "2/2 [==============================] - 0s 21ms/step - loss: 11.9098 - mse: 206.1453\n",
            "Epoch 33/500\n",
            "2/2 [==============================] - 0s 9ms/step - loss: 15.4977 - mse: 330.9303\n",
            "Epoch 34/500\n",
            "2/2 [==============================] - 0s 15ms/step - loss: 12.5942 - mse: 209.1578\n",
            "Epoch 35/500\n",
            "2/2 [==============================] - 0s 15ms/step - loss: 9.1931 - mse: 91.5233\n",
            "Epoch 36/500\n",
            "2/2 [==============================] - 0s 18ms/step - loss: 16.4827 - mse: 394.9203\n",
            "Epoch 37/500\n",
            "2/2 [==============================] - 0s 22ms/step - loss: 11.0795 - mse: 192.1356\n",
            "Epoch 38/500\n",
            "2/2 [==============================] - 0s 14ms/step - loss: 18.2090 - mse: 436.8585\n",
            "Epoch 39/500\n",
            "2/2 [==============================] - 0s 17ms/step - loss: 19.1411 - mse: 533.5245\n",
            "Epoch 40/500\n",
            "2/2 [==============================] - 0s 10ms/step - loss: 20.5062 - mse: 614.2986\n",
            "Epoch 41/500\n",
            "2/2 [==============================] - 0s 27ms/step - loss: 14.8096 - mse: 274.5825\n",
            "Epoch 42/500\n",
            "2/2 [==============================] - 0s 29ms/step - loss: 12.2046 - mse: 182.4344\n",
            "Epoch 43/500\n",
            "2/2 [==============================] - 0s 10ms/step - loss: 10.6925 - mse: 163.4051\n",
            "Epoch 44/500\n",
            "2/2 [==============================] - 0s 18ms/step - loss: 32.3047 - mse: 1716.6442\n",
            "Epoch 45/500\n",
            "2/2 [==============================] - 0s 8ms/step - loss: 12.4725 - mse: 202.1741\n",
            "Epoch 46/500\n",
            "2/2 [==============================] - 0s 8ms/step - loss: 17.5448 - mse: 461.2733\n",
            "Epoch 47/500\n",
            "2/2 [==============================] - 0s 16ms/step - loss: 15.7420 - mse: 338.7963\n",
            "Epoch 48/500\n",
            "2/2 [==============================] - 0s 12ms/step - loss: 8.3645 - mse: 112.5947\n",
            "Epoch 49/500\n",
            "2/2 [==============================] - 0s 28ms/step - loss: 13.9713 - mse: 268.5815\n",
            "Epoch 50/500\n",
            "2/2 [==============================] - 0s 22ms/step - loss: 12.8157 - mse: 215.0232\n",
            "Epoch 51/500\n",
            "2/2 [==============================] - 0s 24ms/step - loss: 14.8274 - mse: 308.9841\n",
            "Epoch 52/500\n",
            "2/2 [==============================] - 0s 20ms/step - loss: 18.7141 - mse: 528.8587\n",
            "Epoch 53/500\n",
            "2/2 [==============================] - 0s 10ms/step - loss: 24.1562 - mse: 827.6916\n",
            "Epoch 54/500\n",
            "2/2 [==============================] - 0s 11ms/step - loss: 23.2072 - mse: 806.9373\n",
            "Epoch 55/500\n",
            "2/2 [==============================] - 0s 11ms/step - loss: 24.0633 - mse: 871.4513\n",
            "Epoch 56/500\n",
            "2/2 [==============================] - 0s 16ms/step - loss: 11.1653 - mse: 170.9577\n",
            "Epoch 57/500\n",
            "2/2 [==============================] - 0s 19ms/step - loss: 13.1245 - mse: 214.5321\n",
            "Epoch 58/500\n",
            "2/2 [==============================] - 0s 11ms/step - loss: 9.8136 - mse: 106.3160\n",
            "Epoch 59/500\n",
            "2/2 [==============================] - 0s 12ms/step - loss: 13.3157 - mse: 250.0739\n",
            "Epoch 60/500\n",
            "2/2 [==============================] - 0s 15ms/step - loss: 10.8738 - mse: 139.5189\n",
            "Epoch 61/500\n",
            "2/2 [==============================] - 0s 18ms/step - loss: 13.4808 - mse: 242.2585\n",
            "Epoch 62/500\n",
            "2/2 [==============================] - 0s 29ms/step - loss: 17.5248 - mse: 468.7067\n",
            "Epoch 63/500\n",
            "2/2 [==============================] - 0s 13ms/step - loss: 9.1604 - mse: 87.6156\n",
            "Epoch 64/500\n",
            "2/2 [==============================] - 0s 14ms/step - loss: 18.3969 - mse: 491.9661\n",
            "Epoch 65/500\n",
            "2/2 [==============================] - 0s 10ms/step - loss: 10.1162 - mse: 114.9708\n",
            "Epoch 66/500\n",
            "2/2 [==============================] - 0s 13ms/step - loss: 24.2677 - mse: 888.9661\n",
            "Epoch 67/500\n",
            "2/2 [==============================] - 0s 16ms/step - loss: 10.8880 - mse: 142.8663\n",
            "Epoch 68/500\n",
            "2/2 [==============================] - 0s 12ms/step - loss: 10.7691 - mse: 159.3794\n",
            "Epoch 69/500\n",
            "2/2 [==============================] - 0s 13ms/step - loss: 23.2599 - mse: 782.0209\n",
            "Epoch 70/500\n",
            "2/2 [==============================] - 0s 9ms/step - loss: 8.8105 - mse: 143.4522\n",
            "Epoch 71/500\n",
            "2/2 [==============================] - 0s 13ms/step - loss: 15.9750 - mse: 347.5577\n",
            "Epoch 72/500\n",
            "2/2 [==============================] - 0s 8ms/step - loss: 8.1356 - mse: 109.6229\n",
            "Epoch 73/500\n",
            "2/2 [==============================] - 0s 11ms/step - loss: 9.4621 - mse: 153.1938\n",
            "Epoch 74/500\n",
            "2/2 [==============================] - 0s 9ms/step - loss: 28.1529 - mse: 1110.3333\n",
            "Epoch 75/500\n",
            "2/2 [==============================] - 0s 9ms/step - loss: 10.1961 - mse: 145.3990\n",
            "Epoch 76/500\n",
            "2/2 [==============================] - 0s 9ms/step - loss: 13.1469 - mse: 218.9017\n",
            "Epoch 77/500\n",
            "2/2 [==============================] - 0s 16ms/step - loss: 18.3978 - mse: 530.9425\n",
            "Epoch 78/500\n",
            "2/2 [==============================] - 0s 28ms/step - loss: 9.0122 - mse: 91.4555\n",
            "Epoch 79/500\n",
            "2/2 [==============================] - 0s 13ms/step - loss: 23.4509 - mse: 822.6534\n",
            "Epoch 80/500\n",
            "2/2 [==============================] - 0s 16ms/step - loss: 26.1237 - mse: 1048.6370\n",
            "Epoch 81/500\n",
            "2/2 [==============================] - 0s 14ms/step - loss: 11.3903 - mse: 158.4853\n",
            "Epoch 82/500\n",
            "2/2 [==============================] - 0s 12ms/step - loss: 12.4896 - mse: 227.4917\n",
            "Epoch 83/500\n",
            "2/2 [==============================] - 0s 8ms/step - loss: 17.1747 - mse: 383.7494\n",
            "Epoch 84/500\n",
            "2/2 [==============================] - 0s 12ms/step - loss: 6.5873 - mse: 64.3688\n",
            "Epoch 85/500\n",
            "2/2 [==============================] - 0s 8ms/step - loss: 20.3076 - mse: 576.7251\n",
            "Epoch 86/500\n",
            "2/2 [==============================] - 0s 8ms/step - loss: 10.1655 - mse: 115.8235\n",
            "Epoch 87/500\n",
            "2/2 [==============================] - 0s 9ms/step - loss: 24.3538 - mse: 829.9163\n",
            "Epoch 88/500\n",
            "2/2 [==============================] - 0s 27ms/step - loss: 19.0180 - mse: 513.6273\n",
            "Epoch 89/500\n",
            "2/2 [==============================] - 0s 13ms/step - loss: 7.1592 - mse: 70.0657\n",
            "Epoch 90/500\n",
            "2/2 [==============================] - 0s 16ms/step - loss: 18.2509 - mse: 494.3343\n",
            "Epoch 91/500\n",
            "2/2 [==============================] - 0s 14ms/step - loss: 13.3003 - mse: 255.6831\n",
            "Epoch 92/500\n",
            "2/2 [==============================] - 0s 18ms/step - loss: 14.8481 - mse: 310.6765\n",
            "Epoch 93/500\n",
            "2/2 [==============================] - 0s 14ms/step - loss: 11.6420 - mse: 250.2148\n",
            "Epoch 94/500\n",
            "2/2 [==============================] - 0s 12ms/step - loss: 16.1988 - mse: 370.8655\n",
            "Epoch 95/500\n",
            "2/2 [==============================] - 0s 25ms/step - loss: 15.5410 - mse: 321.8315\n",
            "Epoch 96/500\n",
            "2/2 [==============================] - 0s 16ms/step - loss: 15.0748 - mse: 324.1813\n",
            "Epoch 97/500\n",
            "2/2 [==============================] - 0s 13ms/step - loss: 10.9037 - mse: 188.1158\n",
            "Epoch 98/500\n",
            "2/2 [==============================] - 0s 21ms/step - loss: 14.3642 - mse: 286.4474\n",
            "Epoch 99/500\n",
            "2/2 [==============================] - 0s 15ms/step - loss: 13.3815 - mse: 251.6612\n",
            "Epoch 100/500\n",
            "2/2 [==============================] - 0s 9ms/step - loss: 20.0022 - mse: 584.7410\n",
            "Epoch 101/500\n",
            "2/2 [==============================] - 0s 9ms/step - loss: 22.5069 - mse: 770.3949\n",
            "Epoch 102/500\n",
            "2/2 [==============================] - 0s 10ms/step - loss: 11.2693 - mse: 165.2613\n",
            "Epoch 103/500\n",
            "2/2 [==============================] - 0s 10ms/step - loss: 9.3552 - mse: 96.4800\n",
            "Epoch 104/500\n",
            "2/2 [==============================] - 0s 10ms/step - loss: 25.1349 - mse: 950.9326\n",
            "Epoch 105/500\n",
            "2/2 [==============================] - 0s 9ms/step - loss: 12.4027 - mse: 231.6468\n",
            "Epoch 106/500\n",
            "2/2 [==============================] - 0s 10ms/step - loss: 9.3909 - mse: 106.1818\n",
            "Epoch 107/500\n",
            "2/2 [==============================] - 0s 10ms/step - loss: 23.1477 - mse: 807.3517\n",
            "Epoch 108/500\n",
            "2/2 [==============================] - 0s 9ms/step - loss: 8.2659 - mse: 88.6002\n",
            "Epoch 109/500\n",
            "2/2 [==============================] - 0s 13ms/step - loss: 13.9921 - mse: 277.6215\n",
            "Epoch 110/500\n",
            "2/2 [==============================] - 0s 14ms/step - loss: 10.6416 - mse: 205.0476\n",
            "Epoch 111/500\n",
            "2/2 [==============================] - 0s 15ms/step - loss: 16.9668 - mse: 410.0744\n",
            "Epoch 112/500\n",
            "2/2 [==============================] - 0s 13ms/step - loss: 8.2613 - mse: 97.0969\n",
            "Epoch 113/500\n",
            "2/2 [==============================] - 0s 8ms/step - loss: 19.6316 - mse: 557.1505\n",
            "Epoch 114/500\n",
            "2/2 [==============================] - 0s 15ms/step - loss: 17.3422 - mse: 450.2858\n",
            "Epoch 115/500\n",
            "2/2 [==============================] - 0s 23ms/step - loss: 11.2133 - mse: 158.5704\n",
            "Epoch 116/500\n",
            "2/2 [==============================] - 0s 11ms/step - loss: 23.4932 - mse: 805.1154\n",
            "Epoch 117/500\n",
            "2/2 [==============================] - 0s 13ms/step - loss: 9.7089 - mse: 126.9160\n",
            "Epoch 118/500\n",
            "2/2 [==============================] - 0s 13ms/step - loss: 10.7850 - mse: 142.5634\n",
            "Epoch 119/500\n",
            "2/2 [==============================] - 0s 11ms/step - loss: 8.0873 - mse: 79.9210\n",
            "Epoch 120/500\n",
            "2/2 [==============================] - 0s 9ms/step - loss: 29.8183 - mse: 1328.7683\n",
            "Epoch 121/500\n",
            "2/2 [==============================] - 0s 13ms/step - loss: 8.1178 - mse: 71.5512\n",
            "Epoch 122/500\n",
            "2/2 [==============================] - 0s 11ms/step - loss: 28.3963 - mse: 1242.8225\n",
            "Epoch 123/500\n",
            "2/2 [==============================] - 0s 18ms/step - loss: 33.0063 - mse: 1603.6011\n",
            "Epoch 124/500\n",
            "2/2 [==============================] - 0s 23ms/step - loss: 19.7190 - mse: 577.1007\n",
            "Epoch 125/500\n",
            "2/2 [==============================] - 0s 13ms/step - loss: 7.0507 - mse: 72.4748\n",
            "Epoch 126/500\n",
            "2/2 [==============================] - 0s 11ms/step - loss: 21.8724 - mse: 670.7252\n",
            "Epoch 127/500\n",
            "2/2 [==============================] - 0s 12ms/step - loss: 8.0270 - mse: 70.3873\n",
            "Epoch 128/500\n",
            "2/2 [==============================] - 0s 14ms/step - loss: 21.1038 - mse: 656.7112\n",
            "Epoch 129/500\n",
            "2/2 [==============================] - 0s 22ms/step - loss: 9.0579 - mse: 122.0611\n",
            "Epoch 130/500\n",
            "2/2 [==============================] - 0s 13ms/step - loss: 24.0766 - mse: 817.7800\n",
            "Epoch 131/500\n",
            "2/2 [==============================] - 0s 16ms/step - loss: 9.7998 - mse: 133.9235\n",
            "Epoch 132/500\n",
            "2/2 [==============================] - 0s 17ms/step - loss: 18.3181 - mse: 501.4590\n",
            "Epoch 133/500\n",
            "2/2 [==============================] - 0s 16ms/step - loss: 7.6196 - mse: 80.8328\n",
            "Epoch 134/500\n",
            "2/2 [==============================] - 0s 12ms/step - loss: 18.5761 - mse: 506.2156\n",
            "Epoch 135/500\n",
            "2/2 [==============================] - 0s 12ms/step - loss: 10.5688 - mse: 149.3692\n",
            "Epoch 136/500\n",
            "2/2 [==============================] - 0s 14ms/step - loss: 18.2550 - mse: 471.4995\n",
            "Epoch 137/500\n",
            "2/2 [==============================] - 0s 12ms/step - loss: 23.1335 - mse: 721.8123\n",
            "Epoch 138/500\n",
            "2/2 [==============================] - 0s 12ms/step - loss: 9.1504 - mse: 140.4645\n",
            "Epoch 139/500\n",
            "2/2 [==============================] - 0s 11ms/step - loss: 8.9354 - mse: 145.8795\n",
            "Epoch 140/500\n",
            "2/2 [==============================] - 0s 14ms/step - loss: 16.4224 - mse: 386.8715\n",
            "Epoch 141/500\n",
            "2/2 [==============================] - 0s 21ms/step - loss: 8.4561 - mse: 91.2327\n",
            "Epoch 142/500\n",
            "2/2 [==============================] - 0s 23ms/step - loss: 36.7800 - mse: 2381.3018\n",
            "Epoch 143/500\n",
            "2/2 [==============================] - 0s 30ms/step - loss: 25.4657 - mse: 917.9279\n",
            "Epoch 144/500\n",
            "2/2 [==============================] - 0s 11ms/step - loss: 9.5745 - mse: 144.0101\n",
            "Epoch 145/500\n",
            "2/2 [==============================] - 0s 14ms/step - loss: 26.6562 - mse: 960.3802\n",
            "Epoch 146/500\n",
            "2/2 [==============================] - 0s 20ms/step - loss: 8.6951 - mse: 109.3198\n",
            "Epoch 147/500\n",
            "2/2 [==============================] - 0s 15ms/step - loss: 15.6852 - mse: 312.7496\n",
            "Epoch 148/500\n",
            "2/2 [==============================] - 0s 13ms/step - loss: 18.3890 - mse: 468.8964\n",
            "Epoch 149/500\n",
            "2/2 [==============================] - 0s 20ms/step - loss: 8.1702 - mse: 107.7478\n",
            "Epoch 150/500\n",
            "2/2 [==============================] - 0s 14ms/step - loss: 7.5077 - mse: 67.4752\n",
            "Epoch 151/500\n",
            "2/2 [==============================] - 0s 15ms/step - loss: 18.1624 - mse: 476.0215\n",
            "Epoch 152/500\n",
            "2/2 [==============================] - 0s 12ms/step - loss: 10.2770 - mse: 129.5144\n",
            "Epoch 153/500\n",
            "2/2 [==============================] - 0s 16ms/step - loss: 29.3385 - mse: 1239.5208\n",
            "Epoch 154/500\n",
            "2/2 [==============================] - 0s 14ms/step - loss: 10.6355 - mse: 200.3845\n",
            "Epoch 155/500\n",
            "2/2 [==============================] - 0s 18ms/step - loss: 15.5260 - mse: 351.6639\n",
            "Epoch 156/500\n",
            "2/2 [==============================] - 0s 20ms/step - loss: 17.1654 - mse: 444.3936\n",
            "Epoch 157/500\n",
            "2/2 [==============================] - 0s 14ms/step - loss: 32.4447 - mse: 1702.2057\n",
            "Epoch 158/500\n",
            "2/2 [==============================] - 0s 15ms/step - loss: 10.6302 - mse: 148.6302\n",
            "Epoch 159/500\n",
            "2/2 [==============================] - 0s 17ms/step - loss: 8.8865 - mse: 98.0210\n",
            "Epoch 160/500\n",
            "2/2 [==============================] - 0s 17ms/step - loss: 21.8410 - mse: 689.4192\n",
            "Epoch 161/500\n",
            "2/2 [==============================] - 0s 8ms/step - loss: 11.0965 - mse: 176.2222\n",
            "Epoch 162/500\n",
            "2/2 [==============================] - 0s 11ms/step - loss: 21.3686 - mse: 656.9203\n",
            "Epoch 163/500\n",
            "2/2 [==============================] - 0s 11ms/step - loss: 18.8529 - mse: 511.6464\n",
            "Epoch 164/500\n",
            "2/2 [==============================] - 0s 11ms/step - loss: 12.6947 - mse: 250.3398\n",
            "Epoch 165/500\n",
            "2/2 [==============================] - 0s 14ms/step - loss: 12.7389 - mse: 235.3266\n",
            "Epoch 166/500\n",
            "2/2 [==============================] - 0s 11ms/step - loss: 18.9218 - mse: 552.7224\n",
            "Epoch 167/500\n",
            "2/2 [==============================] - 0s 10ms/step - loss: 26.7816 - mse: 1091.6000\n",
            "Epoch 168/500\n",
            "2/2 [==============================] - 0s 12ms/step - loss: 9.9903 - mse: 120.5512\n",
            "Epoch 169/500\n",
            "2/2 [==============================] - 0s 11ms/step - loss: 23.0241 - mse: 821.0666\n",
            "Epoch 170/500\n",
            "2/2 [==============================] - 0s 11ms/step - loss: 10.0982 - mse: 199.8002\n",
            "Epoch 171/500\n",
            "2/2 [==============================] - 0s 8ms/step - loss: 17.8625 - mse: 495.0830\n",
            "Epoch 172/500\n",
            "2/2 [==============================] - 0s 22ms/step - loss: 29.2881 - mse: 1352.0176\n",
            "Epoch 173/500\n",
            "2/2 [==============================] - 0s 8ms/step - loss: 16.8977 - mse: 450.1387\n",
            "Epoch 174/500\n",
            "2/2 [==============================] - 0s 11ms/step - loss: 11.1923 - mse: 203.3866\n",
            "Epoch 175/500\n",
            "2/2 [==============================] - 0s 9ms/step - loss: 27.4729 - mse: 1089.6584\n",
            "Epoch 176/500\n",
            "2/2 [==============================] - 0s 9ms/step - loss: 8.4307 - mse: 80.8366\n",
            "Epoch 177/500\n",
            "2/2 [==============================] - 0s 10ms/step - loss: 9.3921 - mse: 111.3847\n",
            "Epoch 178/500\n",
            "2/2 [==============================] - 0s 14ms/step - loss: 18.4921 - mse: 482.8284\n",
            "Epoch 179/500\n",
            "2/2 [==============================] - 0s 11ms/step - loss: 10.4552 - mse: 144.7105\n",
            "Epoch 180/500\n",
            "2/2 [==============================] - 0s 8ms/step - loss: 7.9966 - mse: 99.2431\n",
            "Epoch 181/500\n",
            "2/2 [==============================] - 0s 16ms/step - loss: 17.6742 - mse: 451.8065\n",
            "Epoch 182/500\n",
            "2/2 [==============================] - 0s 14ms/step - loss: 11.1702 - mse: 161.2862\n",
            "Epoch 183/500\n",
            "2/2 [==============================] - 0s 10ms/step - loss: 12.3456 - mse: 230.7490\n",
            "Epoch 184/500\n",
            "2/2 [==============================] - 0s 15ms/step - loss: 27.2095 - mse: 1099.0737\n",
            "Epoch 185/500\n",
            "2/2 [==============================] - 0s 14ms/step - loss: 7.5955 - mse: 99.3291\n",
            "Epoch 186/500\n",
            "2/2 [==============================] - 0s 11ms/step - loss: 16.0117 - mse: 369.9418\n",
            "Epoch 187/500\n",
            "2/2 [==============================] - 0s 12ms/step - loss: 8.5960 - mse: 86.1361\n",
            "Epoch 188/500\n",
            "2/2 [==============================] - 0s 19ms/step - loss: 28.6736 - mse: 1170.2728\n",
            "Epoch 189/500\n",
            "2/2 [==============================] - 0s 16ms/step - loss: 13.1964 - mse: 271.5555\n",
            "Epoch 190/500\n",
            "2/2 [==============================] - 0s 10ms/step - loss: 18.3425 - mse: 514.2929\n",
            "Epoch 191/500\n",
            "2/2 [==============================] - 0s 8ms/step - loss: 13.7769 - mse: 266.3965\n",
            "Epoch 192/500\n",
            "2/2 [==============================] - 0s 9ms/step - loss: 13.7410 - mse: 261.3798\n",
            "Epoch 193/500\n",
            "2/2 [==============================] - 0s 9ms/step - loss: 28.6137 - mse: 1137.0896\n",
            "Epoch 194/500\n",
            "2/2 [==============================] - 0s 11ms/step - loss: 7.0720 - mse: 79.5346\n",
            "Epoch 195/500\n",
            "2/2 [==============================] - 0s 9ms/step - loss: 7.8056 - mse: 100.0815\n",
            "Epoch 196/500\n",
            "2/2 [==============================] - 0s 17ms/step - loss: 26.0431 - mse: 960.9500\n",
            "Epoch 197/500\n",
            "2/2 [==============================] - 0s 11ms/step - loss: 11.5904 - mse: 188.8759\n",
            "Epoch 198/500\n",
            "2/2 [==============================] - 0s 9ms/step - loss: 18.8986 - mse: 528.6103\n",
            "Epoch 199/500\n",
            "2/2 [==============================] - 0s 8ms/step - loss: 16.6970 - mse: 405.0922\n",
            "Epoch 200/500\n",
            "2/2 [==============================] - 0s 30ms/step - loss: 12.3883 - mse: 227.7859\n",
            "Epoch 201/500\n",
            "2/2 [==============================] - 0s 25ms/step - loss: 7.1256 - mse: 68.0074\n",
            "Epoch 202/500\n",
            "2/2 [==============================] - 0s 12ms/step - loss: 22.9210 - mse: 749.2885\n",
            "Epoch 203/500\n",
            "2/2 [==============================] - 0s 12ms/step - loss: 9.0087 - mse: 153.7052\n",
            "Epoch 204/500\n",
            "2/2 [==============================] - 0s 16ms/step - loss: 18.8699 - mse: 533.9360\n",
            "Epoch 205/500\n",
            "2/2 [==============================] - 0s 10ms/step - loss: 9.4102 - mse: 127.9288\n",
            "Epoch 206/500\n",
            "2/2 [==============================] - 0s 16ms/step - loss: 10.4714 - mse: 144.1876\n",
            "Epoch 207/500\n",
            "2/2 [==============================] - 0s 12ms/step - loss: 21.0967 - mse: 676.8511\n",
            "Epoch 208/500\n",
            "2/2 [==============================] - 0s 12ms/step - loss: 16.4874 - mse: 391.1005\n",
            "Epoch 209/500\n",
            "2/2 [==============================] - 0s 24ms/step - loss: 14.3669 - mse: 318.3299\n",
            "Epoch 210/500\n",
            "2/2 [==============================] - 0s 14ms/step - loss: 17.3375 - mse: 438.8939\n",
            "Epoch 211/500\n",
            "2/2 [==============================] - 0s 11ms/step - loss: 10.2846 - mse: 147.0526\n",
            "Epoch 212/500\n",
            "2/2 [==============================] - 0s 19ms/step - loss: 19.8387 - mse: 590.8943\n",
            "Epoch 213/500\n",
            "2/2 [==============================] - 0s 13ms/step - loss: 14.6506 - mse: 297.0298\n",
            "Epoch 214/500\n",
            "2/2 [==============================] - 0s 9ms/step - loss: 14.3419 - mse: 281.5971\n",
            "Epoch 215/500\n",
            "2/2 [==============================] - 0s 16ms/step - loss: 22.7883 - mse: 768.6369\n",
            "Epoch 216/500\n",
            "2/2 [==============================] - 0s 13ms/step - loss: 14.5472 - mse: 325.5819\n",
            "Epoch 217/500\n",
            "2/2 [==============================] - 0s 14ms/step - loss: 9.2718 - mse: 117.1551\n",
            "Epoch 218/500\n",
            "2/2 [==============================] - 0s 14ms/step - loss: 11.8287 - mse: 190.2419\n",
            "Epoch 219/500\n",
            "2/2 [==============================] - 0s 14ms/step - loss: 6.8391 - mse: 59.3332\n",
            "Epoch 220/500\n",
            "2/2 [==============================] - 0s 14ms/step - loss: 7.1257 - mse: 52.6096\n",
            "Epoch 221/500\n",
            "2/2 [==============================] - 0s 16ms/step - loss: 38.6737 - mse: 2590.0347\n",
            "Epoch 222/500\n",
            "2/2 [==============================] - 0s 9ms/step - loss: 38.7364 - mse: 2454.5071\n",
            "Epoch 223/500\n",
            "2/2 [==============================] - 0s 13ms/step - loss: 5.0736 - mse: 43.4542\n",
            "Epoch 224/500\n",
            "2/2 [==============================] - 0s 10ms/step - loss: 11.2485 - mse: 199.6526\n",
            "Epoch 225/500\n",
            "2/2 [==============================] - 0s 10ms/step - loss: 31.0861 - mse: 1347.6937\n",
            "Epoch 226/500\n",
            "2/2 [==============================] - 0s 9ms/step - loss: 12.2682 - mse: 239.2222\n",
            "Epoch 227/500\n",
            "2/2 [==============================] - 0s 15ms/step - loss: 19.2227 - mse: 549.2365\n",
            "Epoch 228/500\n",
            "2/2 [==============================] - 0s 12ms/step - loss: 11.3152 - mse: 174.3737\n",
            "Epoch 229/500\n",
            "2/2 [==============================] - 0s 15ms/step - loss: 13.7626 - mse: 292.7554\n",
            "Epoch 230/500\n",
            "2/2 [==============================] - 0s 9ms/step - loss: 8.7740 - mse: 143.0735\n",
            "Epoch 231/500\n",
            "2/2 [==============================] - 0s 9ms/step - loss: 20.5329 - mse: 634.3468\n",
            "Epoch 232/500\n",
            "2/2 [==============================] - 0s 10ms/step - loss: 20.9315 - mse: 622.2849\n",
            "Epoch 233/500\n",
            "2/2 [==============================] - 0s 9ms/step - loss: 15.5317 - mse: 355.5512\n",
            "Epoch 234/500\n",
            "2/2 [==============================] - 0s 12ms/step - loss: 7.1206 - mse: 66.1902\n",
            "Epoch 235/500\n",
            "2/2 [==============================] - 0s 16ms/step - loss: 16.1698 - mse: 366.2522\n",
            "Epoch 236/500\n",
            "2/2 [==============================] - 0s 15ms/step - loss: 6.8792 - mse: 70.8380\n",
            "Epoch 237/500\n",
            "2/2 [==============================] - 0s 15ms/step - loss: 8.8418 - mse: 115.9266\n",
            "Epoch 238/500\n",
            "2/2 [==============================] - 0s 14ms/step - loss: 7.9164 - mse: 87.7772\n",
            "Epoch 239/500\n",
            "2/2 [==============================] - 0s 9ms/step - loss: 16.0078 - mse: 388.4230\n",
            "Epoch 240/500\n",
            "2/2 [==============================] - 0s 17ms/step - loss: 9.2004 - mse: 111.6775\n",
            "Epoch 241/500\n",
            "2/2 [==============================] - 0s 12ms/step - loss: 13.7075 - mse: 287.5196\n",
            "Epoch 242/500\n",
            "2/2 [==============================] - 0s 12ms/step - loss: 9.0469 - mse: 111.3874\n",
            "Epoch 243/500\n",
            "2/2 [==============================] - 0s 12ms/step - loss: 19.6982 - mse: 592.2111\n",
            "Epoch 244/500\n",
            "2/2 [==============================] - 0s 13ms/step - loss: 14.3648 - mse: 284.0054\n",
            "Epoch 245/500\n",
            "2/2 [==============================] - 0s 12ms/step - loss: 14.9545 - mse: 303.9272\n",
            "Epoch 246/500\n",
            "2/2 [==============================] - 0s 14ms/step - loss: 16.0656 - mse: 387.8875\n",
            "Epoch 247/500\n",
            "2/2 [==============================] - 0s 17ms/step - loss: 18.0252 - mse: 440.9539\n",
            "Epoch 248/500\n",
            "2/2 [==============================] - 0s 16ms/step - loss: 13.5632 - mse: 257.6485\n",
            "Epoch 249/500\n",
            "2/2 [==============================] - 0s 12ms/step - loss: 14.7163 - mse: 299.8311\n",
            "Epoch 250/500\n",
            "2/2 [==============================] - 0s 16ms/step - loss: 23.6176 - mse: 816.4979\n",
            "Epoch 251/500\n",
            "2/2 [==============================] - 0s 13ms/step - loss: 13.8467 - mse: 286.1725\n",
            "Epoch 252/500\n",
            "2/2 [==============================] - 0s 12ms/step - loss: 23.0114 - mse: 778.1301\n",
            "Epoch 253/500\n",
            "2/2 [==============================] - 0s 16ms/step - loss: 10.4488 - mse: 154.4212\n",
            "Epoch 254/500\n",
            "2/2 [==============================] - 0s 17ms/step - loss: 12.3924 - mse: 228.0064\n",
            "Epoch 255/500\n",
            "2/2 [==============================] - 0s 19ms/step - loss: 16.8155 - mse: 387.5223\n",
            "Epoch 256/500\n",
            "2/2 [==============================] - 0s 13ms/step - loss: 9.4365 - mse: 133.2017\n",
            "Epoch 257/500\n",
            "2/2 [==============================] - 0s 18ms/step - loss: 13.3132 - mse: 275.5839\n",
            "Epoch 258/500\n",
            "2/2 [==============================] - 0s 17ms/step - loss: 7.5039 - mse: 92.7307\n",
            "Epoch 259/500\n",
            "2/2 [==============================] - 0s 17ms/step - loss: 18.4556 - mse: 492.8870\n",
            "Epoch 260/500\n",
            "2/2 [==============================] - 0s 14ms/step - loss: 26.0242 - mse: 1012.3596\n",
            "Epoch 261/500\n",
            "2/2 [==============================] - 0s 14ms/step - loss: 9.5374 - mse: 143.9928\n",
            "Epoch 262/500\n",
            "2/2 [==============================] - 0s 12ms/step - loss: 8.6218 - mse: 123.6773\n",
            "Epoch 263/500\n",
            "2/2 [==============================] - 0s 17ms/step - loss: 8.1068 - mse: 101.2504\n",
            "Epoch 264/500\n",
            "2/2 [==============================] - 0s 22ms/step - loss: 17.9991 - mse: 453.0817\n",
            "Epoch 265/500\n",
            "2/2 [==============================] - 0s 17ms/step - loss: 12.2095 - mse: 215.0054\n",
            "Epoch 266/500\n",
            "2/2 [==============================] - 0s 14ms/step - loss: 13.5847 - mse: 261.8332\n",
            "Epoch 267/500\n",
            "2/2 [==============================] - 0s 14ms/step - loss: 11.2416 - mse: 226.3169\n",
            "Epoch 268/500\n",
            "2/2 [==============================] - 0s 10ms/step - loss: 19.5291 - mse: 566.5804\n",
            "Epoch 269/500\n",
            "2/2 [==============================] - 0s 19ms/step - loss: 39.5585 - mse: 2416.1895\n",
            "Epoch 270/500\n",
            "2/2 [==============================] - 0s 15ms/step - loss: 12.1617 - mse: 227.6501\n",
            "Epoch 271/500\n",
            "2/2 [==============================] - 0s 13ms/step - loss: 14.1321 - mse: 268.1283\n",
            "Epoch 272/500\n",
            "2/2 [==============================] - 0s 9ms/step - loss: 27.9763 - mse: 1075.3162\n",
            "Epoch 273/500\n",
            "2/2 [==============================] - 0s 8ms/step - loss: 8.0242 - mse: 87.3709\n",
            "Epoch 274/500\n",
            "2/2 [==============================] - 0s 8ms/step - loss: 6.4527 - mse: 46.6742\n",
            "Epoch 275/500\n",
            "2/2 [==============================] - 0s 16ms/step - loss: 33.9009 - mse: 1734.3669\n",
            "Epoch 276/500\n",
            "2/2 [==============================] - 0s 13ms/step - loss: 7.9796 - mse: 124.0559\n",
            "Epoch 277/500\n",
            "2/2 [==============================] - 0s 15ms/step - loss: 25.2312 - mse: 858.8621\n",
            "Epoch 278/500\n",
            "2/2 [==============================] - 0s 18ms/step - loss: 11.5385 - mse: 222.5033\n",
            "Epoch 279/500\n",
            "2/2 [==============================] - 0s 15ms/step - loss: 16.2727 - mse: 403.4625\n",
            "Epoch 280/500\n",
            "2/2 [==============================] - 0s 13ms/step - loss: 21.5858 - mse: 699.6372\n",
            "Epoch 281/500\n",
            "2/2 [==============================] - 0s 13ms/step - loss: 22.9613 - mse: 803.2650\n",
            "Epoch 282/500\n",
            "2/2 [==============================] - 0s 16ms/step - loss: 8.0321 - mse: 93.2560\n",
            "Epoch 283/500\n",
            "2/2 [==============================] - 0s 15ms/step - loss: 8.3208 - mse: 92.8189\n",
            "Epoch 284/500\n",
            "2/2 [==============================] - 0s 21ms/step - loss: 25.7016 - mse: 999.6437\n",
            "Epoch 285/500\n",
            "2/2 [==============================] - 0s 24ms/step - loss: 14.2786 - mse: 324.0224\n",
            "Epoch 286/500\n",
            "2/2 [==============================] - 0s 12ms/step - loss: 5.2872 - mse: 37.2816\n",
            "Epoch 287/500\n",
            "2/2 [==============================] - 0s 13ms/step - loss: 20.8011 - mse: 648.5648\n",
            "Epoch 288/500\n",
            "2/2 [==============================] - 0s 12ms/step - loss: 27.6698 - mse: 1164.8646\n",
            "Epoch 289/500\n",
            "2/2 [==============================] - 0s 12ms/step - loss: 10.4299 - mse: 224.9789\n",
            "Epoch 290/500\n",
            "2/2 [==============================] - 0s 18ms/step - loss: 16.3020 - mse: 353.1193\n",
            "Epoch 291/500\n",
            "2/2 [==============================] - 0s 9ms/step - loss: 16.4878 - mse: 398.5157\n",
            "Epoch 292/500\n",
            "2/2 [==============================] - 0s 13ms/step - loss: 7.4441 - mse: 105.1788\n",
            "Epoch 293/500\n",
            "2/2 [==============================] - 0s 11ms/step - loss: 16.5496 - mse: 421.8414\n",
            "Epoch 294/500\n",
            "2/2 [==============================] - 0s 21ms/step - loss: 25.3288 - mse: 942.9399\n",
            "Epoch 295/500\n",
            "2/2 [==============================] - 0s 18ms/step - loss: 14.5968 - mse: 310.3915\n",
            "Epoch 296/500\n",
            "2/2 [==============================] - 0s 15ms/step - loss: 4.6878 - mse: 32.9953\n",
            "Epoch 297/500\n",
            "2/2 [==============================] - 0s 12ms/step - loss: 7.3030 - mse: 102.2544\n",
            "Epoch 298/500\n",
            "2/2 [==============================] - 0s 10ms/step - loss: 19.6152 - mse: 564.7827\n",
            "Epoch 299/500\n",
            "2/2 [==============================] - 0s 12ms/step - loss: 6.6365 - mse: 57.0154\n",
            "Epoch 300/500\n",
            "2/2 [==============================] - 0s 22ms/step - loss: 22.0548 - mse: 730.3190\n",
            "Epoch 301/500\n",
            "2/2 [==============================] - 0s 12ms/step - loss: 9.1542 - mse: 134.2939\n",
            "Epoch 302/500\n",
            "2/2 [==============================] - 0s 31ms/step - loss: 11.1987 - mse: 193.6701\n",
            "Epoch 303/500\n",
            "2/2 [==============================] - 0s 19ms/step - loss: 9.3533 - mse: 123.0907\n",
            "Epoch 304/500\n",
            "2/2 [==============================] - 0s 12ms/step - loss: 23.7017 - mse: 761.4838\n",
            "Epoch 305/500\n",
            "2/2 [==============================] - 0s 10ms/step - loss: 7.9359 - mse: 87.4979\n",
            "Epoch 306/500\n",
            "2/2 [==============================] - 0s 24ms/step - loss: 23.7358 - mse: 800.2558\n",
            "Epoch 307/500\n",
            "2/2 [==============================] - 0s 17ms/step - loss: 5.8960 - mse: 66.5191\n",
            "Epoch 308/500\n",
            "2/2 [==============================] - 0s 13ms/step - loss: 21.3368 - mse: 693.9994\n",
            "Epoch 309/500\n",
            "2/2 [==============================] - 0s 14ms/step - loss: 18.3858 - mse: 487.0297\n",
            "Epoch 310/500\n",
            "2/2 [==============================] - 0s 12ms/step - loss: 4.5126 - mse: 30.9048\n",
            "Epoch 311/500\n",
            "2/2 [==============================] - 0s 14ms/step - loss: 6.5227 - mse: 49.9105\n",
            "Epoch 312/500\n",
            "2/2 [==============================] - 0s 12ms/step - loss: 35.4008 - mse: 2002.4213\n",
            "Epoch 313/500\n",
            "2/2 [==============================] - 0s 19ms/step - loss: 28.8778 - mse: 1208.9668\n",
            "Epoch 314/500\n",
            "2/2 [==============================] - 0s 12ms/step - loss: 11.2057 - mse: 271.7553\n",
            "Epoch 315/500\n",
            "2/2 [==============================] - 0s 17ms/step - loss: 23.5714 - mse: 807.7667\n",
            "Epoch 316/500\n",
            "2/2 [==============================] - 0s 13ms/step - loss: 14.3952 - mse: 325.1158\n",
            "Epoch 317/500\n",
            "2/2 [==============================] - 0s 9ms/step - loss: 19.9335 - mse: 545.6660\n",
            "Epoch 318/500\n",
            "2/2 [==============================] - 0s 7ms/step - loss: 7.9978 - mse: 82.8473\n",
            "Epoch 319/500\n",
            "2/2 [==============================] - 0s 15ms/step - loss: 18.0647 - mse: 484.1668\n",
            "Epoch 320/500\n",
            "2/2 [==============================] - 0s 13ms/step - loss: 10.6134 - mse: 192.8218\n",
            "Epoch 321/500\n",
            "2/2 [==============================] - 0s 15ms/step - loss: 7.0143 - mse: 108.6146\n",
            "Epoch 322/500\n",
            "2/2 [==============================] - 0s 12ms/step - loss: 8.6911 - mse: 169.7384\n",
            "Epoch 323/500\n",
            "2/2 [==============================] - 0s 10ms/step - loss: 18.3668 - mse: 521.7284\n",
            "Epoch 324/500\n",
            "2/2 [==============================] - 0s 16ms/step - loss: 6.3024 - mse: 53.2017\n",
            "Epoch 325/500\n",
            "2/2 [==============================] - 0s 12ms/step - loss: 14.5592 - mse: 318.0235\n",
            "Epoch 326/500\n",
            "2/2 [==============================] - 0s 18ms/step - loss: 6.9833 - mse: 75.8352\n",
            "Epoch 327/500\n",
            "2/2 [==============================] - 0s 16ms/step - loss: 17.5386 - mse: 442.6841\n",
            "Epoch 328/500\n",
            "2/2 [==============================] - 0s 16ms/step - loss: 14.3977 - mse: 291.7640\n",
            "Epoch 329/500\n",
            "2/2 [==============================] - 0s 15ms/step - loss: 17.7221 - mse: 481.6287\n",
            "Epoch 330/500\n",
            "2/2 [==============================] - 0s 17ms/step - loss: 6.7790 - mse: 93.3057\n",
            "Epoch 331/500\n",
            "2/2 [==============================] - 0s 12ms/step - loss: 19.6501 - mse: 587.0386\n",
            "Epoch 332/500\n",
            "2/2 [==============================] - 0s 15ms/step - loss: 10.5191 - mse: 172.0935\n",
            "Epoch 333/500\n",
            "2/2 [==============================] - 0s 14ms/step - loss: 16.2542 - mse: 392.1983\n",
            "Epoch 334/500\n",
            "2/2 [==============================] - 0s 15ms/step - loss: 9.7546 - mse: 198.4767\n",
            "Epoch 335/500\n",
            "2/2 [==============================] - 0s 13ms/step - loss: 13.0679 - mse: 266.4944\n",
            "Epoch 336/500\n",
            "2/2 [==============================] - 0s 10ms/step - loss: 32.5132 - mse: 1441.7673\n",
            "Epoch 337/500\n",
            "2/2 [==============================] - 0s 10ms/step - loss: 11.0598 - mse: 189.6720\n",
            "Epoch 338/500\n",
            "2/2 [==============================] - 0s 14ms/step - loss: 20.0010 - mse: 588.3147\n",
            "Epoch 339/500\n",
            "2/2 [==============================] - 0s 13ms/step - loss: 34.1848 - mse: 1748.0387\n",
            "Epoch 340/500\n",
            "2/2 [==============================] - 0s 16ms/step - loss: 8.7048 - mse: 107.3036\n",
            "Epoch 341/500\n",
            "2/2 [==============================] - 0s 12ms/step - loss: 21.8399 - mse: 666.5184\n",
            "Epoch 342/500\n",
            "2/2 [==============================] - 0s 15ms/step - loss: 13.8817 - mse: 258.2312\n",
            "Epoch 343/500\n",
            "2/2 [==============================] - 0s 13ms/step - loss: 11.7341 - mse: 182.3808\n",
            "Epoch 344/500\n",
            "2/2 [==============================] - 0s 16ms/step - loss: 10.7024 - mse: 226.1322\n",
            "Epoch 345/500\n",
            "2/2 [==============================] - 0s 19ms/step - loss: 30.9301 - mse: 1345.3259\n",
            "Epoch 346/500\n",
            "2/2 [==============================] - 0s 32ms/step - loss: 10.6588 - mse: 258.8157\n",
            "Epoch 347/500\n",
            "2/2 [==============================] - 0s 28ms/step - loss: 25.6026 - mse: 917.9154\n",
            "Epoch 348/500\n",
            "2/2 [==============================] - 0s 18ms/step - loss: 13.1968 - mse: 270.5600\n",
            "Epoch 349/500\n",
            "2/2 [==============================] - 0s 23ms/step - loss: 13.0708 - mse: 249.5085\n",
            "Epoch 350/500\n",
            "2/2 [==============================] - 0s 15ms/step - loss: 15.4148 - mse: 328.7880\n",
            "Epoch 351/500\n",
            "2/2 [==============================] - 0s 14ms/step - loss: 32.8963 - mse: 1518.9589\n",
            "Epoch 352/500\n",
            "2/2 [==============================] - 0s 15ms/step - loss: 14.1179 - mse: 280.5755\n",
            "Epoch 353/500\n",
            "2/2 [==============================] - 0s 12ms/step - loss: 15.8517 - mse: 368.5279\n",
            "Epoch 354/500\n",
            "2/2 [==============================] - 0s 18ms/step - loss: 18.9412 - mse: 527.9130\n",
            "Epoch 355/500\n",
            "2/2 [==============================] - 0s 26ms/step - loss: 34.5370 - mse: 1831.3832\n",
            "Epoch 356/500\n",
            "2/2 [==============================] - 0s 11ms/step - loss: 8.3606 - mse: 111.6724\n",
            "Epoch 357/500\n",
            "2/2 [==============================] - 0s 12ms/step - loss: 21.9743 - mse: 725.1945\n",
            "Epoch 358/500\n",
            "2/2 [==============================] - 0s 13ms/step - loss: 20.1341 - mse: 584.7306\n",
            "Epoch 359/500\n",
            "2/2 [==============================] - 0s 14ms/step - loss: 11.0434 - mse: 294.5510\n",
            "Epoch 360/500\n",
            "2/2 [==============================] - 0s 13ms/step - loss: 20.2444 - mse: 616.0287\n",
            "Epoch 361/500\n",
            "2/2 [==============================] - 0s 13ms/step - loss: 11.0739 - mse: 222.2846\n",
            "Epoch 362/500\n",
            "2/2 [==============================] - 0s 15ms/step - loss: 6.8535 - mse: 76.3676\n",
            "Epoch 363/500\n",
            "2/2 [==============================] - 0s 17ms/step - loss: 24.0526 - mse: 843.4979\n",
            "Epoch 364/500\n",
            "2/2 [==============================] - 0s 13ms/step - loss: 29.8397 - mse: 1293.8424\n",
            "Epoch 365/500\n",
            "2/2 [==============================] - 0s 15ms/step - loss: 8.4007 - mse: 109.1593\n",
            "Epoch 366/500\n",
            "2/2 [==============================] - 0s 44ms/step - loss: 6.1199 - mse: 48.6200\n",
            "Epoch 367/500\n",
            "2/2 [==============================] - 0s 31ms/step - loss: 34.9553 - mse: 1856.2084\n",
            "Epoch 368/500\n",
            "2/2 [==============================] - 0s 19ms/step - loss: 7.4458 - mse: 101.1035\n",
            "Epoch 369/500\n",
            "2/2 [==============================] - 0s 21ms/step - loss: 9.2589 - mse: 129.9087\n",
            "Epoch 370/500\n",
            "2/2 [==============================] - 0s 15ms/step - loss: 10.9584 - mse: 207.2514\n",
            "Epoch 371/500\n",
            "2/2 [==============================] - 0s 22ms/step - loss: 9.0202 - mse: 142.1494\n",
            "Epoch 372/500\n",
            "2/2 [==============================] - 0s 25ms/step - loss: 7.7149 - mse: 143.5609\n",
            "Epoch 373/500\n",
            "2/2 [==============================] - 0s 17ms/step - loss: 25.0545 - mse: 919.0093\n",
            "Epoch 374/500\n",
            "2/2 [==============================] - 0s 15ms/step - loss: 13.2359 - mse: 283.6231\n",
            "Epoch 375/500\n",
            "2/2 [==============================] - 0s 12ms/step - loss: 11.8564 - mse: 213.8125\n",
            "Epoch 376/500\n",
            "2/2 [==============================] - 0s 9ms/step - loss: 14.1286 - mse: 285.2306\n",
            "Epoch 377/500\n",
            "2/2 [==============================] - 0s 9ms/step - loss: 15.7242 - mse: 319.1673\n",
            "Epoch 378/500\n",
            "2/2 [==============================] - 0s 14ms/step - loss: 17.0476 - mse: 464.9389\n",
            "Epoch 379/500\n",
            "2/2 [==============================] - 0s 10ms/step - loss: 19.3884 - mse: 536.7219\n",
            "Epoch 380/500\n",
            "2/2 [==============================] - 0s 18ms/step - loss: 15.7485 - mse: 387.2847\n",
            "Epoch 381/500\n",
            "2/2 [==============================] - 0s 22ms/step - loss: 11.4683 - mse: 217.5274\n",
            "Epoch 382/500\n",
            "2/2 [==============================] - 0s 10ms/step - loss: 16.3487 - mse: 357.0659\n",
            "Epoch 383/500\n",
            "2/2 [==============================] - 0s 14ms/step - loss: 22.1070 - mse: 753.0436\n",
            "Epoch 384/500\n",
            "2/2 [==============================] - 0s 22ms/step - loss: 7.7666 - mse: 83.2959\n",
            "Epoch 385/500\n",
            "2/2 [==============================] - 0s 24ms/step - loss: 10.6290 - mse: 273.2655\n",
            "Epoch 386/500\n",
            "2/2 [==============================] - 0s 25ms/step - loss: 19.1145 - mse: 571.2971\n",
            "Epoch 387/500\n",
            "2/2 [==============================] - 0s 24ms/step - loss: 26.4448 - mse: 1020.5546\n",
            "Epoch 388/500\n",
            "2/2 [==============================] - 0s 12ms/step - loss: 10.0942 - mse: 174.1323\n",
            "Epoch 389/500\n",
            "2/2 [==============================] - 0s 22ms/step - loss: 5.1875 - mse: 40.6628\n",
            "Epoch 390/500\n",
            "2/2 [==============================] - 0s 20ms/step - loss: 18.7746 - mse: 510.8665\n",
            "Epoch 391/500\n",
            "2/2 [==============================] - 0s 21ms/step - loss: 9.3556 - mse: 260.8867\n",
            "Epoch 392/500\n",
            "2/2 [==============================] - 0s 16ms/step - loss: 14.4197 - mse: 327.4821\n",
            "Epoch 393/500\n",
            "2/2 [==============================] - 0s 25ms/step - loss: 15.4311 - mse: 340.4238\n",
            "Epoch 394/500\n",
            "2/2 [==============================] - 0s 18ms/step - loss: 14.7644 - mse: 321.3474\n",
            "Epoch 395/500\n",
            "2/2 [==============================] - 0s 21ms/step - loss: 25.0037 - mse: 884.3934\n",
            "Epoch 396/500\n",
            "2/2 [==============================] - 0s 20ms/step - loss: 19.0741 - mse: 516.5344\n",
            "Epoch 397/500\n",
            "2/2 [==============================] - 0s 13ms/step - loss: 11.6095 - mse: 281.4406\n",
            "Epoch 398/500\n",
            "2/2 [==============================] - 0s 17ms/step - loss: 19.2727 - mse: 582.6859\n",
            "Epoch 399/500\n",
            "2/2 [==============================] - 0s 14ms/step - loss: 25.8253 - mse: 998.3765\n",
            "Epoch 400/500\n",
            "2/2 [==============================] - 0s 15ms/step - loss: 15.5024 - mse: 348.1003\n",
            "Epoch 401/500\n",
            "2/2 [==============================] - 0s 17ms/step - loss: 14.6937 - mse: 282.7914\n",
            "Epoch 402/500\n",
            "2/2 [==============================] - 0s 9ms/step - loss: 24.3232 - mse: 840.9546\n",
            "Epoch 403/500\n",
            "2/2 [==============================] - 0s 12ms/step - loss: 16.1784 - mse: 387.2236\n",
            "Epoch 404/500\n",
            "2/2 [==============================] - 0s 9ms/step - loss: 10.3844 - mse: 209.7741\n",
            "Epoch 405/500\n",
            "2/2 [==============================] - 0s 17ms/step - loss: 6.4019 - mse: 68.2742\n",
            "Epoch 406/500\n",
            "2/2 [==============================] - 0s 15ms/step - loss: 17.6274 - mse: 468.8804\n",
            "Epoch 407/500\n",
            "2/2 [==============================] - 0s 8ms/step - loss: 11.0669 - mse: 259.5384\n",
            "Epoch 408/500\n",
            "2/2 [==============================] - 0s 17ms/step - loss: 21.1486 - mse: 683.1083\n",
            "Epoch 409/500\n",
            "2/2 [==============================] - 0s 15ms/step - loss: 30.0846 - mse: 1396.4485\n",
            "Epoch 410/500\n",
            "2/2 [==============================] - 0s 16ms/step - loss: 9.9004 - mse: 240.2968\n",
            "Epoch 411/500\n",
            "2/2 [==============================] - 0s 15ms/step - loss: 14.7584 - mse: 282.5461\n",
            "Epoch 412/500\n",
            "2/2 [==============================] - 0s 19ms/step - loss: 21.5308 - mse: 709.7513\n",
            "Epoch 413/500\n",
            "2/2 [==============================] - 0s 19ms/step - loss: 13.1898 - mse: 269.0555\n",
            "Epoch 414/500\n",
            "2/2 [==============================] - 0s 17ms/step - loss: 8.2796 - mse: 183.7467\n",
            "Epoch 415/500\n",
            "2/2 [==============================] - 0s 20ms/step - loss: 11.6933 - mse: 242.7280\n",
            "Epoch 416/500\n",
            "2/2 [==============================] - 0s 15ms/step - loss: 25.6014 - mse: 912.0879\n",
            "Epoch 417/500\n",
            "2/2 [==============================] - 0s 13ms/step - loss: 15.7917 - mse: 380.2188\n",
            "Epoch 418/500\n",
            "2/2 [==============================] - 0s 15ms/step - loss: 12.5727 - mse: 232.2834\n",
            "Epoch 419/500\n",
            "2/2 [==============================] - 0s 15ms/step - loss: 15.7329 - mse: 360.5230\n",
            "Epoch 420/500\n",
            "2/2 [==============================] - 0s 12ms/step - loss: 24.4228 - mse: 828.7692\n",
            "Epoch 421/500\n",
            "2/2 [==============================] - 0s 18ms/step - loss: 18.2933 - mse: 488.0056\n",
            "Epoch 422/500\n",
            "2/2 [==============================] - 0s 15ms/step - loss: 8.6811 - mse: 203.3320\n",
            "Epoch 423/500\n",
            "2/2 [==============================] - 0s 18ms/step - loss: 24.6424 - mse: 860.4565\n",
            "Epoch 424/500\n",
            "2/2 [==============================] - 0s 15ms/step - loss: 16.8628 - mse: 438.4894\n",
            "Epoch 425/500\n",
            "2/2 [==============================] - 0s 15ms/step - loss: 7.3816 - mse: 78.7185\n",
            "Epoch 426/500\n",
            "2/2 [==============================] - 0s 12ms/step - loss: 21.0464 - mse: 613.0742\n",
            "Epoch 427/500\n",
            "2/2 [==============================] - 0s 23ms/step - loss: 6.5511 - mse: 83.1448\n",
            "Epoch 428/500\n",
            "2/2 [==============================] - 0s 19ms/step - loss: 13.4637 - mse: 299.6005\n",
            "Epoch 429/500\n",
            "2/2 [==============================] - 0s 13ms/step - loss: 11.1913 - mse: 201.8060\n",
            "Epoch 430/500\n",
            "2/2 [==============================] - 0s 12ms/step - loss: 12.0873 - mse: 273.6484\n",
            "Epoch 431/500\n",
            "2/2 [==============================] - 0s 13ms/step - loss: 8.6523 - mse: 139.5151\n",
            "Epoch 432/500\n",
            "2/2 [==============================] - 0s 12ms/step - loss: 18.8808 - mse: 500.3146\n",
            "Epoch 433/500\n",
            "2/2 [==============================] - 0s 25ms/step - loss: 9.4939 - mse: 212.1624\n",
            "Epoch 434/500\n",
            "2/2 [==============================] - 0s 14ms/step - loss: 30.9993 - mse: 1345.0946\n",
            "Epoch 435/500\n",
            "2/2 [==============================] - 0s 8ms/step - loss: 11.8735 - mse: 312.1535\n",
            "Epoch 436/500\n",
            "2/2 [==============================] - 0s 8ms/step - loss: 28.7999 - mse: 1210.0143\n",
            "Epoch 437/500\n",
            "2/2 [==============================] - 0s 8ms/step - loss: 8.1069 - mse: 180.8811\n",
            "Epoch 438/500\n",
            "2/2 [==============================] - 0s 8ms/step - loss: 12.8372 - mse: 247.5508\n",
            "Epoch 439/500\n",
            "2/2 [==============================] - 0s 14ms/step - loss: 33.9267 - mse: 1592.8730\n",
            "Epoch 440/500\n",
            "2/2 [==============================] - 0s 7ms/step - loss: 15.4849 - mse: 311.8635\n",
            "Epoch 441/500\n",
            "2/2 [==============================] - 0s 11ms/step - loss: 17.8482 - mse: 517.3185\n",
            "Epoch 442/500\n",
            "2/2 [==============================] - 0s 7ms/step - loss: 17.5455 - mse: 434.6224\n",
            "Epoch 443/500\n",
            "2/2 [==============================] - 0s 12ms/step - loss: 7.6818 - mse: 159.1145\n",
            "Epoch 444/500\n",
            "2/2 [==============================] - 0s 11ms/step - loss: 22.8597 - mse: 763.5181\n",
            "Epoch 445/500\n",
            "2/2 [==============================] - 0s 15ms/step - loss: 12.1114 - mse: 226.7303\n",
            "Epoch 446/500\n",
            "2/2 [==============================] - 0s 8ms/step - loss: 10.4936 - mse: 207.1794\n",
            "Epoch 447/500\n",
            "2/2 [==============================] - 0s 17ms/step - loss: 16.9580 - mse: 419.6217\n",
            "Epoch 448/500\n",
            "2/2 [==============================] - 0s 10ms/step - loss: 11.6664 - mse: 236.3152\n",
            "Epoch 449/500\n",
            "2/2 [==============================] - 0s 11ms/step - loss: 14.8558 - mse: 306.7500\n",
            "Epoch 450/500\n",
            "2/2 [==============================] - 0s 9ms/step - loss: 17.6104 - mse: 487.1243\n",
            "Epoch 451/500\n",
            "2/2 [==============================] - 0s 15ms/step - loss: 14.6501 - mse: 347.5204\n",
            "Epoch 452/500\n",
            "2/2 [==============================] - 0s 7ms/step - loss: 31.3186 - mse: 1385.4269\n",
            "Epoch 453/500\n",
            "2/2 [==============================] - 0s 8ms/step - loss: 10.6027 - mse: 276.6662\n",
            "Epoch 454/500\n",
            "2/2 [==============================] - 0s 18ms/step - loss: 26.9256 - mse: 1016.1038\n",
            "Epoch 455/500\n",
            "2/2 [==============================] - 0s 15ms/step - loss: 12.1297 - mse: 250.0265\n",
            "Epoch 456/500\n",
            "2/2 [==============================] - 0s 15ms/step - loss: 15.3973 - mse: 319.6391\n",
            "Epoch 457/500\n",
            "2/2 [==============================] - 0s 15ms/step - loss: 19.1478 - mse: 546.9694\n",
            "Epoch 458/500\n",
            "2/2 [==============================] - 0s 8ms/step - loss: 23.2872 - mse: 802.3090\n",
            "Epoch 459/500\n",
            "2/2 [==============================] - 0s 14ms/step - loss: 16.6584 - mse: 393.8474\n",
            "Epoch 460/500\n",
            "2/2 [==============================] - 0s 13ms/step - loss: 3.9890 - mse: 27.5737\n",
            "Epoch 461/500\n",
            "2/2 [==============================] - 0s 16ms/step - loss: 18.3953 - mse: 500.2217\n",
            "Epoch 462/500\n",
            "2/2 [==============================] - 0s 16ms/step - loss: 11.1911 - mse: 279.1342\n",
            "Epoch 463/500\n",
            "2/2 [==============================] - 0s 23ms/step - loss: 26.9584 - mse: 1028.0133\n",
            "Epoch 464/500\n",
            "2/2 [==============================] - 0s 14ms/step - loss: 12.1108 - mse: 239.4379\n",
            "Epoch 465/500\n",
            "2/2 [==============================] - 0s 9ms/step - loss: 7.6433 - mse: 103.0920\n",
            "Epoch 466/500\n",
            "2/2 [==============================] - 0s 15ms/step - loss: 12.6406 - mse: 273.4742\n",
            "Epoch 467/500\n",
            "2/2 [==============================] - 0s 10ms/step - loss: 6.1492 - mse: 67.1898\n",
            "Epoch 468/500\n",
            "2/2 [==============================] - 0s 10ms/step - loss: 13.8667 - mse: 301.1379\n",
            "Epoch 469/500\n",
            "2/2 [==============================] - 0s 8ms/step - loss: 14.0307 - mse: 316.2804\n",
            "Epoch 470/500\n",
            "2/2 [==============================] - 0s 21ms/step - loss: 3.6553 - mse: 20.9533\n",
            "Epoch 471/500\n",
            "2/2 [==============================] - 0s 10ms/step - loss: 15.5142 - mse: 321.1148\n",
            "Epoch 472/500\n",
            "2/2 [==============================] - 0s 10ms/step - loss: 12.3140 - mse: 242.6704\n",
            "Epoch 473/500\n",
            "2/2 [==============================] - 0s 10ms/step - loss: 14.6959 - mse: 347.8378\n",
            "Epoch 474/500\n",
            "2/2 [==============================] - 0s 15ms/step - loss: 18.5676 - mse: 536.9000\n",
            "Epoch 475/500\n",
            "2/2 [==============================] - 0s 24ms/step - loss: 12.6489 - mse: 251.4197\n",
            "Epoch 476/500\n",
            "2/2 [==============================] - 0s 11ms/step - loss: 13.6871 - mse: 259.0441\n",
            "Epoch 477/500\n",
            "2/2 [==============================] - 0s 14ms/step - loss: 30.2757 - mse: 1278.0674\n",
            "Epoch 478/500\n",
            "2/2 [==============================] - 0s 15ms/step - loss: 6.9509 - mse: 141.1227\n",
            "Epoch 479/500\n",
            "2/2 [==============================] - 0s 16ms/step - loss: 11.6203 - mse: 255.1308\n",
            "Epoch 480/500\n",
            "2/2 [==============================] - 0s 16ms/step - loss: 18.2955 - mse: 515.3533\n",
            "Epoch 481/500\n",
            "2/2 [==============================] - 0s 7ms/step - loss: 16.1512 - mse: 393.4716\n",
            "Epoch 482/500\n",
            "2/2 [==============================] - 0s 8ms/step - loss: 14.9595 - mse: 341.8161\n",
            "Epoch 483/500\n",
            "2/2 [==============================] - 0s 11ms/step - loss: 20.3412 - mse: 624.7147\n",
            "Epoch 484/500\n",
            "2/2 [==============================] - 0s 8ms/step - loss: 35.6693 - mse: 1949.7379\n",
            "Epoch 485/500\n",
            "2/2 [==============================] - 0s 12ms/step - loss: 14.1455 - mse: 317.2844\n",
            "Epoch 486/500\n",
            "2/2 [==============================] - 0s 14ms/step - loss: 6.8751 - mse: 98.6630\n",
            "Epoch 487/500\n",
            "2/2 [==============================] - 0s 11ms/step - loss: 6.3560 - mse: 71.8883\n",
            "Epoch 488/500\n",
            "2/2 [==============================] - 0s 19ms/step - loss: 30.0812 - mse: 1329.6344\n",
            "Epoch 489/500\n",
            "2/2 [==============================] - 0s 9ms/step - loss: 12.6000 - mse: 238.6365\n",
            "Epoch 490/500\n",
            "2/2 [==============================] - 0s 15ms/step - loss: 13.0780 - mse: 248.2187\n",
            "Epoch 491/500\n",
            "2/2 [==============================] - 0s 31ms/step - loss: 24.3012 - mse: 879.1205\n",
            "Epoch 492/500\n",
            "2/2 [==============================] - 0s 13ms/step - loss: 18.7703 - mse: 498.4771\n",
            "Epoch 493/500\n",
            "2/2 [==============================] - 0s 22ms/step - loss: 4.8492 - mse: 50.5713\n",
            "Epoch 494/500\n",
            "2/2 [==============================] - 0s 17ms/step - loss: 12.1088 - mse: 227.9373\n",
            "Epoch 495/500\n",
            "2/2 [==============================] - 0s 9ms/step - loss: 13.6801 - mse: 251.6108\n",
            "Epoch 496/500\n",
            "2/2 [==============================] - 0s 8ms/step - loss: 12.8863 - mse: 242.5271\n",
            "Epoch 497/500\n",
            "2/2 [==============================] - 0s 9ms/step - loss: 18.0064 - mse: 533.4006\n",
            "Epoch 498/500\n",
            "2/2 [==============================] - 0s 11ms/step - loss: 22.7066 - mse: 753.0107\n",
            "Epoch 499/500\n",
            "2/2 [==============================] - 0s 24ms/step - loss: 8.4748 - mse: 112.6596\n",
            "Epoch 500/500\n",
            "2/2 [==============================] - 0s 22ms/step - loss: 14.0274 - mse: 256.8419\n"
          ]
        },
        {
          "output_type": "execute_result",
          "data": {
            "text/plain": [
              "<keras.src.callbacks.History at 0x7a38457dcdc0>"
            ]
          },
          "metadata": {},
          "execution_count": 56
        }
      ]
    },
    {
      "cell_type": "code",
      "source": [
        "y_preds_3 = model_3.predict(X_test)\n",
        "plot_predictions(predictions=y_preds_3)"
      ],
      "metadata": {
        "id": "K7TAqg2cCD0V",
        "outputId": "e5cdc578-e41a-4761-c313-07bd061ba77e",
        "colab": {
          "base_uri": "https://localhost:8080/",
          "height": 617
        }
      },
      "execution_count": 57,
      "outputs": [
        {
          "output_type": "stream",
          "name": "stdout",
          "text": [
            "1/1 [==============================] - 0s 102ms/step\n"
          ]
        },
        {
          "output_type": "display_data",
          "data": {
            "text/plain": [
              "<Figure size 1000x700 with 1 Axes>"
            ],
            "image/png": "[encoded data removed]"
          },
          "metadata": {}
        }
      ]
    },
    {
      "cell_type": "code",
      "source": [
        "# Calculate model_3 evaluation metrics\n",
        "mae_3 = mae(y_test, y_preds_3)\n",
        "mse_3 = mse(y_test, y_preds_3)\n",
        "mae_3, mse_3"
      ],
      "metadata": {
        "id": "otZyvC14Cidr",
        "outputId": "6cf9db0a-c409-45e4-d527-1dc7f106a405",
        "colab": {
          "base_uri": "https://localhost:8080/"
        }
      },
      "execution_count": 58,
      "outputs": [
        {
          "output_type": "execute_result",
          "data": {
            "text/plain": [
              "(<tf.Tensor: shape=(), dtype=float32, numpy=67.31282>,\n",
              " <tf.Tensor: shape=(), dtype=float32, numpy=4613.81>)"
            ]
          },
          "metadata": {},
          "execution_count": 58
        }
      ]
    },
    {
      "cell_type": "markdown",
      "source": [
        "🔑**NOTE:** You want to start with small experiments (small models) and make sure they work, and then increase the scale when needed."
      ],
      "metadata": {
        "id": "ON7RXhYbHPJM"
      }
    },
    {
      "cell_type": "markdown",
      "source": [
        "### Comparing the results of our experiments\n",
        "\n",
        "We've run a few experiments, let's compare the results.\n"
      ],
      "metadata": {
        "id": "phoSSiS6CokX"
      }
    },
    {
      "cell_type": "code",
      "source": [
        "# Let's compare our models results using a pandas dataframe\n",
        "import pandas as pd\n",
        "\n",
        "model_results = [[\"model_1\", mae_1.numpy(), mse_1.numpy()],\n",
        "                 [\"model_2\", mae_2.numpy(), mse_2.numpy()],\n",
        "                 [\"model_3\", mae_3.numpy(), mse_3.numpy()]]\n",
        "all_results = pd.DataFrame(model_results, columns=[\"model\", \"mae\", \"mse\"])\n",
        "all_results"
      ],
      "metadata": {
        "id": "MRMYoLf8G_87",
        "outputId": "bc98d9cb-9272-4af5-af4c-5747aa378629",
        "colab": {
          "base_uri": "https://localhost:8080/",
          "height": 143
        }
      },
      "execution_count": 59,
      "outputs": [
        {
          "output_type": "execute_result",
          "data": {
            "text/plain": [
              "     model        mae          mse\n",
              "0  model_1  21.285198   456.496002\n",
              "1  model_2  13.223755   184.884415\n",
              "2  model_3  67.312820  4613.810059"
            ],
            "text/html": [
              "\n",
              "  <div id=\"df-8e5483ce-3b74-43e3-b41b-a95605a9d51c\" class=\"colab-df-container\">\n",
              "    <div>\n",
              "<style scoped>\n",
              "    .dataframe tbody tr th:only-of-type {\n",
              "        vertical-align: middle;\n",
              "    }\n",
              "\n",
              "    .dataframe tbody tr th {\n",
              "        vertical-align: top;\n",
              "    }\n",
              "\n",
              "    .dataframe thead th {\n",
              "        text-align: right;\n",
              "    }\n",
              "</style>\n",
              "<table border=\"1\" class=\"dataframe\">\n",
              "  <thead>\n",
              "    <tr style=\"text-align: right;\">\n",
              "      <th></th>\n",
              "      <th>model</th>\n",
              "      <th>mae</th>\n",
              "      <th>mse</th>\n",
              "    </tr>\n",
              "  </thead>\n",
              "  <tbody>\n",
              "    <tr>\n",
              "      <th>0</th>\n",
              "      <td>model_1</td>\n",
              "      <td>21.285198</td>\n",
              "      <td>456.496002</td>\n",
              "    </tr>\n",
              "    <tr>\n",
              "      <th>1</th>\n",
              "      <td>model_2</td>\n",
              "      <td>13.223755</td>\n",
              "      <td>184.884415</td>\n",
              "    </tr>\n",
              "    <tr>\n",
              "      <th>2</th>\n",
              "      <td>model_3</td>\n",
              "      <td>67.312820</td>\n",
              "      <td>4613.810059</td>\n",
              "    </tr>\n",
              "  </tbody>\n",
              "</table>\n",
              "</div>\n",
              "    <div class=\"colab-df-buttons\">\n",
              "\n",
              "  <div class=\"colab-df-container\">\n",
              "    <button class=\"colab-df-convert\" onclick=\"convertToInteractive('df-8e5483ce-3b74-43e3-b41b-a95605a9d51c')\"\n",
              "            title=\"Convert this dataframe to an interactive table.\"\n",
              "            style=\"display:none;\">\n",
              "\n",
              "  <svg xmlns=\"http://www.w3.org/2000/svg\" height=\"24px\" viewBox=\"0 -960 960 960\">\n",
              "    <path d=\"M120-120v-720h720v720H120Zm60-500h600v-160H180v160Zm220 220h160v-160H400v160Zm0 220h160v-160H400v160ZM180-400h160v-160H180v160Zm440 0h160v-160H620v160ZM180-180h160v-160H180v160Zm440 0h160v-160H620v160Z\"/>\n",
              "  </svg>\n",
              "    </button>\n",
              "\n",
              "  <style>\n",
              "    .colab-df-container {\n",
              "      display:flex;\n",
              "      gap: 12px;\n",
              "    }\n",
              "\n",
              "    .colab-df-convert {\n",
              "      background-color: #E8F0FE;\n",
              "      border: none;\n",
              "      border-radius: 50%;\n",
              "      cursor: pointer;\n",
              "      display: none;\n",
              "      fill: #1967D2;\n",
              "      height: 32px;\n",
              "      padding: 0 0 0 0;\n",
              "      width: 32px;\n",
              "    }\n",
              "\n",
              "    .colab-df-convert:hover {\n",
              "      background-color: #E2EBFA;\n",
              "      box-shadow: 0px 1px 2px rgba(60, 64, 67, 0.3), 0px 1px 3px 1px rgba(60, 64, 67, 0.15);\n",
              "      fill: #174EA6;\n",
              "    }\n",
              "\n",
              "    .colab-df-buttons div {\n",
              "      margin-bottom: 4px;\n",
              "    }\n",
              "\n",
              "    [theme=dark] .colab-df-convert {\n",
              "      background-color: #3B4455;\n",
              "      fill: #D2E3FC;\n",
              "    }\n",
              "\n",
              "    [theme=dark] .colab-df-convert:hover {\n",
              "      background-color: #434B5C;\n",
              "      box-shadow: 0px 1px 3px 1px rgba(0, 0, 0, 0.15);\n",
              "      filter: drop-shadow(0px 1px 2px rgba(0, 0, 0, 0.3));\n",
              "      fill: #FFFFFF;\n",
              "    }\n",
              "  </style>\n",
              "\n",
              "    <script>\n",
              "      const buttonEl =\n",
              "        document.querySelector('#df-8e5483ce-3b74-43e3-b41b-a95605a9d51c button.colab-df-convert');\n",
              "      buttonEl.style.display =\n",
              "        google.colab.kernel.accessAllowed ? 'block' : 'none';\n",
              "\n",
              "      async function convertToInteractive(key) {\n",
              "        const element = document.querySelector('#df-8e5483ce-3b74-43e3-b41b-a95605a9d51c');\n",
              "        const dataTable =\n",
              "          await google.colab.kernel.invokeFunction('convertToInteractive',\n",
              "                                                    [key], {});\n",
              "        if (!dataTable) return;\n",
              "\n",
              "        const docLinkHtml = 'Like what you see? Visit the ' +\n",
              "          '<a target=\"_blank\" href=https://colab.research.google.com/notebooks/data_table.ipynb>data table notebook</a>'\n",
              "          + ' to learn more about interactive tables.';\n",
              "        element.innerHTML = '';\n",
              "        dataTable['output_type'] = 'display_data';\n",
              "        await google.colab.output.renderOutput(dataTable, element);\n",
              "        const docLink = document.createElement('div');\n",
              "        docLink.innerHTML = docLinkHtml;\n",
              "        element.appendChild(docLink);\n",
              "      }\n",
              "    </script>\n",
              "  </div>\n",
              "\n",
              "\n",
              "<div id=\"df-cb715c4d-ab23-4047-b212-e739bd76dcd6\">\n",
              "  <button class=\"colab-df-quickchart\" onclick=\"quickchart('df-cb715c4d-ab23-4047-b212-e739bd76dcd6')\"\n",
              "            title=\"Suggest charts\"\n",
              "            style=\"display:none;\">\n",
              "\n",
              "<svg xmlns=\"http://www.w3.org/2000/svg\" height=\"24px\"viewBox=\"0 0 24 24\"\n",
              "     width=\"24px\">\n",
              "    <g>\n",
              "        <path d=\"M19 3H5c-1.1 0-2 .9-2 2v14c0 1.1.9 2 2 2h14c1.1 0 2-.9 2-2V5c0-1.1-.9-2-2-2zM9 17H7v-7h2v7zm4 0h-2V7h2v10zm4 0h-2v-4h2v4z\"/>\n",
              "    </g>\n",
              "</svg>\n",
              "  </button>\n",
              "\n",
              "<style>\n",
              "  .colab-df-quickchart {\n",
              "      --bg-color: #E8F0FE;\n",
              "      --fill-color: #1967D2;\n",
              "      --hover-bg-color: #E2EBFA;\n",
              "      --hover-fill-color: #174EA6;\n",
              "      --disabled-fill-color: #AAA;\n",
              "      --disabled-bg-color: #DDD;\n",
              "  }\n",
              "\n",
              "  [theme=dark] .colab-df-quickchart {\n",
              "      --bg-color: #3B4455;\n",
              "      --fill-color: #D2E3FC;\n",
              "      --hover-bg-color: #434B5C;\n",
              "      --hover-fill-color: #FFFFFF;\n",
              "      --disabled-bg-color: #3B4455;\n",
              "      --disabled-fill-color: #666;\n",
              "  }\n",
              "\n",
              "  .colab-df-quickchart {\n",
              "    background-color: var(--bg-color);\n",
              "    border: none;\n",
              "    border-radius: 50%;\n",
              "    cursor: pointer;\n",
              "    display: none;\n",
              "    fill: var(--fill-color);\n",
              "    height: 32px;\n",
              "    padding: 0;\n",
              "    width: 32px;\n",
              "  }\n",
              "\n",
              "  .colab-df-quickchart:hover {\n",
              "    background-color: var(--hover-bg-color);\n",
              "    box-shadow: 0 1px 2px rgba(60, 64, 67, 0.3), 0 1px 3px 1px rgba(60, 64, 67, 0.15);\n",
              "    fill: var(--button-hover-fill-color);\n",
              "  }\n",
              "\n",
              "  .colab-df-quickchart-complete:disabled,\n",
              "  .colab-df-quickchart-complete:disabled:hover {\n",
              "    background-color: var(--disabled-bg-color);\n",
              "    fill: var(--disabled-fill-color);\n",
              "    box-shadow: none;\n",
              "  }\n",
              "\n",
              "  .colab-df-spinner {\n",
              "    border: 2px solid var(--fill-color);\n",
              "    border-color: transparent;\n",
              "    border-bottom-color: var(--fill-color);\n",
              "    animation:\n",
              "      spin 1s steps(1) infinite;\n",
              "  }\n",
              "\n",
              "  @keyframes spin {\n",
              "    0% {\n",
              "      border-color: transparent;\n",
              "      border-bottom-color: var(--fill-color);\n",
              "      border-left-color: var(--fill-color);\n",
              "    }\n",
              "    20% {\n",
              "      border-color: transparent;\n",
              "      border-left-color: var(--fill-color);\n",
              "      border-top-color: var(--fill-color);\n",
              "    }\n",
              "    30% {\n",
              "      border-color: transparent;\n",
              "      border-left-color: var(--fill-color);\n",
              "      border-top-color: var(--fill-color);\n",
              "      border-right-color: var(--fill-color);\n",
              "    }\n",
              "    40% {\n",
              "      border-color: transparent;\n",
              "      border-right-color: var(--fill-color);\n",
              "      border-top-color: var(--fill-color);\n",
              "    }\n",
              "    60% {\n",
              "      border-color: transparent;\n",
              "      border-right-color: var(--fill-color);\n",
              "    }\n",
              "    80% {\n",
              "      border-color: transparent;\n",
              "      border-right-color: var(--fill-color);\n",
              "      border-bottom-color: var(--fill-color);\n",
              "    }\n",
              "    90% {\n",
              "      border-color: transparent;\n",
              "      border-bottom-color: var(--fill-color);\n",
              "    }\n",
              "  }\n",
              "</style>\n",
              "\n",
              "  <script>\n",
              "    async function quickchart(key) {\n",
              "      const quickchartButtonEl =\n",
              "        document.querySelector('#' + key + ' button');\n",
              "      quickchartButtonEl.disabled = true;  // To prevent multiple clicks.\n",
              "      quickchartButtonEl.classList.add('colab-df-spinner');\n",
              "      try {\n",
              "        const charts = await google.colab.kernel.invokeFunction(\n",
              "            'suggestCharts', [key], {});\n",
              "      } catch (error) {\n",
              "        console.error('Error during call to suggestCharts:', error);\n",
              "      }\n",
              "      quickchartButtonEl.classList.remove('colab-df-spinner');\n",
              "      quickchartButtonEl.classList.add('colab-df-quickchart-complete');\n",
              "    }\n",
              "    (() => {\n",
              "      let quickchartButtonEl =\n",
              "        document.querySelector('#df-cb715c4d-ab23-4047-b212-e739bd76dcd6 button');\n",
              "      quickchartButtonEl.style.display =\n",
              "        google.colab.kernel.accessAllowed ? 'block' : 'none';\n",
              "    })();\n",
              "  </script>\n",
              "</div>\n",
              "    </div>\n",
              "  </div>\n"
            ]
          },
          "metadata": {},
          "execution_count": 59
        }
      ]
    },
    {
      "cell_type": "markdown",
      "source": [
        "Looks like `model_2` performed the best..."
      ],
      "metadata": {
        "id": "BwwbzXUcJjBq"
      }
    },
    {
      "cell_type": "code",
      "source": [
        "model_2.summary()"
      ],
      "metadata": {
        "id": "EGzwZkTwIOHp",
        "outputId": "a4ac370f-d25a-4a11-9bdd-5f8be74fefca",
        "colab": {
          "base_uri": "https://localhost:8080/"
        }
      },
      "execution_count": 60,
      "outputs": [
        {
          "output_type": "stream",
          "name": "stdout",
          "text": [
            "Model: \"sequential_6\"\n",
            "_________________________________________________________________\n",
            " Layer (type)                Output Shape              Param #   \n",
            "=================================================================\n",
            " dense_7 (Dense)             (None, 10)                20        \n",
            "                                                                 \n",
            " dense_8 (Dense)             (None, 1)                 11        \n",
            "                                                                 \n",
            "=================================================================\n",
            "Total params: 31 (124.00 Byte)\n",
            "Trainable params: 31 (124.00 Byte)\n",
            "Non-trainable params: 0 (0.00 Byte)\n",
            "_________________________________________________________________\n"
          ]
        }
      ]
    },
    {
      "cell_type": "markdown",
      "source": [
        "> 🔑**NOTE:** One of your main goals should be to minimize the time between your experiments. The more experiments you do, the more things you'll figure out which don't work and in turn, get closer to figuring out what does work. Remember the machine learning practitioner's motto: \"experiment, experiment, experiment\"."
      ],
      "metadata": {
        "id": "4j899-DiJSOF"
      }
    },
    {
      "cell_type": "markdown",
      "source": [
        "## Tracking your experiments\n",
        "\n",
        "One really good habit in machine learning modelling is to track the results of your experiments.\n",
        "\n",
        "And when doing so, it can be tedious if you're running lots of experiments.\n",
        "\n",
        "Luckily, there are tools to help us!\n",
        "\n",
        "📖**Resource:** As you build more models, you'll want to look into using:\n",
        "* TensorBoard - a component of the TensorFlow library to help track modelling experiments (we'll see this one later).\n",
        "* Weights & Biases - a tool for tracking all kinds of machine learning experiments (plugs straight into TensorBoard)."
      ],
      "metadata": {
        "id": "RCWpo5JpKdqz"
      }
    },
    {
      "cell_type": "markdown",
      "source": [
        "## Saving our models\n",
        "\n",
        "Saving our models allows us to use them outside of google colab or wherever they were trained, such as a web application or a mobile app.\n",
        "\n",
        "There are 2 main formats we can save our model to:\n",
        "1. The SaveModel format\n",
        "2. The HDF5 format"
      ],
      "metadata": {
        "id": "3NKaq3kpKf1y"
      }
    },
    {
      "cell_type": "code",
      "source": [
        "# Save model using the SaveModel format\n",
        "model_2.save(\"best_model_SavedModel_format\")"
      ],
      "metadata": {
        "id": "G10TY1bzLhI-"
      },
      "execution_count": 61,
      "outputs": []
    },
    {
      "cell_type": "code",
      "source": [
        "# Save model in HDF5 format\n",
        "model_2.save(\"best_model_HDF5_format.hdf5\")"
      ],
      "metadata": {
        "id": "kC-t-zL4O4md",
        "outputId": "b6c419b9-fdf4-4b5c-b504-7488b8a6a987",
        "colab": {
          "base_uri": "https://localhost:8080/"
        }
      },
      "execution_count": 62,
      "outputs": [
        {
          "output_type": "stream",
          "name": "stderr",
          "text": [
            "/usr/local/lib/python3.10/dist-packages/keras/src/engine/training.py:3079: UserWarning: You are saving your model as an HDF5 file via `model.save()`. This file format is considered legacy. We recommend using instead the native Keras format, e.g. `model.save('my_model.keras')`.\n",
            "  saving_api.save_model(\n"
          ]
        }
      ]
    },
    {
      "cell_type": "markdown",
      "source": [
        "## Loading in a Saved Model\n"
      ],
      "metadata": {
        "id": "cbinqPCQPkGR"
      }
    },
    {
      "cell_type": "code",
      "source": [
        "# Load in the SavedModel format model\n",
        "loaded_SavedModel_format = tf.keras.models.load_model(\"/content/best_model_SavedModel_format\")\n",
        "loaded_SavedModel_format.summary()"
      ],
      "metadata": {
        "id": "PeOw5L6wh16g",
        "outputId": "f5a91f86-dc12-4ba7-9d53-04610aea023f",
        "colab": {
          "base_uri": "https://localhost:8080/"
        }
      },
      "execution_count": 63,
      "outputs": [
        {
          "output_type": "stream",
          "name": "stdout",
          "text": [
            "Model: \"sequential_6\"\n",
            "_________________________________________________________________\n",
            " Layer (type)                Output Shape              Param #   \n",
            "=================================================================\n",
            " dense_7 (Dense)             (None, 10)                20        \n",
            "                                                                 \n",
            " dense_8 (Dense)             (None, 1)                 11        \n",
            "                                                                 \n",
            "=================================================================\n",
            "Total params: 31 (124.00 Byte)\n",
            "Trainable params: 31 (124.00 Byte)\n",
            "Non-trainable params: 0 (0.00 Byte)\n",
            "_________________________________________________________________\n"
          ]
        }
      ]
    },
    {
      "cell_type": "code",
      "source": [
        "# Compare model_2 predictions with SavedModel format predictions\n",
        "model_2_preds = model_2.predict(X_test)\n",
        "loaded_SavedModel_format_preds = loaded_SavedModel_format.predict(X_test)\n",
        "model_2_preds == loaded_SavedModel_format_preds"
      ],
      "metadata": {
        "id": "YkNtLO_riMQN",
        "outputId": "2a6c7068-aa90-48bc-ae72-f7545ba24efc",
        "colab": {
          "base_uri": "https://localhost:8080/"
        }
      },
      "execution_count": 64,
      "outputs": [
        {
          "output_type": "stream",
          "name": "stdout",
          "text": [
            "1/1 [==============================] - 0s 92ms/step\n",
            "1/1 [==============================] - 0s 98ms/step\n"
          ]
        },
        {
          "output_type": "execute_result",
          "data": {
            "text/plain": [
              "array([[ True],\n",
              "       [ True],\n",
              "       [ True],\n",
              "       [ True],\n",
              "       [ True],\n",
              "       [ True],\n",
              "       [ True],\n",
              "       [ True],\n",
              "       [ True],\n",
              "       [ True]])"
            ]
          },
          "metadata": {},
          "execution_count": 64
        }
      ]
    },
    {
      "cell_type": "code",
      "source": [
        "# Compare he MAE of model_2 preds and loaded_SavedModel preds\n",
        "mae(y_true=y_test, y_pred=model_2_preds) == mae(y_true=y_test, y_pred=loaded_SavedModel_format_preds)"
      ],
      "metadata": {
        "id": "peaQTfa_iSHL",
        "outputId": "6e242dc9-62e9-4c30-d4c9-c81281885066",
        "colab": {
          "base_uri": "https://localhost:8080/"
        }
      },
      "execution_count": 65,
      "outputs": [
        {
          "output_type": "execute_result",
          "data": {
            "text/plain": [
              "<tf.Tensor: shape=(), dtype=bool, numpy=True>"
            ]
          },
          "metadata": {},
          "execution_count": 65
        }
      ]
    },
    {
      "cell_type": "code",
      "source": [
        "# Load in a model using the .h5 format\n",
        "loaded_h5_model = tf.keras.models.load_model(\"/content/best_model_HDF5_format.hdf5\")\n",
        "loaded_h5_model.summary()"
      ],
      "metadata": {
        "id": "_S_vE7e8jy5M",
        "outputId": "e2fc2438-8596-4ac1-e29b-325e91ed2b37",
        "colab": {
          "base_uri": "https://localhost:8080/"
        }
      },
      "execution_count": 66,
      "outputs": [
        {
          "output_type": "stream",
          "name": "stdout",
          "text": [
            "Model: \"sequential_6\"\n",
            "_________________________________________________________________\n",
            " Layer (type)                Output Shape              Param #   \n",
            "=================================================================\n",
            " dense_7 (Dense)             (None, 10)                20        \n",
            "                                                                 \n",
            " dense_8 (Dense)             (None, 1)                 11        \n",
            "                                                                 \n",
            "=================================================================\n",
            "Total params: 31 (124.00 Byte)\n",
            "Trainable params: 31 (124.00 Byte)\n",
            "Non-trainable params: 0 (0.00 Byte)\n",
            "_________________________________________________________________\n"
          ]
        }
      ]
    },
    {
      "cell_type": "code",
      "source": [
        "# Check to see if loaded .h5 model predictions match model_2\n",
        "model_2_preds = model_2.predict(X_test)\n",
        "loaded_h5_model_preds = loaded_h5_model.predict(X_test)\n",
        "model_2_preds == loaded_h5_model_preds"
      ],
      "metadata": {
        "id": "V_exyQSht-Wp",
        "outputId": "fce89070-92f3-4b7c-9f73-3a004201bce4",
        "colab": {
          "base_uri": "https://localhost:8080/"
        }
      },
      "execution_count": 67,
      "outputs": [
        {
          "output_type": "stream",
          "name": "stdout",
          "text": [
            "1/1 [==============================] - 0s 36ms/step\n",
            "1/1 [==============================] - 0s 103ms/step\n"
          ]
        },
        {
          "output_type": "execute_result",
          "data": {
            "text/plain": [
              "array([[ True],\n",
              "       [ True],\n",
              "       [ True],\n",
              "       [ True],\n",
              "       [ True],\n",
              "       [ True],\n",
              "       [ True],\n",
              "       [ True],\n",
              "       [ True],\n",
              "       [ True]])"
            ]
          },
          "metadata": {},
          "execution_count": 67
        }
      ]
    },
    {
      "cell_type": "markdown",
      "source": [
        "## Download a model (or any other file) from Google Colab\n",
        "\n",
        "If you want to download your files from google colab:\n",
        "\n",
        "1. You can go to the \"files\" tab and right click on the file you want and click download\n",
        "2. Use code (see the cell below)\n",
        "3. Save it to google drive and copying it there (see second code cell below)"
      ],
      "metadata": {
        "id": "8C1n_h9tudU0"
      }
    },
    {
      "cell_type": "code",
      "source": [
        "# Download a file from Google Colab\n",
        "from google.colab import files\n",
        "files.download(\"/content/best_model_HDF5_format.hdf5\")"
      ],
      "metadata": {
        "id": "hTqK9lyY9ucn",
        "outputId": "8da3e7c2-5a89-4b8c-c7ab-55adb4e8c386",
        "colab": {
          "base_uri": "https://localhost:8080/",
          "height": 17
        }
      },
      "execution_count": 68,
      "outputs": [
        {
          "output_type": "display_data",
          "data": {
            "text/plain": [
              "<IPython.core.display.Javascript object>"
            ],
            "application/javascript": [
              "\n",
              "    async function download(id, filename, size) {\n",
              "      if (!google.colab.kernel.accessAllowed) {\n",
              "        return;\n",
              "      }\n",
              "      const div = document.createElement('div');\n",
              "      const label = document.createElement('label');\n",
              "      label.textContent = `Downloading \"${filename}\": `;\n",
              "      div.appendChild(label);\n",
              "      const progress = document.createElement('progress');\n",
              "      progress.max = size;\n",
              "      div.appendChild(progress);\n",
              "      document.body.appendChild(div);\n",
              "\n",
              "      const buffers = [];\n",
              "      let downloaded = 0;\n",
              "\n",
              "      const channel = await google.colab.kernel.comms.open(id);\n",
              "      // Send a message to notify the kernel that we're ready.\n",
              "      channel.send({})\n",
              "\n",
              "      for await (const message of channel.messages) {\n",
              "        // Send a message to notify the kernel that we're ready.\n",
              "        channel.send({})\n",
              "        if (message.buffers) {\n",
              "          for (const buffer of message.buffers) {\n",
              "            buffers.push(buffer);\n",
              "            downloaded += buffer.byteLength;\n",
              "            progress.value = downloaded;\n",
              "          }\n",
              "        }\n",
              "      }\n",
              "      const blob = new Blob(buffers, {type: 'application/binary'});\n",
              "      const a = document.createElement('a');\n",
              "      a.href = window.URL.createObjectURL(blob);\n",
              "      a.download = filename;\n",
              "      div.appendChild(a);\n",
              "      a.click();\n",
              "      div.remove();\n",
              "    }\n",
              "  "
            ]
          },
          "metadata": {}
        },
        {
          "output_type": "display_data",
          "data": {
            "text/plain": [
              "<IPython.core.display.Javascript object>"
            ],
            "application/javascript": [
              "download(\"download_0ec637d8-8bea-44de-9474-36646b56d36b\", \"best_model_HDF5_format.hdf5\", 21952)"
            ]
          },
          "metadata": {}
        }
      ]
    },
    {
      "cell_type": "code",
      "source": [
        "from google.colab import drive\n",
        "drive.mount('/content/drive')"
      ],
      "metadata": {
        "id": "CmmUf0ud-3KI",
        "outputId": "fc01f54c-388c-4661-b50b-04c91ce80e68",
        "colab": {
          "base_uri": "https://localhost:8080/"
        }
      },
      "execution_count": 70,
      "outputs": [
        {
          "output_type": "stream",
          "name": "stdout",
          "text": [
            "Mounted at /content/drive\n"
          ]
        }
      ]
    },
    {
      "cell_type": "code",
      "source": [
        "# Save a file from Google Colab to Google Drive (requires mounting Google Drive)\n",
        "!cp /content/best_model_HDF5_format.hdf5 /content/drive/MyDrive/TensorFlow_Course"
      ],
      "metadata": {
        "id": "5ms6r1Ur-Tvl"
      },
      "execution_count": 71,
      "outputs": []
    },
    {
      "cell_type": "code",
      "source": [
        "!ls /content/drive/MyDrive/TensorFlow_Course"
      ],
      "metadata": {
        "id": "3wfCxf7__y9S",
        "outputId": "3d59d6ea-84a2-47e1-a132-5c494dc96de0",
        "colab": {
          "base_uri": "https://localhost:8080/"
        }
      },
      "execution_count": 72,
      "outputs": [
        {
          "output_type": "stream",
          "name": "stdout",
          "text": [
            "/content/drive/MyDrive/TensorFlow_Course\n"
          ]
        }
      ]
    },
    {
      "cell_type": "markdown",
      "source": [
        "## A Larger Example"
      ],
      "metadata": {
        "id": "DtmDsmyz_9pk"
      }
    },
    {
      "cell_type": "code",
      "source": [
        "# Import the required libraries\n",
        "import tensorflow as tf\n",
        "import pandas as pd\n",
        "import matplotlib.pyplot as plt"
      ],
      "metadata": {
        "id": "cusTvhMFBRvW"
      },
      "execution_count": 73,
      "outputs": []
    },
    {
      "cell_type": "code",
      "source": [
        "# Read in the insurance dataset\n",
        "insurance = pd.read_csv(\"https://raw.githubusercontent.com/stedy/Machine-Learning-with-R-datasets/master/insurance.csv\")\n",
        "insurance"
      ],
      "metadata": {
        "id": "pdVYS_U_CvnA",
        "outputId": "c815bdb4-5f73-41af-f579-edc6a41d8644",
        "colab": {
          "base_uri": "https://localhost:8080/",
          "height": 423
        }
      },
      "execution_count": 74,
      "outputs": [
        {
          "output_type": "execute_result",
          "data": {
            "text/plain": [
              "      age     sex     bmi  children smoker     region      charges\n",
              "0      19  female  27.900         0    yes  southwest  16884.92400\n",
              "1      18    male  33.770         1     no  southeast   1725.55230\n",
              "2      28    male  33.000         3     no  southeast   4449.46200\n",
              "3      33    male  22.705         0     no  northwest  21984.47061\n",
              "4      32    male  28.880         0     no  northwest   3866.85520\n",
              "...   ...     ...     ...       ...    ...        ...          ...\n",
              "1333   50    male  30.970         3     no  northwest  10600.54830\n",
              "1334   18  female  31.920         0     no  northeast   2205.98080\n",
              "1335   18  female  36.850         0     no  southeast   1629.83350\n",
              "1336   21  female  25.800         0     no  southwest   2007.94500\n",
              "1337   61  female  29.070         0    yes  northwest  29141.36030\n",
              "\n",
              "[1338 rows x 7 columns]"
            ],
            "text/html": [
              "\n",
              "  <div id=\"df-de451b23-a031-48e6-8b91-3a8380345656\" class=\"colab-df-container\">\n",
              "    <div>\n",
              "<style scoped>\n",
              "    .dataframe tbody tr th:only-of-type {\n",
              "        vertical-align: middle;\n",
              "    }\n",
              "\n",
              "    .dataframe tbody tr th {\n",
              "        vertical-align: top;\n",
              "    }\n",
              "\n",
              "    .dataframe thead th {\n",
              "        text-align: right;\n",
              "    }\n",
              "</style>\n",
              "<table border=\"1\" class=\"dataframe\">\n",
              "  <thead>\n",
              "    <tr style=\"text-align: right;\">\n",
              "      <th></th>\n",
              "      <th>age</th>\n",
              "      <th>sex</th>\n",
              "      <th>bmi</th>\n",
              "      <th>children</th>\n",
              "      <th>smoker</th>\n",
              "      <th>region</th>\n",
              "      <th>charges</th>\n",
              "    </tr>\n",
              "  </thead>\n",
              "  <tbody>\n",
              "    <tr>\n",
              "      <th>0</th>\n",
              "      <td>19</td>\n",
              "      <td>female</td>\n",
              "      <td>27.900</td>\n",
              "      <td>0</td>\n",
              "      <td>yes</td>\n",
              "      <td>southwest</td>\n",
              "      <td>16884.92400</td>\n",
              "    </tr>\n",
              "    <tr>\n",
              "      <th>1</th>\n",
              "      <td>18</td>\n",
              "      <td>male</td>\n",
              "      <td>33.770</td>\n",
              "      <td>1</td>\n",
              "      <td>no</td>\n",
              "      <td>southeast</td>\n",
              "      <td>1725.55230</td>\n",
              "    </tr>\n",
              "    <tr>\n",
              "      <th>2</th>\n",
              "      <td>28</td>\n",
              "      <td>male</td>\n",
              "      <td>33.000</td>\n",
              "      <td>3</td>\n",
              "      <td>no</td>\n",
              "      <td>southeast</td>\n",
              "      <td>4449.46200</td>\n",
              "    </tr>\n",
              "    <tr>\n",
              "      <th>3</th>\n",
              "      <td>33</td>\n",
              "      <td>male</td>\n",
              "      <td>22.705</td>\n",
              "      <td>0</td>\n",
              "      <td>no</td>\n",
              "      <td>northwest</td>\n",
              "      <td>21984.47061</td>\n",
              "    </tr>\n",
              "    <tr>\n",
              "      <th>4</th>\n",
              "      <td>32</td>\n",
              "      <td>male</td>\n",
              "      <td>28.880</td>\n",
              "      <td>0</td>\n",
              "      <td>no</td>\n",
              "      <td>northwest</td>\n",
              "      <td>3866.85520</td>\n",
              "    </tr>\n",
              "    <tr>\n",
              "      <th>...</th>\n",
              "      <td>...</td>\n",
              "      <td>...</td>\n",
              "      <td>...</td>\n",
              "      <td>...</td>\n",
              "      <td>...</td>\n",
              "      <td>...</td>\n",
              "      <td>...</td>\n",
              "    </tr>\n",
              "    <tr>\n",
              "      <th>1333</th>\n",
              "      <td>50</td>\n",
              "      <td>male</td>\n",
              "      <td>30.970</td>\n",
              "      <td>3</td>\n",
              "      <td>no</td>\n",
              "      <td>northwest</td>\n",
              "      <td>10600.54830</td>\n",
              "    </tr>\n",
              "    <tr>\n",
              "      <th>1334</th>\n",
              "      <td>18</td>\n",
              "      <td>female</td>\n",
              "      <td>31.920</td>\n",
              "      <td>0</td>\n",
              "      <td>no</td>\n",
              "      <td>northeast</td>\n",
              "      <td>2205.98080</td>\n",
              "    </tr>\n",
              "    <tr>\n",
              "      <th>1335</th>\n",
              "      <td>18</td>\n",
              "      <td>female</td>\n",
              "      <td>36.850</td>\n",
              "      <td>0</td>\n",
              "      <td>no</td>\n",
              "      <td>southeast</td>\n",
              "      <td>1629.83350</td>\n",
              "    </tr>\n",
              "    <tr>\n",
              "      <th>1336</th>\n",
              "      <td>21</td>\n",
              "      <td>female</td>\n",
              "      <td>25.800</td>\n",
              "      <td>0</td>\n",
              "      <td>no</td>\n",
              "      <td>southwest</td>\n",
              "      <td>2007.94500</td>\n",
              "    </tr>\n",
              "    <tr>\n",
              "      <th>1337</th>\n",
              "      <td>61</td>\n",
              "      <td>female</td>\n",
              "      <td>29.070</td>\n",
              "      <td>0</td>\n",
              "      <td>yes</td>\n",
              "      <td>northwest</td>\n",
              "      <td>29141.36030</td>\n",
              "    </tr>\n",
              "  </tbody>\n",
              "</table>\n",
              "<p>1338 rows × 7 columns</p>\n",
              "</div>\n",
              "    <div class=\"colab-df-buttons\">\n",
              "\n",
              "  <div class=\"colab-df-container\">\n",
              "    <button class=\"colab-df-convert\" onclick=\"convertToInteractive('df-de451b23-a031-48e6-8b91-3a8380345656')\"\n",
              "            title=\"Convert this dataframe to an interactive table.\"\n",
              "            style=\"display:none;\">\n",
              "\n",
              "  <svg xmlns=\"http://www.w3.org/2000/svg\" height=\"24px\" viewBox=\"0 -960 960 960\">\n",
              "    <path d=\"M120-120v-720h720v720H120Zm60-500h600v-160H180v160Zm220 220h160v-160H400v160Zm0 220h160v-160H400v160ZM180-400h160v-160H180v160Zm440 0h160v-160H620v160ZM180-180h160v-160H180v160Zm440 0h160v-160H620v160Z\"/>\n",
              "  </svg>\n",
              "    </button>\n",
              "\n",
              "  <style>\n",
              "    .colab-df-container {\n",
              "      display:flex;\n",
              "      gap: 12px;\n",
              "    }\n",
              "\n",
              "    .colab-df-convert {\n",
              "      background-color: #E8F0FE;\n",
              "      border: none;\n",
              "      border-radius: 50%;\n",
              "      cursor: pointer;\n",
              "      display: none;\n",
              "      fill: #1967D2;\n",
              "      height: 32px;\n",
              "      padding: 0 0 0 0;\n",
              "      width: 32px;\n",
              "    }\n",
              "\n",
              "    .colab-df-convert:hover {\n",
              "      background-color: #E2EBFA;\n",
              "      box-shadow: 0px 1px 2px rgba(60, 64, 67, 0.3), 0px 1px 3px 1px rgba(60, 64, 67, 0.15);\n",
              "      fill: #174EA6;\n",
              "    }\n",
              "\n",
              "    .colab-df-buttons div {\n",
              "      margin-bottom: 4px;\n",
              "    }\n",
              "\n",
              "    [theme=dark] .colab-df-convert {\n",
              "      background-color: #3B4455;\n",
              "      fill: #D2E3FC;\n",
              "    }\n",
              "\n",
              "    [theme=dark] .colab-df-convert:hover {\n",
              "      background-color: #434B5C;\n",
              "      box-shadow: 0px 1px 3px 1px rgba(0, 0, 0, 0.15);\n",
              "      filter: drop-shadow(0px 1px 2px rgba(0, 0, 0, 0.3));\n",
              "      fill: #FFFFFF;\n",
              "    }\n",
              "  </style>\n",
              "\n",
              "    <script>\n",
              "      const buttonEl =\n",
              "        document.querySelector('#df-de451b23-a031-48e6-8b91-3a8380345656 button.colab-df-convert');\n",
              "      buttonEl.style.display =\n",
              "        google.colab.kernel.accessAllowed ? 'block' : 'none';\n",
              "\n",
              "      async function convertToInteractive(key) {\n",
              "        const element = document.querySelector('#df-de451b23-a031-48e6-8b91-3a8380345656');\n",
              "        const dataTable =\n",
              "          await google.colab.kernel.invokeFunction('convertToInteractive',\n",
              "                                                    [key], {});\n",
              "        if (!dataTable) return;\n",
              "\n",
              "        const docLinkHtml = 'Like what you see? Visit the ' +\n",
              "          '<a target=\"_blank\" href=https://colab.research.google.com/notebooks/data_table.ipynb>data table notebook</a>'\n",
              "          + ' to learn more about interactive tables.';\n",
              "        element.innerHTML = '';\n",
              "        dataTable['output_type'] = 'display_data';\n",
              "        await google.colab.output.renderOutput(dataTable, element);\n",
              "        const docLink = document.createElement('div');\n",
              "        docLink.innerHTML = docLinkHtml;\n",
              "        element.appendChild(docLink);\n",
              "      }\n",
              "    </script>\n",
              "  </div>\n",
              "\n",
              "\n",
              "<div id=\"df-34606385-8545-4b6d-acff-65b71cc4e066\">\n",
              "  <button class=\"colab-df-quickchart\" onclick=\"quickchart('df-34606385-8545-4b6d-acff-65b71cc4e066')\"\n",
              "            title=\"Suggest charts\"\n",
              "            style=\"display:none;\">\n",
              "\n",
              "<svg xmlns=\"http://www.w3.org/2000/svg\" height=\"24px\"viewBox=\"0 0 24 24\"\n",
              "     width=\"24px\">\n",
              "    <g>\n",
              "        <path d=\"M19 3H5c-1.1 0-2 .9-2 2v14c0 1.1.9 2 2 2h14c1.1 0 2-.9 2-2V5c0-1.1-.9-2-2-2zM9 17H7v-7h2v7zm4 0h-2V7h2v10zm4 0h-2v-4h2v4z\"/>\n",
              "    </g>\n",
              "</svg>\n",
              "  </button>\n",
              "\n",
              "<style>\n",
              "  .colab-df-quickchart {\n",
              "      --bg-color: #E8F0FE;\n",
              "      --fill-color: #1967D2;\n",
              "      --hover-bg-color: #E2EBFA;\n",
              "      --hover-fill-color: #174EA6;\n",
              "      --disabled-fill-color: #AAA;\n",
              "      --disabled-bg-color: #DDD;\n",
              "  }\n",
              "\n",
              "  [theme=dark] .colab-df-quickchart {\n",
              "      --bg-color: #3B4455;\n",
              "      --fill-color: #D2E3FC;\n",
              "      --hover-bg-color: #434B5C;\n",
              "      --hover-fill-color: #FFFFFF;\n",
              "      --disabled-bg-color: #3B4455;\n",
              "      --disabled-fill-color: #666;\n",
              "  }\n",
              "\n",
              "  .colab-df-quickchart {\n",
              "    background-color: var(--bg-color);\n",
              "    border: none;\n",
              "    border-radius: 50%;\n",
              "    cursor: pointer;\n",
              "    display: none;\n",
              "    fill: var(--fill-color);\n",
              "    height: 32px;\n",
              "    padding: 0;\n",
              "    width: 32px;\n",
              "  }\n",
              "\n",
              "  .colab-df-quickchart:hover {\n",
              "    background-color: var(--hover-bg-color);\n",
              "    box-shadow: 0 1px 2px rgba(60, 64, 67, 0.3), 0 1px 3px 1px rgba(60, 64, 67, 0.15);\n",
              "    fill: var(--button-hover-fill-color);\n",
              "  }\n",
              "\n",
              "  .colab-df-quickchart-complete:disabled,\n",
              "  .colab-df-quickchart-complete:disabled:hover {\n",
              "    background-color: var(--disabled-bg-color);\n",
              "    fill: var(--disabled-fill-color);\n",
              "    box-shadow: none;\n",
              "  }\n",
              "\n",
              "  .colab-df-spinner {\n",
              "    border: 2px solid var(--fill-color);\n",
              "    border-color: transparent;\n",
              "    border-bottom-color: var(--fill-color);\n",
              "    animation:\n",
              "      spin 1s steps(1) infinite;\n",
              "  }\n",
              "\n",
              "  @keyframes spin {\n",
              "    0% {\n",
              "      border-color: transparent;\n",
              "      border-bottom-color: var(--fill-color);\n",
              "      border-left-color: var(--fill-color);\n",
              "    }\n",
              "    20% {\n",
              "      border-color: transparent;\n",
              "      border-left-color: var(--fill-color);\n",
              "      border-top-color: var(--fill-color);\n",
              "    }\n",
              "    30% {\n",
              "      border-color: transparent;\n",
              "      border-left-color: var(--fill-color);\n",
              "      border-top-color: var(--fill-color);\n",
              "      border-right-color: var(--fill-color);\n",
              "    }\n",
              "    40% {\n",
              "      border-color: transparent;\n",
              "      border-right-color: var(--fill-color);\n",
              "      border-top-color: var(--fill-color);\n",
              "    }\n",
              "    60% {\n",
              "      border-color: transparent;\n",
              "      border-right-color: var(--fill-color);\n",
              "    }\n",
              "    80% {\n",
              "      border-color: transparent;\n",
              "      border-right-color: var(--fill-color);\n",
              "      border-bottom-color: var(--fill-color);\n",
              "    }\n",
              "    90% {\n",
              "      border-color: transparent;\n",
              "      border-bottom-color: var(--fill-color);\n",
              "    }\n",
              "  }\n",
              "</style>\n",
              "\n",
              "  <script>\n",
              "    async function quickchart(key) {\n",
              "      const quickchartButtonEl =\n",
              "        document.querySelector('#' + key + ' button');\n",
              "      quickchartButtonEl.disabled = true;  // To prevent multiple clicks.\n",
              "      quickchartButtonEl.classList.add('colab-df-spinner');\n",
              "      try {\n",
              "        const charts = await google.colab.kernel.invokeFunction(\n",
              "            'suggestCharts', [key], {});\n",
              "      } catch (error) {\n",
              "        console.error('Error during call to suggestCharts:', error);\n",
              "      }\n",
              "      quickchartButtonEl.classList.remove('colab-df-spinner');\n",
              "      quickchartButtonEl.classList.add('colab-df-quickchart-complete');\n",
              "    }\n",
              "    (() => {\n",
              "      let quickchartButtonEl =\n",
              "        document.querySelector('#df-34606385-8545-4b6d-acff-65b71cc4e066 button');\n",
              "      quickchartButtonEl.style.display =\n",
              "        google.colab.kernel.accessAllowed ? 'block' : 'none';\n",
              "    })();\n",
              "  </script>\n",
              "</div>\n",
              "    </div>\n",
              "  </div>\n"
            ]
          },
          "metadata": {},
          "execution_count": 74
        }
      ]
    },
    {
      "cell_type": "code",
      "source": [
        "# pandas.get_dummies - converts categorical variable into dummy/indicator variables (for one hot encoding)\n",
        "insurance_one_hot = pd.get_dummies(insurance)\n",
        "insurance_one_hot.head()"
      ],
      "metadata": {
        "id": "pdcdTK59C7vy",
        "outputId": "b5129332-1061-44ff-f572-c658b9934d00",
        "colab": {
          "base_uri": "https://localhost:8080/",
          "height": 206
        }
      },
      "execution_count": 82,
      "outputs": [
        {
          "output_type": "execute_result",
          "data": {
            "text/plain": [
              "   age     bmi  children      charges  sex_female  sex_male  smoker_no  \\\n",
              "0   19  27.900         0  16884.92400           1         0          0   \n",
              "1   18  33.770         1   1725.55230           0         1          1   \n",
              "2   28  33.000         3   4449.46200           0         1          1   \n",
              "3   33  22.705         0  21984.47061           0         1          1   \n",
              "4   32  28.880         0   3866.85520           0         1          1   \n",
              "\n",
              "   smoker_yes  region_northeast  region_northwest  region_southeast  \\\n",
              "0           1                 0                 0                 0   \n",
              "1           0                 0                 0                 1   \n",
              "2           0                 0                 0                 1   \n",
              "3           0                 0                 1                 0   \n",
              "4           0                 0                 1                 0   \n",
              "\n",
              "   region_southwest  \n",
              "0                 1  \n",
              "1                 0  \n",
              "2                 0  \n",
              "3                 0  \n",
              "4                 0  "
            ],
            "text/html": [
              "\n",
              "  <div id=\"df-39db1a2b-eace-4036-a166-747c97abc74d\" class=\"colab-df-container\">\n",
              "    <div>\n",
              "<style scoped>\n",
              "    .dataframe tbody tr th:only-of-type {\n",
              "        vertical-align: middle;\n",
              "    }\n",
              "\n",
              "    .dataframe tbody tr th {\n",
              "        vertical-align: top;\n",
              "    }\n",
              "\n",
              "    .dataframe thead th {\n",
              "        text-align: right;\n",
              "    }\n",
              "</style>\n",
              "<table border=\"1\" class=\"dataframe\">\n",
              "  <thead>\n",
              "    <tr style=\"text-align: right;\">\n",
              "      <th></th>\n",
              "      <th>age</th>\n",
              "      <th>bmi</th>\n",
              "      <th>children</th>\n",
              "      <th>charges</th>\n",
              "      <th>sex_female</th>\n",
              "      <th>sex_male</th>\n",
              "      <th>smoker_no</th>\n",
              "      <th>smoker_yes</th>\n",
              "      <th>region_northeast</th>\n",
              "      <th>region_northwest</th>\n",
              "      <th>region_southeast</th>\n",
              "      <th>region_southwest</th>\n",
              "    </tr>\n",
              "  </thead>\n",
              "  <tbody>\n",
              "    <tr>\n",
              "      <th>0</th>\n",
              "      <td>19</td>\n",
              "      <td>27.900</td>\n",
              "      <td>0</td>\n",
              "      <td>16884.92400</td>\n",
              "      <td>1</td>\n",
              "      <td>0</td>\n",
              "      <td>0</td>\n",
              "      <td>1</td>\n",
              "      <td>0</td>\n",
              "      <td>0</td>\n",
              "      <td>0</td>\n",
              "      <td>1</td>\n",
              "    </tr>\n",
              "    <tr>\n",
              "      <th>1</th>\n",
              "      <td>18</td>\n",
              "      <td>33.770</td>\n",
              "      <td>1</td>\n",
              "      <td>1725.55230</td>\n",
              "      <td>0</td>\n",
              "      <td>1</td>\n",
              "      <td>1</td>\n",
              "      <td>0</td>\n",
              "      <td>0</td>\n",
              "      <td>0</td>\n",
              "      <td>1</td>\n",
              "      <td>0</td>\n",
              "    </tr>\n",
              "    <tr>\n",
              "      <th>2</th>\n",
              "      <td>28</td>\n",
              "      <td>33.000</td>\n",
              "      <td>3</td>\n",
              "      <td>4449.46200</td>\n",
              "      <td>0</td>\n",
              "      <td>1</td>\n",
              "      <td>1</td>\n",
              "      <td>0</td>\n",
              "      <td>0</td>\n",
              "      <td>0</td>\n",
              "      <td>1</td>\n",
              "      <td>0</td>\n",
              "    </tr>\n",
              "    <tr>\n",
              "      <th>3</th>\n",
              "      <td>33</td>\n",
              "      <td>22.705</td>\n",
              "      <td>0</td>\n",
              "      <td>21984.47061</td>\n",
              "      <td>0</td>\n",
              "      <td>1</td>\n",
              "      <td>1</td>\n",
              "      <td>0</td>\n",
              "      <td>0</td>\n",
              "      <td>1</td>\n",
              "      <td>0</td>\n",
              "      <td>0</td>\n",
              "    </tr>\n",
              "    <tr>\n",
              "      <th>4</th>\n",
              "      <td>32</td>\n",
              "      <td>28.880</td>\n",
              "      <td>0</td>\n",
              "      <td>3866.85520</td>\n",
              "      <td>0</td>\n",
              "      <td>1</td>\n",
              "      <td>1</td>\n",
              "      <td>0</td>\n",
              "      <td>0</td>\n",
              "      <td>1</td>\n",
              "      <td>0</td>\n",
              "      <td>0</td>\n",
              "    </tr>\n",
              "  </tbody>\n",
              "</table>\n",
              "</div>\n",
              "    <div class=\"colab-df-buttons\">\n",
              "\n",
              "  <div class=\"colab-df-container\">\n",
              "    <button class=\"colab-df-convert\" onclick=\"convertToInteractive('df-39db1a2b-eace-4036-a166-747c97abc74d')\"\n",
              "            title=\"Convert this dataframe to an interactive table.\"\n",
              "            style=\"display:none;\">\n",
              "\n",
              "  <svg xmlns=\"http://www.w3.org/2000/svg\" height=\"24px\" viewBox=\"0 -960 960 960\">\n",
              "    <path d=\"M120-120v-720h720v720H120Zm60-500h600v-160H180v160Zm220 220h160v-160H400v160Zm0 220h160v-160H400v160ZM180-400h160v-160H180v160Zm440 0h160v-160H620v160ZM180-180h160v-160H180v160Zm440 0h160v-160H620v160Z\"/>\n",
              "  </svg>\n",
              "    </button>\n",
              "\n",
              "  <style>\n",
              "    .colab-df-container {\n",
              "      display:flex;\n",
              "      gap: 12px;\n",
              "    }\n",
              "\n",
              "    .colab-df-convert {\n",
              "      background-color: #E8F0FE;\n",
              "      border: none;\n",
              "      border-radius: 50%;\n",
              "      cursor: pointer;\n",
              "      display: none;\n",
              "      fill: #1967D2;\n",
              "      height: 32px;\n",
              "      padding: 0 0 0 0;\n",
              "      width: 32px;\n",
              "    }\n",
              "\n",
              "    .colab-df-convert:hover {\n",
              "      background-color: #E2EBFA;\n",
              "      box-shadow: 0px 1px 2px rgba(60, 64, 67, 0.3), 0px 1px 3px 1px rgba(60, 64, 67, 0.15);\n",
              "      fill: #174EA6;\n",
              "    }\n",
              "\n",
              "    .colab-df-buttons div {\n",
              "      margin-bottom: 4px;\n",
              "    }\n",
              "\n",
              "    [theme=dark] .colab-df-convert {\n",
              "      background-color: #3B4455;\n",
              "      fill: #D2E3FC;\n",
              "    }\n",
              "\n",
              "    [theme=dark] .colab-df-convert:hover {\n",
              "      background-color: #434B5C;\n",
              "      box-shadow: 0px 1px 3px 1px rgba(0, 0, 0, 0.15);\n",
              "      filter: drop-shadow(0px 1px 2px rgba(0, 0, 0, 0.3));\n",
              "      fill: #FFFFFF;\n",
              "    }\n",
              "  </style>\n",
              "\n",
              "    <script>\n",
              "      const buttonEl =\n",
              "        document.querySelector('#df-39db1a2b-eace-4036-a166-747c97abc74d button.colab-df-convert');\n",
              "      buttonEl.style.display =\n",
              "        google.colab.kernel.accessAllowed ? 'block' : 'none';\n",
              "\n",
              "      async function convertToInteractive(key) {\n",
              "        const element = document.querySelector('#df-39db1a2b-eace-4036-a166-747c97abc74d');\n",
              "        const dataTable =\n",
              "          await google.colab.kernel.invokeFunction('convertToInteractive',\n",
              "                                                    [key], {});\n",
              "        if (!dataTable) return;\n",
              "\n",
              "        const docLinkHtml = 'Like what you see? Visit the ' +\n",
              "          '<a target=\"_blank\" href=https://colab.research.google.com/notebooks/data_table.ipynb>data table notebook</a>'\n",
              "          + ' to learn more about interactive tables.';\n",
              "        element.innerHTML = '';\n",
              "        dataTable['output_type'] = 'display_data';\n",
              "        await google.colab.output.renderOutput(dataTable, element);\n",
              "        const docLink = document.createElement('div');\n",
              "        docLink.innerHTML = docLinkHtml;\n",
              "        element.appendChild(docLink);\n",
              "      }\n",
              "    </script>\n",
              "  </div>\n",
              "\n",
              "\n",
              "<div id=\"df-f7b840b8-8575-4ac1-bb58-df4d87ffb690\">\n",
              "  <button class=\"colab-df-quickchart\" onclick=\"quickchart('df-f7b840b8-8575-4ac1-bb58-df4d87ffb690')\"\n",
              "            title=\"Suggest charts\"\n",
              "            style=\"display:none;\">\n",
              "\n",
              "<svg xmlns=\"http://www.w3.org/2000/svg\" height=\"24px\"viewBox=\"0 0 24 24\"\n",
              "     width=\"24px\">\n",
              "    <g>\n",
              "        <path d=\"M19 3H5c-1.1 0-2 .9-2 2v14c0 1.1.9 2 2 2h14c1.1 0 2-.9 2-2V5c0-1.1-.9-2-2-2zM9 17H7v-7h2v7zm4 0h-2V7h2v10zm4 0h-2v-4h2v4z\"/>\n",
              "    </g>\n",
              "</svg>\n",
              "  </button>\n",
              "\n",
              "<style>\n",
              "  .colab-df-quickchart {\n",
              "      --bg-color: #E8F0FE;\n",
              "      --fill-color: #1967D2;\n",
              "      --hover-bg-color: #E2EBFA;\n",
              "      --hover-fill-color: #174EA6;\n",
              "      --disabled-fill-color: #AAA;\n",
              "      --disabled-bg-color: #DDD;\n",
              "  }\n",
              "\n",
              "  [theme=dark] .colab-df-quickchart {\n",
              "      --bg-color: #3B4455;\n",
              "      --fill-color: #D2E3FC;\n",
              "      --hover-bg-color: #434B5C;\n",
              "      --hover-fill-color: #FFFFFF;\n",
              "      --disabled-bg-color: #3B4455;\n",
              "      --disabled-fill-color: #666;\n",
              "  }\n",
              "\n",
              "  .colab-df-quickchart {\n",
              "    background-color: var(--bg-color);\n",
              "    border: none;\n",
              "    border-radius: 50%;\n",
              "    cursor: pointer;\n",
              "    display: none;\n",
              "    fill: var(--fill-color);\n",
              "    height: 32px;\n",
              "    padding: 0;\n",
              "    width: 32px;\n",
              "  }\n",
              "\n",
              "  .colab-df-quickchart:hover {\n",
              "    background-color: var(--hover-bg-color);\n",
              "    box-shadow: 0 1px 2px rgba(60, 64, 67, 0.3), 0 1px 3px 1px rgba(60, 64, 67, 0.15);\n",
              "    fill: var(--button-hover-fill-color);\n",
              "  }\n",
              "\n",
              "  .colab-df-quickchart-complete:disabled,\n",
              "  .colab-df-quickchart-complete:disabled:hover {\n",
              "    background-color: var(--disabled-bg-color);\n",
              "    fill: var(--disabled-fill-color);\n",
              "    box-shadow: none;\n",
              "  }\n",
              "\n",
              "  .colab-df-spinner {\n",
              "    border: 2px solid var(--fill-color);\n",
              "    border-color: transparent;\n",
              "    border-bottom-color: var(--fill-color);\n",
              "    animation:\n",
              "      spin 1s steps(1) infinite;\n",
              "  }\n",
              "\n",
              "  @keyframes spin {\n",
              "    0% {\n",
              "      border-color: transparent;\n",
              "      border-bottom-color: var(--fill-color);\n",
              "      border-left-color: var(--fill-color);\n",
              "    }\n",
              "    20% {\n",
              "      border-color: transparent;\n",
              "      border-left-color: var(--fill-color);\n",
              "      border-top-color: var(--fill-color);\n",
              "    }\n",
              "    30% {\n",
              "      border-color: transparent;\n",
              "      border-left-color: var(--fill-color);\n",
              "      border-top-color: var(--fill-color);\n",
              "      border-right-color: var(--fill-color);\n",
              "    }\n",
              "    40% {\n",
              "      border-color: transparent;\n",
              "      border-right-color: var(--fill-color);\n",
              "      border-top-color: var(--fill-color);\n",
              "    }\n",
              "    60% {\n",
              "      border-color: transparent;\n",
              "      border-right-color: var(--fill-color);\n",
              "    }\n",
              "    80% {\n",
              "      border-color: transparent;\n",
              "      border-right-color: var(--fill-color);\n",
              "      border-bottom-color: var(--fill-color);\n",
              "    }\n",
              "    90% {\n",
              "      border-color: transparent;\n",
              "      border-bottom-color: var(--fill-color);\n",
              "    }\n",
              "  }\n",
              "</style>\n",
              "\n",
              "  <script>\n",
              "    async function quickchart(key) {\n",
              "      const quickchartButtonEl =\n",
              "        document.querySelector('#' + key + ' button');\n",
              "      quickchartButtonEl.disabled = true;  // To prevent multiple clicks.\n",
              "      quickchartButtonEl.classList.add('colab-df-spinner');\n",
              "      try {\n",
              "        const charts = await google.colab.kernel.invokeFunction(\n",
              "            'suggestCharts', [key], {});\n",
              "      } catch (error) {\n",
              "        console.error('Error during call to suggestCharts:', error);\n",
              "      }\n",
              "      quickchartButtonEl.classList.remove('colab-df-spinner');\n",
              "      quickchartButtonEl.classList.add('colab-df-quickchart-complete');\n",
              "    }\n",
              "    (() => {\n",
              "      let quickchartButtonEl =\n",
              "        document.querySelector('#df-f7b840b8-8575-4ac1-bb58-df4d87ffb690 button');\n",
              "      quickchartButtonEl.style.display =\n",
              "        google.colab.kernel.accessAllowed ? 'block' : 'none';\n",
              "    })();\n",
              "  </script>\n",
              "</div>\n",
              "    </div>\n",
              "  </div>\n"
            ]
          },
          "metadata": {},
          "execution_count": 82
        }
      ]
    },
    {
      "cell_type": "code",
      "source": [
        "# Create X & y values (features and labels)\n",
        "# Create the features\n",
        "X_large_dataset = insurance_one_hot.drop(\"charges\", axis=1)\n",
        "\n",
        "# Create the labels\n",
        "y_large_dataset =  insurance_one_hot[\"charges\"]"
      ],
      "metadata": {
        "id": "8L_cbvHZErsA"
      },
      "execution_count": 83,
      "outputs": []
    },
    {
      "cell_type": "code",
      "source": [
        "# View X\n",
        "X_large_dataset.head()"
      ],
      "metadata": {
        "id": "q57v--wzMFoo",
        "outputId": "bb08b706-03af-48e6-f004-7a15230002f0",
        "colab": {
          "base_uri": "https://localhost:8080/",
          "height": 206
        }
      },
      "execution_count": 84,
      "outputs": [
        {
          "output_type": "execute_result",
          "data": {
            "text/plain": [
              "   age     bmi  children  sex_female  sex_male  smoker_no  smoker_yes  \\\n",
              "0   19  27.900         0           1         0          0           1   \n",
              "1   18  33.770         1           0         1          1           0   \n",
              "2   28  33.000         3           0         1          1           0   \n",
              "3   33  22.705         0           0         1          1           0   \n",
              "4   32  28.880         0           0         1          1           0   \n",
              "\n",
              "   region_northeast  region_northwest  region_southeast  region_southwest  \n",
              "0                 0                 0                 0                 1  \n",
              "1                 0                 0                 1                 0  \n",
              "2                 0                 0                 1                 0  \n",
              "3                 0                 1                 0                 0  \n",
              "4                 0                 1                 0                 0  "
            ],
            "text/html": [
              "\n",
              "  <div id=\"df-37739a51-f908-4e91-a7c0-85c47de68619\" class=\"colab-df-container\">\n",
              "    <div>\n",
              "<style scoped>\n",
              "    .dataframe tbody tr th:only-of-type {\n",
              "        vertical-align: middle;\n",
              "    }\n",
              "\n",
              "    .dataframe tbody tr th {\n",
              "        vertical-align: top;\n",
              "    }\n",
              "\n",
              "    .dataframe thead th {\n",
              "        text-align: right;\n",
              "    }\n",
              "</style>\n",
              "<table border=\"1\" class=\"dataframe\">\n",
              "  <thead>\n",
              "    <tr style=\"text-align: right;\">\n",
              "      <th></th>\n",
              "      <th>age</th>\n",
              "      <th>bmi</th>\n",
              "      <th>children</th>\n",
              "      <th>sex_female</th>\n",
              "      <th>sex_male</th>\n",
              "      <th>smoker_no</th>\n",
              "      <th>smoker_yes</th>\n",
              "      <th>region_northeast</th>\n",
              "      <th>region_northwest</th>\n",
              "      <th>region_southeast</th>\n",
              "      <th>region_southwest</th>\n",
              "    </tr>\n",
              "  </thead>\n",
              "  <tbody>\n",
              "    <tr>\n",
              "      <th>0</th>\n",
              "      <td>19</td>\n",
              "      <td>27.900</td>\n",
              "      <td>0</td>\n",
              "      <td>1</td>\n",
              "      <td>0</td>\n",
              "      <td>0</td>\n",
              "      <td>1</td>\n",
              "      <td>0</td>\n",
              "      <td>0</td>\n",
              "      <td>0</td>\n",
              "      <td>1</td>\n",
              "    </tr>\n",
              "    <tr>\n",
              "      <th>1</th>\n",
              "      <td>18</td>\n",
              "      <td>33.770</td>\n",
              "      <td>1</td>\n",
              "      <td>0</td>\n",
              "      <td>1</td>\n",
              "      <td>1</td>\n",
              "      <td>0</td>\n",
              "      <td>0</td>\n",
              "      <td>0</td>\n",
              "      <td>1</td>\n",
              "      <td>0</td>\n",
              "    </tr>\n",
              "    <tr>\n",
              "      <th>2</th>\n",
              "      <td>28</td>\n",
              "      <td>33.000</td>\n",
              "      <td>3</td>\n",
              "      <td>0</td>\n",
              "      <td>1</td>\n",
              "      <td>1</td>\n",
              "      <td>0</td>\n",
              "      <td>0</td>\n",
              "      <td>0</td>\n",
              "      <td>1</td>\n",
              "      <td>0</td>\n",
              "    </tr>\n",
              "    <tr>\n",
              "      <th>3</th>\n",
              "      <td>33</td>\n",
              "      <td>22.705</td>\n",
              "      <td>0</td>\n",
              "      <td>0</td>\n",
              "      <td>1</td>\n",
              "      <td>1</td>\n",
              "      <td>0</td>\n",
              "      <td>0</td>\n",
              "      <td>1</td>\n",
              "      <td>0</td>\n",
              "      <td>0</td>\n",
              "    </tr>\n",
              "    <tr>\n",
              "      <th>4</th>\n",
              "      <td>32</td>\n",
              "      <td>28.880</td>\n",
              "      <td>0</td>\n",
              "      <td>0</td>\n",
              "      <td>1</td>\n",
              "      <td>1</td>\n",
              "      <td>0</td>\n",
              "      <td>0</td>\n",
              "      <td>1</td>\n",
              "      <td>0</td>\n",
              "      <td>0</td>\n",
              "    </tr>\n",
              "  </tbody>\n",
              "</table>\n",
              "</div>\n",
              "    <div class=\"colab-df-buttons\">\n",
              "\n",
              "  <div class=\"colab-df-container\">\n",
              "    <button class=\"colab-df-convert\" onclick=\"convertToInteractive('df-37739a51-f908-4e91-a7c0-85c47de68619')\"\n",
              "            title=\"Convert this dataframe to an interactive table.\"\n",
              "            style=\"display:none;\">\n",
              "\n",
              "  <svg xmlns=\"http://www.w3.org/2000/svg\" height=\"24px\" viewBox=\"0 -960 960 960\">\n",
              "    <path d=\"M120-120v-720h720v720H120Zm60-500h600v-160H180v160Zm220 220h160v-160H400v160Zm0 220h160v-160H400v160ZM180-400h160v-160H180v160Zm440 0h160v-160H620v160ZM180-180h160v-160H180v160Zm440 0h160v-160H620v160Z\"/>\n",
              "  </svg>\n",
              "    </button>\n",
              "\n",
              "  <style>\n",
              "    .colab-df-container {\n",
              "      display:flex;\n",
              "      gap: 12px;\n",
              "    }\n",
              "\n",
              "    .colab-df-convert {\n",
              "      background-color: #E8F0FE;\n",
              "      border: none;\n",
              "      border-radius: 50%;\n",
              "      cursor: pointer;\n",
              "      display: none;\n",
              "      fill: #1967D2;\n",
              "      height: 32px;\n",
              "      padding: 0 0 0 0;\n",
              "      width: 32px;\n",
              "    }\n",
              "\n",
              "    .colab-df-convert:hover {\n",
              "      background-color: #E2EBFA;\n",
              "      box-shadow: 0px 1px 2px rgba(60, 64, 67, 0.3), 0px 1px 3px 1px rgba(60, 64, 67, 0.15);\n",
              "      fill: #174EA6;\n",
              "    }\n",
              "\n",
              "    .colab-df-buttons div {\n",
              "      margin-bottom: 4px;\n",
              "    }\n",
              "\n",
              "    [theme=dark] .colab-df-convert {\n",
              "      background-color: #3B4455;\n",
              "      fill: #D2E3FC;\n",
              "    }\n",
              "\n",
              "    [theme=dark] .colab-df-convert:hover {\n",
              "      background-color: #434B5C;\n",
              "      box-shadow: 0px 1px 3px 1px rgba(0, 0, 0, 0.15);\n",
              "      filter: drop-shadow(0px 1px 2px rgba(0, 0, 0, 0.3));\n",
              "      fill: #FFFFFF;\n",
              "    }\n",
              "  </style>\n",
              "\n",
              "    <script>\n",
              "      const buttonEl =\n",
              "        document.querySelector('#df-37739a51-f908-4e91-a7c0-85c47de68619 button.colab-df-convert');\n",
              "      buttonEl.style.display =\n",
              "        google.colab.kernel.accessAllowed ? 'block' : 'none';\n",
              "\n",
              "      async function convertToInteractive(key) {\n",
              "        const element = document.querySelector('#df-37739a51-f908-4e91-a7c0-85c47de68619');\n",
              "        const dataTable =\n",
              "          await google.colab.kernel.invokeFunction('convertToInteractive',\n",
              "                                                    [key], {});\n",
              "        if (!dataTable) return;\n",
              "\n",
              "        const docLinkHtml = 'Like what you see? Visit the ' +\n",
              "          '<a target=\"_blank\" href=https://colab.research.google.com/notebooks/data_table.ipynb>data table notebook</a>'\n",
              "          + ' to learn more about interactive tables.';\n",
              "        element.innerHTML = '';\n",
              "        dataTable['output_type'] = 'display_data';\n",
              "        await google.colab.output.renderOutput(dataTable, element);\n",
              "        const docLink = document.createElement('div');\n",
              "        docLink.innerHTML = docLinkHtml;\n",
              "        element.appendChild(docLink);\n",
              "      }\n",
              "    </script>\n",
              "  </div>\n",
              "\n",
              "\n",
              "<div id=\"df-6cadfc75-cd2d-42d0-8151-6e6f7e87f12e\">\n",
              "  <button class=\"colab-df-quickchart\" onclick=\"quickchart('df-6cadfc75-cd2d-42d0-8151-6e6f7e87f12e')\"\n",
              "            title=\"Suggest charts\"\n",
              "            style=\"display:none;\">\n",
              "\n",
              "<svg xmlns=\"http://www.w3.org/2000/svg\" height=\"24px\"viewBox=\"0 0 24 24\"\n",
              "     width=\"24px\">\n",
              "    <g>\n",
              "        <path d=\"M19 3H5c-1.1 0-2 .9-2 2v14c0 1.1.9 2 2 2h14c1.1 0 2-.9 2-2V5c0-1.1-.9-2-2-2zM9 17H7v-7h2v7zm4 0h-2V7h2v10zm4 0h-2v-4h2v4z\"/>\n",
              "    </g>\n",
              "</svg>\n",
              "  </button>\n",
              "\n",
              "<style>\n",
              "  .colab-df-quickchart {\n",
              "      --bg-color: #E8F0FE;\n",
              "      --fill-color: #1967D2;\n",
              "      --hover-bg-color: #E2EBFA;\n",
              "      --hover-fill-color: #174EA6;\n",
              "      --disabled-fill-color: #AAA;\n",
              "      --disabled-bg-color: #DDD;\n",
              "  }\n",
              "\n",
              "  [theme=dark] .colab-df-quickchart {\n",
              "      --bg-color: #3B4455;\n",
              "      --fill-color: #D2E3FC;\n",
              "      --hover-bg-color: #434B5C;\n",
              "      --hover-fill-color: #FFFFFF;\n",
              "      --disabled-bg-color: #3B4455;\n",
              "      --disabled-fill-color: #666;\n",
              "  }\n",
              "\n",
              "  .colab-df-quickchart {\n",
              "    background-color: var(--bg-color);\n",
              "    border: none;\n",
              "    border-radius: 50%;\n",
              "    cursor: pointer;\n",
              "    display: none;\n",
              "    fill: var(--fill-color);\n",
              "    height: 32px;\n",
              "    padding: 0;\n",
              "    width: 32px;\n",
              "  }\n",
              "\n",
              "  .colab-df-quickchart:hover {\n",
              "    background-color: var(--hover-bg-color);\n",
              "    box-shadow: 0 1px 2px rgba(60, 64, 67, 0.3), 0 1px 3px 1px rgba(60, 64, 67, 0.15);\n",
              "    fill: var(--button-hover-fill-color);\n",
              "  }\n",
              "\n",
              "  .colab-df-quickchart-complete:disabled,\n",
              "  .colab-df-quickchart-complete:disabled:hover {\n",
              "    background-color: var(--disabled-bg-color);\n",
              "    fill: var(--disabled-fill-color);\n",
              "    box-shadow: none;\n",
              "  }\n",
              "\n",
              "  .colab-df-spinner {\n",
              "    border: 2px solid var(--fill-color);\n",
              "    border-color: transparent;\n",
              "    border-bottom-color: var(--fill-color);\n",
              "    animation:\n",
              "      spin 1s steps(1) infinite;\n",
              "  }\n",
              "\n",
              "  @keyframes spin {\n",
              "    0% {\n",
              "      border-color: transparent;\n",
              "      border-bottom-color: var(--fill-color);\n",
              "      border-left-color: var(--fill-color);\n",
              "    }\n",
              "    20% {\n",
              "      border-color: transparent;\n",
              "      border-left-color: var(--fill-color);\n",
              "      border-top-color: var(--fill-color);\n",
              "    }\n",
              "    30% {\n",
              "      border-color: transparent;\n",
              "      border-left-color: var(--fill-color);\n",
              "      border-top-color: var(--fill-color);\n",
              "      border-right-color: var(--fill-color);\n",
              "    }\n",
              "    40% {\n",
              "      border-color: transparent;\n",
              "      border-right-color: var(--fill-color);\n",
              "      border-top-color: var(--fill-color);\n",
              "    }\n",
              "    60% {\n",
              "      border-color: transparent;\n",
              "      border-right-color: var(--fill-color);\n",
              "    }\n",
              "    80% {\n",
              "      border-color: transparent;\n",
              "      border-right-color: var(--fill-color);\n",
              "      border-bottom-color: var(--fill-color);\n",
              "    }\n",
              "    90% {\n",
              "      border-color: transparent;\n",
              "      border-bottom-color: var(--fill-color);\n",
              "    }\n",
              "  }\n",
              "</style>\n",
              "\n",
              "  <script>\n",
              "    async function quickchart(key) {\n",
              "      const quickchartButtonEl =\n",
              "        document.querySelector('#' + key + ' button');\n",
              "      quickchartButtonEl.disabled = true;  // To prevent multiple clicks.\n",
              "      quickchartButtonEl.classList.add('colab-df-spinner');\n",
              "      try {\n",
              "        const charts = await google.colab.kernel.invokeFunction(\n",
              "            'suggestCharts', [key], {});\n",
              "      } catch (error) {\n",
              "        console.error('Error during call to suggestCharts:', error);\n",
              "      }\n",
              "      quickchartButtonEl.classList.remove('colab-df-spinner');\n",
              "      quickchartButtonEl.classList.add('colab-df-quickchart-complete');\n",
              "    }\n",
              "    (() => {\n",
              "      let quickchartButtonEl =\n",
              "        document.querySelector('#df-6cadfc75-cd2d-42d0-8151-6e6f7e87f12e button');\n",
              "      quickchartButtonEl.style.display =\n",
              "        google.colab.kernel.accessAllowed ? 'block' : 'none';\n",
              "    })();\n",
              "  </script>\n",
              "</div>\n",
              "    </div>\n",
              "  </div>\n"
            ]
          },
          "metadata": {},
          "execution_count": 84
        }
      ]
    },
    {
      "cell_type": "code",
      "source": [
        "# View y\n",
        "y_large_dataset.head()"
      ],
      "metadata": {
        "id": "6rHrv1_2NU81",
        "outputId": "f533e385-e507-4500-9889-f2b5274d0f75",
        "colab": {
          "base_uri": "https://localhost:8080/"
        }
      },
      "execution_count": 85,
      "outputs": [
        {
          "output_type": "execute_result",
          "data": {
            "text/plain": [
              "0    16884.92400\n",
              "1     1725.55230\n",
              "2     4449.46200\n",
              "3    21984.47061\n",
              "4     3866.85520\n",
              "Name: charges, dtype: float64"
            ]
          },
          "metadata": {},
          "execution_count": 85
        }
      ]
    },
    {
      "cell_type": "code",
      "source": [
        "# Create training and test sets\n",
        "from sklearn.model_selection import train_test_split\n",
        "X_new_train, X_new_test, y_new_train, y_new_test = train_test_split(X_large_dataset, y_large_dataset, test_size=0.2, random_state=42)\n",
        "X_new_train = np.array(X_new_train)\n",
        "X_new_test = np.array(X_new_test)\n",
        "y_new_train = np.array(y_new_train)\n",
        "y_new_test = np.array(y_new_test)\n",
        "len(X_new_train), type(X_new_train), len(X_new_test), type(X_new_test), len(y_new_train), type(y_new_train), len(y_new_test), type(y_new_test)\n",
        "# X_new_train"
      ],
      "metadata": {
        "id": "U1iwx2-vLlaK",
        "outputId": "2001170e-0d65-4023-98af-df6620aeafac",
        "colab": {
          "base_uri": "https://localhost:8080/"
        }
      },
      "execution_count": 122,
      "outputs": [
        {
          "output_type": "execute_result",
          "data": {
            "text/plain": [
              "(1070,\n",
              " numpy.ndarray,\n",
              " 268,\n",
              " numpy.ndarray,\n",
              " 1070,\n",
              " numpy.ndarray,\n",
              " 268,\n",
              " numpy.ndarray)"
            ]
          },
          "metadata": {},
          "execution_count": 122
        }
      ]
    },
    {
      "cell_type": "code",
      "source": [
        "# Build a neural network (sort of like model_2 above)\n",
        "# Set the seed for reproducibility\n",
        "tf.random.set_seed(42)\n",
        "\n",
        "# Create the model\n",
        "insurance_model = tf.keras.Sequential([\n",
        "    tf.keras.layers.Dense(10),\n",
        "    tf.keras.layers.Dense(1)\n",
        "])\n",
        "\n",
        "# Compile the model\n",
        "insurance_model.compile(\n",
        "    loss=tf.keras.losses.mae,\n",
        "    optimizer=tf.keras.optimizers.SGD(),\n",
        "    metrics=[\"mae\"]\n",
        ")\n",
        "\n",
        "# Fit the model\n",
        "insurance_model.fit(X_new_train, y_new_train, epochs=100)"
      ],
      "metadata": {
        "id": "718xcctvLoPD",
        "outputId": "92bb50e7-6885-4018-9fbe-63cd906d3f2c",
        "colab": {
          "base_uri": "https://localhost:8080/"
        }
      },
      "execution_count": 123,
      "outputs": [
        {
          "output_type": "stream",
          "name": "stdout",
          "text": [
            "Epoch 1/100\n",
            "34/34 [==============================] - 0s 2ms/step - loss: 8715.1211 - mae: 8715.1211\n",
            "Epoch 2/100\n",
            "34/34 [==============================] - 0s 2ms/step - loss: 7873.9395 - mae: 7873.9395\n",
            "Epoch 3/100\n",
            "34/34 [==============================] - 0s 2ms/step - loss: 7599.4531 - mae: 7599.4531\n",
            "Epoch 4/100\n",
            "34/34 [==============================] - 0s 2ms/step - loss: 7709.9336 - mae: 7709.9336\n",
            "Epoch 5/100\n",
            "34/34 [==============================] - 0s 2ms/step - loss: 7673.0840 - mae: 7673.0840\n",
            "Epoch 6/100\n",
            "34/34 [==============================] - 0s 2ms/step - loss: 7576.6636 - mae: 7576.6636\n",
            "Epoch 7/100\n",
            "34/34 [==============================] - 0s 2ms/step - loss: 7531.0210 - mae: 7531.0210\n",
            "Epoch 8/100\n",
            "34/34 [==============================] - 0s 2ms/step - loss: 7749.9624 - mae: 7749.9624\n",
            "Epoch 9/100\n",
            "34/34 [==============================] - 0s 2ms/step - loss: 7554.6523 - mae: 7554.6523\n",
            "Epoch 10/100\n",
            "34/34 [==============================] - 0s 2ms/step - loss: 7772.8809 - mae: 7772.8809\n",
            "Epoch 11/100\n",
            "34/34 [==============================] - 0s 2ms/step - loss: 7520.2671 - mae: 7520.2671\n",
            "Epoch 12/100\n",
            "34/34 [==============================] - 0s 2ms/step - loss: 7400.8950 - mae: 7400.8950\n",
            "Epoch 13/100\n",
            "34/34 [==============================] - 0s 2ms/step - loss: 7629.2227 - mae: 7629.2227\n",
            "Epoch 14/100\n",
            "34/34 [==============================] - 0s 2ms/step - loss: 7717.5464 - mae: 7717.5464\n",
            "Epoch 15/100\n",
            "34/34 [==============================] - 0s 2ms/step - loss: 7647.6738 - mae: 7647.6738\n",
            "Epoch 16/100\n",
            "34/34 [==============================] - 0s 2ms/step - loss: 7686.3779 - mae: 7686.3779\n",
            "Epoch 17/100\n",
            "34/34 [==============================] - 0s 2ms/step - loss: 7564.7544 - mae: 7564.7544\n",
            "Epoch 18/100\n",
            "34/34 [==============================] - 0s 2ms/step - loss: 7811.2046 - mae: 7811.2046\n",
            "Epoch 19/100\n",
            "34/34 [==============================] - 0s 2ms/step - loss: 7609.2261 - mae: 7609.2261\n",
            "Epoch 20/100\n",
            "34/34 [==============================] - 0s 2ms/step - loss: 7915.7344 - mae: 7915.7344\n",
            "Epoch 21/100\n",
            "34/34 [==============================] - 0s 2ms/step - loss: 7505.2173 - mae: 7505.2173\n",
            "Epoch 22/100\n",
            "34/34 [==============================] - 0s 2ms/step - loss: 7844.3730 - mae: 7844.3730\n",
            "Epoch 23/100\n",
            "34/34 [==============================] - 0s 2ms/step - loss: 7634.0171 - mae: 7634.0171\n",
            "Epoch 24/100\n",
            "34/34 [==============================] - 0s 2ms/step - loss: 7521.8940 - mae: 7521.8940\n",
            "Epoch 25/100\n",
            "34/34 [==============================] - 0s 2ms/step - loss: 7569.4727 - mae: 7569.4727\n",
            "Epoch 26/100\n",
            "34/34 [==============================] - 0s 2ms/step - loss: 7716.8857 - mae: 7716.8857\n",
            "Epoch 27/100\n",
            "34/34 [==============================] - 0s 2ms/step - loss: 7695.6465 - mae: 7695.6465\n",
            "Epoch 28/100\n",
            "34/34 [==============================] - 0s 2ms/step - loss: 7327.5112 - mae: 7327.5112\n",
            "Epoch 29/100\n",
            "34/34 [==============================] - 0s 2ms/step - loss: 7608.2749 - mae: 7608.2749\n",
            "Epoch 30/100\n",
            "34/34 [==============================] - 0s 2ms/step - loss: 7530.2710 - mae: 7530.2710\n",
            "Epoch 31/100\n",
            "34/34 [==============================] - 0s 2ms/step - loss: 7502.3579 - mae: 7502.3579\n",
            "Epoch 32/100\n",
            "34/34 [==============================] - 0s 2ms/step - loss: 7482.2002 - mae: 7482.2002\n",
            "Epoch 33/100\n",
            "34/34 [==============================] - 0s 2ms/step - loss: 7316.4409 - mae: 7316.4409\n",
            "Epoch 34/100\n",
            "34/34 [==============================] - 0s 2ms/step - loss: 7498.5923 - mae: 7498.5923\n",
            "Epoch 35/100\n",
            "34/34 [==============================] - 0s 2ms/step - loss: 7381.2290 - mae: 7381.2290\n",
            "Epoch 36/100\n",
            "34/34 [==============================] - 0s 2ms/step - loss: 7624.0381 - mae: 7624.0381\n",
            "Epoch 37/100\n",
            "34/34 [==============================] - 0s 2ms/step - loss: 7636.4116 - mae: 7636.4116\n",
            "Epoch 38/100\n",
            "34/34 [==============================] - 0s 2ms/step - loss: 7598.1021 - mae: 7598.1021\n",
            "Epoch 39/100\n",
            "34/34 [==============================] - 0s 2ms/step - loss: 7571.1528 - mae: 7571.1528\n",
            "Epoch 40/100\n",
            "34/34 [==============================] - 0s 2ms/step - loss: 7339.4551 - mae: 7339.4551\n",
            "Epoch 41/100\n",
            "34/34 [==============================] - 0s 2ms/step - loss: 7728.8096 - mae: 7728.8096\n",
            "Epoch 42/100\n",
            "34/34 [==============================] - 0s 2ms/step - loss: 7284.8506 - mae: 7284.8506\n",
            "Epoch 43/100\n",
            "34/34 [==============================] - 0s 2ms/step - loss: 7683.1899 - mae: 7683.1899\n",
            "Epoch 44/100\n",
            "34/34 [==============================] - 0s 2ms/step - loss: 7471.9443 - mae: 7471.9443\n",
            "Epoch 45/100\n",
            "34/34 [==============================] - 0s 2ms/step - loss: 7542.9609 - mae: 7542.9609\n",
            "Epoch 46/100\n",
            "34/34 [==============================] - 0s 2ms/step - loss: 7345.1665 - mae: 7345.1665\n",
            "Epoch 47/100\n",
            "34/34 [==============================] - 0s 2ms/step - loss: 7404.2217 - mae: 7404.2217\n",
            "Epoch 48/100\n",
            "34/34 [==============================] - 0s 2ms/step - loss: 7533.6045 - mae: 7533.6045\n",
            "Epoch 49/100\n",
            "34/34 [==============================] - 0s 2ms/step - loss: 7546.8071 - mae: 7546.8071\n",
            "Epoch 50/100\n",
            "34/34 [==============================] - 0s 2ms/step - loss: 7494.3984 - mae: 7494.3984\n",
            "Epoch 51/100\n",
            "34/34 [==============================] - 0s 2ms/step - loss: 7406.0142 - mae: 7406.0142\n",
            "Epoch 52/100\n",
            "34/34 [==============================] - 0s 2ms/step - loss: 7576.7222 - mae: 7576.7222\n",
            "Epoch 53/100\n",
            "34/34 [==============================] - 0s 2ms/step - loss: 7556.2349 - mae: 7556.2349\n",
            "Epoch 54/100\n",
            "34/34 [==============================] - 0s 2ms/step - loss: 7322.4526 - mae: 7322.4526\n",
            "Epoch 55/100\n",
            "34/34 [==============================] - 0s 2ms/step - loss: 7305.7881 - mae: 7305.7881\n",
            "Epoch 56/100\n",
            "34/34 [==============================] - 0s 2ms/step - loss: 7432.5996 - mae: 7432.5996\n",
            "Epoch 57/100\n",
            "34/34 [==============================] - 0s 2ms/step - loss: 7331.8047 - mae: 7331.8047\n",
            "Epoch 58/100\n",
            "34/34 [==============================] - 0s 2ms/step - loss: 7497.4307 - mae: 7497.4307\n",
            "Epoch 59/100\n",
            "34/34 [==============================] - 0s 2ms/step - loss: 7555.7036 - mae: 7555.7036\n",
            "Epoch 60/100\n",
            "34/34 [==============================] - 0s 3ms/step - loss: 7361.6074 - mae: 7361.6074\n",
            "Epoch 61/100\n",
            "34/34 [==============================] - 0s 3ms/step - loss: 7377.5474 - mae: 7377.5474\n",
            "Epoch 62/100\n",
            "34/34 [==============================] - 0s 2ms/step - loss: 7242.2402 - mae: 7242.2402\n",
            "Epoch 63/100\n",
            "34/34 [==============================] - 0s 3ms/step - loss: 7222.6357 - mae: 7222.6357\n",
            "Epoch 64/100\n",
            "34/34 [==============================] - 0s 3ms/step - loss: 7321.5596 - mae: 7321.5596\n",
            "Epoch 65/100\n",
            "34/34 [==============================] - 0s 2ms/step - loss: 7284.5054 - mae: 7284.5054\n",
            "Epoch 66/100\n",
            "34/34 [==============================] - 0s 2ms/step - loss: 7317.2095 - mae: 7317.2095\n",
            "Epoch 67/100\n",
            "34/34 [==============================] - 0s 2ms/step - loss: 7431.7129 - mae: 7431.7129\n",
            "Epoch 68/100\n",
            "34/34 [==============================] - 0s 2ms/step - loss: 7416.9336 - mae: 7416.9336\n",
            "Epoch 69/100\n",
            "34/34 [==============================] - 0s 2ms/step - loss: 7518.0688 - mae: 7518.0688\n",
            "Epoch 70/100\n",
            "34/34 [==============================] - 0s 2ms/step - loss: 7622.0688 - mae: 7622.0688\n",
            "Epoch 71/100\n",
            "34/34 [==============================] - 0s 3ms/step - loss: 7181.9180 - mae: 7181.9180\n",
            "Epoch 72/100\n",
            "34/34 [==============================] - 0s 3ms/step - loss: 7449.4185 - mae: 7449.4185\n",
            "Epoch 73/100\n",
            "34/34 [==============================] - 0s 2ms/step - loss: 7342.6660 - mae: 7342.6660\n",
            "Epoch 74/100\n",
            "34/34 [==============================] - 0s 2ms/step - loss: 7492.4243 - mae: 7492.4243\n",
            "Epoch 75/100\n",
            "34/34 [==============================] - 0s 2ms/step - loss: 7275.5264 - mae: 7275.5264\n",
            "Epoch 76/100\n",
            "34/34 [==============================] - 0s 3ms/step - loss: 7099.2988 - mae: 7099.2988\n",
            "Epoch 77/100\n",
            "34/34 [==============================] - 0s 2ms/step - loss: 7130.6050 - mae: 7130.6050\n",
            "Epoch 78/100\n",
            "34/34 [==============================] - 0s 2ms/step - loss: 7096.2998 - mae: 7096.2998\n",
            "Epoch 79/100\n",
            "34/34 [==============================] - 0s 2ms/step - loss: 7499.3857 - mae: 7499.3857\n",
            "Epoch 80/100\n",
            "34/34 [==============================] - 0s 2ms/step - loss: 7166.8672 - mae: 7166.8672\n",
            "Epoch 81/100\n",
            "34/34 [==============================] - 0s 2ms/step - loss: 7215.7358 - mae: 7215.7358\n",
            "Epoch 82/100\n",
            "34/34 [==============================] - 0s 3ms/step - loss: 7273.2920 - mae: 7273.2920\n",
            "Epoch 83/100\n",
            "34/34 [==============================] - 0s 3ms/step - loss: 7544.0195 - mae: 7544.0195\n",
            "Epoch 84/100\n",
            "34/34 [==============================] - 0s 2ms/step - loss: 7431.6196 - mae: 7431.6196\n",
            "Epoch 85/100\n",
            "34/34 [==============================] - 0s 2ms/step - loss: 7551.9663 - mae: 7551.9663\n",
            "Epoch 86/100\n",
            "34/34 [==============================] - 0s 3ms/step - loss: 7524.8882 - mae: 7524.8877\n",
            "Epoch 87/100\n",
            "34/34 [==============================] - 0s 3ms/step - loss: 7291.1729 - mae: 7291.1729\n",
            "Epoch 88/100\n",
            "34/34 [==============================] - 0s 3ms/step - loss: 7398.1621 - mae: 7398.1621\n",
            "Epoch 89/100\n",
            "34/34 [==============================] - 0s 3ms/step - loss: 7464.1533 - mae: 7464.1533\n",
            "Epoch 90/100\n",
            "34/34 [==============================] - 0s 3ms/step - loss: 7256.7397 - mae: 7256.7397\n",
            "Epoch 91/100\n",
            "34/34 [==============================] - 0s 2ms/step - loss: 7329.6392 - mae: 7329.6392\n",
            "Epoch 92/100\n",
            "34/34 [==============================] - 0s 2ms/step - loss: 7401.5044 - mae: 7401.5044\n",
            "Epoch 93/100\n",
            "34/34 [==============================] - 0s 3ms/step - loss: 7490.2939 - mae: 7490.2939\n",
            "Epoch 94/100\n",
            "34/34 [==============================] - 0s 2ms/step - loss: 7300.7163 - mae: 7300.7163\n",
            "Epoch 95/100\n",
            "34/34 [==============================] - 0s 2ms/step - loss: 7339.6909 - mae: 7339.6909\n",
            "Epoch 96/100\n",
            "34/34 [==============================] - 0s 3ms/step - loss: 7227.8188 - mae: 7227.8188\n",
            "Epoch 97/100\n",
            "34/34 [==============================] - 0s 3ms/step - loss: 7297.2900 - mae: 7297.2900\n",
            "Epoch 98/100\n",
            "34/34 [==============================] - 0s 3ms/step - loss: 7367.8408 - mae: 7367.8408\n",
            "Epoch 99/100\n",
            "34/34 [==============================] - 0s 3ms/step - loss: 7164.5195 - mae: 7164.5195\n",
            "Epoch 100/100\n",
            "34/34 [==============================] - 0s 2ms/step - loss: 7348.7012 - mae: 7348.7012\n"
          ]
        },
        {
          "output_type": "execute_result",
          "data": {
            "text/plain": [
              "<keras.src.callbacks.History at 0x7a383674bbe0>"
            ]
          },
          "metadata": {},
          "execution_count": 123
        }
      ]
    },
    {
      "cell_type": "code",
      "source": [
        "# Check the results of the insurance model on the test data\n",
        "insurance_model.evaluate(X_new_test, y_new_test)"
      ],
      "metadata": {
        "id": "FtqxRxd7JNlS",
        "outputId": "6b22f794-afc5-4ffd-af3e-9503e432a434",
        "colab": {
          "base_uri": "https://localhost:8080/"
        }
      },
      "execution_count": 124,
      "outputs": [
        {
          "output_type": "stream",
          "name": "stdout",
          "text": [
            "9/9 [==============================] - 0s 3ms/step - loss: 8595.1992 - mae: 8595.1992\n"
          ]
        },
        {
          "output_type": "execute_result",
          "data": {
            "text/plain": [
              "[8595.19921875, 8595.19921875]"
            ]
          },
          "metadata": {},
          "execution_count": 124
        }
      ]
    },
    {
      "cell_type": "code",
      "source": [
        "np.median(y_new_train), y_new_train.mean()"
      ],
      "metadata": {
        "id": "jnSufrubS_BA",
        "outputId": "67a1bb56-8a2c-45fd-f157-afe1b5f9de83",
        "colab": {
          "base_uri": "https://localhost:8080/"
        }
      },
      "execution_count": 125,
      "outputs": [
        {
          "output_type": "execute_result",
          "data": {
            "text/plain": [
              "(9575.4421, 13346.089736364485)"
            ]
          },
          "metadata": {},
          "execution_count": 125
        }
      ]
    },
    {
      "cell_type": "markdown",
      "source": [
        "Right now it looks like our model isnt performing well...lets try to improve it\n",
        "\n",
        "To (try) to improve our model we'll run 2 experiments\n",
        "1. extra layer with more hidden units and use adam optimizer\n",
        "2. train longer\n",
        "3. insert your own experiment here"
      ],
      "metadata": {
        "id": "Lvqt_-lsTDtf"
      }
    },
    {
      "cell_type": "code",
      "source": [
        "# set random seed\n",
        "tf.random.set_seed(42)\n",
        "\n",
        "# create the model\n",
        "insurance_model_2 = tf.keras.Sequential([\n",
        "    tf.keras.layers.Dense(100),\n",
        "    tf.keras.layers.Dense(10),\n",
        "    tf.keras.layers.Dense(1),\n",
        "])\n",
        "\n",
        "# Compile the model\n",
        "insurance_model_2.compile(\n",
        "    loss=tf.keras.losses.mae,\n",
        "    optimizer=tf.keras.optimizers.Adam(),\n",
        "    metrics=[\"mae\"]\n",
        ")\n",
        "\n",
        "# Fit the model\n",
        "insurance_model_2.fit(X_new_train, y_new_train, epochs=100, verbose=0)"
      ],
      "metadata": {
        "id": "SimP6h7jT6Xm",
        "outputId": "d4505ad6-6050-4cc0-bb1e-9cbf3c291621",
        "colab": {
          "base_uri": "https://localhost:8080/"
        }
      },
      "execution_count": 126,
      "outputs": [
        {
          "output_type": "execute_result",
          "data": {
            "text/plain": [
              "<keras.src.callbacks.History at 0x7a383665f640>"
            ]
          },
          "metadata": {},
          "execution_count": 126
        }
      ]
    },
    {
      "cell_type": "code",
      "source": [
        "# Evaluate the larger model (model_2)\n",
        "insurance_model_2.evaluate(X_new_test, y_new_test)"
      ],
      "metadata": {
        "id": "IDZL1k219XJa",
        "outputId": "bfbba781-c28b-4c6f-8fcb-ec17b0c2a05c",
        "colab": {
          "base_uri": "https://localhost:8080/"
        }
      },
      "execution_count": 127,
      "outputs": [
        {
          "output_type": "stream",
          "name": "stdout",
          "text": [
            "9/9 [==============================] - 0s 4ms/step - loss: 5023.4590 - mae: 5023.4590\n"
          ]
        },
        {
          "output_type": "execute_result",
          "data": {
            "text/plain": [
              "[5023.458984375, 5023.458984375]"
            ]
          },
          "metadata": {},
          "execution_count": 127
        }
      ]
    },
    {
      "cell_type": "code",
      "source": [
        "insurance_model.evaluate(X_new_test, y_new_test)"
      ],
      "metadata": {
        "id": "KzzRr82oAbrz",
        "outputId": "18ad1f9a-c808-4094-85ac-14c740282ccc",
        "colab": {
          "base_uri": "https://localhost:8080/"
        }
      },
      "execution_count": 128,
      "outputs": [
        {
          "output_type": "stream",
          "name": "stdout",
          "text": [
            "9/9 [==============================] - 0s 4ms/step - loss: 8595.1992 - mae: 8595.1992\n"
          ]
        },
        {
          "output_type": "execute_result",
          "data": {
            "text/plain": [
              "[8595.19921875, 8595.19921875]"
            ]
          },
          "metadata": {},
          "execution_count": 128
        }
      ]
    },
    {
      "cell_type": "code",
      "source": [
        "# set random seed\n",
        "tf.random.set_seed(42)\n",
        "callback = tf.keras.callbacks.EarlyStopping(monitor='loss', patience=10)\n",
        "\n",
        "# create the model\n",
        "insurance_model_3 = tf.keras.Sequential([\n",
        "    tf.keras.layers.Dense(100),\n",
        "    tf.keras.layers.Dense(10),\n",
        "    tf.keras.layers.Dense(1),\n",
        "])\n",
        "\n",
        "# Compile the model\n",
        "insurance_model_3.compile(\n",
        "    loss=tf.keras.losses.mae,\n",
        "    optimizer=tf.keras.optimizers.Adam(),\n",
        "    metrics=[\"mae\"]\n",
        ")\n",
        "\n",
        "# Fit the model\n",
        "history = insurance_model_3.fit(X_new_train, y_new_train, epochs=1000, callbacks=[callback])"
      ],
      "metadata": {
        "id": "XwES3Y2fBEsQ"
      },
      "execution_count": null,
      "outputs": []
    },
    {
      "cell_type": "code",
      "source": [
        "# Evaluate model_3\n",
        "insurance_model_3.evaluate(X_new_test, y_new_test)"
      ],
      "metadata": {
        "id": "fi1w2UxfBYgn",
        "outputId": "0c4860e4-6aff-4823-fd27-dcbe4035b8a9",
        "colab": {
          "base_uri": "https://localhost:8080/"
        }
      },
      "execution_count": 143,
      "outputs": [
        {
          "output_type": "stream",
          "name": "stdout",
          "text": [
            "9/9 [==============================] - 0s 6ms/step - loss: 3180.0579 - mae: 3180.0579\n"
          ]
        },
        {
          "output_type": "execute_result",
          "data": {
            "text/plain": [
              "[3180.057861328125, 3180.057861328125]"
            ]
          },
          "metadata": {},
          "execution_count": 143
        }
      ]
    },
    {
      "cell_type": "code",
      "source": [
        "insurance_model.evaluate(X_new_test, y_new_test)"
      ],
      "metadata": {
        "id": "96Zqg_LGB0sh",
        "outputId": "c02463ed-aa6a-4db1-8fa7-9d9633a121d3",
        "colab": {
          "base_uri": "https://localhost:8080/"
        }
      },
      "execution_count": 144,
      "outputs": [
        {
          "output_type": "stream",
          "name": "stdout",
          "text": [
            "9/9 [==============================] - 0s 3ms/step - loss: 8595.1992 - mae: 8595.1992\n"
          ]
        },
        {
          "output_type": "execute_result",
          "data": {
            "text/plain": [
              "[8595.19921875, 8595.19921875]"
            ]
          },
          "metadata": {},
          "execution_count": 144
        }
      ]
    },
    {
      "cell_type": "code",
      "source": [
        "# Plot history (also known as a loss curve or training curve)\n",
        "pd.DataFrame(history.history).plot()\n",
        "plt.ylabel(\"loss\")\n",
        "plt.xlabel(\"epochs\")"
      ],
      "metadata": {
        "id": "OI5Rp-VPB_ZD",
        "outputId": "48792c09-3a1a-4d7b-f9c6-caaba1a53b9a",
        "colab": {
          "base_uri": "https://localhost:8080/",
          "height": 467
        }
      },
      "execution_count": 145,
      "outputs": [
        {
          "output_type": "execute_result",
          "data": {
            "text/plain": [
              "Text(0.5, 0, 'epochs')"
            ]
          },
          "metadata": {},
          "execution_count": 145
        },
        {
          "output_type": "display_data",
          "data": {
            "text/plain": [
              "<Figure size 640x480 with 1 Axes>"
            ],
            "image/png": "[encoded data removed]"
          },
          "metadata": {}
        }
      ]
    },
    {
      "cell_type": "markdown",
      "source": [
        "> ❓ **Question: ** How long should i train for?\n",
        "\n",
        "It depends. Really...it depends on the problem you're working on. However, many people have asked this question before...so TensorFlow has a solution! It's called the [EarlyStopping Callback](https://www.tensorflow.org/api_docs/python/tf/keras/callbacks/EarlyStopping), which is a TensorFlow component you can add to your model to stop training once it stops improving a certain metric."
      ],
      "metadata": {
        "id": "2GUk2l3zHUpt"
      }
    },
    {
      "cell_type": "markdown",
      "source": [
        "## Preprocessing data (normalization and standardization)\n",
        "\n",
        "In terms of scaling values, neural networks tend to prefer normalization.\n",
        "\n",
        "If you're not sure on which to use, you could try both and see which performs better."
      ],
      "metadata": {
        "id": "dXJl87BgH8X2"
      }
    },
    {
      "cell_type": "code",
      "source": [
        "import pandas as pd\n",
        "import tensorflow as tf\n",
        "import matplotlib.pyplot as plt\n",
        "\n",
        "# Read in the insurance dataset\n",
        "insurance = pd.read_csv(\"https://raw.githubusercontent.com/stedy/Machine-Learning-with-R-datasets/master/insurance.csv\")\n",
        "insurance"
      ],
      "metadata": {
        "id": "J-7kLgr6MMms",
        "outputId": "f07945ab-f79b-4dcf-b2f3-b521633caf59",
        "colab": {
          "base_uri": "https://localhost:8080/",
          "height": 423
        }
      },
      "execution_count": 152,
      "outputs": [
        {
          "output_type": "execute_result",
          "data": {
            "text/plain": [
              "      age     sex     bmi  children smoker     region      charges\n",
              "0      19  female  27.900         0    yes  southwest  16884.92400\n",
              "1      18    male  33.770         1     no  southeast   1725.55230\n",
              "2      28    male  33.000         3     no  southeast   4449.46200\n",
              "3      33    male  22.705         0     no  northwest  21984.47061\n",
              "4      32    male  28.880         0     no  northwest   3866.85520\n",
              "...   ...     ...     ...       ...    ...        ...          ...\n",
              "1333   50    male  30.970         3     no  northwest  10600.54830\n",
              "1334   18  female  31.920         0     no  northeast   2205.98080\n",
              "1335   18  female  36.850         0     no  southeast   1629.83350\n",
              "1336   21  female  25.800         0     no  southwest   2007.94500\n",
              "1337   61  female  29.070         0    yes  northwest  29141.36030\n",
              "\n",
              "[1338 rows x 7 columns]"
            ],
            "text/html": [
              "\n",
              "  <div id=\"df-8a0b9bd0-d8cf-46b5-80e5-2ae2a1a8f524\" class=\"colab-df-container\">\n",
              "    <div>\n",
              "<style scoped>\n",
              "    .dataframe tbody tr th:only-of-type {\n",
              "        vertical-align: middle;\n",
              "    }\n",
              "\n",
              "    .dataframe tbody tr th {\n",
              "        vertical-align: top;\n",
              "    }\n",
              "\n",
              "    .dataframe thead th {\n",
              "        text-align: right;\n",
              "    }\n",
              "</style>\n",
              "<table border=\"1\" class=\"dataframe\">\n",
              "  <thead>\n",
              "    <tr style=\"text-align: right;\">\n",
              "      <th></th>\n",
              "      <th>age</th>\n",
              "      <th>sex</th>\n",
              "      <th>bmi</th>\n",
              "      <th>children</th>\n",
              "      <th>smoker</th>\n",
              "      <th>region</th>\n",
              "      <th>charges</th>\n",
              "    </tr>\n",
              "  </thead>\n",
              "  <tbody>\n",
              "    <tr>\n",
              "      <th>0</th>\n",
              "      <td>19</td>\n",
              "      <td>female</td>\n",
              "      <td>27.900</td>\n",
              "      <td>0</td>\n",
              "      <td>yes</td>\n",
              "      <td>southwest</td>\n",
              "      <td>16884.92400</td>\n",
              "    </tr>\n",
              "    <tr>\n",
              "      <th>1</th>\n",
              "      <td>18</td>\n",
              "      <td>male</td>\n",
              "      <td>33.770</td>\n",
              "      <td>1</td>\n",
              "      <td>no</td>\n",
              "      <td>southeast</td>\n",
              "      <td>1725.55230</td>\n",
              "    </tr>\n",
              "    <tr>\n",
              "      <th>2</th>\n",
              "      <td>28</td>\n",
              "      <td>male</td>\n",
              "      <td>33.000</td>\n",
              "      <td>3</td>\n",
              "      <td>no</td>\n",
              "      <td>southeast</td>\n",
              "      <td>4449.46200</td>\n",
              "    </tr>\n",
              "    <tr>\n",
              "      <th>3</th>\n",
              "      <td>33</td>\n",
              "      <td>male</td>\n",
              "      <td>22.705</td>\n",
              "      <td>0</td>\n",
              "      <td>no</td>\n",
              "      <td>northwest</td>\n",
              "      <td>21984.47061</td>\n",
              "    </tr>\n",
              "    <tr>\n",
              "      <th>4</th>\n",
              "      <td>32</td>\n",
              "      <td>male</td>\n",
              "      <td>28.880</td>\n",
              "      <td>0</td>\n",
              "      <td>no</td>\n",
              "      <td>northwest</td>\n",
              "      <td>3866.85520</td>\n",
              "    </tr>\n",
              "    <tr>\n",
              "      <th>...</th>\n",
              "      <td>...</td>\n",
              "      <td>...</td>\n",
              "      <td>...</td>\n",
              "      <td>...</td>\n",
              "      <td>...</td>\n",
              "      <td>...</td>\n",
              "      <td>...</td>\n",
              "    </tr>\n",
              "    <tr>\n",
              "      <th>1333</th>\n",
              "      <td>50</td>\n",
              "      <td>male</td>\n",
              "      <td>30.970</td>\n",
              "      <td>3</td>\n",
              "      <td>no</td>\n",
              "      <td>northwest</td>\n",
              "      <td>10600.54830</td>\n",
              "    </tr>\n",
              "    <tr>\n",
              "      <th>1334</th>\n",
              "      <td>18</td>\n",
              "      <td>female</td>\n",
              "      <td>31.920</td>\n",
              "      <td>0</td>\n",
              "      <td>no</td>\n",
              "      <td>northeast</td>\n",
              "      <td>2205.98080</td>\n",
              "    </tr>\n",
              "    <tr>\n",
              "      <th>1335</th>\n",
              "      <td>18</td>\n",
              "      <td>female</td>\n",
              "      <td>36.850</td>\n",
              "      <td>0</td>\n",
              "      <td>no</td>\n",
              "      <td>southeast</td>\n",
              "      <td>1629.83350</td>\n",
              "    </tr>\n",
              "    <tr>\n",
              "      <th>1336</th>\n",
              "      <td>21</td>\n",
              "      <td>female</td>\n",
              "      <td>25.800</td>\n",
              "      <td>0</td>\n",
              "      <td>no</td>\n",
              "      <td>southwest</td>\n",
              "      <td>2007.94500</td>\n",
              "    </tr>\n",
              "    <tr>\n",
              "      <th>1337</th>\n",
              "      <td>61</td>\n",
              "      <td>female</td>\n",
              "      <td>29.070</td>\n",
              "      <td>0</td>\n",
              "      <td>yes</td>\n",
              "      <td>northwest</td>\n",
              "      <td>29141.36030</td>\n",
              "    </tr>\n",
              "  </tbody>\n",
              "</table>\n",
              "<p>1338 rows × 7 columns</p>\n",
              "</div>\n",
              "    <div class=\"colab-df-buttons\">\n",
              "\n",
              "  <div class=\"colab-df-container\">\n",
              "    <button class=\"colab-df-convert\" onclick=\"convertToInteractive('df-8a0b9bd0-d8cf-46b5-80e5-2ae2a1a8f524')\"\n",
              "            title=\"Convert this dataframe to an interactive table.\"\n",
              "            style=\"display:none;\">\n",
              "\n",
              "  <svg xmlns=\"http://www.w3.org/2000/svg\" height=\"24px\" viewBox=\"0 -960 960 960\">\n",
              "    <path d=\"M120-120v-720h720v720H120Zm60-500h600v-160H180v160Zm220 220h160v-160H400v160Zm0 220h160v-160H400v160ZM180-400h160v-160H180v160Zm440 0h160v-160H620v160ZM180-180h160v-160H180v160Zm440 0h160v-160H620v160Z\"/>\n",
              "  </svg>\n",
              "    </button>\n",
              "\n",
              "  <style>\n",
              "    .colab-df-container {\n",
              "      display:flex;\n",
              "      gap: 12px;\n",
              "    }\n",
              "\n",
              "    .colab-df-convert {\n",
              "      background-color: #E8F0FE;\n",
              "      border: none;\n",
              "      border-radius: 50%;\n",
              "      cursor: pointer;\n",
              "      display: none;\n",
              "      fill: #1967D2;\n",
              "      height: 32px;\n",
              "      padding: 0 0 0 0;\n",
              "      width: 32px;\n",
              "    }\n",
              "\n",
              "    .colab-df-convert:hover {\n",
              "      background-color: #E2EBFA;\n",
              "      box-shadow: 0px 1px 2px rgba(60, 64, 67, 0.3), 0px 1px 3px 1px rgba(60, 64, 67, 0.15);\n",
              "      fill: #174EA6;\n",
              "    }\n",
              "\n",
              "    .colab-df-buttons div {\n",
              "      margin-bottom: 4px;\n",
              "    }\n",
              "\n",
              "    [theme=dark] .colab-df-convert {\n",
              "      background-color: #3B4455;\n",
              "      fill: #D2E3FC;\n",
              "    }\n",
              "\n",
              "    [theme=dark] .colab-df-convert:hover {\n",
              "      background-color: #434B5C;\n",
              "      box-shadow: 0px 1px 3px 1px rgba(0, 0, 0, 0.15);\n",
              "      filter: drop-shadow(0px 1px 2px rgba(0, 0, 0, 0.3));\n",
              "      fill: #FFFFFF;\n",
              "    }\n",
              "  </style>\n",
              "\n",
              "    <script>\n",
              "      const buttonEl =\n",
              "        document.querySelector('#df-8a0b9bd0-d8cf-46b5-80e5-2ae2a1a8f524 button.colab-df-convert');\n",
              "      buttonEl.style.display =\n",
              "        google.colab.kernel.accessAllowed ? 'block' : 'none';\n",
              "\n",
              "      async function convertToInteractive(key) {\n",
              "        const element = document.querySelector('#df-8a0b9bd0-d8cf-46b5-80e5-2ae2a1a8f524');\n",
              "        const dataTable =\n",
              "          await google.colab.kernel.invokeFunction('convertToInteractive',\n",
              "                                                    [key], {});\n",
              "        if (!dataTable) return;\n",
              "\n",
              "        const docLinkHtml = 'Like what you see? Visit the ' +\n",
              "          '<a target=\"_blank\" href=https://colab.research.google.com/notebooks/data_table.ipynb>data table notebook</a>'\n",
              "          + ' to learn more about interactive tables.';\n",
              "        element.innerHTML = '';\n",
              "        dataTable['output_type'] = 'display_data';\n",
              "        await google.colab.output.renderOutput(dataTable, element);\n",
              "        const docLink = document.createElement('div');\n",
              "        docLink.innerHTML = docLinkHtml;\n",
              "        element.appendChild(docLink);\n",
              "      }\n",
              "    </script>\n",
              "  </div>\n",
              "\n",
              "\n",
              "<div id=\"df-b6f916dd-27b6-4e6e-b183-ba2ede32f850\">\n",
              "  <button class=\"colab-df-quickchart\" onclick=\"quickchart('df-b6f916dd-27b6-4e6e-b183-ba2ede32f850')\"\n",
              "            title=\"Suggest charts\"\n",
              "            style=\"display:none;\">\n",
              "\n",
              "<svg xmlns=\"http://www.w3.org/2000/svg\" height=\"24px\"viewBox=\"0 0 24 24\"\n",
              "     width=\"24px\">\n",
              "    <g>\n",
              "        <path d=\"M19 3H5c-1.1 0-2 .9-2 2v14c0 1.1.9 2 2 2h14c1.1 0 2-.9 2-2V5c0-1.1-.9-2-2-2zM9 17H7v-7h2v7zm4 0h-2V7h2v10zm4 0h-2v-4h2v4z\"/>\n",
              "    </g>\n",
              "</svg>\n",
              "  </button>\n",
              "\n",
              "<style>\n",
              "  .colab-df-quickchart {\n",
              "      --bg-color: #E8F0FE;\n",
              "      --fill-color: #1967D2;\n",
              "      --hover-bg-color: #E2EBFA;\n",
              "      --hover-fill-color: #174EA6;\n",
              "      --disabled-fill-color: #AAA;\n",
              "      --disabled-bg-color: #DDD;\n",
              "  }\n",
              "\n",
              "  [theme=dark] .colab-df-quickchart {\n",
              "      --bg-color: #3B4455;\n",
              "      --fill-color: #D2E3FC;\n",
              "      --hover-bg-color: #434B5C;\n",
              "      --hover-fill-color: #FFFFFF;\n",
              "      --disabled-bg-color: #3B4455;\n",
              "      --disabled-fill-color: #666;\n",
              "  }\n",
              "\n",
              "  .colab-df-quickchart {\n",
              "    background-color: var(--bg-color);\n",
              "    border: none;\n",
              "    border-radius: 50%;\n",
              "    cursor: pointer;\n",
              "    display: none;\n",
              "    fill: var(--fill-color);\n",
              "    height: 32px;\n",
              "    padding: 0;\n",
              "    width: 32px;\n",
              "  }\n",
              "\n",
              "  .colab-df-quickchart:hover {\n",
              "    background-color: var(--hover-bg-color);\n",
              "    box-shadow: 0 1px 2px rgba(60, 64, 67, 0.3), 0 1px 3px 1px rgba(60, 64, 67, 0.15);\n",
              "    fill: var(--button-hover-fill-color);\n",
              "  }\n",
              "\n",
              "  .colab-df-quickchart-complete:disabled,\n",
              "  .colab-df-quickchart-complete:disabled:hover {\n",
              "    background-color: var(--disabled-bg-color);\n",
              "    fill: var(--disabled-fill-color);\n",
              "    box-shadow: none;\n",
              "  }\n",
              "\n",
              "  .colab-df-spinner {\n",
              "    border: 2px solid var(--fill-color);\n",
              "    border-color: transparent;\n",
              "    border-bottom-color: var(--fill-color);\n",
              "    animation:\n",
              "      spin 1s steps(1) infinite;\n",
              "  }\n",
              "\n",
              "  @keyframes spin {\n",
              "    0% {\n",
              "      border-color: transparent;\n",
              "      border-bottom-color: var(--fill-color);\n",
              "      border-left-color: var(--fill-color);\n",
              "    }\n",
              "    20% {\n",
              "      border-color: transparent;\n",
              "      border-left-color: var(--fill-color);\n",
              "      border-top-color: var(--fill-color);\n",
              "    }\n",
              "    30% {\n",
              "      border-color: transparent;\n",
              "      border-left-color: var(--fill-color);\n",
              "      border-top-color: var(--fill-color);\n",
              "      border-right-color: var(--fill-color);\n",
              "    }\n",
              "    40% {\n",
              "      border-color: transparent;\n",
              "      border-right-color: var(--fill-color);\n",
              "      border-top-color: var(--fill-color);\n",
              "    }\n",
              "    60% {\n",
              "      border-color: transparent;\n",
              "      border-right-color: var(--fill-color);\n",
              "    }\n",
              "    80% {\n",
              "      border-color: transparent;\n",
              "      border-right-color: var(--fill-color);\n",
              "      border-bottom-color: var(--fill-color);\n",
              "    }\n",
              "    90% {\n",
              "      border-color: transparent;\n",
              "      border-bottom-color: var(--fill-color);\n",
              "    }\n",
              "  }\n",
              "</style>\n",
              "\n",
              "  <script>\n",
              "    async function quickchart(key) {\n",
              "      const quickchartButtonEl =\n",
              "        document.querySelector('#' + key + ' button');\n",
              "      quickchartButtonEl.disabled = true;  // To prevent multiple clicks.\n",
              "      quickchartButtonEl.classList.add('colab-df-spinner');\n",
              "      try {\n",
              "        const charts = await google.colab.kernel.invokeFunction(\n",
              "            'suggestCharts', [key], {});\n",
              "      } catch (error) {\n",
              "        console.error('Error during call to suggestCharts:', error);\n",
              "      }\n",
              "      quickchartButtonEl.classList.remove('colab-df-spinner');\n",
              "      quickchartButtonEl.classList.add('colab-df-quickchart-complete');\n",
              "    }\n",
              "    (() => {\n",
              "      let quickchartButtonEl =\n",
              "        document.querySelector('#df-b6f916dd-27b6-4e6e-b183-ba2ede32f850 button');\n",
              "      quickchartButtonEl.style.display =\n",
              "        google.colab.kernel.accessAllowed ? 'block' : 'none';\n",
              "    })();\n",
              "  </script>\n",
              "</div>\n",
              "    </div>\n",
              "  </div>\n"
            ]
          },
          "metadata": {},
          "execution_count": 152
        }
      ]
    },
    {
      "cell_type": "markdown",
      "source": [
        "To prepare our data we can borrow a few classes from scikit-learn"
      ],
      "metadata": {
        "id": "qCj1sgMXMbC-"
      }
    },
    {
      "cell_type": "code",
      "source": [
        "from sklearn.compose import make_column_transformer\n",
        "from sklearn.preprocessing import MinMaxScaler, OneHotEncoder\n",
        "from sklearn.model_selection import train_test_split\n",
        "\n",
        "# Create a column transformer\n",
        "ct = make_column_transformer(\n",
        "    (MinMaxScaler(), [\"age\", \"bmi\", \"children\"]),  # turn all values in these columns to between 0 and 1\n",
        "    (OneHotEncoder(handle_unknown=\"ignore\"), [\"sex\", \"smoker\", \"region\"])\n",
        "\n",
        ")\n",
        "\n",
        "# Create X & y\n",
        "X = insurance.drop(\"charges\", axis=1)\n",
        "y= insurance[\"charges\"]\n",
        "\n",
        "# Build our train and test splits\n",
        "X_train, X_test, y_train, y_test = train_test_split(X, y, test_size=0.2, random_state=42)\n",
        "\n",
        "# Fit column transformer to our training data\n",
        "ct.fit(X_train)\n",
        "\n",
        "# Transofrm training and test data with normalization (MinMaxScaler) and OneHotEncoder\n",
        "X_train_normal = ct.transform(X_train)\n",
        "X_test_normal = ct.transform(X_test)"
      ],
      "metadata": {
        "id": "3OqOqPleM41n"
      },
      "execution_count": 154,
      "outputs": []
    },
    {
      "cell_type": "code",
      "source": [
        "# What does our data look like now?\n",
        "X_train.loc[0]"
      ],
      "metadata": {
        "id": "QPC_k3nEK0UN",
        "outputId": "e1f9c05d-ecba-469e-c63c-fa3a7fce110c",
        "colab": {
          "base_uri": "https://localhost:8080/"
        }
      },
      "execution_count": 155,
      "outputs": [
        {
          "output_type": "execute_result",
          "data": {
            "text/plain": [
              "age                19\n",
              "sex            female\n",
              "bmi              27.9\n",
              "children            0\n",
              "smoker            yes\n",
              "region      southwest\n",
              "Name: 0, dtype: object"
            ]
          },
          "metadata": {},
          "execution_count": 155
        }
      ]
    },
    {
      "cell_type": "code",
      "source": [
        "X_train_normal[0]"
      ],
      "metadata": {
        "id": "nLCQpRTIPqXR",
        "outputId": "cc4425a4-8092-4c24-9f5c-0adb03d40915",
        "colab": {
          "base_uri": "https://localhost:8080/"
        }
      },
      "execution_count": 156,
      "outputs": [
        {
          "output_type": "execute_result",
          "data": {
            "text/plain": [
              "array([0.60869565, 0.10734463, 0.4       , 1.        , 0.        ,\n",
              "       1.        , 0.        , 0.        , 1.        , 0.        ,\n",
              "       0.        ])"
            ]
          },
          "metadata": {},
          "execution_count": 156
        }
      ]
    },
    {
      "cell_type": "code",
      "source": [
        "X_train.shape, X_train_normal.shape"
      ],
      "metadata": {
        "id": "W3lxVbHwP4m2",
        "outputId": "bdeee8f7-ec11-4d6b-8c34-acf72deaf7de",
        "colab": {
          "base_uri": "https://localhost:8080/"
        }
      },
      "execution_count": 158,
      "outputs": [
        {
          "output_type": "execute_result",
          "data": {
            "text/plain": [
              "((1070, 6), (1070, 11))"
            ]
          },
          "metadata": {},
          "execution_count": 158
        }
      ]
    },
    {
      "cell_type": "markdown",
      "source": [
        "Beautiful! Our data has been normalized and one hot encoded. Now let's build a neural network model on it and seehow it goes"
      ],
      "metadata": {
        "id": "df_47FEMQIlT"
      }
    },
    {
      "cell_type": "code",
      "source": [
        "# Build a neural network model to fit on our normalized data\n",
        "# set the random seed for reproducibility\n",
        "tf.random.set_seed(42)\n",
        "callback = tf.keras.callbacks.EarlyStopping(monitor=\"loss\", patience=10)\n",
        "\n",
        "# Create the model\n",
        "insurance_model_4 = tf.keras.Sequential([\n",
        "    tf.keras.layers.Dense(100),\n",
        "    tf.keras.layers.Dense(10),\n",
        "    tf.keras.layers.Dense(1),\n",
        "])\n",
        "\n",
        "# Compile the model\n",
        "insurance_model_4.compile(\n",
        "    loss=tf.keras.losses.mae,\n",
        "    optimizer=tf.keras.optimizers.Adam(),\n",
        "    metrics=[\"mae\"]\n",
        ")\n",
        "\n",
        "# Fit the model\n",
        "insurance_model_4.fit(X_train_normal, y_train, epochs=1000, callbacks=[callback])\n"
      ],
      "metadata": {
        "id": "DEG5E7YDQVHi"
      },
      "execution_count": null,
      "outputs": []
    },
    {
      "cell_type": "code",
      "source": [
        "# Evaluate our insurance model trained on normalized data\n",
        "insurance_model_4.evaluate(X_test_normal, y_test)"
      ],
      "metadata": {
        "id": "kc6_cZkqSiNv",
        "outputId": "b719f892-9bd4-4e2e-8e86-b086b4c02336",
        "colab": {
          "base_uri": "https://localhost:8080/"
        }
      },
      "execution_count": 162,
      "outputs": [
        {
          "output_type": "stream",
          "name": "stdout",
          "text": [
            "9/9 [==============================] - 0s 4ms/step - loss: 3161.1985 - mae: 3161.1985\n"
          ]
        },
        {
          "output_type": "execute_result",
          "data": {
            "text/plain": [
              "[3161.198486328125, 3161.198486328125]"
            ]
          },
          "metadata": {},
          "execution_count": 162
        }
      ]
    },
    {
      "cell_type": "code",
      "source": [
        "insurance_model_3.evaluate(X_new_test, y_new_test)"
      ],
      "metadata": {
        "id": "khou39bTS8ln",
        "outputId": "cd488e5f-01fb-4b1c-f848-a7bcc0451901",
        "colab": {
          "base_uri": "https://localhost:8080/"
        }
      },
      "execution_count": 163,
      "outputs": [
        {
          "output_type": "stream",
          "name": "stdout",
          "text": [
            "9/9 [==============================] - 0s 6ms/step - loss: 3180.0579 - mae: 3180.0579\n"
          ]
        },
        {
          "output_type": "execute_result",
          "data": {
            "text/plain": [
              "[3180.057861328125, 3180.057861328125]"
            ]
          },
          "metadata": {},
          "execution_count": 163
        }
      ]
    },
    {
      "cell_type": "code",
      "source": [
        "X_large_dataset[\"age\"].plot(kind=\"hist\")"
      ],
      "metadata": {
        "id": "M-3qqFTFK0tI",
        "outputId": "f27ac581-829b-4520-a3aa-54705cc7dcbb",
        "colab": {
          "base_uri": "https://localhost:8080/",
          "height": 448
        }
      },
      "execution_count": 148,
      "outputs": [
        {
          "output_type": "execute_result",
          "data": {
            "text/plain": [
              "<Axes: ylabel='Frequency'>"
            ]
          },
          "metadata": {},
          "execution_count": 148
        },
        {
          "output_type": "display_data",
          "data": {
            "text/plain": [
              "<Figure size 640x480 with 1 Axes>"
            ],
            "image/png": "[encoded data removed]"
          },
          "metadata": {}
        }
      ]
    },
    {
      "cell_type": "code",
      "source": [
        "X_large_dataset[\"bmi\"].plot(kind=\"hist\")"
      ],
      "metadata": {
        "id": "IkliJaRoK9hE",
        "outputId": "6d243c7b-9fbd-4f28-f6ce-952df14570f9",
        "colab": {
          "base_uri": "https://localhost:8080/",
          "height": 448
        }
      },
      "execution_count": 149,
      "outputs": [
        {
          "output_type": "execute_result",
          "data": {
            "text/plain": [
              "<Axes: ylabel='Frequency'>"
            ]
          },
          "metadata": {},
          "execution_count": 149
        },
        {
          "output_type": "display_data",
          "data": {
            "text/plain": [
              "<Figure size 640x480 with 1 Axes>"
            ],
            "image/png": "[encoded data removed]"
          },
          "metadata": {}
        }
      ]
    },
    {
      "cell_type": "code",
      "source": [
        "X_large_dataset[\"children\"].value_counts()"
      ],
      "metadata": {
        "id": "Q4URoi0oLApq",
        "outputId": "5a8f6065-8fe9-4978-91a8-104176d3ae43",
        "colab": {
          "base_uri": "https://localhost:8080/"
        }
      },
      "execution_count": 150,
      "outputs": [
        {
          "output_type": "execute_result",
          "data": {
            "text/plain": [
              "0    574\n",
              "1    324\n",
              "2    240\n",
              "3    157\n",
              "4     25\n",
              "5     18\n",
              "Name: children, dtype: int64"
            ]
          },
          "metadata": {},
          "execution_count": 150
        }
      ]
    },
    {
      "cell_type": "code",
      "source": [],
      "metadata": {
        "id": "crbWU9tqLI4z"
      },
      "execution_count": null,
      "outputs": []
    }
  ]
}