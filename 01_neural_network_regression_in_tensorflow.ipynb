{
  "nbformat": 4,
  "nbformat_minor": 0,
  "metadata": {
    "colab": {
      "provenance": [],
      "gpuType": "T4",
      "include_colab_link": true
    },
    "kernelspec": {
      "name": "python3",
      "display_name": "Python 3"
    },
    "language_info": {
      "name": "python"
    },
    "accelerator": "GPU"
  },
  "cells": [
    {
      "cell_type": "markdown",
      "metadata": {
        "id": "view-in-github",
        "colab_type": "text"
      },
      "source": [
        "<a href=\"https://colab.research.google.com/github/btrosso/TensorFlow_Learning/blob/main/01_neural_network_regression_in_tensorflow.ipynb\" target=\"_parent\"><img src=\"https://colab.research.google.com/assets/colab-badge.svg\" alt=\"Open In Colab\"/></a>"
      ]
    },
    {
      "cell_type": "markdown",
      "source": [
        "# Introduction to Regression with Neural Networks in Tensorflow\n",
        "\n",
        "There are many definitions for a regression problem but in our case, we're going to simplify it: predicting a numerical variable based on some other combination of variable, even shorter....predicting a number."
      ],
      "metadata": {
        "id": "erNQRRX6cjqI"
      }
    },
    {
      "cell_type": "code",
      "source": [
        "# Import TensorFlow\n",
        "import tensorflow as tf\n",
        "print(tf.__version__)"
      ],
      "metadata": {
        "colab": {
          "base_uri": "https://localhost:8080/"
        },
        "id": "7qUWyWpxdFlY",
        "outputId": "c0f8a0b8-1f5a-455a-a2af-a0cb32ff3a7f"
      },
      "execution_count": 1,
      "outputs": [
        {
          "output_type": "stream",
          "name": "stdout",
          "text": [
            "2.14.0\n"
          ]
        }
      ]
    },
    {
      "cell_type": "markdown",
      "source": [
        "# Creating some data to view and fit"
      ],
      "metadata": {
        "id": "wi16lxn0dLZr"
      }
    },
    {
      "cell_type": "code",
      "source": [
        "import numpy as np\n",
        "import matplotlib.pyplot as plt\n",
        "\n",
        "# Create features (inputs)\n",
        "X = np.array([-7.0, -4.0, -1.0, 2.0, 5.0, 8.0, 11.0, 14.0])\n",
        "\n",
        "# Create labels\n",
        "y = np.array([3.0, 6.0, 9.0, 12.0, 15.0, 18.0, 21.0, 24.0])\n",
        "\n",
        "# Visualize it\n",
        "plt.scatter(X, y)"
      ],
      "metadata": {
        "colab": {
          "base_uri": "https://localhost:8080/",
          "height": 453
        },
        "id": "qoIad_gldQt0",
        "outputId": "63559484-894f-4753-a0f5-eb7942f448de"
      },
      "execution_count": 2,
      "outputs": [
        {
          "output_type": "execute_result",
          "data": {
            "text/plain": [
              "<matplotlib.collections.PathCollection at 0x786471be1930>"
            ]
          },
          "metadata": {},
          "execution_count": 2
        },
        {
          "output_type": "display_data",
          "data": {
            "text/plain": [
              "<Figure size 640x480 with 1 Axes>"
            ],
            "image/png": "[encoded data removed]"
          },
          "metadata": {}
        }
      ]
    },
    {
      "cell_type": "code",
      "source": [
        "y == X + 10"
      ],
      "metadata": {
        "colab": {
          "base_uri": "https://localhost:8080/"
        },
        "id": "oLPDKV-Xho25",
        "outputId": "0b726f80-b531-47f2-d882-2f480a4a1ef0"
      },
      "execution_count": 3,
      "outputs": [
        {
          "output_type": "execute_result",
          "data": {
            "text/plain": [
              "array([ True,  True,  True,  True,  True,  True,  True,  True])"
            ]
          },
          "metadata": {},
          "execution_count": 3
        }
      ]
    },
    {
      "cell_type": "markdown",
      "source": [
        "## Input and Output Shapes"
      ],
      "metadata": {
        "id": "XzQsWbS0h7WT"
      }
    },
    {
      "cell_type": "code",
      "source": [
        "# Create a demo tensor for our housing price prediction problem\n",
        "house_info = tf.constant([\"bedroom\", \"bathroom\", \"garage\"])\n",
        "house_price = tf.constant([939700])\n",
        "house_info, house_price"
      ],
      "metadata": {
        "colab": {
          "base_uri": "https://localhost:8080/"
        },
        "id": "yhDbL4VQiC4Y",
        "outputId": "cf00e476-b9f8-4369-9172-b1a8a0e53400"
      },
      "execution_count": 4,
      "outputs": [
        {
          "output_type": "execute_result",
          "data": {
            "text/plain": [
              "(<tf.Tensor: shape=(3,), dtype=string, numpy=array([b'bedroom', b'bathroom', b'garage'], dtype=object)>,\n",
              " <tf.Tensor: shape=(1,), dtype=int32, numpy=array([939700], dtype=int32)>)"
            ]
          },
          "metadata": {},
          "execution_count": 4
        }
      ]
    },
    {
      "cell_type": "code",
      "source": [
        "X[0], y[0]"
      ],
      "metadata": {
        "colab": {
          "base_uri": "https://localhost:8080/"
        },
        "id": "XYb4YYIHjr-i",
        "outputId": "ae58a608-d85c-4e7d-b7d8-523219d8c8f7"
      },
      "execution_count": 5,
      "outputs": [
        {
          "output_type": "execute_result",
          "data": {
            "text/plain": [
              "(-7.0, 3.0)"
            ]
          },
          "metadata": {},
          "execution_count": 5
        }
      ]
    },
    {
      "cell_type": "code",
      "source": [
        "X[1], y[1]"
      ],
      "metadata": {
        "colab": {
          "base_uri": "https://localhost:8080/"
        },
        "id": "Q50qumszjyo5",
        "outputId": "266b5f0b-99ad-4ee0-ba7a-6cc6ba7b9efb"
      },
      "execution_count": 6,
      "outputs": [
        {
          "output_type": "execute_result",
          "data": {
            "text/plain": [
              "(-4.0, 6.0)"
            ]
          },
          "metadata": {},
          "execution_count": 6
        }
      ]
    },
    {
      "cell_type": "code",
      "source": [
        "input_shape = X[0].shape\n",
        "output_shape = y[0].shape\n",
        "input_shape, output_shape"
      ],
      "metadata": {
        "colab": {
          "base_uri": "https://localhost:8080/"
        },
        "id": "6A6UDmwSjQnZ",
        "outputId": "0a0342dd-00a0-4828-a236-bce479da0b8d"
      },
      "execution_count": 7,
      "outputs": [
        {
          "output_type": "execute_result",
          "data": {
            "text/plain": [
              "((), ())"
            ]
          },
          "metadata": {},
          "execution_count": 7
        }
      ]
    },
    {
      "cell_type": "code",
      "source": [
        "X[0].ndim"
      ],
      "metadata": {
        "colab": {
          "base_uri": "https://localhost:8080/"
        },
        "id": "3_P2c79SjpWc",
        "outputId": "c1643f9d-5329-45b5-d8bd-0c9ddfc8b2f1"
      },
      "execution_count": 8,
      "outputs": [
        {
          "output_type": "execute_result",
          "data": {
            "text/plain": [
              "0"
            ]
          },
          "metadata": {},
          "execution_count": 8
        }
      ]
    },
    {
      "cell_type": "code",
      "source": [
        "X[0], y[0]"
      ],
      "metadata": {
        "colab": {
          "base_uri": "https://localhost:8080/"
        },
        "id": "p0gHsLwNkIjY",
        "outputId": "d96c32ed-94aa-42b5-d365-f226c3bd9bef"
      },
      "execution_count": 9,
      "outputs": [
        {
          "output_type": "execute_result",
          "data": {
            "text/plain": [
              "(-7.0, 3.0)"
            ]
          },
          "metadata": {},
          "execution_count": 9
        }
      ]
    },
    {
      "cell_type": "code",
      "source": [
        "# Turn our numpy arrays into tensors\n",
        "X = tf.cast(tf.constant(X), dtype=tf.float32)\n",
        "y = tf.cast(tf.constant(y), dtype=tf.float32)\n",
        "X, y\n"
      ],
      "metadata": {
        "colab": {
          "base_uri": "https://localhost:8080/"
        },
        "id": "lvIEKFrqkKzl",
        "outputId": "27a7aa6f-f6ec-4591-d70a-4d29737b81fc"
      },
      "execution_count": 10,
      "outputs": [
        {
          "output_type": "execute_result",
          "data": {
            "text/plain": [
              "(<tf.Tensor: shape=(8,), dtype=float32, numpy=array([-7., -4., -1.,  2.,  5.,  8., 11., 14.], dtype=float32)>,\n",
              " <tf.Tensor: shape=(8,), dtype=float32, numpy=array([ 3.,  6.,  9., 12., 15., 18., 21., 24.], dtype=float32)>)"
            ]
          },
          "metadata": {},
          "execution_count": 10
        }
      ]
    },
    {
      "cell_type": "code",
      "source": [
        "input_shape = X[0].shape\n",
        "output_shape = y[0].shape\n",
        "input_shape, output_shape"
      ],
      "metadata": {
        "colab": {
          "base_uri": "https://localhost:8080/"
        },
        "id": "VZG9sOZdzLmx",
        "outputId": "58fb6c72-1056-4165-d787-7ab50e6052cc"
      },
      "execution_count": 11,
      "outputs": [
        {
          "output_type": "execute_result",
          "data": {
            "text/plain": [
              "(TensorShape([]), TensorShape([]))"
            ]
          },
          "metadata": {},
          "execution_count": 11
        }
      ]
    },
    {
      "cell_type": "code",
      "source": [
        "plt.scatter(X, y)"
      ],
      "metadata": {
        "colab": {
          "base_uri": "https://localhost:8080/",
          "height": 453
        },
        "id": "ni8vx4lKzZDH",
        "outputId": "65aad2da-c367-4c20-bdc5-63dc38c35e5f"
      },
      "execution_count": 12,
      "outputs": [
        {
          "output_type": "execute_result",
          "data": {
            "text/plain": [
              "<matplotlib.collections.PathCollection at 0x78646fb2cd90>"
            ]
          },
          "metadata": {},
          "execution_count": 12
        },
        {
          "output_type": "display_data",
          "data": {
            "text/plain": [
              "<Figure size 640x480 with 1 Axes>"
            ],
            "image/png": "[encoded data removed]"
          },
          "metadata": {}
        }
      ]
    },
    {
      "cell_type": "markdown",
      "source": [
        "## Steps in modelling with TensorFlow\n",
        "\n",
        "1. **Creating a model** - define the input and the output layers, as well as the hidden layers of deep learning model.\n",
        "2. **Compiling a model** - define the loss function (in other words, the function which tells our model how wrong it is) and the optimizer (tells our model how to improve the pattern its learning) and evaluation metrics (what we can use to interpret the performance of our model).\n",
        "3. Fitting a model - letting the model try to find patterns between X & y (features and labels)"
      ],
      "metadata": {
        "id": "VUZG8vAnzd98"
      }
    },
    {
      "cell_type": "code",
      "source": [
        "# Set random seed\n",
        "tf.random.set_seed(42)\n",
        "\n",
        "# 1. Create a model using the Sequential API\n",
        "model = tf.keras.Sequential([\n",
        "    tf.keras.layers.Dense(1)\n",
        "])\n",
        "\n",
        "# 2. Compile the model\n",
        "model.compile(\n",
        "    loss=tf.keras.losses.mae,  # mae is short for mean absolute error\n",
        "    optimizer=tf.keras.optimizers.SGD(),  # SGD stands for stochastic gradient decent\n",
        "    metrics=[\"mae\"]\n",
        "    )\n",
        "\n",
        "# 3. Fit the model\n",
        "model.fit(tf.expand_dims(X, axis=-1), y, epochs=5)"
      ],
      "metadata": {
        "colab": {
          "base_uri": "https://localhost:8080/"
        },
        "id": "H7t1Cz-K0Is6",
        "outputId": "254fa799-ef45-428b-d67d-c3fc8d50942d"
      },
      "execution_count": 13,
      "outputs": [
        {
          "output_type": "stream",
          "name": "stdout",
          "text": [
            "Epoch 1/5\n",
            "1/1 [==============================] - 1s 1s/step - loss: 19.4248 - mae: 19.4248\n",
            "Epoch 2/5\n",
            "1/1 [==============================] - 0s 36ms/step - loss: 19.1435 - mae: 19.1435\n",
            "Epoch 3/5\n",
            "1/1 [==============================] - 0s 35ms/step - loss: 18.8623 - mae: 18.8623\n",
            "Epoch 4/5\n",
            "1/1 [==============================] - 0s 31ms/step - loss: 18.5810 - mae: 18.5810\n",
            "Epoch 5/5\n",
            "1/1 [==============================] - 0s 24ms/step - loss: 18.2998 - mae: 18.2998\n"
          ]
        },
        {
          "output_type": "execute_result",
          "data": {
            "text/plain": [
              "<keras.src.callbacks.History at 0x78646c8ed390>"
            ]
          },
          "metadata": {},
          "execution_count": 13
        }
      ]
    },
    {
      "cell_type": "code",
      "source": [
        "# Check out X and y\n",
        "X, y"
      ],
      "metadata": {
        "colab": {
          "base_uri": "https://localhost:8080/"
        },
        "id": "gHn9RGWY1oPR",
        "outputId": "2a488458-2476-46bd-8eb4-1ed4463c08ea"
      },
      "execution_count": 14,
      "outputs": [
        {
          "output_type": "execute_result",
          "data": {
            "text/plain": [
              "(<tf.Tensor: shape=(8,), dtype=float32, numpy=array([-7., -4., -1.,  2.,  5.,  8., 11., 14.], dtype=float32)>,\n",
              " <tf.Tensor: shape=(8,), dtype=float32, numpy=array([ 3.,  6.,  9., 12., 15., 18., 21., 24.], dtype=float32)>)"
            ]
          },
          "metadata": {},
          "execution_count": 14
        }
      ]
    },
    {
      "cell_type": "code",
      "source": [
        "# Try and make a prediction using our model\n",
        "y_pred = model.predict([17.0])\n",
        "y_pred"
      ],
      "metadata": {
        "colab": {
          "base_uri": "https://localhost:8080/"
        },
        "id": "6XzF0g2n_QmC",
        "outputId": "83cd7154-253d-474e-aa9b-48a895b20739"
      },
      "execution_count": 15,
      "outputs": [
        {
          "output_type": "stream",
          "name": "stdout",
          "text": [
            "1/1 [==============================] - 1s 547ms/step\n"
          ]
        },
        {
          "output_type": "execute_result",
          "data": {
            "text/plain": [
              "array([[-17.113503]], dtype=float32)"
            ]
          },
          "metadata": {},
          "execution_count": 15
        }
      ]
    },
    {
      "cell_type": "code",
      "source": [
        "y_pred + 14"
      ],
      "metadata": {
        "colab": {
          "base_uri": "https://localhost:8080/"
        },
        "id": "SrOD8Rdd_iFC",
        "outputId": "ec426acb-5a3f-4de8-99c2-570e901cace4"
      },
      "execution_count": 16,
      "outputs": [
        {
          "output_type": "execute_result",
          "data": {
            "text/plain": [
              "array([[-3.1135025]], dtype=float32)"
            ]
          },
          "metadata": {},
          "execution_count": 16
        }
      ]
    },
    {
      "cell_type": "markdown",
      "source": [
        "## Improving Our Model\n",
        "\n",
        "We can improve our model by altering the steps we used to create a model\n",
        "\n",
        "1.  **Creating a model** - here we might add more layers, increase the number of hidden units (all called neurons) within each of the hidden layers, change the activation function of each layer.\n",
        "2. **Compiling a model** - here we might change the optimization function or perhaps the **learning rate** of the optimization function.\n",
        "3. **Fitting the model** - here we might fit a model for more **epochs** (leave it training for longer) or on more data (give the modelmore examples to learn from)"
      ],
      "metadata": {
        "id": "wwSg1eSP_3sY"
      }
    },
    {
      "cell_type": "code",
      "source": [
        "# 1st HYPERPARAMETER TWEAK --> EPOCHS\n",
        "\n",
        "# 1. Create the model\n",
        "model = tf.keras.Sequential([\n",
        "    tf.keras.layers.Dense(1)\n",
        "])\n",
        "\n",
        "# 2. Compile the model\n",
        "model.compile(\n",
        "    loss=tf.keras.losses.mae,  # mae stands for mean absolute error\n",
        "    optimizer=tf.keras.optimizers.SGD(),  # SGD stands for stochastic gradient decent\n",
        "    metrics=[\"mae\"]\n",
        ")\n",
        "\n",
        "# Fit the model\n",
        "model.fit(tf.expand_dims(X, axis=-1), y, epochs=100)"
      ],
      "metadata": {
        "id": "uQXWxWRkAnMN",
        "colab": {
          "base_uri": "https://localhost:8080/"
        },
        "outputId": "a1de14e8-03f5-427f-d485-c380a77a4a42"
      },
      "execution_count": 17,
      "outputs": [
        {
          "output_type": "stream",
          "name": "stdout",
          "text": [
            "Epoch 1/100\n",
            "1/1 [==============================] - 2s 2s/step - loss: 8.2938 - mae: 8.2938\n",
            "Epoch 2/100\n",
            "1/1 [==============================] - 0s 23ms/step - loss: 8.1613 - mae: 8.1613\n",
            "Epoch 3/100\n",
            "1/1 [==============================] - 0s 21ms/step - loss: 8.0288 - mae: 8.0288\n",
            "Epoch 4/100\n",
            "1/1 [==============================] - 0s 35ms/step - loss: 7.8963 - mae: 7.8963\n",
            "Epoch 5/100\n",
            "1/1 [==============================] - 0s 22ms/step - loss: 7.7638 - mae: 7.7638\n",
            "Epoch 6/100\n",
            "1/1 [==============================] - 0s 24ms/step - loss: 7.6313 - mae: 7.6313\n",
            "Epoch 7/100\n",
            "1/1 [==============================] - 0s 23ms/step - loss: 7.4988 - mae: 7.4988\n",
            "Epoch 8/100\n",
            "1/1 [==============================] - 0s 18ms/step - loss: 7.4475 - mae: 7.4475\n",
            "Epoch 9/100\n",
            "1/1 [==============================] - 0s 25ms/step - loss: 7.4419 - mae: 7.4419\n",
            "Epoch 10/100\n",
            "1/1 [==============================] - 0s 43ms/step - loss: 7.4362 - mae: 7.4362\n",
            "Epoch 11/100\n",
            "1/1 [==============================] - 0s 15ms/step - loss: 7.4306 - mae: 7.4306\n",
            "Epoch 12/100\n",
            "1/1 [==============================] - 0s 31ms/step - loss: 7.4250 - mae: 7.4250\n",
            "Epoch 13/100\n",
            "1/1 [==============================] - 0s 14ms/step - loss: 7.4194 - mae: 7.4194\n",
            "Epoch 14/100\n",
            "1/1 [==============================] - 0s 19ms/step - loss: 7.4137 - mae: 7.4137\n",
            "Epoch 15/100\n",
            "1/1 [==============================] - 0s 21ms/step - loss: 7.4081 - mae: 7.4081\n",
            "Epoch 16/100\n",
            "1/1 [==============================] - 0s 15ms/step - loss: 7.4025 - mae: 7.4025\n",
            "Epoch 17/100\n",
            "1/1 [==============================] - 0s 26ms/step - loss: 7.3969 - mae: 7.3969\n",
            "Epoch 18/100\n",
            "1/1 [==============================] - 0s 22ms/step - loss: 7.3912 - mae: 7.3912\n",
            "Epoch 19/100\n",
            "1/1 [==============================] - 0s 24ms/step - loss: 7.3856 - mae: 7.3856\n",
            "Epoch 20/100\n",
            "1/1 [==============================] - 0s 24ms/step - loss: 7.3800 - mae: 7.3800\n",
            "Epoch 21/100\n",
            "1/1 [==============================] - 0s 24ms/step - loss: 7.3744 - mae: 7.3744\n",
            "Epoch 22/100\n",
            "1/1 [==============================] - 0s 27ms/step - loss: 7.3687 - mae: 7.3687\n",
            "Epoch 23/100\n",
            "1/1 [==============================] - 0s 35ms/step - loss: 7.3631 - mae: 7.3631\n",
            "Epoch 24/100\n",
            "1/1 [==============================] - 0s 24ms/step - loss: 7.3575 - mae: 7.3575\n",
            "Epoch 25/100\n",
            "1/1 [==============================] - 0s 25ms/step - loss: 7.3519 - mae: 7.3519\n",
            "Epoch 26/100\n",
            "1/1 [==============================] - 0s 25ms/step - loss: 7.3463 - mae: 7.3463\n",
            "Epoch 27/100\n",
            "1/1 [==============================] - 0s 20ms/step - loss: 7.3406 - mae: 7.3406\n",
            "Epoch 28/100\n",
            "1/1 [==============================] - 0s 22ms/step - loss: 7.3350 - mae: 7.3350\n",
            "Epoch 29/100\n",
            "1/1 [==============================] - 0s 26ms/step - loss: 7.3294 - mae: 7.3294\n",
            "Epoch 30/100\n",
            "1/1 [==============================] - 0s 35ms/step - loss: 7.3238 - mae: 7.3238\n",
            "Epoch 31/100\n",
            "1/1 [==============================] - 0s 31ms/step - loss: 7.3181 - mae: 7.3181\n",
            "Epoch 32/100\n",
            "1/1 [==============================] - 0s 24ms/step - loss: 7.3125 - mae: 7.3125\n",
            "Epoch 33/100\n",
            "1/1 [==============================] - 0s 18ms/step - loss: 7.3069 - mae: 7.3069\n",
            "Epoch 34/100\n",
            "1/1 [==============================] - 0s 28ms/step - loss: 7.3012 - mae: 7.3012\n",
            "Epoch 35/100\n",
            "1/1 [==============================] - 0s 27ms/step - loss: 7.2956 - mae: 7.2956\n",
            "Epoch 36/100\n",
            "1/1 [==============================] - 0s 27ms/step - loss: 7.2900 - mae: 7.2900\n",
            "Epoch 37/100\n",
            "1/1 [==============================] - 0s 25ms/step - loss: 7.2844 - mae: 7.2844\n",
            "Epoch 38/100\n",
            "1/1 [==============================] - 0s 22ms/step - loss: 7.2787 - mae: 7.2787\n",
            "Epoch 39/100\n",
            "1/1 [==============================] - 0s 31ms/step - loss: 7.2731 - mae: 7.2731\n",
            "Epoch 40/100\n",
            "1/1 [==============================] - 0s 33ms/step - loss: 7.2675 - mae: 7.2675\n",
            "Epoch 41/100\n",
            "1/1 [==============================] - 0s 47ms/step - loss: 7.2619 - mae: 7.2619\n",
            "Epoch 42/100\n",
            "1/1 [==============================] - 0s 38ms/step - loss: 7.2562 - mae: 7.2562\n",
            "Epoch 43/100\n",
            "1/1 [==============================] - 0s 22ms/step - loss: 7.2506 - mae: 7.2506\n",
            "Epoch 44/100\n",
            "1/1 [==============================] - 0s 19ms/step - loss: 7.2450 - mae: 7.2450\n",
            "Epoch 45/100\n",
            "1/1 [==============================] - 0s 20ms/step - loss: 7.2394 - mae: 7.2394\n",
            "Epoch 46/100\n",
            "1/1 [==============================] - 0s 23ms/step - loss: 7.2338 - mae: 7.2338\n",
            "Epoch 47/100\n",
            "1/1 [==============================] - 0s 21ms/step - loss: 7.2281 - mae: 7.2281\n",
            "Epoch 48/100\n",
            "1/1 [==============================] - 0s 21ms/step - loss: 7.2225 - mae: 7.2225\n",
            "Epoch 49/100\n",
            "1/1 [==============================] - 0s 20ms/step - loss: 7.2169 - mae: 7.2169\n",
            "Epoch 50/100\n",
            "1/1 [==============================] - 0s 19ms/step - loss: 7.2113 - mae: 7.2113\n",
            "Epoch 51/100\n",
            "1/1 [==============================] - 0s 23ms/step - loss: 7.2056 - mae: 7.2056\n",
            "Epoch 52/100\n",
            "1/1 [==============================] - 0s 21ms/step - loss: 7.2000 - mae: 7.2000\n",
            "Epoch 53/100\n",
            "1/1 [==============================] - 0s 22ms/step - loss: 7.1944 - mae: 7.1944\n",
            "Epoch 54/100\n",
            "1/1 [==============================] - 0s 24ms/step - loss: 7.1888 - mae: 7.1888\n",
            "Epoch 55/100\n",
            "1/1 [==============================] - 0s 20ms/step - loss: 7.1831 - mae: 7.1831\n",
            "Epoch 56/100\n",
            "1/1 [==============================] - 0s 28ms/step - loss: 7.1775 - mae: 7.1775\n",
            "Epoch 57/100\n",
            "1/1 [==============================] - 0s 35ms/step - loss: 7.1719 - mae: 7.1719\n",
            "Epoch 58/100\n",
            "1/1 [==============================] - 0s 22ms/step - loss: 7.1662 - mae: 7.1662\n",
            "Epoch 59/100\n",
            "1/1 [==============================] - 0s 21ms/step - loss: 7.1606 - mae: 7.1606\n",
            "Epoch 60/100\n",
            "1/1 [==============================] - 0s 23ms/step - loss: 7.1550 - mae: 7.1550\n",
            "Epoch 61/100\n",
            "1/1 [==============================] - 0s 28ms/step - loss: 7.1494 - mae: 7.1494\n",
            "Epoch 62/100\n",
            "1/1 [==============================] - 0s 24ms/step - loss: 7.1438 - mae: 7.1438\n",
            "Epoch 63/100\n",
            "1/1 [==============================] - 0s 18ms/step - loss: 7.1381 - mae: 7.1381\n",
            "Epoch 64/100\n",
            "1/1 [==============================] - 0s 19ms/step - loss: 7.1325 - mae: 7.1325\n",
            "Epoch 65/100\n",
            "1/1 [==============================] - 0s 24ms/step - loss: 7.1269 - mae: 7.1269\n",
            "Epoch 66/100\n",
            "1/1 [==============================] - 0s 12ms/step - loss: 7.1213 - mae: 7.1213\n",
            "Epoch 67/100\n",
            "1/1 [==============================] - 0s 12ms/step - loss: 7.1156 - mae: 7.1156\n",
            "Epoch 68/100\n",
            "1/1 [==============================] - 0s 15ms/step - loss: 7.1100 - mae: 7.1100\n",
            "Epoch 69/100\n",
            "1/1 [==============================] - 0s 19ms/step - loss: 7.1044 - mae: 7.1044\n",
            "Epoch 70/100\n",
            "1/1 [==============================] - 0s 16ms/step - loss: 7.0987 - mae: 7.0987\n",
            "Epoch 71/100\n",
            "1/1 [==============================] - 0s 15ms/step - loss: 7.0931 - mae: 7.0931\n",
            "Epoch 72/100\n",
            "1/1 [==============================] - 0s 12ms/step - loss: 7.0875 - mae: 7.0875\n",
            "Epoch 73/100\n",
            "1/1 [==============================] - 0s 12ms/step - loss: 7.0819 - mae: 7.0819\n",
            "Epoch 74/100\n",
            "1/1 [==============================] - 0s 19ms/step - loss: 7.0763 - mae: 7.0763\n",
            "Epoch 75/100\n",
            "1/1 [==============================] - 0s 21ms/step - loss: 7.0706 - mae: 7.0706\n",
            "Epoch 76/100\n",
            "1/1 [==============================] - 0s 22ms/step - loss: 7.0650 - mae: 7.0650\n",
            "Epoch 77/100\n",
            "1/1 [==============================] - 0s 25ms/step - loss: 7.0594 - mae: 7.0594\n",
            "Epoch 78/100\n",
            "1/1 [==============================] - 0s 45ms/step - loss: 7.0538 - mae: 7.0538\n",
            "Epoch 79/100\n",
            "1/1 [==============================] - 0s 22ms/step - loss: 7.0481 - mae: 7.0481\n",
            "Epoch 80/100\n",
            "1/1 [==============================] - 0s 18ms/step - loss: 7.0425 - mae: 7.0425\n",
            "Epoch 81/100\n",
            "1/1 [==============================] - 0s 21ms/step - loss: 7.0369 - mae: 7.0369\n",
            "Epoch 82/100\n",
            "1/1 [==============================] - 0s 18ms/step - loss: 7.0312 - mae: 7.0312\n",
            "Epoch 83/100\n",
            "1/1 [==============================] - 0s 22ms/step - loss: 7.0256 - mae: 7.0256\n",
            "Epoch 84/100\n",
            "1/1 [==============================] - 0s 18ms/step - loss: 7.0200 - mae: 7.0200\n",
            "Epoch 85/100\n",
            "1/1 [==============================] - 0s 21ms/step - loss: 7.0144 - mae: 7.0144\n",
            "Epoch 86/100\n",
            "1/1 [==============================] - 0s 21ms/step - loss: 7.0087 - mae: 7.0087\n",
            "Epoch 87/100\n",
            "1/1 [==============================] - 0s 22ms/step - loss: 7.0031 - mae: 7.0031\n",
            "Epoch 88/100\n",
            "1/1 [==============================] - 0s 25ms/step - loss: 6.9975 - mae: 6.9975\n",
            "Epoch 89/100\n",
            "1/1 [==============================] - 0s 23ms/step - loss: 6.9919 - mae: 6.9919\n",
            "Epoch 90/100\n",
            "1/1 [==============================] - 0s 30ms/step - loss: 6.9862 - mae: 6.9862\n",
            "Epoch 91/100\n",
            "1/1 [==============================] - 0s 25ms/step - loss: 6.9806 - mae: 6.9806\n",
            "Epoch 92/100\n",
            "1/1 [==============================] - 0s 29ms/step - loss: 6.9750 - mae: 6.9750\n",
            "Epoch 93/100\n",
            "1/1 [==============================] - 0s 23ms/step - loss: 6.9694 - mae: 6.9694\n",
            "Epoch 94/100\n",
            "1/1 [==============================] - 0s 21ms/step - loss: 6.9638 - mae: 6.9638\n",
            "Epoch 95/100\n",
            "1/1 [==============================] - 0s 22ms/step - loss: 6.9581 - mae: 6.9581\n",
            "Epoch 96/100\n",
            "1/1 [==============================] - 0s 20ms/step - loss: 6.9525 - mae: 6.9525\n",
            "Epoch 97/100\n",
            "1/1 [==============================] - 0s 17ms/step - loss: 6.9469 - mae: 6.9469\n",
            "Epoch 98/100\n",
            "1/1 [==============================] - 0s 41ms/step - loss: 6.9413 - mae: 6.9413\n",
            "Epoch 99/100\n",
            "1/1 [==============================] - 0s 37ms/step - loss: 6.9356 - mae: 6.9356\n",
            "Epoch 100/100\n",
            "1/1 [==============================] - 0s 37ms/step - loss: 6.9300 - mae: 6.9300\n"
          ]
        },
        {
          "output_type": "execute_result",
          "data": {
            "text/plain": [
              "<keras.src.callbacks.History at 0x78645fe5be20>"
            ]
          },
          "metadata": {},
          "execution_count": 17
        }
      ]
    },
    {
      "cell_type": "code",
      "source": [
        "# Remind ourselves of the data\n",
        "X, y"
      ],
      "metadata": {
        "colab": {
          "base_uri": "https://localhost:8080/"
        },
        "id": "hzijuq1BD89Q",
        "outputId": "a9e41336-a6fc-4bba-9d17-1fc48d55d5d2"
      },
      "execution_count": 18,
      "outputs": [
        {
          "output_type": "execute_result",
          "data": {
            "text/plain": [
              "(<tf.Tensor: shape=(8,), dtype=float32, numpy=array([-7., -4., -1.,  2.,  5.,  8., 11., 14.], dtype=float32)>,\n",
              " <tf.Tensor: shape=(8,), dtype=float32, numpy=array([ 3.,  6.,  9., 12., 15., 18., 21., 24.], dtype=float32)>)"
            ]
          },
          "metadata": {},
          "execution_count": 18
        }
      ]
    },
    {
      "cell_type": "code",
      "source": [
        "# Let's see if our models prediction has improved\n",
        "model.predict([17.0])"
      ],
      "metadata": {
        "colab": {
          "base_uri": "https://localhost:8080/"
        },
        "id": "_98Z35awELNk",
        "outputId": "b6cf568f-7290-43e8-9910-da725eaafe5e"
      },
      "execution_count": 19,
      "outputs": [
        {
          "output_type": "stream",
          "name": "stdout",
          "text": [
            "1/1 [==============================] - 0s 204ms/step\n"
          ]
        },
        {
          "output_type": "execute_result",
          "data": {
            "text/plain": [
              "array([[30.219854]], dtype=float32)"
            ]
          },
          "metadata": {},
          "execution_count": 19
        }
      ]
    },
    {
      "cell_type": "code",
      "source": [
        "# 2nd HYPERPARAMETER TWEAK --> OPTIMIZER\n",
        "\n",
        "# 1. Create the model\n",
        "model = tf.keras.Sequential([\n",
        "    tf.keras.layers.Dense(1)\n",
        "])\n",
        "\n",
        "# 2. Compile the model\n",
        "model.compile(\n",
        "    loss=tf.keras.losses.mae,\n",
        "    optimizer=tf.keras.optimizers.Adam(learning_rate=0.0001),\n",
        "    metrics=[\"mae\"]\n",
        ")\n",
        "\n",
        "# 3. Fit the model\n",
        "model.fit(tf.expand_dims(X, axis=-1), y, epochs=100)"
      ],
      "metadata": {
        "id": "oy6BUTl5Es92",
        "colab": {
          "base_uri": "https://localhost:8080/"
        },
        "outputId": "fedf4a22-b5b8-44b7-a2b7-ed37fe34c2b1"
      },
      "execution_count": 20,
      "outputs": [
        {
          "output_type": "stream",
          "name": "stdout",
          "text": [
            "Epoch 1/100\n",
            "1/1 [==============================] - 0s 484ms/step - loss: 17.9387 - mae: 17.9387\n",
            "Epoch 2/100\n",
            "1/1 [==============================] - 0s 10ms/step - loss: 17.9381 - mae: 17.9381\n",
            "Epoch 3/100\n",
            "1/1 [==============================] - 0s 13ms/step - loss: 17.9375 - mae: 17.9375\n",
            "Epoch 4/100\n",
            "1/1 [==============================] - 0s 10ms/step - loss: 17.9369 - mae: 17.9369\n",
            "Epoch 5/100\n",
            "1/1 [==============================] - 0s 11ms/step - loss: 17.9363 - mae: 17.9363\n",
            "Epoch 6/100\n",
            "1/1 [==============================] - 0s 13ms/step - loss: 17.9357 - mae: 17.9357\n",
            "Epoch 7/100\n",
            "1/1 [==============================] - 0s 13ms/step - loss: 17.9351 - mae: 17.9351\n",
            "Epoch 8/100\n",
            "1/1 [==============================] - 0s 11ms/step - loss: 17.9345 - mae: 17.9345\n",
            "Epoch 9/100\n",
            "1/1 [==============================] - 0s 12ms/step - loss: 17.9339 - mae: 17.9339\n",
            "Epoch 10/100\n",
            "1/1 [==============================] - 0s 11ms/step - loss: 17.9333 - mae: 17.9333\n",
            "Epoch 11/100\n",
            "1/1 [==============================] - 0s 11ms/step - loss: 17.9327 - mae: 17.9327\n",
            "Epoch 12/100\n",
            "1/1 [==============================] - 0s 11ms/step - loss: 17.9321 - mae: 17.9321\n",
            "Epoch 13/100\n",
            "1/1 [==============================] - 0s 12ms/step - loss: 17.9315 - mae: 17.9315\n",
            "Epoch 14/100\n",
            "1/1 [==============================] - 0s 12ms/step - loss: 17.9309 - mae: 17.9309\n",
            "Epoch 15/100\n",
            "1/1 [==============================] - 0s 12ms/step - loss: 17.9303 - mae: 17.9303\n",
            "Epoch 16/100\n",
            "1/1 [==============================] - 0s 10ms/step - loss: 17.9297 - mae: 17.9297\n",
            "Epoch 17/100\n",
            "1/1 [==============================] - 0s 17ms/step - loss: 17.9291 - mae: 17.9291\n",
            "Epoch 18/100\n",
            "1/1 [==============================] - 0s 15ms/step - loss: 17.9285 - mae: 17.9285\n",
            "Epoch 19/100\n",
            "1/1 [==============================] - 0s 11ms/step - loss: 17.9279 - mae: 17.9279\n",
            "Epoch 20/100\n",
            "1/1 [==============================] - 0s 14ms/step - loss: 17.9273 - mae: 17.9273\n",
            "Epoch 21/100\n",
            "1/1 [==============================] - 0s 13ms/step - loss: 17.9267 - mae: 17.9267\n",
            "Epoch 22/100\n",
            "1/1 [==============================] - 0s 13ms/step - loss: 17.9261 - mae: 17.9261\n",
            "Epoch 23/100\n",
            "1/1 [==============================] - 0s 11ms/step - loss: 17.9255 - mae: 17.9255\n",
            "Epoch 24/100\n",
            "1/1 [==============================] - 0s 11ms/step - loss: 17.9249 - mae: 17.9249\n",
            "Epoch 25/100\n",
            "1/1 [==============================] - 0s 12ms/step - loss: 17.9243 - mae: 17.9243\n",
            "Epoch 26/100\n",
            "1/1 [==============================] - 0s 12ms/step - loss: 17.9237 - mae: 17.9237\n",
            "Epoch 27/100\n",
            "1/1 [==============================] - 0s 12ms/step - loss: 17.9231 - mae: 17.9231\n",
            "Epoch 28/100\n",
            "1/1 [==============================] - 0s 12ms/step - loss: 17.9225 - mae: 17.9225\n",
            "Epoch 29/100\n",
            "1/1 [==============================] - 0s 13ms/step - loss: 17.9219 - mae: 17.9219\n",
            "Epoch 30/100\n",
            "1/1 [==============================] - 0s 13ms/step - loss: 17.9213 - mae: 17.9213\n",
            "Epoch 31/100\n",
            "1/1 [==============================] - 0s 12ms/step - loss: 17.9207 - mae: 17.9207\n",
            "Epoch 32/100\n",
            "1/1 [==============================] - 0s 12ms/step - loss: 17.9201 - mae: 17.9201\n",
            "Epoch 33/100\n",
            "1/1 [==============================] - 0s 13ms/step - loss: 17.9195 - mae: 17.9195\n",
            "Epoch 34/100\n",
            "1/1 [==============================] - 0s 10ms/step - loss: 17.9189 - mae: 17.9189\n",
            "Epoch 35/100\n",
            "1/1 [==============================] - 0s 14ms/step - loss: 17.9183 - mae: 17.9183\n",
            "Epoch 36/100\n",
            "1/1 [==============================] - 0s 12ms/step - loss: 17.9177 - mae: 17.9177\n",
            "Epoch 37/100\n",
            "1/1 [==============================] - 0s 12ms/step - loss: 17.9171 - mae: 17.9171\n",
            "Epoch 38/100\n",
            "1/1 [==============================] - 0s 13ms/step - loss: 17.9165 - mae: 17.9165\n",
            "Epoch 39/100\n",
            "1/1 [==============================] - 0s 17ms/step - loss: 17.9159 - mae: 17.9159\n",
            "Epoch 40/100\n",
            "1/1 [==============================] - 0s 11ms/step - loss: 17.9153 - mae: 17.9153\n",
            "Epoch 41/100\n",
            "1/1 [==============================] - 0s 12ms/step - loss: 17.9147 - mae: 17.9147\n",
            "Epoch 42/100\n",
            "1/1 [==============================] - 0s 11ms/step - loss: 17.9141 - mae: 17.9141\n",
            "Epoch 43/100\n",
            "1/1 [==============================] - 0s 12ms/step - loss: 17.9135 - mae: 17.9135\n",
            "Epoch 44/100\n",
            "1/1 [==============================] - 0s 13ms/step - loss: 17.9129 - mae: 17.9129\n",
            "Epoch 45/100\n",
            "1/1 [==============================] - 0s 13ms/step - loss: 17.9123 - mae: 17.9123\n",
            "Epoch 46/100\n",
            "1/1 [==============================] - 0s 13ms/step - loss: 17.9117 - mae: 17.9117\n",
            "Epoch 47/100\n",
            "1/1 [==============================] - 0s 13ms/step - loss: 17.9111 - mae: 17.9111\n",
            "Epoch 48/100\n",
            "1/1 [==============================] - 0s 11ms/step - loss: 17.9105 - mae: 17.9105\n",
            "Epoch 49/100\n",
            "1/1 [==============================] - 0s 13ms/step - loss: 17.9099 - mae: 17.9099\n",
            "Epoch 50/100\n",
            "1/1 [==============================] - 0s 14ms/step - loss: 17.9093 - mae: 17.9093\n",
            "Epoch 51/100\n",
            "1/1 [==============================] - 0s 12ms/step - loss: 17.9087 - mae: 17.9087\n",
            "Epoch 52/100\n",
            "1/1 [==============================] - 0s 11ms/step - loss: 17.9081 - mae: 17.9081\n",
            "Epoch 53/100\n",
            "1/1 [==============================] - 0s 13ms/step - loss: 17.9075 - mae: 17.9075\n",
            "Epoch 54/100\n",
            "1/1 [==============================] - 0s 15ms/step - loss: 17.9069 - mae: 17.9069\n",
            "Epoch 55/100\n",
            "1/1 [==============================] - 0s 10ms/step - loss: 17.9063 - mae: 17.9063\n",
            "Epoch 56/100\n",
            "1/1 [==============================] - 0s 9ms/step - loss: 17.9057 - mae: 17.9057\n",
            "Epoch 57/100\n",
            "1/1 [==============================] - 0s 10ms/step - loss: 17.9051 - mae: 17.9051\n",
            "Epoch 58/100\n",
            "1/1 [==============================] - 0s 11ms/step - loss: 17.9045 - mae: 17.9045\n",
            "Epoch 59/100\n",
            "1/1 [==============================] - 0s 10ms/step - loss: 17.9039 - mae: 17.9039\n",
            "Epoch 60/100\n",
            "1/1 [==============================] - 0s 11ms/step - loss: 17.9033 - mae: 17.9033\n",
            "Epoch 61/100\n",
            "1/1 [==============================] - 0s 11ms/step - loss: 17.9027 - mae: 17.9027\n",
            "Epoch 62/100\n",
            "1/1 [==============================] - 0s 12ms/step - loss: 17.9021 - mae: 17.9021\n",
            "Epoch 63/100\n",
            "1/1 [==============================] - 0s 11ms/step - loss: 17.9015 - mae: 17.9015\n",
            "Epoch 64/100\n",
            "1/1 [==============================] - 0s 11ms/step - loss: 17.9009 - mae: 17.9009\n",
            "Epoch 65/100\n",
            "1/1 [==============================] - 0s 11ms/step - loss: 17.9003 - mae: 17.9003\n",
            "Epoch 66/100\n",
            "1/1 [==============================] - 0s 11ms/step - loss: 17.8997 - mae: 17.8997\n",
            "Epoch 67/100\n",
            "1/1 [==============================] - 0s 11ms/step - loss: 17.8991 - mae: 17.8991\n",
            "Epoch 68/100\n",
            "1/1 [==============================] - 0s 11ms/step - loss: 17.8985 - mae: 17.8985\n",
            "Epoch 69/100\n",
            "1/1 [==============================] - 0s 11ms/step - loss: 17.8979 - mae: 17.8979\n",
            "Epoch 70/100\n",
            "1/1 [==============================] - 0s 11ms/step - loss: 17.8973 - mae: 17.8973\n",
            "Epoch 71/100\n",
            "1/1 [==============================] - 0s 11ms/step - loss: 17.8967 - mae: 17.8967\n",
            "Epoch 72/100\n",
            "1/1 [==============================] - 0s 11ms/step - loss: 17.8961 - mae: 17.8961\n",
            "Epoch 73/100\n",
            "1/1 [==============================] - 0s 10ms/step - loss: 17.8955 - mae: 17.8955\n",
            "Epoch 74/100\n",
            "1/1 [==============================] - 0s 10ms/step - loss: 17.8949 - mae: 17.8949\n",
            "Epoch 75/100\n",
            "1/1 [==============================] - 0s 10ms/step - loss: 17.8943 - mae: 17.8943\n",
            "Epoch 76/100\n",
            "1/1 [==============================] - 0s 10ms/step - loss: 17.8937 - mae: 17.8937\n",
            "Epoch 77/100\n",
            "1/1 [==============================] - 0s 11ms/step - loss: 17.8931 - mae: 17.8931\n",
            "Epoch 78/100\n",
            "1/1 [==============================] - 0s 12ms/step - loss: 17.8925 - mae: 17.8925\n",
            "Epoch 79/100\n",
            "1/1 [==============================] - 0s 10ms/step - loss: 17.8919 - mae: 17.8919\n",
            "Epoch 80/100\n",
            "1/1 [==============================] - 0s 13ms/step - loss: 17.8913 - mae: 17.8913\n",
            "Epoch 81/100\n",
            "1/1 [==============================] - 0s 13ms/step - loss: 17.8907 - mae: 17.8907\n",
            "Epoch 82/100\n",
            "1/1 [==============================] - 0s 11ms/step - loss: 17.8901 - mae: 17.8901\n",
            "Epoch 83/100\n",
            "1/1 [==============================] - 0s 11ms/step - loss: 17.8895 - mae: 17.8895\n",
            "Epoch 84/100\n",
            "1/1 [==============================] - 0s 11ms/step - loss: 17.8889 - mae: 17.8889\n",
            "Epoch 85/100\n",
            "1/1 [==============================] - 0s 10ms/step - loss: 17.8883 - mae: 17.8883\n",
            "Epoch 86/100\n",
            "1/1 [==============================] - 0s 10ms/step - loss: 17.8877 - mae: 17.8877\n",
            "Epoch 87/100\n",
            "1/1 [==============================] - 0s 9ms/step - loss: 17.8871 - mae: 17.8871\n",
            "Epoch 88/100\n",
            "1/1 [==============================] - 0s 10ms/step - loss: 17.8865 - mae: 17.8865\n",
            "Epoch 89/100\n",
            "1/1 [==============================] - 0s 10ms/step - loss: 17.8859 - mae: 17.8859\n",
            "Epoch 90/100\n",
            "1/1 [==============================] - 0s 13ms/step - loss: 17.8853 - mae: 17.8853\n",
            "Epoch 91/100\n",
            "1/1 [==============================] - 0s 10ms/step - loss: 17.8847 - mae: 17.8847\n",
            "Epoch 92/100\n",
            "1/1 [==============================] - 0s 11ms/step - loss: 17.8841 - mae: 17.8841\n",
            "Epoch 93/100\n",
            "1/1 [==============================] - 0s 11ms/step - loss: 17.8835 - mae: 17.8835\n",
            "Epoch 94/100\n",
            "1/1 [==============================] - 0s 10ms/step - loss: 17.8829 - mae: 17.8829\n",
            "Epoch 95/100\n",
            "1/1 [==============================] - 0s 10ms/step - loss: 17.8823 - mae: 17.8823\n",
            "Epoch 96/100\n",
            "1/1 [==============================] - 0s 10ms/step - loss: 17.8817 - mae: 17.8817\n",
            "Epoch 97/100\n",
            "1/1 [==============================] - 0s 10ms/step - loss: 17.8811 - mae: 17.8811\n",
            "Epoch 98/100\n",
            "1/1 [==============================] - 0s 10ms/step - loss: 17.8805 - mae: 17.8805\n",
            "Epoch 99/100\n",
            "1/1 [==============================] - 0s 10ms/step - loss: 17.8799 - mae: 17.8799\n",
            "Epoch 100/100\n",
            "1/1 [==============================] - 0s 9ms/step - loss: 17.8793 - mae: 17.8793\n"
          ]
        },
        {
          "output_type": "execute_result",
          "data": {
            "text/plain": [
              "<keras.src.callbacks.History at 0x78645f5683a0>"
            ]
          },
          "metadata": {},
          "execution_count": 20
        }
      ]
    },
    {
      "cell_type": "code",
      "source": [
        "model.predict([17.0])"
      ],
      "metadata": {
        "colab": {
          "base_uri": "https://localhost:8080/"
        },
        "id": "jAvwVdXSGMJ-",
        "outputId": "67a71cd6-32c8-4cec-f30f-779b44f9e433"
      },
      "execution_count": 21,
      "outputs": [
        {
          "output_type": "stream",
          "name": "stdout",
          "text": [
            "1/1 [==============================] - 0s 86ms/step\n"
          ]
        },
        {
          "output_type": "execute_result",
          "data": {
            "text/plain": [
              "array([[-16.621492]], dtype=float32)"
            ]
          },
          "metadata": {},
          "execution_count": 21
        }
      ]
    },
    {
      "cell_type": "code",
      "source": [
        "# FINAL TWEAKS\n",
        "\n",
        "# 1. Create the model\n",
        "model = tf.keras.Sequential([\n",
        "    tf.keras.layers.Dense(50, activation=None),\n",
        "    tf.keras.layers.Dense(1)\n",
        "])\n",
        "\n",
        "# 2. Compile the model\n",
        "model.compile(\n",
        "    loss=tf.keras.losses.mae,\n",
        "    optimizer=tf.keras.optimizers.Adam(lr=0.01),\n",
        "    metrics=[\"mae\"]\n",
        ")\n",
        "\n",
        "# 3. Fit the model\n",
        "model.fit(tf.expand_dims(X, axis=-1), y, epochs=100)"
      ],
      "metadata": {
        "id": "ujS-ZnaZGUO7",
        "colab": {
          "base_uri": "https://localhost:8080/"
        },
        "outputId": "5f269269-d1a5-43f4-b89a-00eca5ae21c5"
      },
      "execution_count": 22,
      "outputs": [
        {
          "output_type": "stream",
          "name": "stderr",
          "text": [
            "WARNING:absl:`lr` is deprecated in Keras optimizer, please use `learning_rate` or use the legacy optimizer, e.g.,tf.keras.optimizers.legacy.Adam.\n"
          ]
        },
        {
          "output_type": "stream",
          "name": "stdout",
          "text": [
            "Epoch 1/100\n",
            "1/1 [==============================] - 1s 629ms/step - loss: 13.1284 - mae: 13.1284\n",
            "Epoch 2/100\n",
            "1/1 [==============================] - 0s 12ms/step - loss: 13.0620 - mae: 13.0620\n",
            "Epoch 3/100\n",
            "1/1 [==============================] - 0s 12ms/step - loss: 12.9956 - mae: 12.9956\n",
            "Epoch 4/100\n",
            "1/1 [==============================] - 0s 16ms/step - loss: 12.9292 - mae: 12.9292\n",
            "Epoch 5/100\n",
            "1/1 [==============================] - 0s 15ms/step - loss: 12.8629 - mae: 12.8629\n",
            "Epoch 6/100\n",
            "1/1 [==============================] - 0s 15ms/step - loss: 12.7965 - mae: 12.7965\n",
            "Epoch 7/100\n",
            "1/1 [==============================] - 0s 14ms/step - loss: 12.7301 - mae: 12.7301\n",
            "Epoch 8/100\n",
            "1/1 [==============================] - 0s 13ms/step - loss: 12.6638 - mae: 12.6638\n",
            "Epoch 9/100\n",
            "1/1 [==============================] - 0s 13ms/step - loss: 12.5974 - mae: 12.5974\n",
            "Epoch 10/100\n",
            "1/1 [==============================] - 0s 12ms/step - loss: 12.5310 - mae: 12.5310\n",
            "Epoch 11/100\n",
            "1/1 [==============================] - 0s 11ms/step - loss: 12.4646 - mae: 12.4646\n",
            "Epoch 12/100\n",
            "1/1 [==============================] - 0s 12ms/step - loss: 12.3982 - mae: 12.3982\n",
            "Epoch 13/100\n",
            "1/1 [==============================] - 0s 11ms/step - loss: 12.3318 - mae: 12.3318\n",
            "Epoch 14/100\n",
            "1/1 [==============================] - 0s 12ms/step - loss: 12.2653 - mae: 12.2653\n",
            "Epoch 15/100\n",
            "1/1 [==============================] - 0s 12ms/step - loss: 12.1988 - mae: 12.1988\n",
            "Epoch 16/100\n",
            "1/1 [==============================] - 0s 12ms/step - loss: 12.1323 - mae: 12.1323\n",
            "Epoch 17/100\n",
            "1/1 [==============================] - 0s 14ms/step - loss: 12.0657 - mae: 12.0657\n",
            "Epoch 18/100\n",
            "1/1 [==============================] - 0s 11ms/step - loss: 11.9990 - mae: 11.9990\n",
            "Epoch 19/100\n",
            "1/1 [==============================] - 0s 13ms/step - loss: 11.9323 - mae: 11.9323\n",
            "Epoch 20/100\n",
            "1/1 [==============================] - 0s 11ms/step - loss: 11.8654 - mae: 11.8654\n",
            "Epoch 21/100\n",
            "1/1 [==============================] - 0s 12ms/step - loss: 11.7985 - mae: 11.7985\n",
            "Epoch 22/100\n",
            "1/1 [==============================] - 0s 10ms/step - loss: 11.7315 - mae: 11.7315\n",
            "Epoch 23/100\n",
            "1/1 [==============================] - 0s 14ms/step - loss: 11.6643 - mae: 11.6643\n",
            "Epoch 24/100\n",
            "1/1 [==============================] - 0s 13ms/step - loss: 11.5971 - mae: 11.5971\n",
            "Epoch 25/100\n",
            "1/1 [==============================] - 0s 12ms/step - loss: 11.5297 - mae: 11.5297\n",
            "Epoch 26/100\n",
            "1/1 [==============================] - 0s 14ms/step - loss: 11.4622 - mae: 11.4622\n",
            "Epoch 27/100\n",
            "1/1 [==============================] - 0s 11ms/step - loss: 11.3945 - mae: 11.3945\n",
            "Epoch 28/100\n",
            "1/1 [==============================] - 0s 11ms/step - loss: 11.3267 - mae: 11.3267\n",
            "Epoch 29/100\n",
            "1/1 [==============================] - 0s 11ms/step - loss: 11.2587 - mae: 11.2587\n",
            "Epoch 30/100\n",
            "1/1 [==============================] - 0s 11ms/step - loss: 11.1906 - mae: 11.1906\n",
            "Epoch 31/100\n",
            "1/1 [==============================] - 0s 11ms/step - loss: 11.1223 - mae: 11.1223\n",
            "Epoch 32/100\n",
            "1/1 [==============================] - 0s 10ms/step - loss: 11.0538 - mae: 11.0538\n",
            "Epoch 33/100\n",
            "1/1 [==============================] - 0s 10ms/step - loss: 10.9851 - mae: 10.9851\n",
            "Epoch 34/100\n",
            "1/1 [==============================] - 0s 11ms/step - loss: 10.9162 - mae: 10.9162\n",
            "Epoch 35/100\n",
            "1/1 [==============================] - 0s 11ms/step - loss: 10.8471 - mae: 10.8471\n",
            "Epoch 36/100\n",
            "1/1 [==============================] - 0s 10ms/step - loss: 10.7778 - mae: 10.7778\n",
            "Epoch 37/100\n",
            "1/1 [==============================] - 0s 11ms/step - loss: 10.7082 - mae: 10.7082\n",
            "Epoch 38/100\n",
            "1/1 [==============================] - 0s 11ms/step - loss: 10.6384 - mae: 10.6384\n",
            "Epoch 39/100\n",
            "1/1 [==============================] - 0s 10ms/step - loss: 10.5684 - mae: 10.5684\n",
            "Epoch 40/100\n",
            "1/1 [==============================] - 0s 12ms/step - loss: 10.4981 - mae: 10.4981\n",
            "Epoch 41/100\n",
            "1/1 [==============================] - 0s 11ms/step - loss: 10.4275 - mae: 10.4275\n",
            "Epoch 42/100\n",
            "1/1 [==============================] - 0s 11ms/step - loss: 10.3567 - mae: 10.3567\n",
            "Epoch 43/100\n",
            "1/1 [==============================] - 0s 10ms/step - loss: 10.2856 - mae: 10.2856\n",
            "Epoch 44/100\n",
            "1/1 [==============================] - 0s 11ms/step - loss: 10.2142 - mae: 10.2142\n",
            "Epoch 45/100\n",
            "1/1 [==============================] - 0s 13ms/step - loss: 10.1425 - mae: 10.1425\n",
            "Epoch 46/100\n",
            "1/1 [==============================] - 0s 11ms/step - loss: 10.0705 - mae: 10.0705\n",
            "Epoch 47/100\n",
            "1/1 [==============================] - 0s 10ms/step - loss: 9.9981 - mae: 9.9981\n",
            "Epoch 48/100\n",
            "1/1 [==============================] - 0s 11ms/step - loss: 9.9255 - mae: 9.9255\n",
            "Epoch 49/100\n",
            "1/1 [==============================] - 0s 11ms/step - loss: 9.8525 - mae: 9.8525\n",
            "Epoch 50/100\n",
            "1/1 [==============================] - 0s 14ms/step - loss: 9.7792 - mae: 9.7792\n",
            "Epoch 51/100\n",
            "1/1 [==============================] - 0s 12ms/step - loss: 9.7056 - mae: 9.7056\n",
            "Epoch 52/100\n",
            "1/1 [==============================] - 0s 11ms/step - loss: 9.6315 - mae: 9.6315\n",
            "Epoch 53/100\n",
            "1/1 [==============================] - 0s 11ms/step - loss: 9.5572 - mae: 9.5572\n",
            "Epoch 54/100\n",
            "1/1 [==============================] - 0s 11ms/step - loss: 9.4824 - mae: 9.4824\n",
            "Epoch 55/100\n",
            "1/1 [==============================] - 0s 13ms/step - loss: 9.4073 - mae: 9.4073\n",
            "Epoch 56/100\n",
            "1/1 [==============================] - 0s 15ms/step - loss: 9.3318 - mae: 9.3318\n",
            "Epoch 57/100\n",
            "1/1 [==============================] - 0s 11ms/step - loss: 9.2559 - mae: 9.2559\n",
            "Epoch 58/100\n",
            "1/1 [==============================] - 0s 11ms/step - loss: 9.1796 - mae: 9.1796\n",
            "Epoch 59/100\n",
            "1/1 [==============================] - 0s 11ms/step - loss: 9.1029 - mae: 9.1029\n",
            "Epoch 60/100\n",
            "1/1 [==============================] - 0s 11ms/step - loss: 9.0257 - mae: 9.0257\n",
            "Epoch 61/100\n",
            "1/1 [==============================] - 0s 11ms/step - loss: 8.9482 - mae: 8.9482\n",
            "Epoch 62/100\n",
            "1/1 [==============================] - 0s 11ms/step - loss: 8.8702 - mae: 8.8702\n",
            "Epoch 63/100\n",
            "1/1 [==============================] - 0s 11ms/step - loss: 8.7918 - mae: 8.7918\n",
            "Epoch 64/100\n",
            "1/1 [==============================] - 0s 11ms/step - loss: 8.7129 - mae: 8.7129\n",
            "Epoch 65/100\n",
            "1/1 [==============================] - 0s 11ms/step - loss: 8.6336 - mae: 8.6336\n",
            "Epoch 66/100\n",
            "1/1 [==============================] - 0s 11ms/step - loss: 8.5539 - mae: 8.5539\n",
            "Epoch 67/100\n",
            "1/1 [==============================] - 0s 11ms/step - loss: 8.4736 - mae: 8.4736\n",
            "Epoch 68/100\n",
            "1/1 [==============================] - 0s 11ms/step - loss: 8.3929 - mae: 8.3929\n",
            "Epoch 69/100\n",
            "1/1 [==============================] - 0s 11ms/step - loss: 8.3118 - mae: 8.3118\n",
            "Epoch 70/100\n",
            "1/1 [==============================] - 0s 11ms/step - loss: 8.2301 - mae: 8.2301\n",
            "Epoch 71/100\n",
            "1/1 [==============================] - 0s 11ms/step - loss: 8.1479 - mae: 8.1479\n",
            "Epoch 72/100\n",
            "1/1 [==============================] - 0s 12ms/step - loss: 8.0653 - mae: 8.0653\n",
            "Epoch 73/100\n",
            "1/1 [==============================] - 0s 11ms/step - loss: 7.9821 - mae: 7.9821\n",
            "Epoch 74/100\n",
            "1/1 [==============================] - 0s 11ms/step - loss: 7.8984 - mae: 7.8984\n",
            "Epoch 75/100\n",
            "1/1 [==============================] - 0s 12ms/step - loss: 7.8142 - mae: 7.8142\n",
            "Epoch 76/100\n",
            "1/1 [==============================] - 0s 10ms/step - loss: 7.7295 - mae: 7.7295\n",
            "Epoch 77/100\n",
            "1/1 [==============================] - 0s 10ms/step - loss: 7.6442 - mae: 7.6442\n",
            "Epoch 78/100\n",
            "1/1 [==============================] - 0s 12ms/step - loss: 7.5584 - mae: 7.5584\n",
            "Epoch 79/100\n",
            "1/1 [==============================] - 0s 10ms/step - loss: 7.4720 - mae: 7.4720\n",
            "Epoch 80/100\n",
            "1/1 [==============================] - 0s 11ms/step - loss: 7.3851 - mae: 7.3851\n",
            "Epoch 81/100\n",
            "1/1 [==============================] - 0s 12ms/step - loss: 7.2977 - mae: 7.2977\n",
            "Epoch 82/100\n",
            "1/1 [==============================] - 0s 11ms/step - loss: 7.2097 - mae: 7.2097\n",
            "Epoch 83/100\n",
            "1/1 [==============================] - 0s 11ms/step - loss: 7.1211 - mae: 7.1211\n",
            "Epoch 84/100\n",
            "1/1 [==============================] - 0s 10ms/step - loss: 7.0319 - mae: 7.0319\n",
            "Epoch 85/100\n",
            "1/1 [==============================] - 0s 11ms/step - loss: 6.9421 - mae: 6.9421\n",
            "Epoch 86/100\n",
            "1/1 [==============================] - 0s 10ms/step - loss: 6.8518 - mae: 6.8518\n",
            "Epoch 87/100\n",
            "1/1 [==============================] - 0s 11ms/step - loss: 6.7954 - mae: 6.7954\n",
            "Epoch 88/100\n",
            "1/1 [==============================] - 0s 11ms/step - loss: 6.7845 - mae: 6.7845\n",
            "Epoch 89/100\n",
            "1/1 [==============================] - 0s 13ms/step - loss: 6.7739 - mae: 6.7739\n",
            "Epoch 90/100\n",
            "1/1 [==============================] - 0s 11ms/step - loss: 6.7636 - mae: 6.7636\n",
            "Epoch 91/100\n",
            "1/1 [==============================] - 0s 11ms/step - loss: 6.7534 - mae: 6.7534\n",
            "Epoch 92/100\n",
            "1/1 [==============================] - 0s 12ms/step - loss: 6.7434 - mae: 6.7434\n",
            "Epoch 93/100\n",
            "1/1 [==============================] - 0s 12ms/step - loss: 6.7336 - mae: 6.7336\n",
            "Epoch 94/100\n",
            "1/1 [==============================] - 0s 13ms/step - loss: 6.7239 - mae: 6.7239\n",
            "Epoch 95/100\n",
            "1/1 [==============================] - 0s 11ms/step - loss: 6.7143 - mae: 6.7143\n",
            "Epoch 96/100\n",
            "1/1 [==============================] - 0s 10ms/step - loss: 6.7049 - mae: 6.7049\n",
            "Epoch 97/100\n",
            "1/1 [==============================] - 0s 11ms/step - loss: 6.6955 - mae: 6.6955\n",
            "Epoch 98/100\n",
            "1/1 [==============================] - 0s 13ms/step - loss: 6.6863 - mae: 6.6863\n",
            "Epoch 99/100\n",
            "1/1 [==============================] - 0s 11ms/step - loss: 6.6771 - mae: 6.6771\n",
            "Epoch 100/100\n",
            "1/1 [==============================] - 0s 11ms/step - loss: 6.6864 - mae: 6.6864\n"
          ]
        },
        {
          "output_type": "execute_result",
          "data": {
            "text/plain": [
              "<keras.src.callbacks.History at 0x78645f43ffa0>"
            ]
          },
          "metadata": {},
          "execution_count": 22
        }
      ]
    },
    {
      "cell_type": "code",
      "source": [
        "model.predict([17.0])"
      ],
      "metadata": {
        "colab": {
          "base_uri": "https://localhost:8080/"
        },
        "id": "TRnFxxP_HtL0",
        "outputId": "38fa6056-f6c8-4300-92b1-b161f35077b1"
      },
      "execution_count": 23,
      "outputs": [
        {
          "output_type": "stream",
          "name": "stdout",
          "text": [
            "1/1 [==============================] - 0s 72ms/step\n"
          ]
        },
        {
          "output_type": "execute_result",
          "data": {
            "text/plain": [
              "array([[32.044445]], dtype=float32)"
            ]
          },
          "metadata": {},
          "execution_count": 23
        }
      ]
    },
    {
      "cell_type": "markdown",
      "source": [
        "## Common Ways to Improve A Deep Model:\n",
        "\n",
        "\n",
        "\n",
        "*   Adding layers\n",
        "*   Increase the number of hidden units\n",
        "*   Change the activation functions\n",
        "*   Change the optimization function\n",
        "*   Change the learning rate (potentially the most important hyperparameter of many different neural networks)\n",
        "*   Fitting on more data\n",
        "*   Fitting for longer\n",
        "\n"
      ],
      "metadata": {
        "id": "vE6htj6c2x1U"
      }
    },
    {
      "cell_type": "markdown",
      "source": [
        "## Evaluating a Model\n",
        "\n",
        "In practice, a typical workflow you'll go through when building neural networks is:\n",
        "```\n",
        "Build a model -> fit it -> evaluate it -> tweak a model -> fit it -> evaluate it -> tweak a model -> fit it -> evaluate it...\n",
        "```"
      ],
      "metadata": {
        "id": "1dX9u_amH661"
      }
    },
    {
      "cell_type": "markdown",
      "source": [
        "When it comes to evaluation... there are 3 words you should memorize:\n",
        "> \"Visualize, visualize, visualize.\"\n",
        "\n",
        "it's a good idea to visualize:\n",
        "* The data - what data are we working with? What does it look like?\n",
        "* The model itself - what does our model look like?\n",
        "* The training of a model - how does the model perform while it learns?\n",
        "* The predictions of the model - how do the predictions of the model line up with the ground truth (the original labels)?"
      ],
      "metadata": {
        "id": "5rqNoyi9BTZ5"
      }
    },
    {
      "cell_type": "code",
      "source": [
        "# Make a bigger dataset\n",
        "X = tf.range(-100, 100, 4)\n",
        "X"
      ],
      "metadata": {
        "id": "fwCe61Z7CKuQ",
        "outputId": "13e9ee9e-951b-4f57-9ebc-14fc2f7c2de0",
        "colab": {
          "base_uri": "https://localhost:8080/"
        }
      },
      "execution_count": 24,
      "outputs": [
        {
          "output_type": "execute_result",
          "data": {
            "text/plain": [
              "<tf.Tensor: shape=(50,), dtype=int32, numpy=\n",
              "array([-100,  -96,  -92,  -88,  -84,  -80,  -76,  -72,  -68,  -64,  -60,\n",
              "        -56,  -52,  -48,  -44,  -40,  -36,  -32,  -28,  -24,  -20,  -16,\n",
              "        -12,   -8,   -4,    0,    4,    8,   12,   16,   20,   24,   28,\n",
              "         32,   36,   40,   44,   48,   52,   56,   60,   64,   68,   72,\n",
              "         76,   80,   84,   88,   92,   96], dtype=int32)>"
            ]
          },
          "metadata": {},
          "execution_count": 24
        }
      ]
    },
    {
      "cell_type": "code",
      "source": [
        "# Make labels for the dataset\n",
        "y = X + 10\n",
        "y"
      ],
      "metadata": {
        "id": "XvcnWISJEu4P",
        "outputId": "603426fb-e3da-4cf9-b637-1b96e865414a",
        "colab": {
          "base_uri": "https://localhost:8080/"
        }
      },
      "execution_count": 25,
      "outputs": [
        {
          "output_type": "execute_result",
          "data": {
            "text/plain": [
              "<tf.Tensor: shape=(50,), dtype=int32, numpy=\n",
              "array([-90, -86, -82, -78, -74, -70, -66, -62, -58, -54, -50, -46, -42,\n",
              "       -38, -34, -30, -26, -22, -18, -14, -10,  -6,  -2,   2,   6,  10,\n",
              "        14,  18,  22,  26,  30,  34,  38,  42,  46,  50,  54,  58,  62,\n",
              "        66,  70,  74,  78,  82,  86,  90,  94,  98, 102, 106], dtype=int32)>"
            ]
          },
          "metadata": {},
          "execution_count": 25
        }
      ]
    },
    {
      "cell_type": "code",
      "source": [
        "# Visualize the data\n",
        "import matplotlib.pyplot as plt\n",
        "\n",
        "plt.scatter(X, y)"
      ],
      "metadata": {
        "id": "_YpDTzgUE7YH",
        "outputId": "01135aac-aa0e-4760-9154-fb5312508bcb",
        "colab": {
          "base_uri": "https://localhost:8080/",
          "height": 448
        }
      },
      "execution_count": 26,
      "outputs": [
        {
          "output_type": "execute_result",
          "data": {
            "text/plain": [
              "<matplotlib.collections.PathCollection at 0x78645f37ea10>"
            ]
          },
          "metadata": {},
          "execution_count": 26
        },
        {
          "output_type": "display_data",
          "data": {
            "text/plain": [
              "<Figure size 640x480 with 1 Axes>"
            ],
            "image/png": "[encoded data removed]"
          },
          "metadata": {}
        }
      ]
    },
    {
      "cell_type": "markdown",
      "source": [
        "### The 3 sets...\n",
        "\n",
        "* ***Training set*** - the model learns from this data, which is typically 70-80% if the total data you have available.\n",
        "* ***Validation set*** - the model gets tuned on this data, which is typically 10-15% of the data available.\n",
        "* ***Test set*** - the model gets evaluated on this data to test what it has learned, this set is typically 10-15% if the total available data."
      ],
      "metadata": {
        "id": "f99dq8T3FFx_"
      }
    },
    {
      "cell_type": "code",
      "source": [
        "# Check the length of how many samples we have\n",
        "len(X)"
      ],
      "metadata": {
        "id": "wNVDdkXxGCJ0",
        "outputId": "e3acf4b6-3936-490f-da1d-979af21985e2",
        "colab": {
          "base_uri": "https://localhost:8080/"
        }
      },
      "execution_count": 27,
      "outputs": [
        {
          "output_type": "execute_result",
          "data": {
            "text/plain": [
              "50"
            ]
          },
          "metadata": {},
          "execution_count": 27
        }
      ]
    },
    {
      "cell_type": "code",
      "source": [
        "# Split the data into train and test sets\n",
        "X_train = X[:40]  # First 40 are training samples (80%)\n",
        "y_train = y[:40]\n",
        "\n",
        "X_test = X[40:]  # Last 10 are the test samples (20%)\n",
        "y_test = y[40:]\n",
        "\n",
        "len(X_train), len(X_test), len(y_train), len(y_test)"
      ],
      "metadata": {
        "id": "IozGhoNQGgcQ",
        "outputId": "6212a0fd-a8f3-4446-f718-ff458b40a4a9",
        "colab": {
          "base_uri": "https://localhost:8080/"
        }
      },
      "execution_count": 28,
      "outputs": [
        {
          "output_type": "execute_result",
          "data": {
            "text/plain": [
              "(40, 10, 40, 10)"
            ]
          },
          "metadata": {},
          "execution_count": 28
        }
      ]
    },
    {
      "cell_type": "markdown",
      "source": [
        "### Visualizing the data\n",
        "\n",
        "Now we've got our data in training and test sets...let's visualize it again!"
      ],
      "metadata": {
        "id": "oypoltEMJ2Gv"
      }
    },
    {
      "cell_type": "code",
      "source": [
        "plt.figure(figsize=(10, 7))\n",
        "# Plot training data in blue\n",
        "plt.scatter(X_train, y_train, c=\"b\", label=\"Training data\") # our model will learn on this\n",
        "# Plot test data in green\n",
        "plt.scatter(X_test, y_test, c=\"g\", label=\"Testing data\") # want our model to be able to predict this (given X, what's y?)\n",
        "# Show a legend\n",
        "plt.legend();"
      ],
      "metadata": {
        "id": "8Yuj6_4VKN17",
        "outputId": "53ed6f9e-1cc1-458b-85ca-9c6fc49a6e70",
        "colab": {
          "base_uri": "https://localhost:8080/",
          "height": 599
        }
      },
      "execution_count": 29,
      "outputs": [
        {
          "output_type": "display_data",
          "data": {
            "text/plain": [
              "<Figure size 1000x700 with 1 Axes>"
            ],
            "image/png": "[encoded data removed]"
          },
          "metadata": {}
        }
      ]
    },
    {
      "cell_type": "code",
      "source": [
        "# Let's have a look at how to build a neural network for our data\n",
        "\n",
        "# 1. Create a model\n",
        "model = tf.keras.Sequential([\n",
        "  tf.keras.layers.Dense(1)\n",
        "])\n",
        "\n",
        "# 2. Compile the model\n",
        "model.compile(loss=tf.keras.losses.mae,\n",
        "              optimizer=tf.keras.optimizers.SGD(),\n",
        "              metrics=[\"mae\"])\n",
        "\n",
        "# # 3. Fit the model\n",
        "# model.fit(X_train, y_train, epochs=100)"
      ],
      "metadata": {
        "id": "-VKDZpgAKryO"
      },
      "execution_count": 30,
      "outputs": []
    },
    {
      "cell_type": "markdown",
      "source": [
        "### Visualizing the model"
      ],
      "metadata": {
        "id": "p_TJMaO0YhTr"
      }
    },
    {
      "cell_type": "code",
      "source": [
        "# model.summary()"
      ],
      "metadata": {
        "id": "vOFXWiHsYnKQ"
      },
      "execution_count": 31,
      "outputs": []
    },
    {
      "cell_type": "code",
      "source": [
        "X[0], y[0]"
      ],
      "metadata": {
        "colab": {
          "base_uri": "https://localhost:8080/"
        },
        "id": "NgoOIsRGYp_b",
        "outputId": "a1438ba3-1109-45d6-ef5e-35c1df559f2f"
      },
      "execution_count": 32,
      "outputs": [
        {
          "output_type": "execute_result",
          "data": {
            "text/plain": [
              "(<tf.Tensor: shape=(), dtype=int32, numpy=-100>,\n",
              " <tf.Tensor: shape=(), dtype=int32, numpy=-90>)"
            ]
          },
          "metadata": {},
          "execution_count": 32
        }
      ]
    },
    {
      "cell_type": "code",
      "source": [
        "# Let's create a model which builds automatically by defining the input_shape argument in the first layer\n",
        "tf.random.set_seed(42)\n",
        "\n",
        "# 1. Create a model (same as above)\n",
        "model = tf.keras.Sequential([\n",
        "  tf.keras.layers.Dense(10, input_shape=[1], name=\"input_layer\"),\n",
        "  tf.keras.layers.Dense(1, name=\"output_layer\")\n",
        "], name=\"model_1\")\n",
        "\n",
        "# 2. Compile the model (same as above)\n",
        "model.compile(loss=tf.keras.losses.mae,\n",
        "              optimizer=tf.keras.optimizers.SGD(),\n",
        "              metrics=[\"mae\"])"
      ],
      "metadata": {
        "id": "kzJ3FYvHYsrG"
      },
      "execution_count": 33,
      "outputs": []
    },
    {
      "cell_type": "code",
      "source": [
        "model.summary()"
      ],
      "metadata": {
        "colab": {
          "base_uri": "https://localhost:8080/"
        },
        "id": "loArIsz1Yvw_",
        "outputId": "1694191d-5304-4c72-b291-994f3c9a00f2"
      },
      "execution_count": 34,
      "outputs": [
        {
          "output_type": "stream",
          "name": "stdout",
          "text": [
            "Model: \"model_1\"\n",
            "_________________________________________________________________\n",
            " Layer (type)                Output Shape              Param #   \n",
            "=================================================================\n",
            " input_layer (Dense)         (None, 10)                20        \n",
            "                                                                 \n",
            " output_layer (Dense)        (None, 1)                 11        \n",
            "                                                                 \n",
            "=================================================================\n",
            "Total params: 31 (124.00 Byte)\n",
            "Trainable params: 31 (124.00 Byte)\n",
            "Non-trainable params: 0 (0.00 Byte)\n",
            "_________________________________________________________________\n"
          ]
        }
      ]
    },
    {
      "cell_type": "markdown",
      "source": [
        "* Total params - total number of parameters in the model.\n",
        "* Trainable parameters - these are the parameters (patterns) the model can update as it trains.\n",
        "* Non-trainable params - these parameters aren't updated during training (this is typical when you bring in already learn patterns or parameters from other models during **transfer learning**).\n",
        "\n",
        "📖 **Resource:** For a more in-depth overview of the trainable parameters within a layer, check out [MIT's introduction to deep learning video](https://youtu.be/njKP3FqW3Sk).\n",
        "\n",
        "🛠 **Exercise:** Try playing around with the number of hidden units in the dense layer, see how that effects the number of parameters (total and trainable) by calling `model.summary()`."
      ],
      "metadata": {
        "id": "jJF0K3IlYxn4"
      }
    },
    {
      "cell_type": "code",
      "source": [
        "# Let's fit our model to the training data\n",
        "model.fit(X_train, y_train, epochs=100, verbose=0)"
      ],
      "metadata": {
        "colab": {
          "base_uri": "https://localhost:8080/"
        },
        "id": "Xhhfu5IXY3W9",
        "outputId": "8d6c77db-cfc9-4042-f42c-a18388a681ac"
      },
      "execution_count": 35,
      "outputs": [
        {
          "output_type": "execute_result",
          "data": {
            "text/plain": [
              "<keras.src.callbacks.History at 0x78645f29ea70>"
            ]
          },
          "metadata": {},
          "execution_count": 35
        }
      ]
    },
    {
      "cell_type": "code",
      "source": [
        "# Get a summary of our model\n",
        "model.summary()"
      ],
      "metadata": {
        "colab": {
          "base_uri": "https://localhost:8080/"
        },
        "id": "aXZaHYzuY6BD",
        "outputId": "eabb30da-7207-4c0b-fbc5-7216d7a37e48"
      },
      "execution_count": 36,
      "outputs": [
        {
          "output_type": "stream",
          "name": "stdout",
          "text": [
            "Model: \"model_1\"\n",
            "_________________________________________________________________\n",
            " Layer (type)                Output Shape              Param #   \n",
            "=================================================================\n",
            " input_layer (Dense)         (None, 10)                20        \n",
            "                                                                 \n",
            " output_layer (Dense)        (None, 1)                 11        \n",
            "                                                                 \n",
            "=================================================================\n",
            "Total params: 31 (124.00 Byte)\n",
            "Trainable params: 31 (124.00 Byte)\n",
            "Non-trainable params: 0 (0.00 Byte)\n",
            "_________________________________________________________________\n"
          ]
        }
      ]
    },
    {
      "cell_type": "code",
      "source": [
        "from tensorflow.keras.utils import plot_model\n",
        "\n",
        "plot_model(model=model, show_shapes=True)"
      ],
      "metadata": {
        "colab": {
          "base_uri": "https://localhost:8080/",
          "height": 312
        },
        "id": "_QS_M-3rY7jd",
        "outputId": "91dd86a7-4a17-4bab-ca5a-e24f829ed27e"
      },
      "execution_count": 37,
      "outputs": [
        {
          "output_type": "execute_result",
          "data": {
            "image/png": "[encoded data removed]",
            "text/plain": [
              "<IPython.core.display.Image object>"
            ]
          },
          "metadata": {},
          "execution_count": 37
        }
      ]
    },
    {
      "cell_type": "markdown",
      "source": [
        "### Visualizing our model's predictions\n",
        "\n",
        "To visualize predictions, it's a good idea to plot them against the ground truth labels.\n",
        "\n",
        "Often you'll see this in the form of `y_test` or `y_true` versus `y_pred` (ground truth versus your model's predictions)."
      ],
      "metadata": {
        "id": "Rf0wBhnRY9Mx"
      }
    },
    {
      "cell_type": "code",
      "source": [
        "# Make some predictions\n",
        "y_pred = model.predict(X_test)\n",
        "y_pred"
      ],
      "metadata": {
        "colab": {
          "base_uri": "https://localhost:8080/"
        },
        "id": "PmIwNKzgZBZh",
        "outputId": "ac2255bb-c190-4c38-af0f-c47eeb4f5216"
      },
      "execution_count": 38,
      "outputs": [
        {
          "output_type": "stream",
          "name": "stderr",
          "text": [
            "WARNING:tensorflow:5 out of the last 5 calls to <function Model.make_predict_function.<locals>.predict_function at 0x78645f29a7a0> triggered tf.function retracing. Tracing is expensive and the excessive number of tracings could be due to (1) creating @tf.function repeatedly in a loop, (2) passing tensors with different shapes, (3) passing Python objects instead of tensors. For (1), please define your @tf.function outside of the loop. For (2), @tf.function has reduce_retracing=True option that can avoid unnecessary retracing. For (3), please refer to https://www.tensorflow.org/guide/function#controlling_retracing and https://www.tensorflow.org/api_docs/python/tf/function for  more details.\n"
          ]
        },
        {
          "output_type": "stream",
          "name": "stdout",
          "text": [
            "1/1 [==============================] - 0s 64ms/step\n"
          ]
        },
        {
          "output_type": "execute_result",
          "data": {
            "text/plain": [
              "array([[35.03069 ],\n",
              "       [37.27062 ],\n",
              "       [39.510555],\n",
              "       [41.750492],\n",
              "       [43.990425],\n",
              "       [46.230362],\n",
              "       [48.4703  ],\n",
              "       [50.71023 ],\n",
              "       [52.95017 ],\n",
              "       [55.1901  ]], dtype=float32)"
            ]
          },
          "metadata": {},
          "execution_count": 38
        }
      ]
    },
    {
      "cell_type": "code",
      "source": [
        "y_test"
      ],
      "metadata": {
        "colab": {
          "base_uri": "https://localhost:8080/"
        },
        "id": "sniPK_IKZB0Y",
        "outputId": "868780bf-e5b9-4a4f-8bb4-fae5df0a7e44"
      },
      "execution_count": 39,
      "outputs": [
        {
          "output_type": "execute_result",
          "data": {
            "text/plain": [
              "<tf.Tensor: shape=(10,), dtype=int32, numpy=array([ 70,  74,  78,  82,  86,  90,  94,  98, 102, 106], dtype=int32)>"
            ]
          },
          "metadata": {},
          "execution_count": 39
        }
      ]
    },
    {
      "cell_type": "code",
      "source": [
        "# Let's create a plotting function\n",
        "def plot_predictions(train_data=X_train,\n",
        "                     train_labels=y_train,\n",
        "                     test_data=X_test,\n",
        "                     test_labels=y_test,\n",
        "                     predictions=y_pred):\n",
        "  \"\"\"\n",
        "  Plots training data, test data and compares predictions to ground truth labels.\n",
        "  \"\"\"\n",
        "  plt.figure(figsize=(10, 7))\n",
        "  # Plot training data in blue\n",
        "  plt.scatter(train_data, train_labels, c=\"b\", label=\"Training data\")\n",
        "  # Plot testing data in green\n",
        "  plt.scatter(test_data, test_labels, c=\"g\", label=\"Testing data\")\n",
        "  # Plot model's predictions in red\n",
        "  plt.scatter(test_data, predictions, c=\"r\", label=\"Predictions\")\n",
        "  # Show the legend\n",
        "  plt.legend();"
      ],
      "metadata": {
        "id": "iyJLhP7-ZDQy"
      },
      "execution_count": 40,
      "outputs": []
    },
    {
      "cell_type": "code",
      "source": [
        "plot_predictions(train_data=X_train,\n",
        "                 train_labels=y_train,\n",
        "                 test_data=X_test,\n",
        "                 test_labels=y_test,\n",
        "                 predictions=y_pred)"
      ],
      "metadata": {
        "colab": {
          "base_uri": "https://localhost:8080/",
          "height": 599
        },
        "id": "LyNMCmrSZGD6",
        "outputId": "33615505-dcaf-4ccd-e9fc-213df57feb5e"
      },
      "execution_count": 41,
      "outputs": [
        {
          "output_type": "display_data",
          "data": {
            "text/plain": [
              "<Figure size 1000x700 with 1 Axes>"
            ],
            "image/png": "[encoded data removed]"
          },
          "metadata": {}
        }
      ]
    },
    {
      "cell_type": "markdown",
      "source": [
        "### Evaluting our model's predictions with regression evaluation metrics\n",
        "\n",
        "Depending on the problem you're working on, there will be different evaluation metrics to evaluate your model's performance.\n",
        "\n",
        "Since we're working on a regression, two of the main metrics:\n",
        "* MAE - mean absolute error, \"on average, how wrong is each of my model's predictions\"\n",
        "* MSE - mean square error, \"square the average errors\""
      ],
      "metadata": {
        "id": "2sDNVq92ZHxz"
      }
    },
    {
      "cell_type": "code",
      "source": [
        "# Evaluate the model on the test\n",
        "model.evaluate(X_test, y_test)"
      ],
      "metadata": {
        "colab": {
          "base_uri": "https://localhost:8080/"
        },
        "id": "0bq8u8pLZLDX",
        "outputId": "99f5f1ff-39fb-44a9-d2b4-73b54e3fa65b"
      },
      "execution_count": 42,
      "outputs": [
        {
          "output_type": "stream",
          "name": "stdout",
          "text": [
            "1/1 [==============================] - 0s 254ms/step - loss: 42.8896 - mae: 42.8896\n"
          ]
        },
        {
          "output_type": "execute_result",
          "data": {
            "text/plain": [
              "[42.88960647583008, 42.88960647583008]"
            ]
          },
          "metadata": {},
          "execution_count": 42
        }
      ]
    },
    {
      "cell_type": "code",
      "source": [
        "# Calculate the mean absolute error\n",
        "mae = tf.metrics.mean_absolute_error(y_true=y_test,\n",
        "                                     y_pred=tf.constant(y_pred))\n",
        "mae"
      ],
      "metadata": {
        "colab": {
          "base_uri": "https://localhost:8080/"
        },
        "id": "4maIiXGHZMjJ",
        "outputId": "e53a4e48-9ed5-4556-82f6-135bd645cd53"
      },
      "execution_count": 43,
      "outputs": [
        {
          "output_type": "execute_result",
          "data": {
            "text/plain": [
              "<tf.Tensor: shape=(10,), dtype=float32, numpy=\n",
              "array([52.96931 , 50.72938 , 48.489445, 46.249508, 44.009575, 41.769638,\n",
              "       39.5297  , 37.28977 , 35.04983 , 32.8099  ], dtype=float32)>"
            ]
          },
          "metadata": {},
          "execution_count": 43
        }
      ]
    },
    {
      "cell_type": "code",
      "source": [
        "tf.constant(y_pred)"
      ],
      "metadata": {
        "colab": {
          "base_uri": "https://localhost:8080/"
        },
        "id": "ZRvD2slmZOYd",
        "outputId": "4cb4cd65-5784-4fdb-e258-b26da7bd451a"
      },
      "execution_count": 44,
      "outputs": [
        {
          "output_type": "execute_result",
          "data": {
            "text/plain": [
              "<tf.Tensor: shape=(10, 1), dtype=float32, numpy=\n",
              "array([[35.03069 ],\n",
              "       [37.27062 ],\n",
              "       [39.510555],\n",
              "       [41.750492],\n",
              "       [43.990425],\n",
              "       [46.230362],\n",
              "       [48.4703  ],\n",
              "       [50.71023 ],\n",
              "       [52.95017 ],\n",
              "       [55.1901  ]], dtype=float32)>"
            ]
          },
          "metadata": {},
          "execution_count": 44
        }
      ]
    },
    {
      "cell_type": "code",
      "source": [
        "y_test"
      ],
      "metadata": {
        "id": "gBd4fBrfbaFM",
        "outputId": "10ef6b92-8806-4061-94af-1467d04205d0",
        "colab": {
          "base_uri": "https://localhost:8080/"
        }
      },
      "execution_count": 45,
      "outputs": [
        {
          "output_type": "execute_result",
          "data": {
            "text/plain": [
              "<tf.Tensor: shape=(10,), dtype=int32, numpy=array([ 70,  74,  78,  82,  86,  90,  94,  98, 102, 106], dtype=int32)>"
            ]
          },
          "metadata": {},
          "execution_count": 45
        }
      ]
    },
    {
      "cell_type": "code",
      "source": [
        "tf.squeeze(y_pred)"
      ],
      "metadata": {
        "id": "tpOEDMPvbcF8",
        "outputId": "b01bd87d-76cf-47c1-a729-5911bd593dba",
        "colab": {
          "base_uri": "https://localhost:8080/"
        }
      },
      "execution_count": 46,
      "outputs": [
        {
          "output_type": "execute_result",
          "data": {
            "text/plain": [
              "<tf.Tensor: shape=(10,), dtype=float32, numpy=\n",
              "array([35.03069 , 37.27062 , 39.510555, 41.750492, 43.990425, 46.230362,\n",
              "       48.4703  , 50.71023 , 52.95017 , 55.1901  ], dtype=float32)>"
            ]
          },
          "metadata": {},
          "execution_count": 46
        }
      ]
    },
    {
      "cell_type": "code",
      "source": [
        "# Calculate the mean absolute error\n",
        "mae = tf.metrics.mean_absolute_error(y_true=y_test,\n",
        "                                     y_pred=tf.squeeze(y_pred))\n",
        "mae"
      ],
      "metadata": {
        "id": "YpsWzuBGb6by",
        "outputId": "58592e3f-5fa8-4601-a172-d80efba63416",
        "colab": {
          "base_uri": "https://localhost:8080/"
        }
      },
      "execution_count": 47,
      "outputs": [
        {
          "output_type": "execute_result",
          "data": {
            "text/plain": [
              "<tf.Tensor: shape=(), dtype=float32, numpy=42.889606>"
            ]
          },
          "metadata": {},
          "execution_count": 47
        }
      ]
    },
    {
      "cell_type": "code",
      "source": [
        "# Calculate the mean square error\n",
        "mse = tf.metrics.mean_squared_error(\n",
        "    y_true=y_test,\n",
        "    y_pred=tf.squeeze(y_pred)\n",
        ")\n",
        "mse"
      ],
      "metadata": {
        "id": "npv0cz0zcAeH",
        "outputId": "19fe9854-7638-476e-b3d1-a5a2209ad5b0",
        "colab": {
          "base_uri": "https://localhost:8080/"
        }
      },
      "execution_count": 48,
      "outputs": [
        {
          "output_type": "execute_result",
          "data": {
            "text/plain": [
              "<tf.Tensor: shape=(), dtype=float32, numpy=1865.0754>"
            ]
          },
          "metadata": {},
          "execution_count": 48
        }
      ]
    },
    {
      "cell_type": "code",
      "source": [
        "# Make some functions to reuse MAE and MSE\n",
        "def mae(y_true, y_pred):\n",
        "  return tf.metrics.mean_absolute_error(y_true=y_true, y_pred=tf.squeeze(y_pred))\n",
        "\n",
        "def mse(y_true, y_pred):\n",
        "  return tf.metrics.mean_squared_error(y_true=y_true, y_pred=tf.squeeze(y_pred))"
      ],
      "metadata": {
        "id": "SjXDOO4_cv0a"
      },
      "execution_count": 56,
      "outputs": []
    },
    {
      "cell_type": "markdown",
      "source": [
        "### Running Experiments to improve our model\n",
        "\n",
        "```\n",
        "Build a model -> fit it -> evaluate it -> tweak it -> fit it -> evaluate it -> tweak it....\n",
        "```\n",
        "1. Get more data - get more examples for your model to train on (more opportunities to learn patterns or relationships between features and labels)\n",
        "2. Make your model larger (using a more complex model) - this might come in the form of more layers or more hidden units in each layer.\n",
        "3. Train for longer - give your model more of a chance to find patterns in the data\n",
        "\n",
        "\n",
        "Let's do 3 modeling experiments:\n",
        "1. `model_1` - same as original model, 1 layer trained for 100 epochs\n",
        "2. `model_2` - 2 layers, trained for 100 epochs\n",
        "3. `model_3` - 2 layers, trained for 500 epochs"
      ],
      "metadata": {
        "id": "zhZHAS5bdsbZ"
      }
    },
    {
      "cell_type": "markdown",
      "source": [
        "** Build `model_1`**"
      ],
      "metadata": {
        "id": "FmEGYBFo5e-R"
      }
    },
    {
      "cell_type": "code",
      "source": [
        "# Set random see (for reproducibility)\n",
        "tf.random.set_seed(42)\n",
        "\n",
        "# 1. Create the model\n",
        "model_1 = tf.keras.Sequential([\n",
        "    tf.keras.layers.Dense(1, input_shape=[1])\n",
        "])\n",
        "\n",
        "# 2. Compile the model\n",
        "model_1.compile(loss=tf.keras.losses.mae,\n",
        "                optimizer=tf.keras.optimizers.SGD(),\n",
        "                metrics=[\"mae\"])\n",
        "\n",
        "# 3. Fit the model\n",
        "model_1.fit(X_train, y_train, epochs=100)"
      ],
      "metadata": {
        "id": "0pVGi0i0e2nu",
        "outputId": "1fc91646-a6c5-49df-b974-550e7efd87d4",
        "colab": {
          "base_uri": "https://localhost:8080/"
        }
      },
      "execution_count": 75,
      "outputs": [
        {
          "output_type": "stream",
          "name": "stdout",
          "text": [
            "Epoch 1/100\n",
            "2/2 [==============================] - 0s 13ms/step - loss: 98.7181 - mae: 98.7181\n",
            "Epoch 2/100\n",
            "2/2 [==============================] - 0s 7ms/step - loss: 63.2627 - mae: 63.2627\n",
            "Epoch 3/100\n",
            "2/2 [==============================] - 0s 9ms/step - loss: 26.1288 - mae: 26.1288\n",
            "Epoch 4/100\n",
            "2/2 [==============================] - 0s 8ms/step - loss: 11.4294 - mae: 11.4294\n",
            "Epoch 5/100\n",
            "2/2 [==============================] - 0s 12ms/step - loss: 12.7093 - mae: 12.7093\n",
            "Epoch 6/100\n",
            "2/2 [==============================] - 0s 7ms/step - loss: 9.8354 - mae: 9.8354\n",
            "Epoch 7/100\n",
            "2/2 [==============================] - 0s 8ms/step - loss: 8.9130 - mae: 8.9130\n",
            "Epoch 8/100\n",
            "2/2 [==============================] - 0s 8ms/step - loss: 9.1003 - mae: 9.1003\n",
            "Epoch 9/100\n",
            "2/2 [==============================] - 0s 8ms/step - loss: 19.5560 - mae: 19.5560\n",
            "Epoch 10/100\n",
            "2/2 [==============================] - 0s 8ms/step - loss: 10.5819 - mae: 10.5819\n",
            "Epoch 11/100\n",
            "2/2 [==============================] - 0s 7ms/step - loss: 8.5974 - mae: 8.5974\n",
            "Epoch 12/100\n",
            "2/2 [==============================] - 0s 7ms/step - loss: 11.0792 - mae: 11.0792\n",
            "Epoch 13/100\n",
            "2/2 [==============================] - 0s 7ms/step - loss: 7.6190 - mae: 7.6190\n",
            "Epoch 14/100\n",
            "2/2 [==============================] - 0s 8ms/step - loss: 15.8661 - mae: 15.8661\n",
            "Epoch 15/100\n",
            "2/2 [==============================] - 0s 10ms/step - loss: 12.9381 - mae: 12.9381\n",
            "Epoch 16/100\n",
            "2/2 [==============================] - 0s 10ms/step - loss: 7.6684 - mae: 7.6684\n",
            "Epoch 17/100\n",
            "2/2 [==============================] - 0s 6ms/step - loss: 12.6527 - mae: 12.6527\n",
            "Epoch 18/100\n",
            "2/2 [==============================] - 0s 7ms/step - loss: 9.6422 - mae: 9.6422\n",
            "Epoch 19/100\n",
            "2/2 [==============================] - 0s 8ms/step - loss: 13.4454 - mae: 13.4454\n",
            "Epoch 20/100\n",
            "2/2 [==============================] - 0s 7ms/step - loss: 11.5362 - mae: 11.5362\n",
            "Epoch 21/100\n",
            "2/2 [==============================] - 0s 8ms/step - loss: 9.1049 - mae: 9.1049\n",
            "Epoch 22/100\n",
            "2/2 [==============================] - 0s 9ms/step - loss: 8.7584 - mae: 8.7584\n",
            "Epoch 23/100\n",
            "2/2 [==============================] - 0s 7ms/step - loss: 10.2568 - mae: 10.2568\n",
            "Epoch 24/100\n",
            "2/2 [==============================] - 0s 6ms/step - loss: 15.4301 - mae: 15.4301\n",
            "Epoch 25/100\n",
            "2/2 [==============================] - 0s 9ms/step - loss: 11.9691 - mae: 11.9691\n",
            "Epoch 26/100\n",
            "2/2 [==============================] - 0s 10ms/step - loss: 13.0317 - mae: 13.0317\n",
            "Epoch 27/100\n",
            "2/2 [==============================] - 0s 11ms/step - loss: 10.3925 - mae: 10.3925\n",
            "Epoch 28/100\n",
            "2/2 [==============================] - 0s 11ms/step - loss: 13.3702 - mae: 13.3702\n",
            "Epoch 29/100\n",
            "2/2 [==============================] - 0s 10ms/step - loss: 9.6257 - mae: 9.6257\n",
            "Epoch 30/100\n",
            "2/2 [==============================] - 0s 7ms/step - loss: 17.1510 - mae: 17.1510\n",
            "Epoch 31/100\n",
            "2/2 [==============================] - 0s 9ms/step - loss: 22.9264 - mae: 22.9264\n",
            "Epoch 32/100\n",
            "2/2 [==============================] - 0s 9ms/step - loss: 7.9409 - mae: 7.9409\n",
            "Epoch 33/100\n",
            "2/2 [==============================] - 0s 6ms/step - loss: 14.1220 - mae: 14.1220\n",
            "Epoch 34/100\n",
            "2/2 [==============================] - 0s 9ms/step - loss: 12.3624 - mae: 12.3624\n",
            "Epoch 35/100\n",
            "2/2 [==============================] - 0s 8ms/step - loss: 8.2953 - mae: 8.2953\n",
            "Epoch 36/100\n",
            "2/2 [==============================] - 0s 8ms/step - loss: 10.5242 - mae: 10.5242\n",
            "Epoch 37/100\n",
            "2/2 [==============================] - 0s 9ms/step - loss: 10.1653 - mae: 10.1653\n",
            "Epoch 38/100\n",
            "2/2 [==============================] - 0s 8ms/step - loss: 11.3718 - mae: 11.3718\n",
            "Epoch 39/100\n",
            "2/2 [==============================] - 0s 8ms/step - loss: 14.7464 - mae: 14.7464\n",
            "Epoch 40/100\n",
            "2/2 [==============================] - 0s 7ms/step - loss: 12.8768 - mae: 12.8768\n",
            "Epoch 41/100\n",
            "2/2 [==============================] - 0s 9ms/step - loss: 9.2643 - mae: 9.2643\n",
            "Epoch 42/100\n",
            "2/2 [==============================] - 0s 6ms/step - loss: 11.0481 - mae: 11.0481\n",
            "Epoch 43/100\n",
            "2/2 [==============================] - 0s 8ms/step - loss: 8.3609 - mae: 8.3609\n",
            "Epoch 44/100\n",
            "2/2 [==============================] - 0s 8ms/step - loss: 13.0985 - mae: 13.0985\n",
            "Epoch 45/100\n",
            "2/2 [==============================] - 0s 9ms/step - loss: 13.6631 - mae: 13.6631\n",
            "Epoch 46/100\n",
            "2/2 [==============================] - 0s 8ms/step - loss: 8.2921 - mae: 8.2921\n",
            "Epoch 47/100\n",
            "2/2 [==============================] - 0s 7ms/step - loss: 8.7618 - mae: 8.7618\n",
            "Epoch 48/100\n",
            "2/2 [==============================] - 0s 7ms/step - loss: 10.0667 - mae: 10.0667\n",
            "Epoch 49/100\n",
            "2/2 [==============================] - 0s 12ms/step - loss: 8.5470 - mae: 8.5470\n",
            "Epoch 50/100\n",
            "2/2 [==============================] - 0s 6ms/step - loss: 9.0543 - mae: 9.0543\n",
            "Epoch 51/100\n",
            "2/2 [==============================] - 0s 6ms/step - loss: 9.4042 - mae: 9.4042\n",
            "Epoch 52/100\n",
            "2/2 [==============================] - 0s 10ms/step - loss: 14.2203 - mae: 14.2203\n",
            "Epoch 53/100\n",
            "2/2 [==============================] - 0s 9ms/step - loss: 14.8803 - mae: 14.8803\n",
            "Epoch 54/100\n",
            "2/2 [==============================] - 0s 8ms/step - loss: 14.8153 - mae: 14.8153\n",
            "Epoch 55/100\n",
            "2/2 [==============================] - 0s 6ms/step - loss: 12.5973 - mae: 12.5973\n",
            "Epoch 56/100\n",
            "2/2 [==============================] - 0s 7ms/step - loss: 7.6036 - mae: 7.6036\n",
            "Epoch 57/100\n",
            "2/2 [==============================] - 0s 11ms/step - loss: 8.8307 - mae: 8.8307\n",
            "Epoch 58/100\n",
            "2/2 [==============================] - 0s 7ms/step - loss: 8.4138 - mae: 8.4138\n",
            "Epoch 59/100\n",
            "2/2 [==============================] - 0s 7ms/step - loss: 9.2137 - mae: 9.2137\n",
            "Epoch 60/100\n",
            "2/2 [==============================] - 0s 9ms/step - loss: 9.1527 - mae: 9.1527\n",
            "Epoch 61/100\n",
            "2/2 [==============================] - 0s 8ms/step - loss: 10.7005 - mae: 10.7005\n",
            "Epoch 62/100\n",
            "2/2 [==============================] - 0s 7ms/step - loss: 7.4562 - mae: 7.4562\n",
            "Epoch 63/100\n",
            "2/2 [==============================] - 0s 8ms/step - loss: 10.5345 - mae: 10.5345\n",
            "Epoch 64/100\n",
            "2/2 [==============================] - 0s 7ms/step - loss: 12.1306 - mae: 12.1306\n",
            "Epoch 65/100\n",
            "2/2 [==============================] - 0s 8ms/step - loss: 9.4670 - mae: 9.4670\n",
            "Epoch 66/100\n",
            "2/2 [==============================] - 0s 8ms/step - loss: 11.5335 - mae: 11.5335\n",
            "Epoch 67/100\n",
            "2/2 [==============================] - 0s 7ms/step - loss: 8.0583 - mae: 8.0583\n",
            "Epoch 68/100\n",
            "2/2 [==============================] - 0s 7ms/step - loss: 8.5874 - mae: 8.5874\n",
            "Epoch 69/100\n",
            "2/2 [==============================] - 0s 7ms/step - loss: 12.2707 - mae: 12.2707\n",
            "Epoch 70/100\n",
            "2/2 [==============================] - 0s 8ms/step - loss: 8.9785 - mae: 8.9785\n",
            "Epoch 71/100\n",
            "2/2 [==============================] - 0s 7ms/step - loss: 9.9530 - mae: 9.9530\n",
            "Epoch 72/100\n",
            "2/2 [==============================] - 0s 7ms/step - loss: 9.9919 - mae: 9.9919\n",
            "Epoch 73/100\n",
            "2/2 [==============================] - 0s 7ms/step - loss: 12.4570 - mae: 12.4570\n",
            "Epoch 74/100\n",
            "2/2 [==============================] - 0s 7ms/step - loss: 10.5944 - mae: 10.5944\n",
            "Epoch 75/100\n",
            "2/2 [==============================] - 0s 7ms/step - loss: 9.6501 - mae: 9.6501\n",
            "Epoch 76/100\n",
            "2/2 [==============================] - 0s 9ms/step - loss: 11.1167 - mae: 11.1167\n",
            "Epoch 77/100\n",
            "2/2 [==============================] - 0s 7ms/step - loss: 8.2976 - mae: 8.2976\n",
            "Epoch 78/100\n",
            "2/2 [==============================] - 0s 8ms/step - loss: 8.9895 - mae: 8.9895\n",
            "Epoch 79/100\n",
            "2/2 [==============================] - 0s 8ms/step - loss: 19.8016 - mae: 19.8016\n",
            "Epoch 80/100\n",
            "2/2 [==============================] - 0s 8ms/step - loss: 17.8270 - mae: 17.8270\n",
            "Epoch 81/100\n",
            "2/2 [==============================] - 0s 8ms/step - loss: 7.1013 - mae: 7.1013\n",
            "Epoch 82/100\n",
            "2/2 [==============================] - 0s 8ms/step - loss: 10.4282 - mae: 10.4282\n",
            "Epoch 83/100\n",
            "2/2 [==============================] - 0s 10ms/step - loss: 9.8515 - mae: 9.8515\n",
            "Epoch 84/100\n",
            "2/2 [==============================] - 0s 8ms/step - loss: 7.9577 - mae: 7.9577\n",
            "Epoch 85/100\n",
            "2/2 [==============================] - 0s 7ms/step - loss: 9.4662 - mae: 9.4662\n",
            "Epoch 86/100\n",
            "2/2 [==============================] - 0s 7ms/step - loss: 9.5099 - mae: 9.5099\n",
            "Epoch 87/100\n",
            "2/2 [==============================] - 0s 8ms/step - loss: 11.4513 - mae: 11.4513\n",
            "Epoch 88/100\n",
            "2/2 [==============================] - 0s 11ms/step - loss: 9.9526 - mae: 9.9526\n",
            "Epoch 89/100\n",
            "2/2 [==============================] - 0s 10ms/step - loss: 7.2736 - mae: 7.2736\n",
            "Epoch 90/100\n",
            "2/2 [==============================] - 0s 7ms/step - loss: 12.7111 - mae: 12.7111\n",
            "Epoch 91/100\n",
            "2/2 [==============================] - 0s 7ms/step - loss: 7.3325 - mae: 7.3325\n",
            "Epoch 92/100\n",
            "2/2 [==============================] - 0s 7ms/step - loss: 7.6965 - mae: 7.6965\n",
            "Epoch 93/100\n",
            "2/2 [==============================] - 0s 7ms/step - loss: 7.1402 - mae: 7.1402\n",
            "Epoch 94/100\n",
            "2/2 [==============================] - 0s 7ms/step - loss: 12.5595 - mae: 12.5595\n",
            "Epoch 95/100\n",
            "2/2 [==============================] - 0s 7ms/step - loss: 9.9379 - mae: 9.9379\n",
            "Epoch 96/100\n",
            "2/2 [==============================] - 0s 7ms/step - loss: 9.1627 - mae: 9.1627\n",
            "Epoch 97/100\n",
            "2/2 [==============================] - 0s 8ms/step - loss: 12.1071 - mae: 12.1071\n",
            "Epoch 98/100\n",
            "2/2 [==============================] - 0s 9ms/step - loss: 9.0826 - mae: 9.0826\n",
            "Epoch 99/100\n",
            "2/2 [==============================] - 0s 7ms/step - loss: 8.5183 - mae: 8.5183\n",
            "Epoch 100/100\n",
            "2/2 [==============================] - 0s 12ms/step - loss: 14.4750 - mae: 14.4750\n"
          ]
        },
        {
          "output_type": "execute_result",
          "data": {
            "text/plain": [
              "<keras.src.callbacks.History at 0x7864584b5c60>"
            ]
          },
          "metadata": {},
          "execution_count": 75
        }
      ]
    },
    {
      "cell_type": "code",
      "source": [
        "# Make and plot predictions with model_1\n",
        "y_preds_1 = model_1.predict(X_test)\n",
        "plot_predictions(predictions=y_preds_1)"
      ],
      "metadata": {
        "id": "zL5_pLBCgkE7",
        "outputId": "b1f284a6-a7c2-4b61-e7ec-abc8ecbed152",
        "colab": {
          "base_uri": "https://localhost:8080/",
          "height": 617
        }
      },
      "execution_count": 76,
      "outputs": [
        {
          "output_type": "stream",
          "name": "stdout",
          "text": [
            "1/1 [==============================] - 0s 51ms/step\n"
          ]
        },
        {
          "output_type": "display_data",
          "data": {
            "text/plain": [
              "<Figure size 1000x700 with 1 Axes>"
            ],
            "image/png": "[encoded data removed]"
          },
          "metadata": {}
        }
      ]
    },
    {
      "cell_type": "code",
      "source": [
        "# Calculate model_1 evaluation metrics\n",
        "mae_1 = mae(y_test, y_preds_1)\n",
        "mse_1 = mse(y_test, y_preds_1)\n",
        "mae_1, mse_1"
      ],
      "metadata": {
        "id": "wwiuoLs44JiD",
        "outputId": "a4c0a100-797c-44d5-a793-df9462790dca",
        "colab": {
          "base_uri": "https://localhost:8080/"
        }
      },
      "execution_count": 77,
      "outputs": [
        {
          "output_type": "execute_result",
          "data": {
            "text/plain": [
              "(<tf.Tensor: shape=(), dtype=float32, numpy=30.646778>,\n",
              " <tf.Tensor: shape=(), dtype=float32, numpy=949.6465>)"
            ]
          },
          "metadata": {},
          "execution_count": 77
        }
      ]
    },
    {
      "cell_type": "markdown",
      "source": [
        "**Build `model_2`**\n",
        "* 2 Dense layers, trained for 100 epochs\n"
      ],
      "metadata": {
        "id": "iKT6A-Tn4oHT"
      }
    },
    {
      "cell_type": "code",
      "source": [
        "# Set random see (for reproducibility)\n",
        "tf.random.set_seed(42)\n",
        "\n",
        "# 1. Create the model\n",
        "model_2 = tf.keras.Sequential([\n",
        "    tf.keras.layers.Dense(10, input_shape=[1]),\n",
        "    tf.keras.layers.Dense(1),\n",
        "])\n",
        "\n",
        "# 2. Compile the model\n",
        "model_2.compile(loss=tf.keras.losses.mae,\n",
        "                optimizer=tf.keras.optimizers.SGD(),\n",
        "                metrics=[\"mse\"])\n",
        "\n",
        "# 3. Fit the model\n",
        "model_2.fit(X_train, y_train, epochs=100)"
      ],
      "metadata": {
        "id": "0BwMFyvV5nqG"
      },
      "execution_count": null,
      "outputs": []
    },
    {
      "cell_type": "code",
      "source": [
        "y_preds_2 = model_2.predict(X_test)\n",
        "plot_predictions(predictions=y_preds_2)"
      ],
      "metadata": {
        "id": "xNPLgRJT-yL7",
        "outputId": "06c9c34d-e517-4dcd-a46a-ef08479e80e0",
        "colab": {
          "base_uri": "https://localhost:8080/",
          "height": 617
        }
      },
      "execution_count": 79,
      "outputs": [
        {
          "output_type": "stream",
          "name": "stdout",
          "text": [
            "1/1 [==============================] - 0s 136ms/step\n"
          ]
        },
        {
          "output_type": "display_data",
          "data": {
            "text/plain": [
              "<Figure size 1000x700 with 1 Axes>"
            ],
            "image/png": "[encoded data removed]"
          },
          "metadata": {}
        }
      ]
    },
    {
      "cell_type": "code",
      "source": [
        "# Calculate model_2 evaluation metrics\n",
        "mae_2 = mae(y_test, y_preds_2)\n",
        "mse_2 = mse(y_test, y_preds_2)\n",
        "mae_2, mse_2"
      ],
      "metadata": {
        "id": "h9aKTUgA_O1C",
        "outputId": "1eab7d3f-78a6-4783-e1bc-aa965e98c13f",
        "colab": {
          "base_uri": "https://localhost:8080/"
        }
      },
      "execution_count": 80,
      "outputs": [
        {
          "output_type": "execute_result",
          "data": {
            "text/plain": [
              "(<tf.Tensor: shape=(), dtype=float32, numpy=13.476198>,\n",
              " <tf.Tensor: shape=(), dtype=float32, numpy=191.80743>)"
            ]
          },
          "metadata": {},
          "execution_count": 80
        }
      ]
    },
    {
      "cell_type": "markdown",
      "source": [
        "**Build `model_3`**\n",
        "* 2 layers, trained for 500 epochs\n"
      ],
      "metadata": {
        "id": "4FNBt7VTBAbB"
      }
    },
    {
      "cell_type": "code",
      "source": [
        "# Set the random seed for reproducibility\n",
        "tf.random.set_seed(42)\n",
        "\n",
        "# 1. Create the model\n",
        "model_3 = tf.keras.Sequential([\n",
        "    tf.keras.layers.Dense(10, input_shape=[1]),\n",
        "    tf.keras.layers.Dense(1)\n",
        "])\n",
        "\n",
        "\n",
        "# 2. Compile the model\n",
        "model_3.compile(loss=tf.keras.losses.mae,\n",
        "                optimizer=tf.keras.optimizers.SGD(),\n",
        "                metrics=[\"mse\"])\n",
        "\n",
        "# 3. Fit the model\n",
        "model_3.fit(X_train, y_train, epochs=500)\n"
      ],
      "metadata": {
        "id": "a1PxdluhBUzp"
      },
      "execution_count": null,
      "outputs": []
    },
    {
      "cell_type": "code",
      "source": [
        "y_preds_3 = model_3.predict(X_test)\n",
        "plot_predictions(predictions=y_preds_3)"
      ],
      "metadata": {
        "id": "K7TAqg2cCD0V",
        "outputId": "4d6f068d-4776-49d6-ec6e-f7d076f71c4b",
        "colab": {
          "base_uri": "https://localhost:8080/",
          "height": 617
        }
      },
      "execution_count": 82,
      "outputs": [
        {
          "output_type": "stream",
          "name": "stdout",
          "text": [
            "1/1 [==============================] - 0s 62ms/step\n"
          ]
        },
        {
          "output_type": "display_data",
          "data": {
            "text/plain": [
              "<Figure size 1000x700 with 1 Axes>"
            ],
            "image/png": "[encoded data removed]"
          },
          "metadata": {}
        }
      ]
    },
    {
      "cell_type": "code",
      "source": [
        "# Calculate model_3 evaluation metrics\n",
        "mae_3 = mae(y_test, y_preds_3)\n",
        "mse_3 = mse(y_test, y_preds_3)\n",
        "mae_3, mse_3"
      ],
      "metadata": {
        "id": "otZyvC14Cidr",
        "outputId": "a6517122-8bde-41ff-bc16-545fcc4dd53e",
        "colab": {
          "base_uri": "https://localhost:8080/"
        }
      },
      "execution_count": 83,
      "outputs": [
        {
          "output_type": "execute_result",
          "data": {
            "text/plain": [
              "(<tf.Tensor: shape=(), dtype=float32, numpy=68.00791>,\n",
              " <tf.Tensor: shape=(), dtype=float32, numpy=4709.95>)"
            ]
          },
          "metadata": {},
          "execution_count": 83
        }
      ]
    },
    {
      "cell_type": "markdown",
      "source": [
        "🔑**NOTE:** You want to start with small experiments (small models) and make sure they work, and then increase the scale when needed."
      ],
      "metadata": {
        "id": "ON7RXhYbHPJM"
      }
    },
    {
      "cell_type": "markdown",
      "source": [
        "### Comparing the results of our experiments\n",
        "\n",
        "We've run a few experiments, let's compare the results.\n"
      ],
      "metadata": {
        "id": "phoSSiS6CokX"
      }
    },
    {
      "cell_type": "code",
      "source": [
        "# Let's compare our models results using a pandas dataframe\n",
        "import pandas as pd\n",
        "\n",
        "model_results = [[\"model_1\", mae_1.numpy(), mse_1.numpy()],\n",
        "                 [\"model_2\", mae_2.numpy(), mse_2.numpy()],\n",
        "                 [\"model_3\", mae_3.numpy(), mse_3.numpy()]]\n",
        "all_results = pd.DataFrame(model_results, columns=[\"model\", \"mae\", \"mse\"])\n",
        "all_results"
      ],
      "metadata": {
        "id": "MRMYoLf8G_87",
        "outputId": "2049e0bc-8d3d-4a56-bca0-e82aaab39fba",
        "colab": {
          "base_uri": "https://localhost:8080/",
          "height": 143
        }
      },
      "execution_count": 87,
      "outputs": [
        {
          "output_type": "execute_result",
          "data": {
            "text/plain": [
              "     model        mae          mse\n",
              "0  model_1  30.646778   949.646484\n",
              "1  model_2  13.476198   191.807434\n",
              "2  model_3  68.007912  4709.950195"
            ],
            "text/html": [
              "\n",
              "  <div id=\"df-ac164b20-422f-407d-9499-10ca351a7262\" class=\"colab-df-container\">\n",
              "    <div>\n",
              "<style scoped>\n",
              "    .dataframe tbody tr th:only-of-type {\n",
              "        vertical-align: middle;\n",
              "    }\n",
              "\n",
              "    .dataframe tbody tr th {\n",
              "        vertical-align: top;\n",
              "    }\n",
              "\n",
              "    .dataframe thead th {\n",
              "        text-align: right;\n",
              "    }\n",
              "</style>\n",
              "<table border=\"1\" class=\"dataframe\">\n",
              "  <thead>\n",
              "    <tr style=\"text-align: right;\">\n",
              "      <th></th>\n",
              "      <th>model</th>\n",
              "      <th>mae</th>\n",
              "      <th>mse</th>\n",
              "    </tr>\n",
              "  </thead>\n",
              "  <tbody>\n",
              "    <tr>\n",
              "      <th>0</th>\n",
              "      <td>model_1</td>\n",
              "      <td>30.646778</td>\n",
              "      <td>949.646484</td>\n",
              "    </tr>\n",
              "    <tr>\n",
              "      <th>1</th>\n",
              "      <td>model_2</td>\n",
              "      <td>13.476198</td>\n",
              "      <td>191.807434</td>\n",
              "    </tr>\n",
              "    <tr>\n",
              "      <th>2</th>\n",
              "      <td>model_3</td>\n",
              "      <td>68.007912</td>\n",
              "      <td>4709.950195</td>\n",
              "    </tr>\n",
              "  </tbody>\n",
              "</table>\n",
              "</div>\n",
              "    <div class=\"colab-df-buttons\">\n",
              "\n",
              "  <div class=\"colab-df-container\">\n",
              "    <button class=\"colab-df-convert\" onclick=\"convertToInteractive('df-ac164b20-422f-407d-9499-10ca351a7262')\"\n",
              "            title=\"Convert this dataframe to an interactive table.\"\n",
              "            style=\"display:none;\">\n",
              "\n",
              "  <svg xmlns=\"http://www.w3.org/2000/svg\" height=\"24px\" viewBox=\"0 -960 960 960\">\n",
              "    <path d=\"M120-120v-720h720v720H120Zm60-500h600v-160H180v160Zm220 220h160v-160H400v160Zm0 220h160v-160H400v160ZM180-400h160v-160H180v160Zm440 0h160v-160H620v160ZM180-180h160v-160H180v160Zm440 0h160v-160H620v160Z\"/>\n",
              "  </svg>\n",
              "    </button>\n",
              "\n",
              "  <style>\n",
              "    .colab-df-container {\n",
              "      display:flex;\n",
              "      gap: 12px;\n",
              "    }\n",
              "\n",
              "    .colab-df-convert {\n",
              "      background-color: #E8F0FE;\n",
              "      border: none;\n",
              "      border-radius: 50%;\n",
              "      cursor: pointer;\n",
              "      display: none;\n",
              "      fill: #1967D2;\n",
              "      height: 32px;\n",
              "      padding: 0 0 0 0;\n",
              "      width: 32px;\n",
              "    }\n",
              "\n",
              "    .colab-df-convert:hover {\n",
              "      background-color: #E2EBFA;\n",
              "      box-shadow: 0px 1px 2px rgba(60, 64, 67, 0.3), 0px 1px 3px 1px rgba(60, 64, 67, 0.15);\n",
              "      fill: #174EA6;\n",
              "    }\n",
              "\n",
              "    .colab-df-buttons div {\n",
              "      margin-bottom: 4px;\n",
              "    }\n",
              "\n",
              "    [theme=dark] .colab-df-convert {\n",
              "      background-color: #3B4455;\n",
              "      fill: #D2E3FC;\n",
              "    }\n",
              "\n",
              "    [theme=dark] .colab-df-convert:hover {\n",
              "      background-color: #434B5C;\n",
              "      box-shadow: 0px 1px 3px 1px rgba(0, 0, 0, 0.15);\n",
              "      filter: drop-shadow(0px 1px 2px rgba(0, 0, 0, 0.3));\n",
              "      fill: #FFFFFF;\n",
              "    }\n",
              "  </style>\n",
              "\n",
              "    <script>\n",
              "      const buttonEl =\n",
              "        document.querySelector('#df-ac164b20-422f-407d-9499-10ca351a7262 button.colab-df-convert');\n",
              "      buttonEl.style.display =\n",
              "        google.colab.kernel.accessAllowed ? 'block' : 'none';\n",
              "\n",
              "      async function convertToInteractive(key) {\n",
              "        const element = document.querySelector('#df-ac164b20-422f-407d-9499-10ca351a7262');\n",
              "        const dataTable =\n",
              "          await google.colab.kernel.invokeFunction('convertToInteractive',\n",
              "                                                    [key], {});\n",
              "        if (!dataTable) return;\n",
              "\n",
              "        const docLinkHtml = 'Like what you see? Visit the ' +\n",
              "          '<a target=\"_blank\" href=https://colab.research.google.com/notebooks/data_table.ipynb>data table notebook</a>'\n",
              "          + ' to learn more about interactive tables.';\n",
              "        element.innerHTML = '';\n",
              "        dataTable['output_type'] = 'display_data';\n",
              "        await google.colab.output.renderOutput(dataTable, element);\n",
              "        const docLink = document.createElement('div');\n",
              "        docLink.innerHTML = docLinkHtml;\n",
              "        element.appendChild(docLink);\n",
              "      }\n",
              "    </script>\n",
              "  </div>\n",
              "\n",
              "\n",
              "<div id=\"df-eeca6c06-55e8-4c46-b931-ef389900ad56\">\n",
              "  <button class=\"colab-df-quickchart\" onclick=\"quickchart('df-eeca6c06-55e8-4c46-b931-ef389900ad56')\"\n",
              "            title=\"Suggest charts\"\n",
              "            style=\"display:none;\">\n",
              "\n",
              "<svg xmlns=\"http://www.w3.org/2000/svg\" height=\"24px\"viewBox=\"0 0 24 24\"\n",
              "     width=\"24px\">\n",
              "    <g>\n",
              "        <path d=\"M19 3H5c-1.1 0-2 .9-2 2v14c0 1.1.9 2 2 2h14c1.1 0 2-.9 2-2V5c0-1.1-.9-2-2-2zM9 17H7v-7h2v7zm4 0h-2V7h2v10zm4 0h-2v-4h2v4z\"/>\n",
              "    </g>\n",
              "</svg>\n",
              "  </button>\n",
              "\n",
              "<style>\n",
              "  .colab-df-quickchart {\n",
              "      --bg-color: #E8F0FE;\n",
              "      --fill-color: #1967D2;\n",
              "      --hover-bg-color: #E2EBFA;\n",
              "      --hover-fill-color: #174EA6;\n",
              "      --disabled-fill-color: #AAA;\n",
              "      --disabled-bg-color: #DDD;\n",
              "  }\n",
              "\n",
              "  [theme=dark] .colab-df-quickchart {\n",
              "      --bg-color: #3B4455;\n",
              "      --fill-color: #D2E3FC;\n",
              "      --hover-bg-color: #434B5C;\n",
              "      --hover-fill-color: #FFFFFF;\n",
              "      --disabled-bg-color: #3B4455;\n",
              "      --disabled-fill-color: #666;\n",
              "  }\n",
              "\n",
              "  .colab-df-quickchart {\n",
              "    background-color: var(--bg-color);\n",
              "    border: none;\n",
              "    border-radius: 50%;\n",
              "    cursor: pointer;\n",
              "    display: none;\n",
              "    fill: var(--fill-color);\n",
              "    height: 32px;\n",
              "    padding: 0;\n",
              "    width: 32px;\n",
              "  }\n",
              "\n",
              "  .colab-df-quickchart:hover {\n",
              "    background-color: var(--hover-bg-color);\n",
              "    box-shadow: 0 1px 2px rgba(60, 64, 67, 0.3), 0 1px 3px 1px rgba(60, 64, 67, 0.15);\n",
              "    fill: var(--button-hover-fill-color);\n",
              "  }\n",
              "\n",
              "  .colab-df-quickchart-complete:disabled,\n",
              "  .colab-df-quickchart-complete:disabled:hover {\n",
              "    background-color: var(--disabled-bg-color);\n",
              "    fill: var(--disabled-fill-color);\n",
              "    box-shadow: none;\n",
              "  }\n",
              "\n",
              "  .colab-df-spinner {\n",
              "    border: 2px solid var(--fill-color);\n",
              "    border-color: transparent;\n",
              "    border-bottom-color: var(--fill-color);\n",
              "    animation:\n",
              "      spin 1s steps(1) infinite;\n",
              "  }\n",
              "\n",
              "  @keyframes spin {\n",
              "    0% {\n",
              "      border-color: transparent;\n",
              "      border-bottom-color: var(--fill-color);\n",
              "      border-left-color: var(--fill-color);\n",
              "    }\n",
              "    20% {\n",
              "      border-color: transparent;\n",
              "      border-left-color: var(--fill-color);\n",
              "      border-top-color: var(--fill-color);\n",
              "    }\n",
              "    30% {\n",
              "      border-color: transparent;\n",
              "      border-left-color: var(--fill-color);\n",
              "      border-top-color: var(--fill-color);\n",
              "      border-right-color: var(--fill-color);\n",
              "    }\n",
              "    40% {\n",
              "      border-color: transparent;\n",
              "      border-right-color: var(--fill-color);\n",
              "      border-top-color: var(--fill-color);\n",
              "    }\n",
              "    60% {\n",
              "      border-color: transparent;\n",
              "      border-right-color: var(--fill-color);\n",
              "    }\n",
              "    80% {\n",
              "      border-color: transparent;\n",
              "      border-right-color: var(--fill-color);\n",
              "      border-bottom-color: var(--fill-color);\n",
              "    }\n",
              "    90% {\n",
              "      border-color: transparent;\n",
              "      border-bottom-color: var(--fill-color);\n",
              "    }\n",
              "  }\n",
              "</style>\n",
              "\n",
              "  <script>\n",
              "    async function quickchart(key) {\n",
              "      const quickchartButtonEl =\n",
              "        document.querySelector('#' + key + ' button');\n",
              "      quickchartButtonEl.disabled = true;  // To prevent multiple clicks.\n",
              "      quickchartButtonEl.classList.add('colab-df-spinner');\n",
              "      try {\n",
              "        const charts = await google.colab.kernel.invokeFunction(\n",
              "            'suggestCharts', [key], {});\n",
              "      } catch (error) {\n",
              "        console.error('Error during call to suggestCharts:', error);\n",
              "      }\n",
              "      quickchartButtonEl.classList.remove('colab-df-spinner');\n",
              "      quickchartButtonEl.classList.add('colab-df-quickchart-complete');\n",
              "    }\n",
              "    (() => {\n",
              "      let quickchartButtonEl =\n",
              "        document.querySelector('#df-eeca6c06-55e8-4c46-b931-ef389900ad56 button');\n",
              "      quickchartButtonEl.style.display =\n",
              "        google.colab.kernel.accessAllowed ? 'block' : 'none';\n",
              "    })();\n",
              "  </script>\n",
              "</div>\n",
              "    </div>\n",
              "  </div>\n"
            ]
          },
          "metadata": {},
          "execution_count": 87
        }
      ]
    },
    {
      "cell_type": "markdown",
      "source": [
        "Looks like `model_2` performed the best..."
      ],
      "metadata": {
        "id": "BwwbzXUcJjBq"
      }
    },
    {
      "cell_type": "code",
      "source": [
        "model_2.summary()"
      ],
      "metadata": {
        "id": "EGzwZkTwIOHp",
        "outputId": "c16bf222-7696-4312-e7b7-c876a4145e6a",
        "colab": {
          "base_uri": "https://localhost:8080/"
        }
      },
      "execution_count": 88,
      "outputs": [
        {
          "output_type": "stream",
          "name": "stdout",
          "text": [
            "Model: \"sequential_13\"\n",
            "_________________________________________________________________\n",
            " Layer (type)                Output Shape              Param #   \n",
            "=================================================================\n",
            " dense_17 (Dense)            (None, 10)                20        \n",
            "                                                                 \n",
            " dense_18 (Dense)            (None, 1)                 11        \n",
            "                                                                 \n",
            "=================================================================\n",
            "Total params: 31 (124.00 Byte)\n",
            "Trainable params: 31 (124.00 Byte)\n",
            "Non-trainable params: 0 (0.00 Byte)\n",
            "_________________________________________________________________\n"
          ]
        }
      ]
    },
    {
      "cell_type": "markdown",
      "source": [
        "> 🔑**NOTE:** One of your main goals should be to minimize the time between your experiments. The more experiments you do, the more things you'll figure out which don't work and in turn, get closer to figuring out what does work. Remember the machine learning practitioner's motto: \"experiment, experiment, experiment\"."
      ],
      "metadata": {
        "id": "4j899-DiJSOF"
      }
    },
    {
      "cell_type": "markdown",
      "source": [
        "## Tracking your experiments\n",
        "\n",
        "One really good habit in machine learning modelling is to track the results of your experiments.\n",
        "\n",
        "And when doing so, it can be tedious if you're running lots of experiments.\n",
        "\n",
        "Luckily, there are tools to help us!\n",
        "\n",
        "📖**Resource:** As you build more models, you'll want to look into using:\n",
        "* TensorBoard - a component of the TensorFlow library to help track modelling experiments (we'll see this one later).\n",
        "* Weights & Biases - a tool for tracking all kinds of machine learning experiments (plugs straight into TensorBoard)."
      ],
      "metadata": {
        "id": "RCWpo5JpKdqz"
      }
    },
    {
      "cell_type": "markdown",
      "source": [
        "## Saving our models\n",
        "\n",
        "Saving our models allows us to use them outside of google colab or wherever they were trained, such as a web application or a mobile app.\n",
        "\n",
        "There are 2 main formats we can save our model to:\n",
        "1. The SaveModel format\n",
        "2. The HDF5 format"
      ],
      "metadata": {
        "id": "3NKaq3kpKf1y"
      }
    },
    {
      "cell_type": "code",
      "source": [
        "# Save model using the SaveModel format\n",
        "model_2.save(\"best_model_SavedModel_format\")"
      ],
      "metadata": {
        "id": "G10TY1bzLhI-"
      },
      "execution_count": 90,
      "outputs": []
    },
    {
      "cell_type": "code",
      "source": [
        "# Save model in HDF5 format\n",
        "model_2.save(\"best_model_HDF5_format.hdf5\")"
      ],
      "metadata": {
        "id": "kC-t-zL4O4md"
      },
      "execution_count": 92,
      "outputs": []
    },
    {
      "cell_type": "code",
      "source": [],
      "metadata": {
        "id": "cbinqPCQPkGR"
      },
      "execution_count": null,
      "outputs": []
    }
  ]
}